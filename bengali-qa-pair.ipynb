{
 "cells": [
  {
   "cell_type": "code",
   "execution_count": 32,
   "outputs": [],
   "source": [
    "import logging\n",
    "\n",
    "logging.basicConfig(format=\"%(levelname)s - %(name)s -  %(message)s\", level=logging.WARNING)\n",
    "logging.getLogger(\"haystack\").setLevel(logging.INFO)\n"
   ],
   "metadata": {
    "collapsed": false,
    "pycharm": {
     "name": "#%%\n"
    }
   }
  },
  {
   "cell_type": "code",
   "execution_count": 13,
   "outputs": [
    {
     "data": {
      "text/plain": "                      author                                 book  \\\n0                 অমিতাভ ঘোষ                            ভাটির দেশ   \n1            অমিয় চক্রবর্তী        কাব্যগ্রন্থ (অমিয় চক্রবর্তী)   \n2           অমিয়ভূষণ মজুমদার                          গড় শ্রীখণ্ড   \n3           অমিয়ভূষণ মজুমদার  মহিষকুড়ার উপকথা ও একটি খামারের গল্প   \n4           অমিয়ভূষণ মজুমদার                               রাজনগর   \n5                অম্লান দত্ত         প্রবন্ধ সংগ্রহ – অম্লান দত্ত   \n6             অরুণকুমার দত্ত                 অরুণকুমার দত্তর গল্প   \n7                অরূপরতন ঘোষ                   অরূপরতন ঘোষের গল্প   \n8        অলোককৃষ্ণ চক্রবর্তী            অলোককৃষ্ণ চক্রবর্তীর গল্প   \n9           অশোককুমার কুণ্ডু               অশোককুমার কুণ্ডুর গল্প   \n10          অসীমানন্দ মহারাজ              অসীমানন্দ মহারাজের গল্প   \n11              আকবর আলি খান               আজব ও জবর-আজব অর্থনীতি   \n12              আকবর আলি খান                 পুরানো সেই দিনের কথা   \n13     আখতারুজ্জামান ইলিয়াস                 খোয়াবনামা (উপন্যাস)   \n14     আখতারুজ্জামান ইলিয়াস            চিলেকোঠার সেপাই (উপন্যাস)   \n15     আখতারুজ্জামান ইলিয়াস                        ছোটগল্প সংকলন   \n16     আখতারুজ্জামান ইলিয়াস                  সংস্কৃতির ভাঙা সেতু   \n17              আনিসুজ্জামান                        বিপুলা পৃথিবী   \n18                 আনিসুল হক                        গল্প (আনিসুল)   \n19                 আনিসুল হক                        প্রবন্ধ (আ.হ)   \n20                 আনিসুল হক     বাগানবাড়ি রহস্য (কিশোর উপন্যাস)   \n21                 আনিসুল হক                                   মা   \n22                 আনিসুল হক                       রক্তে আঁকা ভোর   \n23               আনোয়ার পাশা                  রাইফেল, রোটি, আওরাত   \n24               আফসার আহমেদ                   আফসার আহমেদের গল্প   \n25              আবদুল জব্বার                  আবদুল জব্বারের গল্প   \n26        আবদুল মান্নান সৈয়দ            আবদুল মান্নান সৈয়দের গল্প   \n27       আবদুল্লাহ আবু সায়ীদ                   শ্রেষ্ঠ উর্দু গল্প   \n28         আবদুল্লাহ আল-মুতী                 এসো বিজ্ঞানের রাজ্যে   \n29                 আবু ইসহাক                     গল্প (আবু ইসহাক)   \n30                 আবু ইসহাক            পদ্মার পলিদ্বীপ (উপন্যাস)   \n31                 আবু ইসহাক            সূর্য-দীঘল বাড়ি (উপন্যাস)   \n32                  আবু রুশদ                       আবু রুশদর গল্প   \n33                 আবুল আসাদ                         সাইমুম সিরিজ   \n34  আবুল খায়ের মুসলেহউদ্দিন                  মুসলেহউদ্দিনের গল্প   \n35                  আবুল ফজল         নির্বাচিত প্রবন্ধ (আবুল ফজল)   \n36                  আবুল ফজল                           মানবতন্ত্র   \n37                  আবুল ফজল                            শুভবুদ্ধি   \n38                  আবুল ফজল        শেখ মুজিব : তাঁকে যেমন দেখেছি   \n39                  আবুল ফজল                       সমকালীন চিন্তা   \n40                  আবুল ফজল             সাহিত্য ও সংস্কৃতি সাধনা   \n41                  আবুল ফজল                সাহিত্য বিষয়ক প্রবন্ধ   \n42                  আবুল ফজল             সাহিত্য, সংস্কৃতি ও জীবন   \n\n                                                                               text  \n0   ভাটির দেশ – অমিতাভ ঘোষ\\nঅনুবাদ : অচিন্ত্যরূপ রায়\\nThe Hungry Tide by Amitav...  \n1   এই বৃষ্টি\\nচিন্তার সমস্ত রং ধুয়ে গেছে শাদা হ’য়ে\\nমনের প্রহরী ভিজছে ছাতি হা...  \n2   গড় শ্রীখণ্ড – উপন্যাস – অমিয়ভূষণ মজুমদার\\nপ্রথম প্রকাশ : ১৯৫৭ সংস্করণ : ১৯...  \n3   মহিষকুড়ার উপকথা\\nআমাদের এই গল্পটা মহিষকুড়া নামে এক নগণ্য গ্রামকে কেন্দ্র ক...  \n4   রাজনগর – উপন্যাস – অমিয়ভূষণ মজুমদার\\nফরাসী ফিরিঙ্গি জাঁ পিয়েত্রোর হাওয়াঘর...  \n5   প্রবন্ধ সংগ্রহ – অম্লান দত্ত\\nসম্পাদনা : আরতি সেন / গৌরকিশোর ঘোষ\\n.\\nঅর্থনীত...  \n6   শেষের সে বিচার – ডাঃ অরুণকুমার দত্ত\\nপুলকেশ পেছনের বাড়ির ছাদে দাঁড়িয়ে দেখ...  \n7   শুধু সমুদ্রের চিত্রনাট্য – অরূপরতন ঘোষ\\nমূল শহরটা যেন এতক্ষণ দম বন্ধ করেছিল,...  \n8   ভুবন চৌধুরী – অলোককৃষ্ণ চক্রবর্তী\\nসেদিন থেকে ভুবন চৌধুরীর নিজের ভুবনটা চিরদ...  \n9   কুয়োতলার কাব্য – অশোককুমার কুণ্ডু\\nবর্ষা এসেছে তিলুর উঠোনে। চোইত বোশেখের পো...  \n10  আলট্রা মডার্ণ – অসীমানন্দ মহারাজ\\nহর্ষ চিন্তা করছিল, কী সে পেল আর কী সে হারা...  \n11  আজব ও জবর-আজব অর্থনীতি – আকবর আলি খান\\nপ্রথম প্রকাশ: পৌষ ১৪১৯, জানুয়ারি ২০১...  \n12  সূচিপত্র\\nউৎসর্গ\\nকৃতজ্ঞতা স্বীকার\\nপূর্বাভাস\\nপ্রথম খণ্ডের রূপরেখা\\nপাদটীকা...  \n13  পায়ের পাতা কাদায় একটুখানি গেঁথে যেখানে সোজা হয়ে দাঁড়িয়ে গলার রগ টানটান করে য...  \n14  ‘তোমার রঞ্জু পড়ি রইলো কোন বিদেশ বিভূঁয়ে, একবার চোখের দ্যাখাটাও দেখতি পাল্লে ...  \n15  দুধভাতে উৎপাত\\nআখতারুজ্জামান ইলিয়াস\\nএকটু বেলা হলে বৃষ্টি ধরে এলো। তবে আবুল ...  \n16  সংস্কৃতির ভাঙা সেতু\\nসংস্কৃতি নিয়ে বুদ্ধিজীবীদের মধ্যে ‘আজকালি বড়ো গোল’ দে...  \n17  সূচিপত্র\\nবিপুলা পৃথিবী – আনিসুজ্জামান\\nনিবেদন\\nবিপুলা পৃথিবী – আনিসুজ্জামান...  \n18  ‘মা, বাবাকে তুমি প্রথম কিস্ করেছ কখন?’ পরশ জিজ্ঞেস করে। হাইস্কুলে যাচ্ছে পরশ...  \n19  সম্প্রতি আমেরিকার টাইম ম্যাগাজিন ভারতের প্রধানমন্ত্রী মনমোহন সিংকে নিয়ে একটা...  \n20  চপল ভয়-পাওয়া গলায় বলল, কী হলো কাদের ভাই?\\nকাদের মৃধা গাড়ির ড্রাইভিং সিটে...  \n21  মা\\nআনিসুল হক\\n১ম প্রকাশ ফেব্রুয়ারী বইমেলা\\nপ্রকাশক : ফরিদ আহমেদ, সময় প্রকাশ...  \n22  সূচিপত্র\\nজরুরি প্রসঙ্গ\\n১\\n২\\n৩\\n৪\\n৫\\n৬\\n৭\\n৮\\n৯\\nরক্তে আঁকা ভোর – আনিসুল ...  \n23  ভূমিকা\\nমানুষ এবং পশুর মধ্যে বড় একটা পার্থক্য হচ্ছে, পশু একমাত্র বর্তমানকেই ...  \n24  রবিবার ছুটির দিন – আফসার আমেদ (আফসার আহমেদ)\\nগত রাতে ঘুমোতে যাবার সময়ও নীলা...  \n25  তুমি আমি দুজনেই – আবদুল জব্বার\\nবিয়ের পর দুবছর সুজাতা ছাড়া দুটো দিন কাটাতে...  \n26  অস্থির অশ্বক্ষুর – আবদুল মান্নান সৈয়দ\\nস্যার, আপনার সঙ্গে একটু কথা ছিলো। মে...  \n27  শ্রেষ্ঠ উর্দু গল্প\\nসম্পাদনা – শহিদুল আলম / গ্রন্থমালা সম্পাদক – আবদুল্লাহ আ...  \n28  আগুন! আগুন!\\nআজ থেকে বহু যুগ আগে–সন-তারিখের হিসাব ধরলে আড়াই হাজার বছরের কম ...  \n29  জোঁক\\nআবু ইসহাক\\nসেদ্ধ মিষ্টি আলুর কয়েক টুকরো পেটে জামিন দেয় ওসমান। ভাতের অভ...  \n30  পদ্মার পলিদ্বীপ – উপন্যাস – আবু ইসহাক\\nউৎসর্গ – বড় ভাই মোহাম্মদ ইসমাইল-এর স...  \n31  আবার তারা গ্রামে ফিরে আসে। পেছনে রেখে আসে স্বামী-স্ত্রী, পুত্র-কন্যা, মা-বাপ...  \n32  মেঘাবৃত চাঁদ – আবু রুশদ\\nমালেকা যতই খুশি হবার ভান করুক, এটা সে অনেকদিন থেকেই...  \n33  অপারেশন তেলআবিব-১\\n১\\nডাইরীর সাদা বুক। খস্ খস্ শব্দ তুলে এগিয়ে চলেছে একটি ক...  \n34  ফাঁদ – আবুল খায়ের মুসলেহউদ্দিন\\nটেলিফোনের রিসিভারটা মুখের কাছে এনে আস্তে আস...  \n35  সূচিপত্র\\nফ্লাপের লেখা\\nসূচিপত্র \\nভূমিকা\\nসম্পাদনা প্রসঙ্গে \\nনির্বাচিত প্র...  \n36  ধর্ম ও রাষ্ট্র \\nধর্ম ও রাষ্ট্রের সম্পর্ক নিয়ে আলোচনা ও বাদানুবাদের অন্ত নে...  \n37  লেখকের স্বাধীনতা \\nলেখকের স্বাধীনতা কথাটা এক হিসেবে স্ববিরোধী এবং আমাদের কাছ...  \n38  শেখ মুজিব : তাঁকে যেমন দেখেছি / আবুল ফজল\\n.\\n১৫ আগস্টের ভোররাত্রির নির্মমতা ...  \n39  ছাত্র রাজনীতির ভয়াবহ পরিণতি \\nএক\\nরাষ্ট্র থাকলে রাজনীতিও থাকবে এ বিষয়ে দ্ব...  \n40  শিল্পীর স্বাধীনতা \\n‘মানুষের নিজস্ব বলতে একমাত্র জিনিস হচ্ছে স্বাধীন চিন্তা’...  \n41  আধুনিক মন : আধুনিক সাহিত্য \\nপুরোনো হলেও অনেক কথা বার বার স্মরণ করতে হয়। বি...  \n42  ধর্ম ও রাষ্ট্র \\nধর্ম ও রাষ্ট্রের সম্পর্ক নিয়ে আলোচনা ও বাদানুবাদের অন্ত নে...  ",
      "text/html": "<div>\n<style scoped>\n    .dataframe tbody tr th:only-of-type {\n        vertical-align: middle;\n    }\n\n    .dataframe tbody tr th {\n        vertical-align: top;\n    }\n\n    .dataframe thead th {\n        text-align: right;\n    }\n</style>\n<table border=\"1\" class=\"dataframe\">\n  <thead>\n    <tr style=\"text-align: right;\">\n      <th></th>\n      <th>author</th>\n      <th>book</th>\n      <th>text</th>\n    </tr>\n  </thead>\n  <tbody>\n    <tr>\n      <th>0</th>\n      <td>অমিতাভ ঘোষ</td>\n      <td>ভাটির দেশ</td>\n      <td>ভাটির দেশ – অমিতাভ ঘোষ\\nঅনুবাদ : অচিন্ত্যরূপ রায়\\nThe Hungry Tide by Amitav...</td>\n    </tr>\n    <tr>\n      <th>1</th>\n      <td>অমিয় চক্রবর্তী</td>\n      <td>কাব্যগ্রন্থ (অমিয় চক্রবর্তী)</td>\n      <td>এই বৃষ্টি\\nচিন্তার সমস্ত রং ধুয়ে গেছে শাদা হ’য়ে\\nমনের প্রহরী ভিজছে ছাতি হা...</td>\n    </tr>\n    <tr>\n      <th>2</th>\n      <td>অমিয়ভূষণ মজুমদার</td>\n      <td>গড় শ্রীখণ্ড</td>\n      <td>গড় শ্রীখণ্ড – উপন্যাস – অমিয়ভূষণ মজুমদার\\nপ্রথম প্রকাশ : ১৯৫৭ সংস্করণ : ১৯...</td>\n    </tr>\n    <tr>\n      <th>3</th>\n      <td>অমিয়ভূষণ মজুমদার</td>\n      <td>মহিষকুড়ার উপকথা ও একটি খামারের গল্প</td>\n      <td>মহিষকুড়ার উপকথা\\nআমাদের এই গল্পটা মহিষকুড়া নামে এক নগণ্য গ্রামকে কেন্দ্র ক...</td>\n    </tr>\n    <tr>\n      <th>4</th>\n      <td>অমিয়ভূষণ মজুমদার</td>\n      <td>রাজনগর</td>\n      <td>রাজনগর – উপন্যাস – অমিয়ভূষণ মজুমদার\\nফরাসী ফিরিঙ্গি জাঁ পিয়েত্রোর হাওয়াঘর...</td>\n    </tr>\n    <tr>\n      <th>5</th>\n      <td>অম্লান দত্ত</td>\n      <td>প্রবন্ধ সংগ্রহ – অম্লান দত্ত</td>\n      <td>প্রবন্ধ সংগ্রহ – অম্লান দত্ত\\nসম্পাদনা : আরতি সেন / গৌরকিশোর ঘোষ\\n.\\nঅর্থনীত...</td>\n    </tr>\n    <tr>\n      <th>6</th>\n      <td>অরুণকুমার দত্ত</td>\n      <td>অরুণকুমার দত্তর গল্প</td>\n      <td>শেষের সে বিচার – ডাঃ অরুণকুমার দত্ত\\nপুলকেশ পেছনের বাড়ির ছাদে দাঁড়িয়ে দেখ...</td>\n    </tr>\n    <tr>\n      <th>7</th>\n      <td>অরূপরতন ঘোষ</td>\n      <td>অরূপরতন ঘোষের গল্প</td>\n      <td>শুধু সমুদ্রের চিত্রনাট্য – অরূপরতন ঘোষ\\nমূল শহরটা যেন এতক্ষণ দম বন্ধ করেছিল,...</td>\n    </tr>\n    <tr>\n      <th>8</th>\n      <td>অলোককৃষ্ণ চক্রবর্তী</td>\n      <td>অলোককৃষ্ণ চক্রবর্তীর গল্প</td>\n      <td>ভুবন চৌধুরী – অলোককৃষ্ণ চক্রবর্তী\\nসেদিন থেকে ভুবন চৌধুরীর নিজের ভুবনটা চিরদ...</td>\n    </tr>\n    <tr>\n      <th>9</th>\n      <td>অশোককুমার কুণ্ডু</td>\n      <td>অশোককুমার কুণ্ডুর গল্প</td>\n      <td>কুয়োতলার কাব্য – অশোককুমার কুণ্ডু\\nবর্ষা এসেছে তিলুর উঠোনে। চোইত বোশেখের পো...</td>\n    </tr>\n    <tr>\n      <th>10</th>\n      <td>অসীমানন্দ মহারাজ</td>\n      <td>অসীমানন্দ মহারাজের গল্প</td>\n      <td>আলট্রা মডার্ণ – অসীমানন্দ মহারাজ\\nহর্ষ চিন্তা করছিল, কী সে পেল আর কী সে হারা...</td>\n    </tr>\n    <tr>\n      <th>11</th>\n      <td>আকবর আলি খান</td>\n      <td>আজব ও জবর-আজব অর্থনীতি</td>\n      <td>আজব ও জবর-আজব অর্থনীতি – আকবর আলি খান\\nপ্রথম প্রকাশ: পৌষ ১৪১৯, জানুয়ারি ২০১...</td>\n    </tr>\n    <tr>\n      <th>12</th>\n      <td>আকবর আলি খান</td>\n      <td>পুরানো সেই দিনের কথা</td>\n      <td>সূচিপত্র\\nউৎসর্গ\\nকৃতজ্ঞতা স্বীকার\\nপূর্বাভাস\\nপ্রথম খণ্ডের রূপরেখা\\nপাদটীকা...</td>\n    </tr>\n    <tr>\n      <th>13</th>\n      <td>আখতারুজ্জামান ইলিয়াস</td>\n      <td>খোয়াবনামা (উপন্যাস)</td>\n      <td>পায়ের পাতা কাদায় একটুখানি গেঁথে যেখানে সোজা হয়ে দাঁড়িয়ে গলার রগ টানটান করে য...</td>\n    </tr>\n    <tr>\n      <th>14</th>\n      <td>আখতারুজ্জামান ইলিয়াস</td>\n      <td>চিলেকোঠার সেপাই (উপন্যাস)</td>\n      <td>‘তোমার রঞ্জু পড়ি রইলো কোন বিদেশ বিভূঁয়ে, একবার চোখের দ্যাখাটাও দেখতি পাল্লে ...</td>\n    </tr>\n    <tr>\n      <th>15</th>\n      <td>আখতারুজ্জামান ইলিয়াস</td>\n      <td>ছোটগল্প সংকলন</td>\n      <td>দুধভাতে উৎপাত\\nআখতারুজ্জামান ইলিয়াস\\nএকটু বেলা হলে বৃষ্টি ধরে এলো। তবে আবুল ...</td>\n    </tr>\n    <tr>\n      <th>16</th>\n      <td>আখতারুজ্জামান ইলিয়াস</td>\n      <td>সংস্কৃতির ভাঙা সেতু</td>\n      <td>সংস্কৃতির ভাঙা সেতু\\nসংস্কৃতি নিয়ে বুদ্ধিজীবীদের মধ্যে ‘আজকালি বড়ো গোল’ দে...</td>\n    </tr>\n    <tr>\n      <th>17</th>\n      <td>আনিসুজ্জামান</td>\n      <td>বিপুলা পৃথিবী</td>\n      <td>সূচিপত্র\\nবিপুলা পৃথিবী – আনিসুজ্জামান\\nনিবেদন\\nবিপুলা পৃথিবী – আনিসুজ্জামান...</td>\n    </tr>\n    <tr>\n      <th>18</th>\n      <td>আনিসুল হক</td>\n      <td>গল্প (আনিসুল)</td>\n      <td>‘মা, বাবাকে তুমি প্রথম কিস্ করেছ কখন?’ পরশ জিজ্ঞেস করে। হাইস্কুলে যাচ্ছে পরশ...</td>\n    </tr>\n    <tr>\n      <th>19</th>\n      <td>আনিসুল হক</td>\n      <td>প্রবন্ধ (আ.হ)</td>\n      <td>সম্প্রতি আমেরিকার টাইম ম্যাগাজিন ভারতের প্রধানমন্ত্রী মনমোহন সিংকে নিয়ে একটা...</td>\n    </tr>\n    <tr>\n      <th>20</th>\n      <td>আনিসুল হক</td>\n      <td>বাগানবাড়ি রহস্য (কিশোর উপন্যাস)</td>\n      <td>চপল ভয়-পাওয়া গলায় বলল, কী হলো কাদের ভাই?\\nকাদের মৃধা গাড়ির ড্রাইভিং সিটে...</td>\n    </tr>\n    <tr>\n      <th>21</th>\n      <td>আনিসুল হক</td>\n      <td>মা</td>\n      <td>মা\\nআনিসুল হক\\n১ম প্রকাশ ফেব্রুয়ারী বইমেলা\\nপ্রকাশক : ফরিদ আহমেদ, সময় প্রকাশ...</td>\n    </tr>\n    <tr>\n      <th>22</th>\n      <td>আনিসুল হক</td>\n      <td>রক্তে আঁকা ভোর</td>\n      <td>সূচিপত্র\\nজরুরি প্রসঙ্গ\\n১\\n২\\n৩\\n৪\\n৫\\n৬\\n৭\\n৮\\n৯\\nরক্তে আঁকা ভোর – আনিসুল ...</td>\n    </tr>\n    <tr>\n      <th>23</th>\n      <td>আনোয়ার পাশা</td>\n      <td>রাইফেল, রোটি, আওরাত</td>\n      <td>ভূমিকা\\nমানুষ এবং পশুর মধ্যে বড় একটা পার্থক্য হচ্ছে, পশু একমাত্র বর্তমানকেই ...</td>\n    </tr>\n    <tr>\n      <th>24</th>\n      <td>আফসার আহমেদ</td>\n      <td>আফসার আহমেদের গল্প</td>\n      <td>রবিবার ছুটির দিন – আফসার আমেদ (আফসার আহমেদ)\\nগত রাতে ঘুমোতে যাবার সময়ও নীলা...</td>\n    </tr>\n    <tr>\n      <th>25</th>\n      <td>আবদুল জব্বার</td>\n      <td>আবদুল জব্বারের গল্প</td>\n      <td>তুমি আমি দুজনেই – আবদুল জব্বার\\nবিয়ের পর দুবছর সুজাতা ছাড়া দুটো দিন কাটাতে...</td>\n    </tr>\n    <tr>\n      <th>26</th>\n      <td>আবদুল মান্নান সৈয়দ</td>\n      <td>আবদুল মান্নান সৈয়দের গল্প</td>\n      <td>অস্থির অশ্বক্ষুর – আবদুল মান্নান সৈয়দ\\nস্যার, আপনার সঙ্গে একটু কথা ছিলো। মে...</td>\n    </tr>\n    <tr>\n      <th>27</th>\n      <td>আবদুল্লাহ আবু সায়ীদ</td>\n      <td>শ্রেষ্ঠ উর্দু গল্প</td>\n      <td>শ্রেষ্ঠ উর্দু গল্প\\nসম্পাদনা – শহিদুল আলম / গ্রন্থমালা সম্পাদক – আবদুল্লাহ আ...</td>\n    </tr>\n    <tr>\n      <th>28</th>\n      <td>আবদুল্লাহ আল-মুতী</td>\n      <td>এসো বিজ্ঞানের রাজ্যে</td>\n      <td>আগুন! আগুন!\\nআজ থেকে বহু যুগ আগে–সন-তারিখের হিসাব ধরলে আড়াই হাজার বছরের কম ...</td>\n    </tr>\n    <tr>\n      <th>29</th>\n      <td>আবু ইসহাক</td>\n      <td>গল্প (আবু ইসহাক)</td>\n      <td>জোঁক\\nআবু ইসহাক\\nসেদ্ধ মিষ্টি আলুর কয়েক টুকরো পেটে জামিন দেয় ওসমান। ভাতের অভ...</td>\n    </tr>\n    <tr>\n      <th>30</th>\n      <td>আবু ইসহাক</td>\n      <td>পদ্মার পলিদ্বীপ (উপন্যাস)</td>\n      <td>পদ্মার পলিদ্বীপ – উপন্যাস – আবু ইসহাক\\nউৎসর্গ – বড় ভাই মোহাম্মদ ইসমাইল-এর স...</td>\n    </tr>\n    <tr>\n      <th>31</th>\n      <td>আবু ইসহাক</td>\n      <td>সূর্য-দীঘল বাড়ি (উপন্যাস)</td>\n      <td>আবার তারা গ্রামে ফিরে আসে। পেছনে রেখে আসে স্বামী-স্ত্রী, পুত্র-কন্যা, মা-বাপ...</td>\n    </tr>\n    <tr>\n      <th>32</th>\n      <td>আবু রুশদ</td>\n      <td>আবু রুশদর গল্প</td>\n      <td>মেঘাবৃত চাঁদ – আবু রুশদ\\nমালেকা যতই খুশি হবার ভান করুক, এটা সে অনেকদিন থেকেই...</td>\n    </tr>\n    <tr>\n      <th>33</th>\n      <td>আবুল আসাদ</td>\n      <td>সাইমুম সিরিজ</td>\n      <td>অপারেশন তেলআবিব-১\\n১\\nডাইরীর সাদা বুক। খস্ খস্ শব্দ তুলে এগিয়ে চলেছে একটি ক...</td>\n    </tr>\n    <tr>\n      <th>34</th>\n      <td>আবুল খায়ের মুসলেহউদ্দিন</td>\n      <td>মুসলেহউদ্দিনের গল্প</td>\n      <td>ফাঁদ – আবুল খায়ের মুসলেহউদ্দিন\\nটেলিফোনের রিসিভারটা মুখের কাছে এনে আস্তে আস...</td>\n    </tr>\n    <tr>\n      <th>35</th>\n      <td>আবুল ফজল</td>\n      <td>নির্বাচিত প্রবন্ধ (আবুল ফজল)</td>\n      <td>সূচিপত্র\\nফ্লাপের লেখা\\nসূচিপত্র \\nভূমিকা\\nসম্পাদনা প্রসঙ্গে \\nনির্বাচিত প্র...</td>\n    </tr>\n    <tr>\n      <th>36</th>\n      <td>আবুল ফজল</td>\n      <td>মানবতন্ত্র</td>\n      <td>ধর্ম ও রাষ্ট্র \\nধর্ম ও রাষ্ট্রের সম্পর্ক নিয়ে আলোচনা ও বাদানুবাদের অন্ত নে...</td>\n    </tr>\n    <tr>\n      <th>37</th>\n      <td>আবুল ফজল</td>\n      <td>শুভবুদ্ধি</td>\n      <td>লেখকের স্বাধীনতা \\nলেখকের স্বাধীনতা কথাটা এক হিসেবে স্ববিরোধী এবং আমাদের কাছ...</td>\n    </tr>\n    <tr>\n      <th>38</th>\n      <td>আবুল ফজল</td>\n      <td>শেখ মুজিব : তাঁকে যেমন দেখেছি</td>\n      <td>শেখ মুজিব : তাঁকে যেমন দেখেছি / আবুল ফজল\\n.\\n১৫ আগস্টের ভোররাত্রির নির্মমতা ...</td>\n    </tr>\n    <tr>\n      <th>39</th>\n      <td>আবুল ফজল</td>\n      <td>সমকালীন চিন্তা</td>\n      <td>ছাত্র রাজনীতির ভয়াবহ পরিণতি \\nএক\\nরাষ্ট্র থাকলে রাজনীতিও থাকবে এ বিষয়ে দ্ব...</td>\n    </tr>\n    <tr>\n      <th>40</th>\n      <td>আবুল ফজল</td>\n      <td>সাহিত্য ও সংস্কৃতি সাধনা</td>\n      <td>শিল্পীর স্বাধীনতা \\n‘মানুষের নিজস্ব বলতে একমাত্র জিনিস হচ্ছে স্বাধীন চিন্তা’...</td>\n    </tr>\n    <tr>\n      <th>41</th>\n      <td>আবুল ফজল</td>\n      <td>সাহিত্য বিষয়ক প্রবন্ধ</td>\n      <td>আধুনিক মন : আধুনিক সাহিত্য \\nপুরোনো হলেও অনেক কথা বার বার স্মরণ করতে হয়। বি...</td>\n    </tr>\n    <tr>\n      <th>42</th>\n      <td>আবুল ফজল</td>\n      <td>সাহিত্য, সংস্কৃতি ও জীবন</td>\n      <td>ধর্ম ও রাষ্ট্র \\nধর্ম ও রাষ্ট্রের সম্পর্ক নিয়ে আলোচনা ও বাদানুবাদের অন্ত নে...</td>\n    </tr>\n  </tbody>\n</table>\n</div>"
     },
     "execution_count": 13,
     "metadata": {},
     "output_type": "execute_result"
    }
   ],
   "source": [
    "import re\n",
    "import pandas as pd\n",
    "from haystack import Document\n",
    "data = pd.read_csv(\"./bengali-literature-dataset/data-from25 to 50.csv\")\n",
    "# data[[\"author\",\"book\"]].to_dict()\n",
    "#\n",
    "# docs = Document(content=data[\"text\"],\n",
    "#                 meta= )\n",
    "# # docs\n",
    "data\n",
    "# tokenizer = nltk.data.load('tokenizers/punkt/english.pickle')\n",
    "# fp = open(\"./data/ACI_all.txt\", encoding=\"utf8\")\n",
    "# data = fp.read()\n",
    "# data = re.sub(\"\\n+\", \"\\n\", data)\n",
    "# docs =[{\"content\": paragraph} for paragraph in data.splitlines()]"
   ],
   "metadata": {
    "collapsed": false,
    "pycharm": {
     "name": "#%%\n"
    }
   }
  },
  {
   "cell_type": "code",
   "execution_count": 12,
   "outputs": [
    {
     "name": "stdout",
     "output_type": "stream",
     "text": [
      "author\n",
      "book\n",
      "text\n"
     ]
    }
   ],
   "source": [
    "for id in data.index:\n",
    "    print(author)"
   ],
   "metadata": {
    "collapsed": false,
    "pycharm": {
     "name": "#%%\n"
    }
   }
  },
  {
   "cell_type": "code",
   "execution_count": 10,
   "outputs": [],
   "source": [
    "from haystack.document_stores import InMemoryDocumentStore\n",
    "\n",
    "document_store = InMemoryDocumentStore(index='haystack-lfqa',\n",
    "                                       similarity=\"cosine\",\n",
    "                                       embedding_dim=768)\n",
    "document_store.delete_documents()\n",
    "document_store.write_documents(docs)"
   ],
   "metadata": {
    "collapsed": false,
    "pycharm": {
     "name": "#%%\n"
    }
   }
  },
  {
   "cell_type": "code",
   "execution_count": 4,
   "outputs": [
    {
     "data": {
      "text/plain": "True"
     },
     "execution_count": 4,
     "metadata": {},
     "output_type": "execute_result"
    }
   ],
   "source": [
    "import torch\n",
    "# confirm GPU is available, outputs True if so\n",
    "# torch.version.cuda()\n",
    "torch.cuda.is_available()\n",
    "# torch.__version__"
   ],
   "metadata": {
    "collapsed": false,
    "pycharm": {
     "name": "#%%\n"
    }
   }
  },
  {
   "cell_type": "code",
   "execution_count": 5,
   "metadata": {
    "id": "QNIzGZDA6QVy",
    "pycharm": {
     "name": "#%%\n"
    }
   },
   "outputs": [
    {
     "ename": "NameError",
     "evalue": "name 'document_store' is not defined",
     "output_type": "error",
     "traceback": [
      "\u001B[1;31m---------------------------------------------------------------------------\u001B[0m",
      "\u001B[1;31mNameError\u001B[0m                                 Traceback (most recent call last)",
      "Cell \u001B[1;32mIn[5], line 4\u001B[0m\n\u001B[0;32m      1\u001B[0m \u001B[38;5;28;01mfrom\u001B[39;00m \u001B[38;5;21;01mhaystack\u001B[39;00m\u001B[38;5;21;01m.\u001B[39;00m\u001B[38;5;21;01mnodes\u001B[39;00m \u001B[38;5;28;01mimport\u001B[39;00m EmbeddingRetriever\n\u001B[0;32m      3\u001B[0m retriever \u001B[38;5;241m=\u001B[39m EmbeddingRetriever(\n\u001B[1;32m----> 4\u001B[0m    document_store\u001B[38;5;241m=\u001B[39m\u001B[43mdocument_store\u001B[49m,\n\u001B[0;32m      5\u001B[0m    embedding_model\u001B[38;5;241m=\u001B[39m\u001B[38;5;124m\"\u001B[39m\u001B[38;5;124mflax-sentence-embeddings/all_datasets_v3_mpnet-base\u001B[39m\u001B[38;5;124m\"\u001B[39m,\n\u001B[0;32m      6\u001B[0m    model_format\u001B[38;5;241m=\u001B[39m\u001B[38;5;124m\"\u001B[39m\u001B[38;5;124msentence_transformers\u001B[39m\u001B[38;5;124m\"\u001B[39m\n\u001B[0;32m      7\u001B[0m )\n",
      "\u001B[1;31mNameError\u001B[0m: name 'document_store' is not defined"
     ]
    }
   ],
   "source": [
    "from haystack.nodes import EmbeddingRetriever\n",
    "\n",
    "retriever = EmbeddingRetriever(\n",
    "   document_store=document_store,\n",
    "   embedding_model=\"flax-sentence-embeddings/all_datasets_v3_mpnet-base\",\n",
    "   model_format=\"sentence_transformers\"\n",
    ")"
   ]
  },
  {
   "cell_type": "code",
   "execution_count": null,
   "outputs": [],
   "source": [],
   "metadata": {
    "collapsed": false,
    "pycharm": {
     "name": "#%%\n"
    }
   }
  },
  {
   "cell_type": "code",
   "execution_count": 13,
   "metadata": {
    "colab": {
     "background_save": true,
     "base_uri": "https://localhost:8080/",
     "height": 116,
     "referenced_widgets": [
      "0854705eff0c489e820913e357fbf410",
      "8d46a291fc6c40d8908fd0fc7ee208a4",
      "2ad87dcc687a4bf5860272ae4f3cdb2a",
      "da818c8307434de1b7e80142a120815c",
      "5ec22a7a3b70472aa1884222f21fe9a0",
      "e6bcc997d67241d28fdedd4931076a49",
      "6560de9de3db4be7bf2ddc37e999b60e",
      "7f88f15f4dee4b448dd97ffa5e34af62",
      "2bc1e5fe10e24713a2f1cdb645af5710",
      "ae8750a94578447a9460f2e268e479e9",
      "4f1b9f6768ad421fa58e3319b4f72716",
      "dc4da78e8afc45cd8e54f8b9b68a9284",
      "ab8cd77d8cce4b03b1e23b511375588e",
      "0fc283bcbd6d4f038cb0c873df215bda",
      "e8e3e2e910a74ece9029cd33b92653c9",
      "d21ef26c57cf44df8a9b50e98f920299",
      "f989a60fc789468db31e330909e5a001",
      "90aa255a1d3c4e30bb49d7ed70e7a8ce",
      "370a07dda3a542218e112a4c938fd05a",
      "69cca51b3c9842d291633203861a6281",
      "35d9bc72055342e98543faa19cdd1273",
      "7a034e3c90934d65b8c5222fd1882a55",
      "39d1e80b23174996b1ee1d3b63d55f06",
      "a0053f197a2140fb887f66179cff12fc"
     ]
    },
    "id": "1iAFdTcD6QcT",
    "outputId": "47347b73-c2cf-4924-a7c7-c7f3b774b93b",
    "pycharm": {
     "name": "#%%\n"
    }
   },
   "outputs": [
    {
     "data": {
      "text/plain": "Updating Embedding:   0%|          | 0/422 [00:00<?, ? docs/s]",
      "application/vnd.jupyter.widget-view+json": {
       "version_major": 2,
       "version_minor": 0,
       "model_id": "c9abc8d2eb294eec845d519fb142096a"
      }
     },
     "metadata": {},
     "output_type": "display_data"
    },
    {
     "data": {
      "text/plain": "Batches:   0%|          | 0/4 [00:00<?, ?it/s]",
      "application/vnd.jupyter.widget-view+json": {
       "version_major": 2,
       "version_minor": 0,
       "model_id": "d48e315094b64d94a15f741cc9c44459"
      }
     },
     "metadata": {},
     "output_type": "display_data"
    },
    {
     "data": {
      "text/plain": "Batches:   0%|          | 0/4 [00:00<?, ?it/s]",
      "application/vnd.jupyter.widget-view+json": {
       "version_major": 2,
       "version_minor": 0,
       "model_id": "50e2ecc2c55e4302a695dce5848b137f"
      }
     },
     "metadata": {},
     "output_type": "display_data"
    },
    {
     "data": {
      "text/plain": "Batches:   0%|          | 0/4 [00:00<?, ?it/s]",
      "application/vnd.jupyter.widget-view+json": {
       "version_major": 2,
       "version_minor": 0,
       "model_id": "5a34cd9444054f83beb9f6bd03ca1255"
      }
     },
     "metadata": {},
     "output_type": "display_data"
    },
    {
     "data": {
      "text/plain": "Batches:   0%|          | 0/2 [00:00<?, ?it/s]",
      "application/vnd.jupyter.widget-view+json": {
       "version_major": 2,
       "version_minor": 0,
       "model_id": "d804cb1d7c83446d98e235de3203f3ec"
      }
     },
     "metadata": {},
     "output_type": "display_data"
    }
   ],
   "source": [
    "document_store.update_embeddings(\n",
    "   retriever,\n",
    "   batch_size=128\n",
    ")"
   ]
  },
  {
   "cell_type": "code",
   "execution_count": 15,
   "metadata": {
    "colab": {
     "background_save": true,
     "referenced_widgets": [
      "b1de3c096ce84d8f80beea3f371fb295"
     ]
    },
    "id": "-id4tzeI70pe",
    "outputId": "ba784cb9-d115-45db-e6e7-c11a80af7317",
    "pycharm": {
     "name": "#%%\n"
    }
   },
   "outputs": [
    {
     "data": {
      "text/plain": "Batches:   0%|          | 0/1 [00:00<?, ?it/s]",
      "application/vnd.jupyter.widget-view+json": {
       "version_major": 2,
       "version_minor": 0,
       "model_id": "d5c03f9cfd97470a9362082ca60668aa"
      }
     },
     "metadata": {},
     "output_type": "display_data"
    },
    {
     "name": "stdout",
     "output_type": "stream",
     "text": [
      "\n",
      "Query: What is the largest business of ACI?\n",
      "\n",
      "{   'content': 'Advanced Chemical Industries (ACI) Limited, being one of the '\n",
      "               'largest conglomerates[4] in Bangladesh with a multinational '\n",
      "               'heritage operates across the country through its four '\n",
      "               'diversified strategic business units.',\n",
      "    'name': None}\n",
      "\n",
      "{   'content': 'Advanced Chemical Industries Ltd. Or ACI Ltd. (ACI Limited) is '\n",
      "               'one of the largest conglomerates in Bangladesh. ACI sells a '\n",
      "               'total of 39 categories of products in the four sectors of '\n",
      "               'Healthcare, Consumer Goods and Electronics, Agriculture, and '\n",
      "               'Retail. With a market value of Tk 1500 crore and a revenue of '\n",
      "               'Tk 6300 crore, the conglomerate has 14 subsidiaries, 4 joint '\n",
      "               'venture and associate companies, and 12 manufacturing plants. '\n",
      "               'Despite being involved in so many businesses, ACI’s profit '\n",
      "               'generation has lacked consistency in recent years. On top of '\n",
      "               'that, last year, in the 2018-2019 financial year, ACI incurred '\n",
      "               'a loss of around Tk 90 crore. In today’s video, we will '\n",
      "               'discuss the history of ACI, various business units, and the '\n",
      "               'state of revenue generation and profitability of the company.',\n",
      "    'name': None}\n",
      "\n"
     ]
    }
   ],
   "source": [
    "from haystack.pipelines import DocumentSearchPipeline\n",
    "from haystack.utils import print_documents\n",
    "\n",
    "search_pipe = DocumentSearchPipeline(retriever)\n",
    "result = search_pipe.run(\n",
    "    query=\"What is the largest business of ACI?\",\n",
    "    params={\"Retriever\": {\"top_k\": 2}}\n",
    ")\n",
    "\n",
    "print_documents(result)\n",
    "\n"
   ]
  },
  {
   "cell_type": "code",
   "execution_count": 16,
   "metadata": {
    "colab": {
     "background_save": true
    },
    "id": "ebV9hrAK89UI",
    "pycharm": {
     "name": "#%%\n"
    }
   },
   "outputs": [
    {
     "data": {
      "text/plain": "Downloading:   0%|          | 0.00/27.0 [00:00<?, ?B/s]",
      "application/vnd.jupyter.widget-view+json": {
       "version_major": 2,
       "version_minor": 0,
       "model_id": "6cd0902cad204c2f8af56bdf33e208c9"
      }
     },
     "metadata": {},
     "output_type": "display_data"
    },
    {
     "name": "stderr",
     "output_type": "stream",
     "text": [
      "C:\\Users\\Public\\ACI_Proj\\Projects\\question-pair\\venv\\lib\\site-packages\\huggingface_hub\\file_download.py:127: UserWarning: `huggingface_hub` cache-system uses symlinks by default to efficiently store duplicated files but your machine does not support them in C:\\Users\\shadm\\.cache\\huggingface\\hub. Caching files will still work but in a degraded version that might require more space on your disk. This warning can be disabled by setting the `HF_HUB_DISABLE_SYMLINKS_WARNING` environment variable. For more details, see https://huggingface.co/docs/huggingface_hub/how-to-cache#limitations.\n",
      "To support symlinks on Windows, you either need to activate Developer Mode or to run Python as an administrator. In order to see activate developer mode, see this article: https://docs.microsoft.com/en-us/windows/apps/get-started/enable-your-device-for-development\n",
      "  warnings.warn(message)\n"
     ]
    },
    {
     "data": {
      "text/plain": "Downloading:   0%|          | 0.00/1.32k [00:00<?, ?B/s]",
      "application/vnd.jupyter.widget-view+json": {
       "version_major": 2,
       "version_minor": 0,
       "model_id": "f65602d5e5c94ab8b9443be1a7234708"
      }
     },
     "metadata": {},
     "output_type": "display_data"
    },
    {
     "data": {
      "text/plain": "Downloading:   0%|          | 0.00/899k [00:00<?, ?B/s]",
      "application/vnd.jupyter.widget-view+json": {
       "version_major": 2,
       "version_minor": 0,
       "model_id": "2d4f4bfd1aa2483c9394267cb0dd8e45"
      }
     },
     "metadata": {},
     "output_type": "display_data"
    },
    {
     "data": {
      "text/plain": "Downloading:   0%|          | 0.00/456k [00:00<?, ?B/s]",
      "application/vnd.jupyter.widget-view+json": {
       "version_major": 2,
       "version_minor": 0,
       "model_id": "c6f52cb5644341c2953a894bddae6210"
      }
     },
     "metadata": {},
     "output_type": "display_data"
    },
    {
     "data": {
      "text/plain": "Downloading:   0%|          | 0.00/1.36M [00:00<?, ?B/s]",
      "application/vnd.jupyter.widget-view+json": {
       "version_major": 2,
       "version_minor": 0,
       "model_id": "64cfc5366d79418ca5c634d4dca803ed"
      }
     },
     "metadata": {},
     "output_type": "display_data"
    },
    {
     "data": {
      "text/plain": "Downloading:   0%|          | 0.00/1.63G [00:00<?, ?B/s]",
      "application/vnd.jupyter.widget-view+json": {
       "version_major": 2,
       "version_minor": 0,
       "model_id": "061ea2be1a1c4717959739711866d8bd"
      }
     },
     "metadata": {},
     "output_type": "display_data"
    }
   ],
   "source": [
    "from haystack.nodes import Seq2SeqGenerator\n",
    "\n",
    "generator = Seq2SeqGenerator(model_name_or_path=\"vblagoje/bart_lfqa\")"
   ]
  },
  {
   "cell_type": "code",
   "execution_count": 17,
   "metadata": {
    "colab": {
     "background_save": true
    },
    "id": "EaOBqic789Z1",
    "pycharm": {
     "name": "#%%\n"
    }
   },
   "outputs": [],
   "source": [
    "from haystack.pipelines import GenerativeQAPipeline\n",
    "\n",
    "pipe = GenerativeQAPipeline(generator, retriever)"
   ]
  },
  {
   "cell_type": "code",
   "execution_count": 30,
   "metadata": {
    "colab": {
     "background_save": true,
     "referenced_widgets": [
      "f679cfd0f2954aa9ae58790ac7427840"
     ]
    },
    "id": "S2zJvv5s9vBX",
    "outputId": "e3ed9c9c-ce08-4bdd-f68b-18dc03241182",
    "pycharm": {
     "name": "#%%\n"
    }
   },
   "outputs": [
    {
     "data": {
      "text/plain": "Batches:   0%|          | 0/1 [00:00<?, ?it/s]",
      "application/vnd.jupyter.widget-view+json": {
       "version_major": 2,
       "version_minor": 0,
       "model_id": "20e95d2732e1480599f016df40280efc"
      }
     },
     "metadata": {},
     "output_type": "display_data"
    },
    {
     "data": {
      "text/plain": "'ACI was established in Bangladesh in 1994. The company was founded by a group of people who wanted to start a chemical company in Bangladesh.'"
     },
     "execution_count": 30,
     "metadata": {},
     "output_type": "execute_result"
    }
   ],
   "source": [
    "\n",
    "\n",
    "result = pipe.run(\n",
    "        query=\"When was ACI established?\",\n",
    "        params={\n",
    "            \"Retriever\": {\"top_k\": 3},\n",
    "            \"Generator\": {\"top_k\": 1}\n",
    "        })\n",
    "\n",
    "result[\"answers\"][0].answer\n",
    "\n"
   ]
  },
  {
   "cell_type": "code",
   "execution_count": 31,
   "metadata": {
    "colab": {
     "base_uri": "https://localhost:8080/",
     "height": 52
    },
    "id": "WjxyNtGi9vD-",
    "outputId": "d89d131a-db1c-469f-80be-167d053b2ac2",
    "pycharm": {
     "name": "#%%\n"
    }
   },
   "outputs": [
    {
     "name": "stdout",
     "output_type": "stream",
     "text": [
      "ACI HealthCare Limited, a public limited company, is a subsidiary of Advanced Chemical Industries (ACI) Limited was incorporated in 18 February 2013 under the Companies Act 1994.\n",
      "\n",
      "ACI introduced the concept of quality management system by being the first company in Bangladesh to achieve ISO 9001 certification in 1995 and follows the policy of continuous improvement in all its operations.\n",
      "\n",
      "ACI Marine & Riverine Technologies (The Company) was incorporated in December 2019. The company is driven with a mission of 'Improving Quality of Life through responsible application of technology and services in Marine & Riverine operation'.\n",
      "\n"
     ]
    }
   ],
   "source": [
    "for context in result[\"documents\"]:\n",
    "    print(context.content+\"\\n\")"
   ]
  },
  {
   "cell_type": "code",
   "execution_count": null,
   "metadata": {
    "colab": {
     "base_uri": "https://localhost:8080/"
    },
    "id": "pyp9QqJo_TMl",
    "outputId": "be030f44-c5e7-41da-967c-6932fe74cccd",
    "pycharm": {
     "name": "#%%\n"
    }
   },
   "outputs": [
    {
     "data": {
      "text/plain": [
       "dict_keys(['query', 'answers', 'documents', 'root_node', 'params', 'node_id'])"
      ]
     },
     "execution_count": 86,
     "metadata": {},
     "output_type": "execute_result"
    }
   ],
   "source": [
    "result.keys()"
   ]
  },
  {
   "cell_type": "code",
   "execution_count": null,
   "metadata": {
    "colab": {
     "base_uri": "https://localhost:8080/"
    },
    "id": "xwYOaB8Z_VbE",
    "outputId": "c236fbad-df48-4b17-8e7b-25e3941240c6",
    "pycharm": {
     "name": "#%%\n"
    }
   },
   "outputs": [
    {
     "data": {
      "text/plain": [
       "[<Document: {'content': 'With almost three decades of partnering life and engendering hope, ACI is one of the top pharmaceutical companies in Bangladesh, employing more than 5,000 people all over the country. As a progressive and forward-thinking company, ACI Pharma is dedicated to improve the health of people of Bangladesh through introduction of innovative and reliable pharmaceutical products.', 'content_type': 'text', 'score': 0.5016781436987151, 'meta': {}, 'embedding': None, 'id': '88f16502772e9c62fb74182e0cd36423'}>,\n",
       " <Document: {'content': 'Advanced Chemical Industries (ACI) Limited is one of the leading conglomerates in Bangladesh, with a multinational heritage. We have a mission to achieve business excellence through quality by understanding, accepting, meeting and exceeding customer expectations. We follow International Standards on Quality Management System to ensure consistent quality of products and services to achieve customer satisfaction.', 'content_type': 'text', 'score': 0.5016206193247562, 'meta': {}, 'embedding': None, 'id': 'e3a78e04c21aa13fbb8f40b7b9911c34'}>,\n",
       " <Document: {'content': \"ACI Marine & Riverine Technologies (The Company) was incorporated in December 2019. The company is driven with a mission of 'Improving Quality of Life through responsible application of technology and services in Marine & Riverine operation'.\", 'content_type': 'text', 'score': 0.5014794956820052, 'meta': {}, 'embedding': None, 'id': '850f6472d86655c8cd93d04475b84a70'}>]"
      ]
     },
     "execution_count": 87,
     "metadata": {},
     "output_type": "execute_result"
    }
   ],
   "source": [
    "result[\"documents\"]"
   ]
  }
 ],
 "metadata": {
  "colab": {
   "provenance": []
  },
  "gpuClass": "standard",
  "kernelspec": {
   "display_name": "Python 3",
   "name": "python3"
  },
  "language_info": {
   "name": "python"
  },
  "widgets": {
   "application/vnd.jupyter.widget-state+json": {
    "0854705eff0c489e820913e357fbf410": {
     "model_module": "@jupyter-widgets/controls",
     "model_module_version": "1.5.0",
     "model_name": "HBoxModel",
     "state": {
      "_dom_classes": [],
      "_model_module": "@jupyter-widgets/controls",
      "_model_module_version": "1.5.0",
      "_model_name": "HBoxModel",
      "_view_count": null,
      "_view_module": "@jupyter-widgets/controls",
      "_view_module_version": "1.5.0",
      "_view_name": "HBoxView",
      "box_style": "",
      "children": [
       "IPY_MODEL_8d46a291fc6c40d8908fd0fc7ee208a4",
       "IPY_MODEL_2ad87dcc687a4bf5860272ae4f3cdb2a",
       "IPY_MODEL_da818c8307434de1b7e80142a120815c"
      ],
      "layout": "IPY_MODEL_5ec22a7a3b70472aa1884222f21fe9a0"
     }
    },
    "0fc283bcbd6d4f038cb0c873df215bda": {
     "model_module": "@jupyter-widgets/controls",
     "model_module_version": "1.5.0",
     "model_name": "FloatProgressModel",
     "state": {
      "_dom_classes": [],
      "_model_module": "@jupyter-widgets/controls",
      "_model_module_version": "1.5.0",
      "_model_name": "FloatProgressModel",
      "_view_count": null,
      "_view_module": "@jupyter-widgets/controls",
      "_view_module_version": "1.5.0",
      "_view_name": "ProgressView",
      "bar_style": "",
      "description": "",
      "description_tooltip": null,
      "layout": "IPY_MODEL_370a07dda3a542218e112a4c938fd05a",
      "max": 4,
      "min": 0,
      "orientation": "horizontal",
      "style": "IPY_MODEL_69cca51b3c9842d291633203861a6281",
      "value": 1
     }
    },
    "2ad87dcc687a4bf5860272ae4f3cdb2a": {
     "model_module": "@jupyter-widgets/controls",
     "model_module_version": "1.5.0",
     "model_name": "FloatProgressModel",
     "state": {
      "_dom_classes": [],
      "_model_module": "@jupyter-widgets/controls",
      "_model_module_version": "1.5.0",
      "_model_name": "FloatProgressModel",
      "_view_count": null,
      "_view_module": "@jupyter-widgets/controls",
      "_view_module_version": "1.5.0",
      "_view_name": "ProgressView",
      "bar_style": "",
      "description": "",
      "description_tooltip": null,
      "layout": "IPY_MODEL_7f88f15f4dee4b448dd97ffa5e34af62",
      "max": 286,
      "min": 0,
      "orientation": "horizontal",
      "style": "IPY_MODEL_2bc1e5fe10e24713a2f1cdb645af5710",
      "value": 0
     }
    },
    "2bc1e5fe10e24713a2f1cdb645af5710": {
     "model_module": "@jupyter-widgets/controls",
     "model_module_version": "1.5.0",
     "model_name": "ProgressStyleModel",
     "state": {
      "_model_module": "@jupyter-widgets/controls",
      "_model_module_version": "1.5.0",
      "_model_name": "ProgressStyleModel",
      "_view_count": null,
      "_view_module": "@jupyter-widgets/base",
      "_view_module_version": "1.2.0",
      "_view_name": "StyleView",
      "bar_color": null,
      "description_width": ""
     }
    },
    "35d9bc72055342e98543faa19cdd1273": {
     "model_module": "@jupyter-widgets/base",
     "model_module_version": "1.2.0",
     "model_name": "LayoutModel",
     "state": {
      "_model_module": "@jupyter-widgets/base",
      "_model_module_version": "1.2.0",
      "_model_name": "LayoutModel",
      "_view_count": null,
      "_view_module": "@jupyter-widgets/base",
      "_view_module_version": "1.2.0",
      "_view_name": "LayoutView",
      "align_content": null,
      "align_items": null,
      "align_self": null,
      "border": null,
      "bottom": null,
      "display": null,
      "flex": null,
      "flex_flow": null,
      "grid_area": null,
      "grid_auto_columns": null,
      "grid_auto_flow": null,
      "grid_auto_rows": null,
      "grid_column": null,
      "grid_gap": null,
      "grid_row": null,
      "grid_template_areas": null,
      "grid_template_columns": null,
      "grid_template_rows": null,
      "height": null,
      "justify_content": null,
      "justify_items": null,
      "left": null,
      "margin": null,
      "max_height": null,
      "max_width": null,
      "min_height": null,
      "min_width": null,
      "object_fit": null,
      "object_position": null,
      "order": null,
      "overflow": null,
      "overflow_x": null,
      "overflow_y": null,
      "padding": null,
      "right": null,
      "top": null,
      "visibility": null,
      "width": null
     }
    },
    "370a07dda3a542218e112a4c938fd05a": {
     "model_module": "@jupyter-widgets/base",
     "model_module_version": "1.2.0",
     "model_name": "LayoutModel",
     "state": {
      "_model_module": "@jupyter-widgets/base",
      "_model_module_version": "1.2.0",
      "_model_name": "LayoutModel",
      "_view_count": null,
      "_view_module": "@jupyter-widgets/base",
      "_view_module_version": "1.2.0",
      "_view_name": "LayoutView",
      "align_content": null,
      "align_items": null,
      "align_self": null,
      "border": null,
      "bottom": null,
      "display": null,
      "flex": null,
      "flex_flow": null,
      "grid_area": null,
      "grid_auto_columns": null,
      "grid_auto_flow": null,
      "grid_auto_rows": null,
      "grid_column": null,
      "grid_gap": null,
      "grid_row": null,
      "grid_template_areas": null,
      "grid_template_columns": null,
      "grid_template_rows": null,
      "height": null,
      "justify_content": null,
      "justify_items": null,
      "left": null,
      "margin": null,
      "max_height": null,
      "max_width": null,
      "min_height": null,
      "min_width": null,
      "object_fit": null,
      "object_position": null,
      "order": null,
      "overflow": null,
      "overflow_x": null,
      "overflow_y": null,
      "padding": null,
      "right": null,
      "top": null,
      "visibility": null,
      "width": null
     }
    },
    "4f1b9f6768ad421fa58e3319b4f72716": {
     "model_module": "@jupyter-widgets/controls",
     "model_module_version": "1.5.0",
     "model_name": "DescriptionStyleModel",
     "state": {
      "_model_module": "@jupyter-widgets/controls",
      "_model_module_version": "1.5.0",
      "_model_name": "DescriptionStyleModel",
      "_view_count": null,
      "_view_module": "@jupyter-widgets/base",
      "_view_module_version": "1.2.0",
      "_view_name": "StyleView",
      "description_width": ""
     }
    },
    "5ec22a7a3b70472aa1884222f21fe9a0": {
     "model_module": "@jupyter-widgets/base",
     "model_module_version": "1.2.0",
     "model_name": "LayoutModel",
     "state": {
      "_model_module": "@jupyter-widgets/base",
      "_model_module_version": "1.2.0",
      "_model_name": "LayoutModel",
      "_view_count": null,
      "_view_module": "@jupyter-widgets/base",
      "_view_module_version": "1.2.0",
      "_view_name": "LayoutView",
      "align_content": null,
      "align_items": null,
      "align_self": null,
      "border": null,
      "bottom": null,
      "display": null,
      "flex": null,
      "flex_flow": null,
      "grid_area": null,
      "grid_auto_columns": null,
      "grid_auto_flow": null,
      "grid_auto_rows": null,
      "grid_column": null,
      "grid_gap": null,
      "grid_row": null,
      "grid_template_areas": null,
      "grid_template_columns": null,
      "grid_template_rows": null,
      "height": null,
      "justify_content": null,
      "justify_items": null,
      "left": null,
      "margin": null,
      "max_height": null,
      "max_width": null,
      "min_height": null,
      "min_width": null,
      "object_fit": null,
      "object_position": null,
      "order": null,
      "overflow": null,
      "overflow_x": null,
      "overflow_y": null,
      "padding": null,
      "right": null,
      "top": null,
      "visibility": null,
      "width": null
     }
    },
    "6560de9de3db4be7bf2ddc37e999b60e": {
     "model_module": "@jupyter-widgets/controls",
     "model_module_version": "1.5.0",
     "model_name": "DescriptionStyleModel",
     "state": {
      "_model_module": "@jupyter-widgets/controls",
      "_model_module_version": "1.5.0",
      "_model_name": "DescriptionStyleModel",
      "_view_count": null,
      "_view_module": "@jupyter-widgets/base",
      "_view_module_version": "1.2.0",
      "_view_name": "StyleView",
      "description_width": ""
     }
    },
    "69cca51b3c9842d291633203861a6281": {
     "model_module": "@jupyter-widgets/controls",
     "model_module_version": "1.5.0",
     "model_name": "ProgressStyleModel",
     "state": {
      "_model_module": "@jupyter-widgets/controls",
      "_model_module_version": "1.5.0",
      "_model_name": "ProgressStyleModel",
      "_view_count": null,
      "_view_module": "@jupyter-widgets/base",
      "_view_module_version": "1.2.0",
      "_view_name": "StyleView",
      "bar_color": null,
      "description_width": ""
     }
    },
    "7a034e3c90934d65b8c5222fd1882a55": {
     "model_module": "@jupyter-widgets/controls",
     "model_module_version": "1.5.0",
     "model_name": "DescriptionStyleModel",
     "state": {
      "_model_module": "@jupyter-widgets/controls",
      "_model_module_version": "1.5.0",
      "_model_name": "DescriptionStyleModel",
      "_view_count": null,
      "_view_module": "@jupyter-widgets/base",
      "_view_module_version": "1.2.0",
      "_view_name": "StyleView",
      "description_width": ""
     }
    },
    "7f88f15f4dee4b448dd97ffa5e34af62": {
     "model_module": "@jupyter-widgets/base",
     "model_module_version": "1.2.0",
     "model_name": "LayoutModel",
     "state": {
      "_model_module": "@jupyter-widgets/base",
      "_model_module_version": "1.2.0",
      "_model_name": "LayoutModel",
      "_view_count": null,
      "_view_module": "@jupyter-widgets/base",
      "_view_module_version": "1.2.0",
      "_view_name": "LayoutView",
      "align_content": null,
      "align_items": null,
      "align_self": null,
      "border": null,
      "bottom": null,
      "display": null,
      "flex": null,
      "flex_flow": null,
      "grid_area": null,
      "grid_auto_columns": null,
      "grid_auto_flow": null,
      "grid_auto_rows": null,
      "grid_column": null,
      "grid_gap": null,
      "grid_row": null,
      "grid_template_areas": null,
      "grid_template_columns": null,
      "grid_template_rows": null,
      "height": null,
      "justify_content": null,
      "justify_items": null,
      "left": null,
      "margin": null,
      "max_height": null,
      "max_width": null,
      "min_height": null,
      "min_width": null,
      "object_fit": null,
      "object_position": null,
      "order": null,
      "overflow": null,
      "overflow_x": null,
      "overflow_y": null,
      "padding": null,
      "right": null,
      "top": null,
      "visibility": null,
      "width": null
     }
    },
    "8d46a291fc6c40d8908fd0fc7ee208a4": {
     "model_module": "@jupyter-widgets/controls",
     "model_module_version": "1.5.0",
     "model_name": "HTMLModel",
     "state": {
      "_dom_classes": [],
      "_model_module": "@jupyter-widgets/controls",
      "_model_module_version": "1.5.0",
      "_model_name": "HTMLModel",
      "_view_count": null,
      "_view_module": "@jupyter-widgets/controls",
      "_view_module_version": "1.5.0",
      "_view_name": "HTMLView",
      "description": "",
      "description_tooltip": null,
      "layout": "IPY_MODEL_e6bcc997d67241d28fdedd4931076a49",
      "placeholder": "​",
      "style": "IPY_MODEL_6560de9de3db4be7bf2ddc37e999b60e",
      "value": "Updating embeddings:   0%"
     }
    },
    "90aa255a1d3c4e30bb49d7ed70e7a8ce": {
     "model_module": "@jupyter-widgets/controls",
     "model_module_version": "1.5.0",
     "model_name": "DescriptionStyleModel",
     "state": {
      "_model_module": "@jupyter-widgets/controls",
      "_model_module_version": "1.5.0",
      "_model_name": "DescriptionStyleModel",
      "_view_count": null,
      "_view_module": "@jupyter-widgets/base",
      "_view_module_version": "1.2.0",
      "_view_name": "StyleView",
      "description_width": ""
     }
    },
    "ab8cd77d8cce4b03b1e23b511375588e": {
     "model_module": "@jupyter-widgets/controls",
     "model_module_version": "1.5.0",
     "model_name": "HTMLModel",
     "state": {
      "_dom_classes": [],
      "_model_module": "@jupyter-widgets/controls",
      "_model_module_version": "1.5.0",
      "_model_name": "HTMLModel",
      "_view_count": null,
      "_view_module": "@jupyter-widgets/controls",
      "_view_module_version": "1.5.0",
      "_view_name": "HTMLView",
      "description": "",
      "description_tooltip": null,
      "layout": "IPY_MODEL_f989a60fc789468db31e330909e5a001",
      "placeholder": "​",
      "style": "IPY_MODEL_90aa255a1d3c4e30bb49d7ed70e7a8ce",
      "value": "Batches:  25%"
     }
    },
    "ae8750a94578447a9460f2e268e479e9": {
     "model_module": "@jupyter-widgets/base",
     "model_module_version": "1.2.0",
     "model_name": "LayoutModel",
     "state": {
      "_model_module": "@jupyter-widgets/base",
      "_model_module_version": "1.2.0",
      "_model_name": "LayoutModel",
      "_view_count": null,
      "_view_module": "@jupyter-widgets/base",
      "_view_module_version": "1.2.0",
      "_view_name": "LayoutView",
      "align_content": null,
      "align_items": null,
      "align_self": null,
      "border": null,
      "bottom": null,
      "display": null,
      "flex": null,
      "flex_flow": null,
      "grid_area": null,
      "grid_auto_columns": null,
      "grid_auto_flow": null,
      "grid_auto_rows": null,
      "grid_column": null,
      "grid_gap": null,
      "grid_row": null,
      "grid_template_areas": null,
      "grid_template_columns": null,
      "grid_template_rows": null,
      "height": null,
      "justify_content": null,
      "justify_items": null,
      "left": null,
      "margin": null,
      "max_height": null,
      "max_width": null,
      "min_height": null,
      "min_width": null,
      "object_fit": null,
      "object_position": null,
      "order": null,
      "overflow": null,
      "overflow_x": null,
      "overflow_y": null,
      "padding": null,
      "right": null,
      "top": null,
      "visibility": null,
      "width": null
     }
    },
    "d21ef26c57cf44df8a9b50e98f920299": {
     "model_module": "@jupyter-widgets/base",
     "model_module_version": "1.2.0",
     "model_name": "LayoutModel",
     "state": {
      "_model_module": "@jupyter-widgets/base",
      "_model_module_version": "1.2.0",
      "_model_name": "LayoutModel",
      "_view_count": null,
      "_view_module": "@jupyter-widgets/base",
      "_view_module_version": "1.2.0",
      "_view_name": "LayoutView",
      "align_content": null,
      "align_items": null,
      "align_self": null,
      "border": null,
      "bottom": null,
      "display": null,
      "flex": null,
      "flex_flow": null,
      "grid_area": null,
      "grid_auto_columns": null,
      "grid_auto_flow": null,
      "grid_auto_rows": null,
      "grid_column": null,
      "grid_gap": null,
      "grid_row": null,
      "grid_template_areas": null,
      "grid_template_columns": null,
      "grid_template_rows": null,
      "height": null,
      "justify_content": null,
      "justify_items": null,
      "left": null,
      "margin": null,
      "max_height": null,
      "max_width": null,
      "min_height": null,
      "min_width": null,
      "object_fit": null,
      "object_position": null,
      "order": null,
      "overflow": null,
      "overflow_x": null,
      "overflow_y": null,
      "padding": null,
      "right": null,
      "top": null,
      "visibility": null,
      "width": null
     }
    },
    "da818c8307434de1b7e80142a120815c": {
     "model_module": "@jupyter-widgets/controls",
     "model_module_version": "1.5.0",
     "model_name": "HTMLModel",
     "state": {
      "_dom_classes": [],
      "_model_module": "@jupyter-widgets/controls",
      "_model_module_version": "1.5.0",
      "_model_name": "HTMLModel",
      "_view_count": null,
      "_view_module": "@jupyter-widgets/controls",
      "_view_module_version": "1.5.0",
      "_view_name": "HTMLView",
      "description": "",
      "description_tooltip": null,
      "layout": "IPY_MODEL_ae8750a94578447a9460f2e268e479e9",
      "placeholder": "​",
      "style": "IPY_MODEL_4f1b9f6768ad421fa58e3319b4f72716",
      "value": " 0/286 [00:00&lt;?, ? Docs/s]"
     }
    },
    "dc4da78e8afc45cd8e54f8b9b68a9284": {
     "model_module": "@jupyter-widgets/controls",
     "model_module_version": "1.5.0",
     "model_name": "HBoxModel",
     "state": {
      "_dom_classes": [],
      "_model_module": "@jupyter-widgets/controls",
      "_model_module_version": "1.5.0",
      "_model_name": "HBoxModel",
      "_view_count": null,
      "_view_module": "@jupyter-widgets/controls",
      "_view_module_version": "1.5.0",
      "_view_name": "HBoxView",
      "box_style": "",
      "children": [
       "IPY_MODEL_ab8cd77d8cce4b03b1e23b511375588e",
       "IPY_MODEL_0fc283bcbd6d4f038cb0c873df215bda",
       "IPY_MODEL_e8e3e2e910a74ece9029cd33b92653c9"
      ],
      "layout": "IPY_MODEL_d21ef26c57cf44df8a9b50e98f920299"
     }
    },
    "e6bcc997d67241d28fdedd4931076a49": {
     "model_module": "@jupyter-widgets/base",
     "model_module_version": "1.2.0",
     "model_name": "LayoutModel",
     "state": {
      "_model_module": "@jupyter-widgets/base",
      "_model_module_version": "1.2.0",
      "_model_name": "LayoutModel",
      "_view_count": null,
      "_view_module": "@jupyter-widgets/base",
      "_view_module_version": "1.2.0",
      "_view_name": "LayoutView",
      "align_content": null,
      "align_items": null,
      "align_self": null,
      "border": null,
      "bottom": null,
      "display": null,
      "flex": null,
      "flex_flow": null,
      "grid_area": null,
      "grid_auto_columns": null,
      "grid_auto_flow": null,
      "grid_auto_rows": null,
      "grid_column": null,
      "grid_gap": null,
      "grid_row": null,
      "grid_template_areas": null,
      "grid_template_columns": null,
      "grid_template_rows": null,
      "height": null,
      "justify_content": null,
      "justify_items": null,
      "left": null,
      "margin": null,
      "max_height": null,
      "max_width": null,
      "min_height": null,
      "min_width": null,
      "object_fit": null,
      "object_position": null,
      "order": null,
      "overflow": null,
      "overflow_x": null,
      "overflow_y": null,
      "padding": null,
      "right": null,
      "top": null,
      "visibility": null,
      "width": null
     }
    },
    "e8e3e2e910a74ece9029cd33b92653c9": {
     "model_module": "@jupyter-widgets/controls",
     "model_module_version": "1.5.0",
     "model_name": "HTMLModel",
     "state": {
      "_dom_classes": [],
      "_model_module": "@jupyter-widgets/controls",
      "_model_module_version": "1.5.0",
      "_model_name": "HTMLModel",
      "_view_count": null,
      "_view_module": "@jupyter-widgets/controls",
      "_view_module_version": "1.5.0",
      "_view_name": "HTMLView",
      "description": "",
      "description_tooltip": null,
      "layout": "IPY_MODEL_35d9bc72055342e98543faa19cdd1273",
      "placeholder": "​",
      "style": "IPY_MODEL_7a034e3c90934d65b8c5222fd1882a55",
      "value": " 1/4 [00:17&lt;00:52, 17.41s/it]"
     }
    },
    "f989a60fc789468db31e330909e5a001": {
     "model_module": "@jupyter-widgets/base",
     "model_module_version": "1.2.0",
     "model_name": "LayoutModel",
     "state": {
      "_model_module": "@jupyter-widgets/base",
      "_model_module_version": "1.2.0",
      "_model_name": "LayoutModel",
      "_view_count": null,
      "_view_module": "@jupyter-widgets/base",
      "_view_module_version": "1.2.0",
      "_view_name": "LayoutView",
      "align_content": null,
      "align_items": null,
      "align_self": null,
      "border": null,
      "bottom": null,
      "display": null,
      "flex": null,
      "flex_flow": null,
      "grid_area": null,
      "grid_auto_columns": null,
      "grid_auto_flow": null,
      "grid_auto_rows": null,
      "grid_column": null,
      "grid_gap": null,
      "grid_row": null,
      "grid_template_areas": null,
      "grid_template_columns": null,
      "grid_template_rows": null,
      "height": null,
      "justify_content": null,
      "justify_items": null,
      "left": null,
      "margin": null,
      "max_height": null,
      "max_width": null,
      "min_height": null,
      "min_width": null,
      "object_fit": null,
      "object_position": null,
      "order": null,
      "overflow": null,
      "overflow_x": null,
      "overflow_y": null,
      "padding": null,
      "right": null,
      "top": null,
      "visibility": null,
      "width": null
     }
    }
   }
  }
 },
 "nbformat": 4,
 "nbformat_minor": 0
}