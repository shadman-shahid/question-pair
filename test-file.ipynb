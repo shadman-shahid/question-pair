{
 "cells": [
  {
   "cell_type": "code",
   "execution_count": 4,
   "metadata": {
    "collapsed": true
   },
   "outputs": [
    {
     "name": "stderr",
     "output_type": "stream",
     "text": [
      "[nltk_data] Downloading package brown to /home/shadman/nltk_data...\n",
      "[nltk_data]   Package brown is already up-to-date!\n",
      "[nltk_data] Downloading package stopwords to\n",
      "[nltk_data]     /home/shadman/nltk_data...\n",
      "[nltk_data]   Package stopwords is already up-to-date!\n",
      "[nltk_data] Downloading collection 'popular'\n",
      "[nltk_data]    | \n",
      "[nltk_data]    | Downloading package cmudict to\n",
      "[nltk_data]    |     /home/shadman/nltk_data...\n",
      "[nltk_data]    |   Package cmudict is already up-to-date!\n",
      "[nltk_data]    | Downloading package gazetteers to\n",
      "[nltk_data]    |     /home/shadman/nltk_data...\n",
      "[nltk_data]    |   Package gazetteers is already up-to-date!\n",
      "[nltk_data]    | Downloading package genesis to\n",
      "[nltk_data]    |     /home/shadman/nltk_data...\n",
      "[nltk_data]    |   Package genesis is already up-to-date!\n",
      "[nltk_data]    | Downloading package gutenberg to\n",
      "[nltk_data]    |     /home/shadman/nltk_data...\n",
      "[nltk_data]    |   Package gutenberg is already up-to-date!\n",
      "[nltk_data]    | Downloading package inaugural to\n",
      "[nltk_data]    |     /home/shadman/nltk_data...\n",
      "[nltk_data]    |   Package inaugural is already up-to-date!\n",
      "[nltk_data]    | Downloading package movie_reviews to\n",
      "[nltk_data]    |     /home/shadman/nltk_data...\n",
      "[nltk_data]    |   Package movie_reviews is already up-to-date!\n",
      "[nltk_data]    | Downloading package names to\n",
      "[nltk_data]    |     /home/shadman/nltk_data...\n",
      "[nltk_data]    |   Package names is already up-to-date!\n",
      "[nltk_data]    | Downloading package shakespeare to\n",
      "[nltk_data]    |     /home/shadman/nltk_data...\n",
      "[nltk_data]    |   Package shakespeare is already up-to-date!\n",
      "[nltk_data]    | Downloading package stopwords to\n",
      "[nltk_data]    |     /home/shadman/nltk_data...\n",
      "[nltk_data]    |   Package stopwords is already up-to-date!\n",
      "[nltk_data]    | Downloading package treebank to\n",
      "[nltk_data]    |     /home/shadman/nltk_data...\n",
      "[nltk_data]    |   Package treebank is already up-to-date!\n",
      "[nltk_data]    | Downloading package twitter_samples to\n",
      "[nltk_data]    |     /home/shadman/nltk_data...\n",
      "[nltk_data]    |   Package twitter_samples is already up-to-date!\n",
      "[nltk_data]    | Downloading package omw to /home/shadman/nltk_data...\n",
      "[nltk_data]    |   Package omw is already up-to-date!\n",
      "[nltk_data]    | Downloading package omw-1.4 to\n",
      "[nltk_data]    |     /home/shadman/nltk_data...\n",
      "[nltk_data]    |   Package omw-1.4 is already up-to-date!\n",
      "[nltk_data]    | Downloading package wordnet to\n",
      "[nltk_data]    |     /home/shadman/nltk_data...\n",
      "[nltk_data]    |   Package wordnet is already up-to-date!\n",
      "[nltk_data]    | Downloading package wordnet2021 to\n",
      "[nltk_data]    |     /home/shadman/nltk_data...\n",
      "[nltk_data]    |   Package wordnet2021 is already up-to-date!\n",
      "[nltk_data]    | Downloading package wordnet31 to\n",
      "[nltk_data]    |     /home/shadman/nltk_data...\n",
      "[nltk_data]    |   Package wordnet31 is already up-to-date!\n",
      "[nltk_data]    | Downloading package wordnet_ic to\n",
      "[nltk_data]    |     /home/shadman/nltk_data...\n",
      "[nltk_data]    |   Package wordnet_ic is already up-to-date!\n",
      "[nltk_data]    | Downloading package words to\n",
      "[nltk_data]    |     /home/shadman/nltk_data...\n",
      "[nltk_data]    |   Package words is already up-to-date!\n",
      "[nltk_data]    | Downloading package maxent_ne_chunker to\n",
      "[nltk_data]    |     /home/shadman/nltk_data...\n",
      "[nltk_data]    |   Package maxent_ne_chunker is already up-to-date!\n",
      "[nltk_data]    | Downloading package punkt to\n",
      "[nltk_data]    |     /home/shadman/nltk_data...\n",
      "[nltk_data]    |   Package punkt is already up-to-date!\n",
      "[nltk_data]    | Downloading package snowball_data to\n",
      "[nltk_data]    |     /home/shadman/nltk_data...\n",
      "[nltk_data]    |   Package snowball_data is already up-to-date!\n",
      "[nltk_data]    | Downloading package averaged_perceptron_tagger to\n",
      "[nltk_data]    |     /home/shadman/nltk_data...\n",
      "[nltk_data]    |   Package averaged_perceptron_tagger is already up-\n",
      "[nltk_data]    |       to-date!\n",
      "[nltk_data]    | \n",
      "[nltk_data]  Done downloading collection popular\n",
      "[nltk_data] Downloading package brown to /home/shadman/nltk_data...\n",
      "[nltk_data]   Package brown is already up-to-date!\n",
      "[nltk_data] Downloading package stopwords to\n",
      "[nltk_data]     /home/shadman/nltk_data...\n",
      "[nltk_data]   Package stopwords is already up-to-date!\n",
      "[nltk_data] Downloading collection 'popular'\n",
      "[nltk_data]    | \n",
      "[nltk_data]    | Downloading package cmudict to\n",
      "[nltk_data]    |     /home/shadman/nltk_data...\n",
      "[nltk_data]    |   Package cmudict is already up-to-date!\n",
      "[nltk_data]    | Downloading package gazetteers to\n",
      "[nltk_data]    |     /home/shadman/nltk_data...\n",
      "[nltk_data]    |   Package gazetteers is already up-to-date!\n",
      "[nltk_data]    | Downloading package genesis to\n",
      "[nltk_data]    |     /home/shadman/nltk_data...\n",
      "[nltk_data]    |   Package genesis is already up-to-date!\n",
      "[nltk_data]    | Downloading package gutenberg to\n",
      "[nltk_data]    |     /home/shadman/nltk_data...\n",
      "[nltk_data]    |   Package gutenberg is already up-to-date!\n",
      "[nltk_data]    | Downloading package inaugural to\n",
      "[nltk_data]    |     /home/shadman/nltk_data...\n",
      "[nltk_data]    |   Package inaugural is already up-to-date!\n",
      "[nltk_data]    | Downloading package movie_reviews to\n",
      "[nltk_data]    |     /home/shadman/nltk_data...\n",
      "[nltk_data]    |   Package movie_reviews is already up-to-date!\n",
      "[nltk_data]    | Downloading package names to\n",
      "[nltk_data]    |     /home/shadman/nltk_data...\n",
      "[nltk_data]    |   Package names is already up-to-date!\n",
      "[nltk_data]    | Downloading package shakespeare to\n",
      "[nltk_data]    |     /home/shadman/nltk_data...\n",
      "[nltk_data]    |   Package shakespeare is already up-to-date!\n",
      "[nltk_data]    | Downloading package stopwords to\n",
      "[nltk_data]    |     /home/shadman/nltk_data...\n",
      "[nltk_data]    |   Package stopwords is already up-to-date!\n",
      "[nltk_data]    | Downloading package treebank to\n",
      "[nltk_data]    |     /home/shadman/nltk_data...\n",
      "[nltk_data]    |   Package treebank is already up-to-date!\n",
      "[nltk_data]    | Downloading package twitter_samples to\n",
      "[nltk_data]    |     /home/shadman/nltk_data...\n",
      "[nltk_data]    |   Package twitter_samples is already up-to-date!\n",
      "[nltk_data]    | Downloading package omw to /home/shadman/nltk_data...\n",
      "[nltk_data]    |   Package omw is already up-to-date!\n",
      "[nltk_data]    | Downloading package omw-1.4 to\n",
      "[nltk_data]    |     /home/shadman/nltk_data...\n",
      "[nltk_data]    |   Package omw-1.4 is already up-to-date!\n",
      "[nltk_data]    | Downloading package wordnet to\n",
      "[nltk_data]    |     /home/shadman/nltk_data...\n",
      "[nltk_data]    |   Package wordnet is already up-to-date!\n",
      "[nltk_data]    | Downloading package wordnet2021 to\n",
      "[nltk_data]    |     /home/shadman/nltk_data...\n",
      "[nltk_data]    |   Package wordnet2021 is already up-to-date!\n",
      "[nltk_data]    | Downloading package wordnet31 to\n",
      "[nltk_data]    |     /home/shadman/nltk_data...\n",
      "[nltk_data]    |   Package wordnet31 is already up-to-date!\n",
      "[nltk_data]    | Downloading package wordnet_ic to\n",
      "[nltk_data]    |     /home/shadman/nltk_data...\n",
      "[nltk_data]    |   Package wordnet_ic is already up-to-date!\n",
      "[nltk_data]    | Downloading package words to\n",
      "[nltk_data]    |     /home/shadman/nltk_data...\n",
      "[nltk_data]    |   Package words is already up-to-date!\n",
      "[nltk_data]    | Downloading package maxent_ne_chunker to\n",
      "[nltk_data]    |     /home/shadman/nltk_data...\n",
      "[nltk_data]    |   Package maxent_ne_chunker is already up-to-date!\n",
      "[nltk_data]    | Downloading package punkt to\n",
      "[nltk_data]    |     /home/shadman/nltk_data...\n",
      "[nltk_data]    |   Package punkt is already up-to-date!\n",
      "[nltk_data]    | Downloading package snowball_data to\n",
      "[nltk_data]    |     /home/shadman/nltk_data...\n",
      "[nltk_data]    |   Package snowball_data is already up-to-date!\n",
      "[nltk_data]    | Downloading package averaged_perceptron_tagger to\n",
      "[nltk_data]    |     /home/shadman/nltk_data...\n",
      "[nltk_data]    |   Package averaged_perceptron_tagger is already up-\n",
      "[nltk_data]    |       to-date!\n",
      "[nltk_data]    | \n",
      "[nltk_data]  Done downloading collection popular\n"
     ]
    }
   ],
   "source": [
    "from pprint import pprint\n",
    "import nltk\n",
    "# nltk.download('stopwords')\n",
    "from Questgen import main\n",
    "qe= main.BoolQGen()\n",
    "payload = {\n",
    "            \"input_text\": \"Sachin Ramesh Tendulkar is a former international cricketer from India and a former captain of the Indian national team. He is widely regarded as one of the greatest batsmen in the history of cricket. He is the highest run scorer of all time in International cricket.\"\n",
    "        }"
   ]
  },
  {
   "cell_type": "code",
   "execution_count": 12,
   "outputs": [
    {
     "data": {
      "text/plain": "   0           I\n0  2  dsfhskjh_0\n1  3  dsfhskjh_1\n2  4  dsfhskjh_2\n3  5  dsfhskjh_3",
      "text/html": "<div>\n<style scoped>\n    .dataframe tbody tr th:only-of-type {\n        vertical-align: middle;\n    }\n\n    .dataframe tbody tr th {\n        vertical-align: top;\n    }\n\n    .dataframe thead th {\n        text-align: right;\n    }\n</style>\n<table border=\"1\" class=\"dataframe\">\n  <thead>\n    <tr style=\"text-align: right;\">\n      <th></th>\n      <th>0</th>\n      <th>I</th>\n    </tr>\n  </thead>\n  <tbody>\n    <tr>\n      <th>0</th>\n      <td>2</td>\n      <td>dsfhskjh_0</td>\n    </tr>\n    <tr>\n      <th>1</th>\n      <td>3</td>\n      <td>dsfhskjh_1</td>\n    </tr>\n    <tr>\n      <th>2</th>\n      <td>4</td>\n      <td>dsfhskjh_2</td>\n    </tr>\n    <tr>\n      <th>3</th>\n      <td>5</td>\n      <td>dsfhskjh_3</td>\n    </tr>\n  </tbody>\n</table>\n</div>"
     },
     "execution_count": 12,
     "metadata": {},
     "output_type": "execute_result"
    }
   ],
   "source": [
    "import pandas as pd\n",
    "\n",
    "x = pd.DataFrame([2,3,4,5])\n",
    "x[\"I\"] = [\"dsfhskjh_\"+str(i) for i in x.index]\n",
    "x"
   ],
   "metadata": {
    "collapsed": false
   }
  },
  {
   "cell_type": "code",
   "execution_count": 5,
   "outputs": [
    {
     "name": "stdout",
     "output_type": "stream",
     "text": [
      "Running model for generation\n",
      "{'questions': [{'Question': 'What is the name of the leading pharmaceutical company in Bangladesh?', 'Answer': 'aci', 'id': 1, 'context': 'As a progressive and forward-thinking company, ACI Pharma is dedicated to improve the health of people of Bangladesh through introduction of innovative and reliable pharmaceutical products. With almost three decades of partnering life and engendering hope, ACI is one of the top pharmaceutical companies in Bangladesh, employing more than 5,000 people all over the country.'}, {'Question': 'What is the name of the country where ACI Pharma is based?', 'Answer': 'bangladesh', 'id': 2, 'context': 'As a progressive and forward-thinking company, ACI Pharma is dedicated to improve the health of people of Bangladesh through introduction of innovative and reliable pharmaceutical products. With almost three decades of partnering life and engendering hope, ACI is one of the top pharmaceutical companies in Bangladesh, employing more than 5,000 people all over the country.'}]}\n",
      "Running model for generation\n",
      "{'questions': [{'Question': 'What country is the first to achieve ISO 9001 certification?', 'Answer': 'bangladesh', 'id': 1, 'context': 'ACI introduced the concept of quality management system by being the first company in Bangladesh to achieve ISO 9001 certification in 1995 and follows the policy of continuous improvement in all its operations.'}, {'Question': 'What is the ISO 9001 certification?', 'Answer': 'iso', 'id': 2, 'context': 'ACI introduced the concept of quality management system by being the first company in Bangladesh to achieve ISO 9001 certification in 1995 and follows the policy of continuous improvement in all its operations.'}]}\n",
      "Running model for generation\n",
      "{'questions': [{'Question': 'What is the name of the pharmaceutical company that complies with standard environment management policy?', 'Answer': 'aci', 'id': 1, 'context': 'Aligned with the concept that a pharmaceutical must ensure effective management of environment, ACI complies with standard environment management policy, thus adorned with EMS 14001 in 2000.'}]}\n",
      "Running model for generation\n",
      "{'questions': [{'Question': 'What is the name of the country where ACI maintains a supportive relationship with the healthcare community of Bangladesh?', 'Answer': 'bangladesh', 'id': 1, 'context': 'ACI maintains a congenial and supportive relationship with the healthcare community of Bangladesh, with the belief that business excellence can only be achieved through pursuit of quality by understanding, accepting, meeting and exceeding customer expectations.'}]}\n",
      "Running model for generation\n",
      "{'questions': [{'Question': 'What is the quality of medicines in Bangladesh?', 'Answer': 'world class', 'id': 1, 'context': 'Our endeavor is to ensure the availability of world class, quality medicines across Bangladesh and around the globe.'}, {'Question': 'What is the name of the country that we are working to ensure the availability of medicines in Bangladesh?', 'Answer': 'bangladesh', 'id': 2, 'context': 'Our endeavor is to ensure the availability of world class, quality medicines across Bangladesh and around the globe.'}]}\n",
      "ZERO\n",
      "Running model for generation\n",
      "{'questions': [{'Question': 'What is our strength in developing technologically complex products?', 'Answer': 'generics', 'id': 1, 'context': 'Our strength is our ability to excel in developing generics and technologically complex products through an out-and-out, proficient, skillful team in manufacturing, product development, process re-engineering & quality control department.'}]}\n",
      "Running model for generation\n",
      "{'questions': [{'Question': 'What is the name of the company that introduced biosimilar products?', 'Answer': 'aci', 'id': 1, 'context': 'ACI has introduced sophisticated manufacturing technologies like Biosimilar (biotech) products, insulin, bi-layer tablet, lyophilized products, hormone products, ophthalmic preparations, novel drug delivery system (NDDS), large volume parenteral (LVP), small volume parenteral (SVP), suppositories, effervescent formulation, sustained release dosage formulations, orodispersible products, anesthetics, metered dose inhaler, dry powder inhaler, nasal spray, etc. At present, ACI formulates & markets a comprehensive range of more than 550 SKUs covering all major dosage forms of more than 250 Molecules in almost 100 therapeutic classes.'}, {'Question': 'What is the name of Biosimilar products?', 'Answer': 'biotech', 'id': 2, 'context': 'ACI has introduced sophisticated manufacturing technologies like Biosimilar (biotech) products, insulin, bi-layer tablet, lyophilized products, hormone products, ophthalmic preparations, novel drug delivery system (NDDS), large volume parenteral (LVP), small volume parenteral (SVP), suppositories, effervescent formulation, sustained release dosage formulations, orodispersible products, anesthetics, metered dose inhaler, dry powder inhaler, nasal spray, etc.'}]}\n",
      "Running model for generation\n",
      "{'questions': [{'Question': 'What is the first company in Bangladesh to achieve ISO 9001 certification?', 'Answer': 'bangladesh', 'id': 1, 'context': 'First company in Bangladesh to achieve ISO 9001 certification in 1995.'}, {'Question': 'What is the ISO 9001 certification?', 'Answer': 'iso', 'id': 2, 'context': 'First company in Bangladesh to achieve ISO 9001 certification in 1995.'}]}\n",
      "Running model for generation\n",
      "{'questions': [{'Question': 'What is the quality of the manufacturing facilities at Servier?', 'Answer': 'world class', 'id': 1, 'context': 'World class manufacturing facilities and strict compliance to cGMP & ethics have earned the company the status of contract manufacturer for renowned multinational company Servier.'}]}\n",
      "Running model for generation\n",
      "{'questions': [{'Question': 'What is the name of the company that is enriched with GMP certification from Kenya, Ivory Coast, and Philippines?', 'Answer': 'aci', 'id': 1, 'context': 'ACI is recognized by STC (Save the Children) audit with concluding remarks ‘it can be concluded that the ADVANCED CHEMICAL INDUSTRIES Limited and company facilities located in Narayanganj, Bangladesh, operates in accordance with the WHO GMP guidelines’. ACI is enriched with GMP certification from Kenya, Ivory Coast, and Philippines. ACI also has Product Marketing Approval from 15 countries.'}, {'Question': 'What is the other country that has GMP certification?', 'Answer': 'ivory coast', 'id': 2, 'context': 'ACI is enriched with GMP certification from Kenya, Ivory Coast, and Philippines.'}, {'Question': 'What is the country that has GMP certification?', 'Answer': 'kenya', 'id': 3, 'context': 'ACI is enriched with GMP certification from Kenya, Ivory Coast, and Philippines.'}]}\n",
      "Running model for generation\n",
      "{'questions': [{'Question': 'Who inspires us to move forward?', 'Answer': 'physicians', 'id': 1, 'context': 'It is patients & physicians who inspireusto move forward.'}, {'Question': 'What is the key to creating value for our customers?', 'Answer': 'innovation', 'id': 2, 'context': 'We have created & captured value for them through cutting-edge chemistry at work, more innovation, and more practical & convenient solutions.'}, {'Question': 'What is the cutting edge of chemistry at work?', 'Answer': 'chemistry', 'id': 3, 'context': 'We have created & captured value for them through cutting-edge chemistry at work, more innovation, and more practical & convenient solutions.'}, {'Question': 'Who inspires us to move forward?', 'Answer': 'patients', 'id': 4, 'context': 'It is patients & physicians who inspireusto move forward.'}]}\n",
      "Running model for generation\n",
      "{'questions': [{'Question': 'What is the best medicine available in the world?', 'Answer': 'medicines', 'id': 1, 'context': 'Our endeavor is to ensure the access of all the ailing human being across the globe to high quality & affordable medicines.'}, {'Question': 'What is it to ensure the access of all the ailing human being across the globe to high quality & affordable medicines?', 'Answer': 'endeavor', 'id': 2, 'context': 'Our endeavor is to ensure the access of all the ailing human being across the globe to high quality & affordable medicines.'}, {'Question': 'Where is the access to medicines available?', 'Answer': 'globe', 'id': 3, 'context': 'Our endeavor is to ensure the access of all the ailing human being across the globe to high quality & affordable medicines.'}, {'Question': 'What is the goal of the organization to ensure the access to medicines?', 'Answer': 'access', 'id': 4, 'context': 'Our endeavor is to ensure the access of all the ailing human being across the globe to high quality & affordable medicines.'}]}\n",
      "Running model for generation\n",
      "{'questions': [{'Question': 'When was ACI Salt Limited incorporated?', 'Answer': 'june', 'id': 1, 'context': 'ACI Salt Limited was incorporated as a private limited company on June 13, 2004 under the Companies Act, 1994.'}]}\n",
      "Running model for generation\n",
      "{'questions': [{'Question': 'What is the ACI Salt Ltd. mission to improve?', 'Answer': 'quality life', 'id': 1, 'context': 'With alliance of ACI’s mission, to improve the quality life of people, ACI Salt Ltd. is always looking forward for the scope to serve the nation.'}, {'Question': 'What is the name of the company that is a leading conglomerate of India?', 'Answer': 'aci', 'id': 2, 'context': 'This all started to change in 2005 as ACI Limited, one of the leading conglomerates of the country, decided to offer the consumers a finest quality edible salt equivalent to any international brand. With alliance of ACI’s mission, to improve the quality life of people, ACI Salt Ltd. is always looking forward for the scope to serve the nation. With alliance of ACI’s mission, to improve the quality life of people, ACI Salt Ltd. is always looking forward for the scope to serve the nation.'}, {'Question': 'What is the salt industry of Bangladesh?', 'Answer': 'bangladesh', 'id': 3, 'context': 'The salt industry of Bangladesh has always been in a primitive position offering the consumers low quality edible salt with sand, dirt particle & adulterants that they use in everyday use.'}]}\n",
      "Running model for generation\n",
      "{'questions': [{'Question': \"What was ACI Pure Salt's category in 2011?\", 'Answer': 'brand', 'id': 1, 'context': 'ACI Pure Salt continued to receive the award of Best Brand when Salt was made a separate category in 2011, 2013, 2014, 2015 and 2016'}]}\n",
      "Running model for generation\n",
      "{'questions': [{'Question': 'What is the product of ACI Salt Ltd.?', 'Answer': 'premium quality', 'id': 1, 'context': 'As a product point of view of ACI Salt Ltd., this essential item must provide the consumer a constant feeling of healthy, nutritious & premium quality.'}, {'Question': 'What type of evaporated technology is used to process ACI Pure Salt?', 'Answer': 'vacuum', 'id': 2, 'context': 'Following that point of view, ACI Pure Salt is processed through fully automatic machine of vacuum evaporated technology, clearly distinctive quality of 100% pure, Free Flow, Crystal White & Perfectly Iodized, packed in attractive food-grade flexible packages; that helps to ensure brilliant future generation.'}, {'Question': 'What is salt the most important element in human diet?', 'Answer': 'diet', 'id': 3, 'context': 'Next to water, salt is the most essential item in human diet.'}]}\n",
      "Running model for generation\n",
      "{'questions': [{'Question': 'What is the largest Vacuum Salt factory in Bangladesh?', 'Answer': 'bangladesh', 'id': 1, 'context': 'ACI Salt factory is currently the largest factory in Vacuum Salt industry of Bangladesh with highest production capacity.'}, {'Question': 'What is the highest capacity of ACI Salt factory?', 'Answer': 'production capacity', 'id': 2, 'context': 'ACI Salt factory is currently the largest factory in Vacuum Salt industry of Bangladesh with highest production capacity.'}, {'Question': 'What is the process used to process ACI Pure Salt?', 'Answer': 'cutting edge technology', 'id': 3, 'context': 'ACI Pure Salt is processed through the true Cutting Edge Technology of Switzerland, the most modern vacuum evaporation system which ensures 100% pure, crystal white, properly iodized and free flowing edible salt.'}]}\n",
      "Running model for generation\n",
      "{'questions': [{'Question': 'What has ACI Pure Salt received for its excellent packaging design through the book, \"Pack Your Life\" volume 3?', 'Answer': 'global recognition', 'id': 1, 'context': 'Among all the uncountable achievements of number one brand, ACI Pure Salt, only few are being mentioned here;\\n\\nGlobal Recognition\\n\\nACI Pure Salt has received the global recognition for its excellent packaging design through the book, \"Pack Your Life\" volume 3. Among all the uncountable achievements of number one brand, ACI Pure Salt, only few are being mentioned here;\\n\\nGlobal Recognition\\n\\nACI Pure Salt has received the global recognition for its excellent packaging design through the book, \"Pack Your Life\" volume 3.'}, {'Question': 'What is the most important aspect of ACI Pure Salt?', 'Answer': 'packaging design', 'id': 2, 'context': 'Among all the uncountable achievements of number one brand, ACI Pure Salt, only few are being mentioned here;\\n\\nGlobal Recognition\\n\\nACI Pure Salt has received the global recognition for its excellent packaging design through the book, \"Pack Your Life\" volume 3.'}]}\n",
      "Running model for generation\n",
      "{'questions': [{'Question': 'What is OHSAS 18001?', 'Answer': 'occupational health', 'id': 1, 'context': 'OHSAS 18001 is an Occupational Health and Safety Assessment Series for health and safety management systems. It is intended to help an organizations to control occupational health and safety risks. Received the Occupational Health and Safety Management System certification i.e.'}, {'Question': 'Where is the first Salt industry in Bangladesh?', 'Answer': 'bangladesh', 'id': 2, 'context': 'OHSAS 18001:2007 from Bureau Veritas Ltd. for the first time in Bangladesh in Salt industry.'}]}\n"
     ]
    }
   ],
   "source": [
    "import pandas as pd\n",
    "texts = pd.read_csv(\"./data/input_paragraph.csv\", squeeze=True, header=None).tolist()\n",
    "payload = {}\n",
    "qg = main.QGen()\n",
    "qpair_df_faq = pd.DataFrame()\n",
    "for text in texts:\n",
    "    payload[\"input_text\"] = text\n",
    "    output = qg.predict_shortq(payload)\n",
    "    try:\n",
    "        qpair_df_faq = pd.concat([qpair_df_faq, pd.DataFrame(output['questions'])], axis=0)\n",
    "    except:\n",
    "        pass\n"
   ],
   "metadata": {
    "collapsed": false
   }
  },
  {
   "cell_type": "code",
   "execution_count": 6,
   "outputs": [
    {
     "data": {
      "text/plain": "[{'Question': 'What is OHSAS 18001?',\n  'Answer': 'occupational health',\n  'id': 1,\n  'context': 'OHSAS 18001 is an Occupational Health and Safety Assessment Series for health and safety management systems. It is intended to help an organizations to control occupational health and safety risks. Received the Occupational Health and Safety Management System certification i.e.'},\n {'Question': 'Where is the first Salt industry in Bangladesh?',\n  'Answer': 'bangladesh',\n  'id': 2,\n  'context': 'OHSAS 18001:2007 from Bureau Veritas Ltd. for the first time in Bangladesh in Salt industry.'}]"
     },
     "execution_count": 6,
     "metadata": {},
     "output_type": "execute_result"
    }
   ],
   "source": [
    "output['questions']"
   ],
   "metadata": {
    "collapsed": false
   }
  },
  {
   "cell_type": "code",
   "execution_count": null,
   "outputs": [
    {
     "name": "stdout",
     "output_type": "stream",
     "text": [
      "Running model for generation\n",
      " Sense2vec_distractors successful for word :  aci\n",
      " Sense2vec_distractors successful for word :  bangladesh\n",
      "Running model for generation\n",
      " Sense2vec_distractors successful for word :  bangladesh\n",
      " Sense2vec_distractors successful for word :  iso\n",
      "Running model for generation\n"
     ]
    }
   ],
   "source": [
    "qg = main.QGen()\n",
    "qpair_df_mcq = pd.DataFrame()\n",
    "for text in texts:\n",
    "    payload[\"input_text\"] = text\n",
    "    output = qg.predict_mcq(payload)\n",
    "    try:\n",
    "        qpair_df_mcq = pd.concat([qpair_df_mcq, pd.DataFrame(output['questions'])], axis=0)\n",
    "    except:\n",
    "        pass"
   ],
   "metadata": {
    "collapsed": false,
    "pycharm": {
     "is_executing": true
    }
   }
  },
  {
   "cell_type": "code",
   "execution_count": 2,
   "outputs": [
    {
     "ename": "NameError",
     "evalue": "name 'output' is not defined",
     "output_type": "error",
     "traceback": [
      "\u001B[0;31m---------------------------------------------------------------------------\u001B[0m",
      "\u001B[0;31mNameError\u001B[0m                                 Traceback (most recent call last)",
      "Cell \u001B[0;32mIn[2], line 1\u001B[0m\n\u001B[0;32m----> 1\u001B[0m \u001B[43moutput\u001B[49m[\u001B[38;5;124m'\u001B[39m\u001B[38;5;124mquestions\u001B[39m\u001B[38;5;124m'\u001B[39m]\n",
      "\u001B[0;31mNameError\u001B[0m: name 'output' is not defined"
     ]
    }
   ],
   "source": [
    "output['questions']"
   ],
   "metadata": {
    "collapsed": false
   }
  },
  {
   "cell_type": "code",
   "execution_count": 1,
   "outputs": [
    {
     "ename": "NameError",
     "evalue": "name 'output2' is not defined",
     "output_type": "error",
     "traceback": [
      "\u001B[0;31m---------------------------------------------------------------------------\u001B[0m",
      "\u001B[0;31mNameError\u001B[0m                                 Traceback (most recent call last)",
      "Cell \u001B[0;32mIn[1], line 1\u001B[0m\n\u001B[0;32m----> 1\u001B[0m \u001B[43moutput2\u001B[49m[\u001B[38;5;124m'\u001B[39m\u001B[38;5;124mquestions\u001B[39m\u001B[38;5;124m'\u001B[39m]\n",
      "\u001B[0;31mNameError\u001B[0m: name 'output2' is not defined"
     ]
    }
   ],
   "source": [
    "output2['questions']\n"
   ],
   "metadata": {
    "collapsed": false
   }
  },
  {
   "cell_type": "code",
   "execution_count": 28,
   "outputs": [
    {
     "data": {
      "text/plain": "                                            Question      Answer  id  \\\n0  What is the name of the leading pharmaceutical...         aci   1   \n1  What is the name of the country where ACI Phar...  bangladesh   2   \n\n                                             context  \n0  As a progressive and forward-thinking company,...  \n1  As a progressive and forward-thinking company,...  ",
      "text/html": "<div>\n<style scoped>\n    .dataframe tbody tr th:only-of-type {\n        vertical-align: middle;\n    }\n\n    .dataframe tbody tr th {\n        vertical-align: top;\n    }\n\n    .dataframe thead th {\n        text-align: right;\n    }\n</style>\n<table border=\"1\" class=\"dataframe\">\n  <thead>\n    <tr style=\"text-align: right;\">\n      <th></th>\n      <th>Question</th>\n      <th>Answer</th>\n      <th>id</th>\n      <th>context</th>\n    </tr>\n  </thead>\n  <tbody>\n    <tr>\n      <th>0</th>\n      <td>What is the name of the leading pharmaceutical...</td>\n      <td>aci</td>\n      <td>1</td>\n      <td>As a progressive and forward-thinking company,...</td>\n    </tr>\n    <tr>\n      <th>1</th>\n      <td>What is the name of the country where ACI Phar...</td>\n      <td>bangladesh</td>\n      <td>2</td>\n      <td>As a progressive and forward-thinking company,...</td>\n    </tr>\n  </tbody>\n</table>\n</div>"
     },
     "execution_count": 28,
     "metadata": {},
     "output_type": "execute_result"
    }
   ],
   "source": [],
   "metadata": {
    "collapsed": false
   }
  },
  {
   "cell_type": "code",
   "execution_count": 20,
   "outputs": [
    {
     "data": {
      "text/plain": "{'input_text': 'With almost three decades of partnering life and engendering hope, ACI is one of the top pharmaceutical companies in Bangladesh, employing more than.'}"
     },
     "execution_count": 20,
     "metadata": {},
     "output_type": "execute_result"
    }
   ],
   "source": [
    "payload = {\n",
    "            \"input_text\": \"With almost three decades of partnering life and engendering hope, ACI is one of the top pharmaceutical companies in Bangladesh, employing more than.\"\n",
    "        }\n",
    "payload"
   ],
   "metadata": {
    "collapsed": false
   }
  },
  {
   "cell_type": "code",
   "execution_count": null,
   "outputs": [],
   "source": [
    "payload = {\n",
    "            \"input_text\": \"With almost three decades of partnering life and engendering hope, ACI is one of the top pharmaceutical companies in Bangladesh, employing more than 5,000 people all over the country. As a progressive and forward-thinking company, ACI Pharma is dedicated to improve the health of people of Bangladesh through introduction of innovative and reliable pharmaceutical products.\"\n",
    "        }"
   ],
   "metadata": {
    "collapsed": false
   }
  },
  {
   "cell_type": "code",
   "execution_count": 11,
   "outputs": [
    {
     "name": "stdout",
     "output_type": "stream",
     "text": [
      "{'Boolean Questions': ['Is aci one of the top pharmaceutical companies in '\n",
      "                       'bangladesh?',\n",
      "                       'Is aci one of the top pharmaceutical companies in bd?',\n",
      "                       'Is aci the biggest pharmaceutical company in '\n",
      "                       'bangladesh?'],\n",
      " 'Count': 4,\n",
      " 'Text': 'With almost three decades of partnering life and engendering hope, '\n",
      "         'ACI is one of the top pharmaceutical companies in Bangladesh, '\n",
      "         'employing more than.'}\n"
     ]
    }
   ],
   "source": [
    "output = qe.predict_boolq(payload)\n",
    "pprint (output)"
   ],
   "metadata": {
    "collapsed": false
   }
  },
  {
   "cell_type": "code",
   "execution_count": 12,
   "outputs": [
    {
     "data": {
      "text/plain": "Downloading:   0%|          | 0.00/892M [00:00<?, ?B/s]",
      "application/vnd.jupyter.widget-view+json": {
       "version_major": 2,
       "version_minor": 0,
       "model_id": "2ffb71e8ef3c4147bc925b8b9fb02f4c"
      }
     },
     "metadata": {},
     "output_type": "display_data"
    },
    {
     "name": "stdout",
     "output_type": "stream",
     "text": [
      "Running model for generation\n",
      "{'questions': [{'Question': 'What is the top pharmaceutical company in Bangladesh?', 'Answer': 'aci', 'id': 1, 'context': 'With almost three decades of partnering life and engendering hope, ACI is one of the top pharmaceutical companies in Bangladesh, employing more than.'}]}\n",
      "{'questions': [{'Answer': 'aci',\n",
      "                'Question': 'What is the top pharmaceutical company in '\n",
      "                            'Bangladesh?',\n",
      "                'context': 'With almost three decades of partnering life and '\n",
      "                           'engendering hope, ACI is one of the top '\n",
      "                           'pharmaceutical companies in Bangladesh, employing '\n",
      "                           'more than.',\n",
      "                'id': 1}],\n",
      " 'statement': 'With almost three decades of partnering life and engendering '\n",
      "              'hope, ACI is one of the top pharmaceutical companies in '\n",
      "              'Bangladesh, employing more than.'}\n"
     ]
    }
   ],
   "source": [],
   "metadata": {
    "collapsed": false
   }
  },
  {
   "cell_type": "code",
   "execution_count": null,
   "outputs": [],
   "source": [],
   "metadata": {
    "collapsed": false
   }
  }
 ],
 "metadata": {
  "kernelspec": {
   "display_name": "Python 3",
   "language": "python",
   "name": "python3"
  },
  "language_info": {
   "codemirror_mode": {
    "name": "ipython",
    "version": 2
   },
   "file_extension": ".py",
   "mimetype": "text/x-python",
   "name": "python",
   "nbconvert_exporter": "python",
   "pygments_lexer": "ipython2",
   "version": "2.7.6"
  }
 },
 "nbformat": 4,
 "nbformat_minor": 0
}
