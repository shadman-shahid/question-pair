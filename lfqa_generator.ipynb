{
 "cells": [
  {
   "cell_type": "code",
   "execution_count": null,
   "metadata": {
    "id": "_65wW9vaxksm"
   },
   "outputs": [],
   "source": [
    "!pip install -U 'farm-haystack[pinecone]'>=1.3.0 pinecone-client datasets"
   ]
  },
  {
   "cell_type": "code",
   "execution_count": null,
   "outputs": [],
   "source": [
    "! wget https://artifacts.elastic.co/downloads/elasticsearch/elasticsearch-7.9.2-linux-x86_64.tar.gz -q\n",
    "! tar -xzf elasticsearch-7.9.2-linux-x86_64.tar.gz\n",
    "! chown -R daemon:daemon elasticsearch-7.9.2"
   ],
   "metadata": {
    "collapsed": false
   }
  },
  {
   "cell_type": "code",
   "execution_count": null,
   "outputs": [],
   "source": [
    "# Windows\n",
    "! wget https://artifacts.elastic.co/downloads/elasticsearch/elasticsearch-7.9.2-windows-x86_64.zip -q\n",
    "! Expand-Archive -Path <SourcePathofZipFile> -DestinationPath <DestinationPath>"
   ],
   "metadata": {
    "collapsed": false
   }
  },
  {
   "cell_type": "code",
   "execution_count": 16,
   "metadata": {
    "id": "MLF-xd3IypGY"
   },
   "outputs": [],
   "source": [
    "# Option 2: In Colab / No Docker environments: Start Elasticsearch from source\n",
    "# ! wget https://artifacts.elastic.co/downloads/elasticsearch/elasticsearch-7.9.2-linux-x86_64.tar.gz -q\n",
    "# ! tar -xzf elasticsearch-7.9.2-linux-x86_64.tar.gz\n",
    "# ! chown -R daemon:daemon elasticsearch-7.9.2\n",
    "\n",
    "import os\n",
    "from subprocess import Popen, PIPE, STDOUT\n",
    "import time\n",
    "es_server = Popen(\n",
    "    [\"./models/elasticsearch-7.9.2/bin/elasticsearch.bat\"], stdout=PIPE, stderr=STDOUT,  start_new_session=True # as daemon\n",
    ")\n",
    "# wait until ES has started\n",
    "time.sleep(30)\n",
    "\n",
    "\n",
    "\n"
   ]
  },
  {
   "cell_type": "code",
   "execution_count": 18,
   "outputs": [
    {
     "name": "stderr",
     "output_type": "stream",
     "text": [
      "WARNING:elasticsearch:GET http://localhost:9200/ [status:N/A request:4.094s]\n",
      "Traceback (most recent call last):\n",
      "  File \"C:\\Users\\Public\\ACI_Proj\\Projects\\question-pair\\venv\\lib\\site-packages\\urllib3\\connection.py\", line 174, in _new_conn\n",
      "    conn = connection.create_connection(\n",
      "  File \"C:\\Users\\Public\\ACI_Proj\\Projects\\question-pair\\venv\\lib\\site-packages\\urllib3\\util\\connection.py\", line 95, in create_connection\n",
      "    raise err\n",
      "  File \"C:\\Users\\Public\\ACI_Proj\\Projects\\question-pair\\venv\\lib\\site-packages\\urllib3\\util\\connection.py\", line 85, in create_connection\n",
      "    sock.connect(sa)\n",
      "ConnectionRefusedError: [WinError 10061] No connection could be made because the target machine actively refused it\n",
      "\n",
      "During handling of the above exception, another exception occurred:\n",
      "\n",
      "Traceback (most recent call last):\n",
      "  File \"C:\\Users\\Public\\ACI_Proj\\Projects\\question-pair\\venv\\lib\\site-packages\\elasticsearch\\connection\\http_urllib3.py\", line 255, in perform_request\n",
      "    response = self.pool.urlopen(\n",
      "  File \"C:\\Users\\Public\\ACI_Proj\\Projects\\question-pair\\venv\\lib\\site-packages\\urllib3\\connectionpool.py\", line 787, in urlopen\n",
      "    retries = retries.increment(\n",
      "  File \"C:\\Users\\Public\\ACI_Proj\\Projects\\question-pair\\venv\\lib\\site-packages\\urllib3\\util\\retry.py\", line 525, in increment\n",
      "    raise six.reraise(type(error), error, _stacktrace)\n",
      "  File \"C:\\Users\\Public\\ACI_Proj\\Projects\\question-pair\\venv\\lib\\site-packages\\urllib3\\packages\\six.py\", line 770, in reraise\n",
      "    raise value\n",
      "  File \"C:\\Users\\Public\\ACI_Proj\\Projects\\question-pair\\venv\\lib\\site-packages\\urllib3\\connectionpool.py\", line 703, in urlopen\n",
      "    httplib_response = self._make_request(\n",
      "  File \"C:\\Users\\Public\\ACI_Proj\\Projects\\question-pair\\venv\\lib\\site-packages\\urllib3\\connectionpool.py\", line 398, in _make_request\n",
      "    conn.request(method, url, **httplib_request_kw)\n",
      "  File \"C:\\Users\\Public\\ACI_Proj\\Projects\\question-pair\\venv\\lib\\site-packages\\urllib3\\connection.py\", line 239, in request\n",
      "    super(HTTPConnection, self).request(method, url, body=body, headers=headers)\n",
      "  File \"C:\\Users\\shadm\\AppData\\Local\\Programs\\Python\\Python38\\lib\\http\\client.py\", line 1230, in request\n",
      "    self._send_request(method, url, body, headers, encode_chunked)\n",
      "  File \"C:\\Users\\shadm\\AppData\\Local\\Programs\\Python\\Python38\\lib\\http\\client.py\", line 1276, in _send_request\n",
      "    self.endheaders(body, encode_chunked=encode_chunked)\n",
      "  File \"C:\\Users\\shadm\\AppData\\Local\\Programs\\Python\\Python38\\lib\\http\\client.py\", line 1225, in endheaders\n",
      "    self._send_output(message_body, encode_chunked=encode_chunked)\n",
      "  File \"C:\\Users\\shadm\\AppData\\Local\\Programs\\Python\\Python38\\lib\\http\\client.py\", line 1004, in _send_output\n",
      "    self.send(msg)\n",
      "  File \"C:\\Users\\shadm\\AppData\\Local\\Programs\\Python\\Python38\\lib\\http\\client.py\", line 944, in send\n",
      "    self.connect()\n",
      "  File \"C:\\Users\\Public\\ACI_Proj\\Projects\\question-pair\\venv\\lib\\site-packages\\urllib3\\connection.py\", line 205, in connect\n",
      "    conn = self._new_conn()\n",
      "  File \"C:\\Users\\Public\\ACI_Proj\\Projects\\question-pair\\venv\\lib\\site-packages\\urllib3\\connection.py\", line 186, in _new_conn\n",
      "    raise NewConnectionError(\n",
      "urllib3.exceptions.NewConnectionError: <urllib3.connection.HTTPConnection object at 0x00000148F6B9CD30>: Failed to establish a new connection: [WinError 10061] No connection could be made because the target machine actively refused it\n"
     ]
    },
    {
     "ename": "ConnectionError",
     "evalue": "Initial connection to Elasticsearch failed. Make sure you run an Elasticsearch instance at `[{'host': 'localhost', 'port': 9200}]` and that it has finished the initial ramp up (can take > 30s).",
     "output_type": "error",
     "traceback": [
      "\u001B[1;31m---------------------------------------------------------------------------\u001B[0m",
      "\u001B[1;31mConnectionError\u001B[0m                           Traceback (most recent call last)",
      "File \u001B[1;32mC:\\Users\\Public\\ACI_Proj\\Projects\\question-pair\\venv\\lib\\site-packages\\haystack\\document_stores\\elasticsearch.py:271\u001B[0m, in \u001B[0;36mElasticsearchDocumentStore._init_elastic_client\u001B[1;34m(cls, host, port, username, password, api_key_id, api_key, aws4auth, scheme, ca_certs, verify_certs, timeout, use_system_proxy)\u001B[0m\n\u001B[0;32m    270\u001B[0m         \u001B[38;5;28;01mif\u001B[39;00m \u001B[38;5;129;01mnot\u001B[39;00m status:\n\u001B[1;32m--> 271\u001B[0m             \u001B[38;5;28;01mraise\u001B[39;00m \u001B[38;5;167;01mConnectionError\u001B[39;00m(\n\u001B[0;32m    272\u001B[0m                 \u001B[38;5;124mf\u001B[39m\u001B[38;5;124m\"\u001B[39m\u001B[38;5;124mInitial connection to Elasticsearch failed. Make sure you run an Elasticsearch instance \u001B[39m\u001B[38;5;124m\"\u001B[39m\n\u001B[0;32m    273\u001B[0m                 \u001B[38;5;124mf\u001B[39m\u001B[38;5;124m\"\u001B[39m\u001B[38;5;124mat `\u001B[39m\u001B[38;5;132;01m{\u001B[39;00mhosts\u001B[38;5;132;01m}\u001B[39;00m\u001B[38;5;124m` and that it has finished the initial ramp up (can take > 30s).\u001B[39m\u001B[38;5;124m\"\u001B[39m\n\u001B[0;32m    274\u001B[0m             )\n\u001B[0;32m    275\u001B[0m \u001B[38;5;28;01mexcept\u001B[39;00m \u001B[38;5;167;01mException\u001B[39;00m:\n",
      "\u001B[1;31mConnectionError\u001B[0m: Initial connection to Elasticsearch failed. Make sure you run an Elasticsearch instance at `[{'host': 'localhost', 'port': 9200}]` and that it has finished the initial ramp up (can take > 30s).",
      "\nDuring handling of the above exception, another exception occurred:\n",
      "\u001B[1;31mConnectionError\u001B[0m                           Traceback (most recent call last)",
      "Cell \u001B[1;32mIn[18], line 12\u001B[0m\n\u001B[0;32m      9\u001B[0m \u001B[38;5;66;03m# Get the host where Elasticsearch is running, default to localhost\u001B[39;00m\n\u001B[0;32m     10\u001B[0m host \u001B[38;5;241m=\u001B[39m os\u001B[38;5;241m.\u001B[39menviron\u001B[38;5;241m.\u001B[39mget(\u001B[38;5;124m\"\u001B[39m\u001B[38;5;124mELASTICSEARCH_HOST\u001B[39m\u001B[38;5;124m\"\u001B[39m, \u001B[38;5;124m\"\u001B[39m\u001B[38;5;124mlocalhost\u001B[39m\u001B[38;5;124m\"\u001B[39m)\n\u001B[1;32m---> 12\u001B[0m document_store \u001B[38;5;241m=\u001B[39m \u001B[43mElasticsearchDocumentStore\u001B[49m\u001B[43m(\u001B[49m\n\u001B[0;32m     13\u001B[0m \u001B[43m    \u001B[49m\u001B[43mhost\u001B[49m\u001B[38;5;241;43m=\u001B[39;49m\u001B[43mhost\u001B[49m\u001B[43m,\u001B[49m\n\u001B[0;32m     14\u001B[0m \u001B[43m    \u001B[49m\u001B[43musername\u001B[49m\u001B[38;5;241;43m=\u001B[39;49m\u001B[38;5;124;43m\"\u001B[39;49m\u001B[38;5;124;43m\"\u001B[39;49m\u001B[43m,\u001B[49m\n\u001B[0;32m     15\u001B[0m \u001B[43m    \u001B[49m\u001B[43mpassword\u001B[49m\u001B[38;5;241;43m=\u001B[39;49m\u001B[38;5;124;43m\"\u001B[39;49m\u001B[38;5;124;43m\"\u001B[39;49m\u001B[43m,\u001B[49m\n\u001B[0;32m     16\u001B[0m \u001B[43m    \u001B[49m\u001B[43mindex\u001B[49m\u001B[38;5;241;43m=\u001B[39;49m\u001B[38;5;124;43m\"\u001B[39;49m\u001B[38;5;124;43mdocument\u001B[39;49m\u001B[38;5;124;43m\"\u001B[39;49m\u001B[43m,\u001B[49m\n\u001B[0;32m     17\u001B[0m \u001B[43m    \u001B[49m\u001B[43membedding_field\u001B[49m\u001B[38;5;241;43m=\u001B[39;49m\u001B[38;5;124;43m\"\u001B[39;49m\u001B[38;5;124;43mquestion_emb\u001B[39;49m\u001B[38;5;124;43m\"\u001B[39;49m\u001B[43m,\u001B[49m\n\u001B[0;32m     18\u001B[0m \u001B[43m    \u001B[49m\u001B[43membedding_dim\u001B[49m\u001B[38;5;241;43m=\u001B[39;49m\u001B[38;5;241;43m384\u001B[39;49m\u001B[43m,\u001B[49m\n\u001B[0;32m     19\u001B[0m \u001B[43m    \u001B[49m\u001B[43mexcluded_meta_data\u001B[49m\u001B[38;5;241;43m=\u001B[39;49m\u001B[43m[\u001B[49m\u001B[38;5;124;43m\"\u001B[39;49m\u001B[38;5;124;43mquestion_emb\u001B[39;49m\u001B[38;5;124;43m\"\u001B[39;49m\u001B[43m]\u001B[49m\u001B[43m,\u001B[49m\n\u001B[0;32m     20\u001B[0m \u001B[43m    \u001B[49m\u001B[43msimilarity\u001B[49m\u001B[38;5;241;43m=\u001B[39;49m\u001B[38;5;124;43m\"\u001B[39;49m\u001B[38;5;124;43mcosine\u001B[39;49m\u001B[38;5;124;43m\"\u001B[39;49m\u001B[43m,\u001B[49m\n\u001B[0;32m     21\u001B[0m \u001B[43m)\u001B[49m\n",
      "File \u001B[1;32mC:\\Users\\Public\\ACI_Proj\\Projects\\question-pair\\venv\\lib\\site-packages\\haystack\\nodes\\base.py:48\u001B[0m, in \u001B[0;36mexportable_to_yaml.<locals>.wrapper_exportable_to_yaml\u001B[1;34m(self, *args, **kwargs)\u001B[0m\n\u001B[0;32m     45\u001B[0m         \u001B[38;5;28mself\u001B[39m\u001B[38;5;241m.\u001B[39m_component_config[\u001B[38;5;124m\"\u001B[39m\u001B[38;5;124mparams\u001B[39m\u001B[38;5;124m\"\u001B[39m][k] \u001B[38;5;241m=\u001B[39m v\n\u001B[0;32m     47\u001B[0m \u001B[38;5;66;03m# Call the actuall __init__ function with all the arguments\u001B[39;00m\n\u001B[1;32m---> 48\u001B[0m \u001B[43minit_func\u001B[49m\u001B[43m(\u001B[49m\u001B[38;5;28;43mself\u001B[39;49m\u001B[43m,\u001B[49m\u001B[43m \u001B[49m\u001B[38;5;241;43m*\u001B[39;49m\u001B[43margs\u001B[49m\u001B[43m,\u001B[49m\u001B[43m \u001B[49m\u001B[38;5;241;43m*\u001B[39;49m\u001B[38;5;241;43m*\u001B[39;49m\u001B[43mkwargs\u001B[49m\u001B[43m)\u001B[49m\n",
      "File \u001B[1;32mC:\\Users\\Public\\ACI_Proj\\Projects\\question-pair\\venv\\lib\\site-packages\\haystack\\document_stores\\elasticsearch.py:143\u001B[0m, in \u001B[0;36mElasticsearchDocumentStore.__init__\u001B[1;34m(self, host, port, username, password, api_key_id, api_key, aws4auth, index, label_index, search_fields, content_field, name_field, embedding_field, embedding_dim, custom_mapping, excluded_meta_data, analyzer, scheme, ca_certs, verify_certs, recreate_index, create_index, refresh_type, similarity, timeout, return_embedding, duplicate_documents, index_type, scroll, skip_missing_embeddings, synonyms, synonym_type, use_system_proxy)\u001B[0m\n\u001B[0;32m    137\u001B[0m     \u001B[38;5;28;01mraise\u001B[39;00m \u001B[38;5;167;01mException\u001B[39;00m(\n\u001B[0;32m    138\u001B[0m         \u001B[38;5;124m\"\u001B[39m\u001B[38;5;124mThe HNSW algorithm for approximate nearest neighbours calculation is currently not available in the ElasticSearchDocumentStore. \u001B[39m\u001B[38;5;124m\"\u001B[39m\n\u001B[0;32m    139\u001B[0m         \u001B[38;5;124m\"\u001B[39m\u001B[38;5;124mTry the OpenSearchDocumentStore instead.\u001B[39m\u001B[38;5;124m\"\u001B[39m\n\u001B[0;32m    140\u001B[0m     )\n\u001B[0;32m    142\u001B[0m \u001B[38;5;66;03m# Base constructor might need the client to be ready, create it first\u001B[39;00m\n\u001B[1;32m--> 143\u001B[0m client \u001B[38;5;241m=\u001B[39m \u001B[38;5;28;43mself\u001B[39;49m\u001B[38;5;241;43m.\u001B[39;49m\u001B[43m_init_elastic_client\u001B[49m\u001B[43m(\u001B[49m\n\u001B[0;32m    144\u001B[0m \u001B[43m    \u001B[49m\u001B[43mhost\u001B[49m\u001B[38;5;241;43m=\u001B[39;49m\u001B[43mhost\u001B[49m\u001B[43m,\u001B[49m\n\u001B[0;32m    145\u001B[0m \u001B[43m    \u001B[49m\u001B[43mport\u001B[49m\u001B[38;5;241;43m=\u001B[39;49m\u001B[43mport\u001B[49m\u001B[43m,\u001B[49m\n\u001B[0;32m    146\u001B[0m \u001B[43m    \u001B[49m\u001B[43musername\u001B[49m\u001B[38;5;241;43m=\u001B[39;49m\u001B[43musername\u001B[49m\u001B[43m,\u001B[49m\n\u001B[0;32m    147\u001B[0m \u001B[43m    \u001B[49m\u001B[43mpassword\u001B[49m\u001B[38;5;241;43m=\u001B[39;49m\u001B[43mpassword\u001B[49m\u001B[43m,\u001B[49m\n\u001B[0;32m    148\u001B[0m \u001B[43m    \u001B[49m\u001B[43mapi_key\u001B[49m\u001B[38;5;241;43m=\u001B[39;49m\u001B[43mapi_key\u001B[49m\u001B[43m,\u001B[49m\n\u001B[0;32m    149\u001B[0m \u001B[43m    \u001B[49m\u001B[43mapi_key_id\u001B[49m\u001B[38;5;241;43m=\u001B[39;49m\u001B[43mapi_key_id\u001B[49m\u001B[43m,\u001B[49m\n\u001B[0;32m    150\u001B[0m \u001B[43m    \u001B[49m\u001B[43maws4auth\u001B[49m\u001B[38;5;241;43m=\u001B[39;49m\u001B[43maws4auth\u001B[49m\u001B[43m,\u001B[49m\n\u001B[0;32m    151\u001B[0m \u001B[43m    \u001B[49m\u001B[43mscheme\u001B[49m\u001B[38;5;241;43m=\u001B[39;49m\u001B[43mscheme\u001B[49m\u001B[43m,\u001B[49m\n\u001B[0;32m    152\u001B[0m \u001B[43m    \u001B[49m\u001B[43mca_certs\u001B[49m\u001B[38;5;241;43m=\u001B[39;49m\u001B[43mca_certs\u001B[49m\u001B[43m,\u001B[49m\n\u001B[0;32m    153\u001B[0m \u001B[43m    \u001B[49m\u001B[43mverify_certs\u001B[49m\u001B[38;5;241;43m=\u001B[39;49m\u001B[43mverify_certs\u001B[49m\u001B[43m,\u001B[49m\n\u001B[0;32m    154\u001B[0m \u001B[43m    \u001B[49m\u001B[43mtimeout\u001B[49m\u001B[38;5;241;43m=\u001B[39;49m\u001B[43mtimeout\u001B[49m\u001B[43m,\u001B[49m\n\u001B[0;32m    155\u001B[0m \u001B[43m    \u001B[49m\u001B[43muse_system_proxy\u001B[49m\u001B[38;5;241;43m=\u001B[39;49m\u001B[43muse_system_proxy\u001B[49m\u001B[43m,\u001B[49m\n\u001B[0;32m    156\u001B[0m \u001B[43m\u001B[49m\u001B[43m)\u001B[49m\n\u001B[0;32m    158\u001B[0m \u001B[38;5;28msuper\u001B[39m()\u001B[38;5;241m.\u001B[39m\u001B[38;5;21m__init__\u001B[39m(\n\u001B[0;32m    159\u001B[0m     client\u001B[38;5;241m=\u001B[39mclient,\n\u001B[0;32m    160\u001B[0m     index\u001B[38;5;241m=\u001B[39mindex,\n\u001B[1;32m   (...)\u001B[0m\n\u001B[0;32m    180\u001B[0m     synonym_type\u001B[38;5;241m=\u001B[39msynonym_type,\n\u001B[0;32m    181\u001B[0m )\n\u001B[0;32m    183\u001B[0m \u001B[38;5;66;03m# Let the base class trap the right exception from the elasticpy client\u001B[39;00m\n",
      "File \u001B[1;32mC:\\Users\\Public\\ACI_Proj\\Projects\\question-pair\\venv\\lib\\site-packages\\haystack\\document_stores\\elasticsearch.py:276\u001B[0m, in \u001B[0;36mElasticsearchDocumentStore._init_elastic_client\u001B[1;34m(cls, host, port, username, password, api_key_id, api_key, aws4auth, scheme, ca_certs, verify_certs, timeout, use_system_proxy)\u001B[0m\n\u001B[0;32m    271\u001B[0m             \u001B[38;5;28;01mraise\u001B[39;00m \u001B[38;5;167;01mConnectionError\u001B[39;00m(\n\u001B[0;32m    272\u001B[0m                 \u001B[38;5;124mf\u001B[39m\u001B[38;5;124m\"\u001B[39m\u001B[38;5;124mInitial connection to Elasticsearch failed. Make sure you run an Elasticsearch instance \u001B[39m\u001B[38;5;124m\"\u001B[39m\n\u001B[0;32m    273\u001B[0m                 \u001B[38;5;124mf\u001B[39m\u001B[38;5;124m\"\u001B[39m\u001B[38;5;124mat `\u001B[39m\u001B[38;5;132;01m{\u001B[39;00mhosts\u001B[38;5;132;01m}\u001B[39;00m\u001B[38;5;124m` and that it has finished the initial ramp up (can take > 30s).\u001B[39m\u001B[38;5;124m\"\u001B[39m\n\u001B[0;32m    274\u001B[0m             )\n\u001B[0;32m    275\u001B[0m \u001B[38;5;28;01mexcept\u001B[39;00m \u001B[38;5;167;01mException\u001B[39;00m:\n\u001B[1;32m--> 276\u001B[0m     \u001B[38;5;28;01mraise\u001B[39;00m \u001B[38;5;167;01mConnectionError\u001B[39;00m(\n\u001B[0;32m    277\u001B[0m         \u001B[38;5;124mf\u001B[39m\u001B[38;5;124m\"\u001B[39m\u001B[38;5;124mInitial connection to Elasticsearch failed. Make sure you run an Elasticsearch instance at `\u001B[39m\u001B[38;5;132;01m{\u001B[39;00mhosts\u001B[38;5;132;01m}\u001B[39;00m\u001B[38;5;124m` and that it has finished the initial ramp up (can take > 30s).\u001B[39m\u001B[38;5;124m\"\u001B[39m\n\u001B[0;32m    278\u001B[0m     )\n\u001B[0;32m    279\u001B[0m \u001B[38;5;28;01mreturn\u001B[39;00m client\n",
      "\u001B[1;31mConnectionError\u001B[0m: Initial connection to Elasticsearch failed. Make sure you run an Elasticsearch instance at `[{'host': 'localhost', 'port': 9200}]` and that it has finished the initial ramp up (can take > 30s)."
     ]
    }
   ],
   "source": [
    "import os\n",
    "import time\n",
    "\n",
    "from haystack.document_stores import ElasticsearchDocumentStore\n",
    "\n",
    "# Wait 30 seconds only to be sure Elasticsearch is ready before continuing\n",
    "time.sleep(30)\n",
    "\n",
    "# Get the host where Elasticsearch is running, default to localhost\n",
    "host = os.environ.get(\"ELASTICSEARCH_HOST\", \"localhost\")\n",
    "\n",
    "document_store = ElasticsearchDocumentStore(\n",
    "    host=host,\n",
    "    username=\"\",\n",
    "    password=\"\",\n",
    "    index='haystack-lfqa',\n",
    "    similarity=\"cosine\",\n",
    "    embedding_dim=768\n",
    ")"
   ],
   "metadata": {
    "collapsed": false
   }
  },
  {
   "cell_type": "code",
   "execution_count": 6,
   "outputs": [],
   "source": [
    "import os\n",
    "from subprocess import Popen, PIPE, STDOUT\n",
    "import time\n",
    "es_server = Popen(\n",
    "    [\"elasticsearch-7.9.2/bin/elasticsearch\"], stdout=PIPE, stderr=STDOUT, start_new_session=True  # as daemon\n",
    ")\n",
    "# wait until ES has started\n",
    "time.sleep(30)"
   ],
   "metadata": {
    "collapsed": false
   }
  },
  {
   "cell_type": "code",
   "execution_count": 14,
   "outputs": [
    {
     "name": "stderr",
     "output_type": "stream",
     "text": [
      "WARNING:elasticsearch:GET https://192.168.101.250:9200/ [status:N/A request:0.001s]\n",
      "Traceback (most recent call last):\n",
      "  File \"/home/shadman/Projects/question-pair/venv/lib/python3.8/site-packages/urllib3/connection.py\", line 174, in _new_conn\n",
      "    conn = connection.create_connection(\n",
      "  File \"/home/shadman/Projects/question-pair/venv/lib/python3.8/site-packages/urllib3/util/connection.py\", line 95, in create_connection\n",
      "    raise err\n",
      "  File \"/home/shadman/Projects/question-pair/venv/lib/python3.8/site-packages/urllib3/util/connection.py\", line 85, in create_connection\n",
      "    sock.connect(sa)\n",
      "ConnectionRefusedError: [Errno 111] Connection refused\n",
      "\n",
      "During handling of the above exception, another exception occurred:\n",
      "\n",
      "Traceback (most recent call last):\n",
      "  File \"/home/shadman/Projects/question-pair/venv/lib/python3.8/site-packages/elasticsearch/connection/http_urllib3.py\", line 255, in perform_request\n",
      "    response = self.pool.urlopen(\n",
      "  File \"/home/shadman/Projects/question-pair/venv/lib/python3.8/site-packages/urllib3/connectionpool.py\", line 787, in urlopen\n",
      "    retries = retries.increment(\n",
      "  File \"/home/shadman/Projects/question-pair/venv/lib/python3.8/site-packages/urllib3/util/retry.py\", line 525, in increment\n",
      "    raise six.reraise(type(error), error, _stacktrace)\n",
      "  File \"/home/shadman/Projects/question-pair/venv/lib/python3.8/site-packages/urllib3/packages/six.py\", line 770, in reraise\n",
      "    raise value\n",
      "  File \"/home/shadman/Projects/question-pair/venv/lib/python3.8/site-packages/urllib3/connectionpool.py\", line 703, in urlopen\n",
      "    httplib_response = self._make_request(\n",
      "  File \"/home/shadman/Projects/question-pair/venv/lib/python3.8/site-packages/urllib3/connectionpool.py\", line 386, in _make_request\n",
      "    self._validate_conn(conn)\n",
      "  File \"/home/shadman/Projects/question-pair/venv/lib/python3.8/site-packages/urllib3/connectionpool.py\", line 1042, in _validate_conn\n",
      "    conn.connect()\n",
      "  File \"/home/shadman/Projects/question-pair/venv/lib/python3.8/site-packages/urllib3/connection.py\", line 358, in connect\n",
      "    self.sock = conn = self._new_conn()\n",
      "  File \"/home/shadman/Projects/question-pair/venv/lib/python3.8/site-packages/urllib3/connection.py\", line 186, in _new_conn\n",
      "    raise NewConnectionError(\n",
      "urllib3.exceptions.NewConnectionError: <urllib3.connection.HTTPSConnection object at 0x7f17fe568e50>: Failed to establish a new connection: [Errno 111] Connection refused\n"
     ]
    },
    {
     "ename": "ConnectionError",
     "evalue": "ConnectionError(<urllib3.connection.HTTPSConnection object at 0x7f17fe568e50>: Failed to establish a new connection: [Errno 111] Connection refused) caused by: NewConnectionError(<urllib3.connection.HTTPSConnection object at 0x7f17fe568e50>: Failed to establish a new connection: [Errno 111] Connection refused)",
     "output_type": "error",
     "traceback": [
      "\u001B[0;31m---------------------------------------------------------------------------\u001B[0m",
      "\u001B[0;31mConnectionRefusedError\u001B[0m                    Traceback (most recent call last)",
      "File \u001B[0;32m~/Projects/question-pair/venv/lib/python3.8/site-packages/urllib3/connection.py:174\u001B[0m, in \u001B[0;36mHTTPConnection._new_conn\u001B[0;34m(self)\u001B[0m\n\u001B[1;32m    173\u001B[0m \u001B[38;5;28;01mtry\u001B[39;00m:\n\u001B[0;32m--> 174\u001B[0m     conn \u001B[38;5;241m=\u001B[39m \u001B[43mconnection\u001B[49m\u001B[38;5;241;43m.\u001B[39;49m\u001B[43mcreate_connection\u001B[49m\u001B[43m(\u001B[49m\n\u001B[1;32m    175\u001B[0m \u001B[43m        \u001B[49m\u001B[43m(\u001B[49m\u001B[38;5;28;43mself\u001B[39;49m\u001B[38;5;241;43m.\u001B[39;49m\u001B[43m_dns_host\u001B[49m\u001B[43m,\u001B[49m\u001B[43m \u001B[49m\u001B[38;5;28;43mself\u001B[39;49m\u001B[38;5;241;43m.\u001B[39;49m\u001B[43mport\u001B[49m\u001B[43m)\u001B[49m\u001B[43m,\u001B[49m\u001B[43m \u001B[49m\u001B[38;5;28;43mself\u001B[39;49m\u001B[38;5;241;43m.\u001B[39;49m\u001B[43mtimeout\u001B[49m\u001B[43m,\u001B[49m\u001B[43m \u001B[49m\u001B[38;5;241;43m*\u001B[39;49m\u001B[38;5;241;43m*\u001B[39;49m\u001B[43mextra_kw\u001B[49m\n\u001B[1;32m    176\u001B[0m \u001B[43m    \u001B[49m\u001B[43m)\u001B[49m\n\u001B[1;32m    178\u001B[0m \u001B[38;5;28;01mexcept\u001B[39;00m SocketTimeout:\n",
      "File \u001B[0;32m~/Projects/question-pair/venv/lib/python3.8/site-packages/urllib3/util/connection.py:95\u001B[0m, in \u001B[0;36mcreate_connection\u001B[0;34m(address, timeout, source_address, socket_options)\u001B[0m\n\u001B[1;32m     94\u001B[0m \u001B[38;5;28;01mif\u001B[39;00m err \u001B[38;5;129;01mis\u001B[39;00m \u001B[38;5;129;01mnot\u001B[39;00m \u001B[38;5;28;01mNone\u001B[39;00m:\n\u001B[0;32m---> 95\u001B[0m     \u001B[38;5;28;01mraise\u001B[39;00m err\n\u001B[1;32m     97\u001B[0m \u001B[38;5;28;01mraise\u001B[39;00m socket\u001B[38;5;241m.\u001B[39merror(\u001B[38;5;124m\"\u001B[39m\u001B[38;5;124mgetaddrinfo returns an empty list\u001B[39m\u001B[38;5;124m\"\u001B[39m)\n",
      "File \u001B[0;32m~/Projects/question-pair/venv/lib/python3.8/site-packages/urllib3/util/connection.py:85\u001B[0m, in \u001B[0;36mcreate_connection\u001B[0;34m(address, timeout, source_address, socket_options)\u001B[0m\n\u001B[1;32m     84\u001B[0m     sock\u001B[38;5;241m.\u001B[39mbind(source_address)\n\u001B[0;32m---> 85\u001B[0m \u001B[43msock\u001B[49m\u001B[38;5;241;43m.\u001B[39;49m\u001B[43mconnect\u001B[49m\u001B[43m(\u001B[49m\u001B[43msa\u001B[49m\u001B[43m)\u001B[49m\n\u001B[1;32m     86\u001B[0m \u001B[38;5;28;01mreturn\u001B[39;00m sock\n",
      "\u001B[0;31mConnectionRefusedError\u001B[0m: [Errno 111] Connection refused",
      "\nDuring handling of the above exception, another exception occurred:\n",
      "\u001B[0;31mNewConnectionError\u001B[0m                        Traceback (most recent call last)",
      "File \u001B[0;32m~/Projects/question-pair/venv/lib/python3.8/site-packages/elasticsearch/connection/http_urllib3.py:255\u001B[0m, in \u001B[0;36mUrllib3HttpConnection.perform_request\u001B[0;34m(self, method, url, params, body, timeout, ignore, headers)\u001B[0m\n\u001B[1;32m    253\u001B[0m     request_headers[\u001B[38;5;124m\"\u001B[39m\u001B[38;5;124mcontent-encoding\u001B[39m\u001B[38;5;124m\"\u001B[39m] \u001B[38;5;241m=\u001B[39m \u001B[38;5;124m\"\u001B[39m\u001B[38;5;124mgzip\u001B[39m\u001B[38;5;124m\"\u001B[39m\n\u001B[0;32m--> 255\u001B[0m response \u001B[38;5;241m=\u001B[39m \u001B[38;5;28;43mself\u001B[39;49m\u001B[38;5;241;43m.\u001B[39;49m\u001B[43mpool\u001B[49m\u001B[38;5;241;43m.\u001B[39;49m\u001B[43murlopen\u001B[49m\u001B[43m(\u001B[49m\n\u001B[1;32m    256\u001B[0m \u001B[43m    \u001B[49m\u001B[43mmethod\u001B[49m\u001B[43m,\u001B[49m\u001B[43m \u001B[49m\u001B[43murl\u001B[49m\u001B[43m,\u001B[49m\u001B[43m \u001B[49m\u001B[43mbody\u001B[49m\u001B[43m,\u001B[49m\u001B[43m \u001B[49m\u001B[43mretries\u001B[49m\u001B[38;5;241;43m=\u001B[39;49m\u001B[43mRetry\u001B[49m\u001B[43m(\u001B[49m\u001B[38;5;28;43;01mFalse\u001B[39;49;00m\u001B[43m)\u001B[49m\u001B[43m,\u001B[49m\u001B[43m \u001B[49m\u001B[43mheaders\u001B[49m\u001B[38;5;241;43m=\u001B[39;49m\u001B[43mrequest_headers\u001B[49m\u001B[43m,\u001B[49m\u001B[43m \u001B[49m\u001B[38;5;241;43m*\u001B[39;49m\u001B[38;5;241;43m*\u001B[39;49m\u001B[43mkw\u001B[49m\n\u001B[1;32m    257\u001B[0m \u001B[43m\u001B[49m\u001B[43m)\u001B[49m\n\u001B[1;32m    258\u001B[0m response_headers \u001B[38;5;241m=\u001B[39m {\n\u001B[1;32m    259\u001B[0m     header\u001B[38;5;241m.\u001B[39mlower(): value \u001B[38;5;28;01mfor\u001B[39;00m header, value \u001B[38;5;129;01min\u001B[39;00m response\u001B[38;5;241m.\u001B[39mheaders\u001B[38;5;241m.\u001B[39mitems()\n\u001B[1;32m    260\u001B[0m }\n",
      "File \u001B[0;32m~/Projects/question-pair/venv/lib/python3.8/site-packages/urllib3/connectionpool.py:787\u001B[0m, in \u001B[0;36mHTTPConnectionPool.urlopen\u001B[0;34m(self, method, url, body, headers, retries, redirect, assert_same_host, timeout, pool_timeout, release_conn, chunked, body_pos, **response_kw)\u001B[0m\n\u001B[1;32m    785\u001B[0m     e \u001B[38;5;241m=\u001B[39m ProtocolError(\u001B[38;5;124m\"\u001B[39m\u001B[38;5;124mConnection aborted.\u001B[39m\u001B[38;5;124m\"\u001B[39m, e)\n\u001B[0;32m--> 787\u001B[0m retries \u001B[38;5;241m=\u001B[39m \u001B[43mretries\u001B[49m\u001B[38;5;241;43m.\u001B[39;49m\u001B[43mincrement\u001B[49m\u001B[43m(\u001B[49m\n\u001B[1;32m    788\u001B[0m \u001B[43m    \u001B[49m\u001B[43mmethod\u001B[49m\u001B[43m,\u001B[49m\u001B[43m \u001B[49m\u001B[43murl\u001B[49m\u001B[43m,\u001B[49m\u001B[43m \u001B[49m\u001B[43merror\u001B[49m\u001B[38;5;241;43m=\u001B[39;49m\u001B[43me\u001B[49m\u001B[43m,\u001B[49m\u001B[43m \u001B[49m\u001B[43m_pool\u001B[49m\u001B[38;5;241;43m=\u001B[39;49m\u001B[38;5;28;43mself\u001B[39;49m\u001B[43m,\u001B[49m\u001B[43m \u001B[49m\u001B[43m_stacktrace\u001B[49m\u001B[38;5;241;43m=\u001B[39;49m\u001B[43msys\u001B[49m\u001B[38;5;241;43m.\u001B[39;49m\u001B[43mexc_info\u001B[49m\u001B[43m(\u001B[49m\u001B[43m)\u001B[49m\u001B[43m[\u001B[49m\u001B[38;5;241;43m2\u001B[39;49m\u001B[43m]\u001B[49m\n\u001B[1;32m    789\u001B[0m \u001B[43m\u001B[49m\u001B[43m)\u001B[49m\n\u001B[1;32m    790\u001B[0m retries\u001B[38;5;241m.\u001B[39msleep()\n",
      "File \u001B[0;32m~/Projects/question-pair/venv/lib/python3.8/site-packages/urllib3/util/retry.py:525\u001B[0m, in \u001B[0;36mRetry.increment\u001B[0;34m(self, method, url, response, error, _pool, _stacktrace)\u001B[0m\n\u001B[1;32m    523\u001B[0m \u001B[38;5;28;01mif\u001B[39;00m \u001B[38;5;28mself\u001B[39m\u001B[38;5;241m.\u001B[39mtotal \u001B[38;5;129;01mis\u001B[39;00m \u001B[38;5;28;01mFalse\u001B[39;00m \u001B[38;5;129;01mand\u001B[39;00m error:\n\u001B[1;32m    524\u001B[0m     \u001B[38;5;66;03m# Disabled, indicate to re-raise the error.\u001B[39;00m\n\u001B[0;32m--> 525\u001B[0m     \u001B[38;5;28;01mraise\u001B[39;00m \u001B[43msix\u001B[49m\u001B[38;5;241;43m.\u001B[39;49m\u001B[43mreraise\u001B[49m\u001B[43m(\u001B[49m\u001B[38;5;28;43mtype\u001B[39;49m\u001B[43m(\u001B[49m\u001B[43merror\u001B[49m\u001B[43m)\u001B[49m\u001B[43m,\u001B[49m\u001B[43m \u001B[49m\u001B[43merror\u001B[49m\u001B[43m,\u001B[49m\u001B[43m \u001B[49m\u001B[43m_stacktrace\u001B[49m\u001B[43m)\u001B[49m\n\u001B[1;32m    527\u001B[0m total \u001B[38;5;241m=\u001B[39m \u001B[38;5;28mself\u001B[39m\u001B[38;5;241m.\u001B[39mtotal\n",
      "File \u001B[0;32m~/Projects/question-pair/venv/lib/python3.8/site-packages/urllib3/packages/six.py:770\u001B[0m, in \u001B[0;36mreraise\u001B[0;34m(tp, value, tb)\u001B[0m\n\u001B[1;32m    769\u001B[0m         \u001B[38;5;28;01mraise\u001B[39;00m value\u001B[38;5;241m.\u001B[39mwith_traceback(tb)\n\u001B[0;32m--> 770\u001B[0m     \u001B[38;5;28;01mraise\u001B[39;00m value\n\u001B[1;32m    771\u001B[0m \u001B[38;5;28;01mfinally\u001B[39;00m:\n",
      "File \u001B[0;32m~/Projects/question-pair/venv/lib/python3.8/site-packages/urllib3/connectionpool.py:703\u001B[0m, in \u001B[0;36mHTTPConnectionPool.urlopen\u001B[0;34m(self, method, url, body, headers, retries, redirect, assert_same_host, timeout, pool_timeout, release_conn, chunked, body_pos, **response_kw)\u001B[0m\n\u001B[1;32m    702\u001B[0m \u001B[38;5;66;03m# Make the request on the httplib connection object.\u001B[39;00m\n\u001B[0;32m--> 703\u001B[0m httplib_response \u001B[38;5;241m=\u001B[39m \u001B[38;5;28;43mself\u001B[39;49m\u001B[38;5;241;43m.\u001B[39;49m\u001B[43m_make_request\u001B[49m\u001B[43m(\u001B[49m\n\u001B[1;32m    704\u001B[0m \u001B[43m    \u001B[49m\u001B[43mconn\u001B[49m\u001B[43m,\u001B[49m\n\u001B[1;32m    705\u001B[0m \u001B[43m    \u001B[49m\u001B[43mmethod\u001B[49m\u001B[43m,\u001B[49m\n\u001B[1;32m    706\u001B[0m \u001B[43m    \u001B[49m\u001B[43murl\u001B[49m\u001B[43m,\u001B[49m\n\u001B[1;32m    707\u001B[0m \u001B[43m    \u001B[49m\u001B[43mtimeout\u001B[49m\u001B[38;5;241;43m=\u001B[39;49m\u001B[43mtimeout_obj\u001B[49m\u001B[43m,\u001B[49m\n\u001B[1;32m    708\u001B[0m \u001B[43m    \u001B[49m\u001B[43mbody\u001B[49m\u001B[38;5;241;43m=\u001B[39;49m\u001B[43mbody\u001B[49m\u001B[43m,\u001B[49m\n\u001B[1;32m    709\u001B[0m \u001B[43m    \u001B[49m\u001B[43mheaders\u001B[49m\u001B[38;5;241;43m=\u001B[39;49m\u001B[43mheaders\u001B[49m\u001B[43m,\u001B[49m\n\u001B[1;32m    710\u001B[0m \u001B[43m    \u001B[49m\u001B[43mchunked\u001B[49m\u001B[38;5;241;43m=\u001B[39;49m\u001B[43mchunked\u001B[49m\u001B[43m,\u001B[49m\n\u001B[1;32m    711\u001B[0m \u001B[43m\u001B[49m\u001B[43m)\u001B[49m\n\u001B[1;32m    713\u001B[0m \u001B[38;5;66;03m# If we're going to release the connection in ``finally:``, then\u001B[39;00m\n\u001B[1;32m    714\u001B[0m \u001B[38;5;66;03m# the response doesn't need to know about the connection. Otherwise\u001B[39;00m\n\u001B[1;32m    715\u001B[0m \u001B[38;5;66;03m# it will also try to release it and we'll have a double-release\u001B[39;00m\n\u001B[1;32m    716\u001B[0m \u001B[38;5;66;03m# mess.\u001B[39;00m\n",
      "File \u001B[0;32m~/Projects/question-pair/venv/lib/python3.8/site-packages/urllib3/connectionpool.py:386\u001B[0m, in \u001B[0;36mHTTPConnectionPool._make_request\u001B[0;34m(self, conn, method, url, timeout, chunked, **httplib_request_kw)\u001B[0m\n\u001B[1;32m    385\u001B[0m \u001B[38;5;28;01mtry\u001B[39;00m:\n\u001B[0;32m--> 386\u001B[0m     \u001B[38;5;28;43mself\u001B[39;49m\u001B[38;5;241;43m.\u001B[39;49m\u001B[43m_validate_conn\u001B[49m\u001B[43m(\u001B[49m\u001B[43mconn\u001B[49m\u001B[43m)\u001B[49m\n\u001B[1;32m    387\u001B[0m \u001B[38;5;28;01mexcept\u001B[39;00m (SocketTimeout, BaseSSLError) \u001B[38;5;28;01mas\u001B[39;00m e:\n\u001B[1;32m    388\u001B[0m     \u001B[38;5;66;03m# Py2 raises this as a BaseSSLError, Py3 raises it as socket timeout.\u001B[39;00m\n",
      "File \u001B[0;32m~/Projects/question-pair/venv/lib/python3.8/site-packages/urllib3/connectionpool.py:1042\u001B[0m, in \u001B[0;36mHTTPSConnectionPool._validate_conn\u001B[0;34m(self, conn)\u001B[0m\n\u001B[1;32m   1041\u001B[0m \u001B[38;5;28;01mif\u001B[39;00m \u001B[38;5;129;01mnot\u001B[39;00m \u001B[38;5;28mgetattr\u001B[39m(conn, \u001B[38;5;124m\"\u001B[39m\u001B[38;5;124msock\u001B[39m\u001B[38;5;124m\"\u001B[39m, \u001B[38;5;28;01mNone\u001B[39;00m):  \u001B[38;5;66;03m# AppEngine might not have  `.sock`\u001B[39;00m\n\u001B[0;32m-> 1042\u001B[0m     \u001B[43mconn\u001B[49m\u001B[38;5;241;43m.\u001B[39;49m\u001B[43mconnect\u001B[49m\u001B[43m(\u001B[49m\u001B[43m)\u001B[49m\n\u001B[1;32m   1044\u001B[0m \u001B[38;5;28;01mif\u001B[39;00m \u001B[38;5;129;01mnot\u001B[39;00m conn\u001B[38;5;241m.\u001B[39mis_verified:\n",
      "File \u001B[0;32m~/Projects/question-pair/venv/lib/python3.8/site-packages/urllib3/connection.py:358\u001B[0m, in \u001B[0;36mHTTPSConnection.connect\u001B[0;34m(self)\u001B[0m\n\u001B[1;32m    356\u001B[0m \u001B[38;5;28;01mdef\u001B[39;00m \u001B[38;5;21mconnect\u001B[39m(\u001B[38;5;28mself\u001B[39m):\n\u001B[1;32m    357\u001B[0m     \u001B[38;5;66;03m# Add certificate verification\u001B[39;00m\n\u001B[0;32m--> 358\u001B[0m     \u001B[38;5;28mself\u001B[39m\u001B[38;5;241m.\u001B[39msock \u001B[38;5;241m=\u001B[39m conn \u001B[38;5;241m=\u001B[39m \u001B[38;5;28;43mself\u001B[39;49m\u001B[38;5;241;43m.\u001B[39;49m\u001B[43m_new_conn\u001B[49m\u001B[43m(\u001B[49m\u001B[43m)\u001B[49m\n\u001B[1;32m    359\u001B[0m     hostname \u001B[38;5;241m=\u001B[39m \u001B[38;5;28mself\u001B[39m\u001B[38;5;241m.\u001B[39mhost\n",
      "File \u001B[0;32m~/Projects/question-pair/venv/lib/python3.8/site-packages/urllib3/connection.py:186\u001B[0m, in \u001B[0;36mHTTPConnection._new_conn\u001B[0;34m(self)\u001B[0m\n\u001B[1;32m    185\u001B[0m \u001B[38;5;28;01mexcept\u001B[39;00m SocketError \u001B[38;5;28;01mas\u001B[39;00m e:\n\u001B[0;32m--> 186\u001B[0m     \u001B[38;5;28;01mraise\u001B[39;00m NewConnectionError(\n\u001B[1;32m    187\u001B[0m         \u001B[38;5;28mself\u001B[39m, \u001B[38;5;124m\"\u001B[39m\u001B[38;5;124mFailed to establish a new connection: \u001B[39m\u001B[38;5;132;01m%s\u001B[39;00m\u001B[38;5;124m\"\u001B[39m \u001B[38;5;241m%\u001B[39m e\n\u001B[1;32m    188\u001B[0m     )\n\u001B[1;32m    190\u001B[0m \u001B[38;5;28;01mreturn\u001B[39;00m conn\n",
      "\u001B[0;31mNewConnectionError\u001B[0m: <urllib3.connection.HTTPSConnection object at 0x7f17fe568e50>: Failed to establish a new connection: [Errno 111] Connection refused",
      "\nDuring handling of the above exception, another exception occurred:\n",
      "\u001B[0;31mConnectionError\u001B[0m                           Traceback (most recent call last)",
      "Cell \u001B[0;32mIn[14], line 6\u001B[0m\n\u001B[1;32m      4\u001B[0m \u001B[38;5;28;01mfrom\u001B[39;00m \u001B[38;5;21;01melasticsearch\u001B[39;00m \u001B[38;5;28;01mimport\u001B[39;00m RequestsHttpConnection\n\u001B[1;32m      5\u001B[0m client \u001B[38;5;241m=\u001B[39m Elasticsearch( [{ \u001B[38;5;124m'\u001B[39m\u001B[38;5;124mhost\u001B[39m\u001B[38;5;124m'\u001B[39m: \u001B[38;5;124m'\u001B[39m\u001B[38;5;124m192.168.101.250\u001B[39m\u001B[38;5;124m'\u001B[39m, \u001B[38;5;124m'\u001B[39m\u001B[38;5;124mport\u001B[39m\u001B[38;5;124m'\u001B[39m: \u001B[38;5;241m9200\u001B[39m,\u001B[38;5;124m'\u001B[39m\u001B[38;5;124mscheme\u001B[39m\u001B[38;5;124m'\u001B[39m: \u001B[38;5;124m'\u001B[39m\u001B[38;5;124mhttps\u001B[39m\u001B[38;5;124m'\u001B[39m}], ca_certs\u001B[38;5;241m=\u001B[39m\u001B[38;5;124m\"\u001B[39m\u001B[38;5;124m../http_ca.crt\u001B[39m\u001B[38;5;124m\"\u001B[39m, http_auth\u001B[38;5;241m=\u001B[39m(\u001B[38;5;124m'\u001B[39m\u001B[38;5;124mshadman\u001B[39m\u001B[38;5;124m'\u001B[39m, \u001B[38;5;124m'\u001B[39m\u001B[38;5;124masdf@1234\u001B[39m\u001B[38;5;124m'\u001B[39m))\n\u001B[0;32m----> 6\u001B[0m resp \u001B[38;5;241m=\u001B[39m \u001B[43mclient\u001B[49m\u001B[38;5;241;43m.\u001B[39;49m\u001B[43minfo\u001B[49m\u001B[43m(\u001B[49m\u001B[43m)\u001B[49m\n\u001B[1;32m      7\u001B[0m resp  \u001B[38;5;66;03m# this executed correctly\u001B[39;00m\n\u001B[1;32m      9\u001B[0m \u001B[38;5;66;03m# from elasticsearch import Elasticsearch\u001B[39;00m\n\u001B[1;32m     10\u001B[0m \u001B[38;5;66;03m#\u001B[39;00m\n\u001B[1;32m     11\u001B[0m \u001B[38;5;66;03m# ES_HOST = '192.168.101.250' # my host ip\u001B[39;00m\n\u001B[1;32m     12\u001B[0m \u001B[38;5;66;03m# es = Elasticsearch(ES_HOST)\u001B[39;00m\n\u001B[1;32m     13\u001B[0m \u001B[38;5;66;03m# es.info()\u001B[39;00m\n",
      "File \u001B[0;32m~/Projects/question-pair/venv/lib/python3.8/site-packages/elasticsearch/client/utils.py:347\u001B[0m, in \u001B[0;36mquery_params.<locals>._wrapper.<locals>._wrapped\u001B[0;34m(*args, **kwargs)\u001B[0m\n\u001B[1;32m    345\u001B[0m     \u001B[38;5;28;01mif\u001B[39;00m p \u001B[38;5;129;01min\u001B[39;00m kwargs:\n\u001B[1;32m    346\u001B[0m         params[p] \u001B[38;5;241m=\u001B[39m kwargs\u001B[38;5;241m.\u001B[39mpop(p)\n\u001B[0;32m--> 347\u001B[0m \u001B[38;5;28;01mreturn\u001B[39;00m \u001B[43mfunc\u001B[49m\u001B[43m(\u001B[49m\u001B[38;5;241;43m*\u001B[39;49m\u001B[43margs\u001B[49m\u001B[43m,\u001B[49m\u001B[43m \u001B[49m\u001B[43mparams\u001B[49m\u001B[38;5;241;43m=\u001B[39;49m\u001B[43mparams\u001B[49m\u001B[43m,\u001B[49m\u001B[43m \u001B[49m\u001B[43mheaders\u001B[49m\u001B[38;5;241;43m=\u001B[39;49m\u001B[43mheaders\u001B[49m\u001B[43m,\u001B[49m\u001B[43m \u001B[49m\u001B[38;5;241;43m*\u001B[39;49m\u001B[38;5;241;43m*\u001B[39;49m\u001B[43mkwargs\u001B[49m\u001B[43m)\u001B[49m\n",
      "File \u001B[0;32m~/Projects/question-pair/venv/lib/python3.8/site-packages/elasticsearch/client/__init__.py:295\u001B[0m, in \u001B[0;36mElasticsearch.info\u001B[0;34m(self, params, headers)\u001B[0m\n\u001B[1;32m    286\u001B[0m \u001B[38;5;129m@query_params\u001B[39m(\n\u001B[1;32m    287\u001B[0m     response_mimetypes\u001B[38;5;241m=\u001B[39m[\u001B[38;5;124m\"\u001B[39m\u001B[38;5;124mapplication/json\u001B[39m\u001B[38;5;124m\"\u001B[39m],\n\u001B[1;32m    288\u001B[0m )\n\u001B[1;32m    289\u001B[0m \u001B[38;5;28;01mdef\u001B[39;00m \u001B[38;5;21minfo\u001B[39m(\u001B[38;5;28mself\u001B[39m, params\u001B[38;5;241m=\u001B[39m\u001B[38;5;28;01mNone\u001B[39;00m, headers\u001B[38;5;241m=\u001B[39m\u001B[38;5;28;01mNone\u001B[39;00m):\n\u001B[1;32m    290\u001B[0m     \u001B[38;5;124;03m\"\"\"\u001B[39;00m\n\u001B[1;32m    291\u001B[0m \u001B[38;5;124;03m    Returns basic information about the cluster.\u001B[39;00m\n\u001B[1;32m    292\u001B[0m \n\u001B[1;32m    293\u001B[0m \u001B[38;5;124;03m    `<https://www.elastic.co/guide/en/elasticsearch/reference/7.17/index.html>`_\u001B[39;00m\n\u001B[1;32m    294\u001B[0m \u001B[38;5;124;03m    \"\"\"\u001B[39;00m\n\u001B[0;32m--> 295\u001B[0m     \u001B[38;5;28;01mreturn\u001B[39;00m \u001B[38;5;28;43mself\u001B[39;49m\u001B[38;5;241;43m.\u001B[39;49m\u001B[43mtransport\u001B[49m\u001B[38;5;241;43m.\u001B[39;49m\u001B[43mperform_request\u001B[49m\u001B[43m(\u001B[49m\n\u001B[1;32m    296\u001B[0m \u001B[43m        \u001B[49m\u001B[38;5;124;43m\"\u001B[39;49m\u001B[38;5;124;43mGET\u001B[39;49m\u001B[38;5;124;43m\"\u001B[39;49m\u001B[43m,\u001B[49m\u001B[43m \u001B[49m\u001B[38;5;124;43m\"\u001B[39;49m\u001B[38;5;124;43m/\u001B[39;49m\u001B[38;5;124;43m\"\u001B[39;49m\u001B[43m,\u001B[49m\u001B[43m \u001B[49m\u001B[43mparams\u001B[49m\u001B[38;5;241;43m=\u001B[39;49m\u001B[43mparams\u001B[49m\u001B[43m,\u001B[49m\u001B[43m \u001B[49m\u001B[43mheaders\u001B[49m\u001B[38;5;241;43m=\u001B[39;49m\u001B[43mheaders\u001B[49m\n\u001B[1;32m    297\u001B[0m \u001B[43m    \u001B[49m\u001B[43m)\u001B[49m\n",
      "File \u001B[0;32m~/Projects/question-pair/venv/lib/python3.8/site-packages/elasticsearch/transport.py:417\u001B[0m, in \u001B[0;36mTransport.perform_request\u001B[0;34m(self, method, url, headers, params, body)\u001B[0m\n\u001B[1;32m    415\u001B[0m \u001B[38;5;66;03m# Before we make the actual API call we verify the Elasticsearch instance.\u001B[39;00m\n\u001B[1;32m    416\u001B[0m \u001B[38;5;28;01mif\u001B[39;00m \u001B[38;5;28mself\u001B[39m\u001B[38;5;241m.\u001B[39m_verified_elasticsearch \u001B[38;5;129;01mis\u001B[39;00m \u001B[38;5;28;01mNone\u001B[39;00m:\n\u001B[0;32m--> 417\u001B[0m     \u001B[38;5;28;43mself\u001B[39;49m\u001B[38;5;241;43m.\u001B[39;49m\u001B[43m_do_verify_elasticsearch\u001B[49m\u001B[43m(\u001B[49m\u001B[43mheaders\u001B[49m\u001B[38;5;241;43m=\u001B[39;49m\u001B[43mheaders\u001B[49m\u001B[43m,\u001B[49m\u001B[43m \u001B[49m\u001B[43mtimeout\u001B[49m\u001B[38;5;241;43m=\u001B[39;49m\u001B[43mtimeout\u001B[49m\u001B[43m)\u001B[49m\n\u001B[1;32m    419\u001B[0m \u001B[38;5;66;03m# If '_verified_elasticsearch' isn't 'True' then we raise an error.\u001B[39;00m\n\u001B[1;32m    420\u001B[0m \u001B[38;5;28;01mif\u001B[39;00m \u001B[38;5;28mself\u001B[39m\u001B[38;5;241m.\u001B[39m_verified_elasticsearch \u001B[38;5;129;01mis\u001B[39;00m \u001B[38;5;129;01mnot\u001B[39;00m \u001B[38;5;28;01mTrue\u001B[39;00m:\n",
      "File \u001B[0;32m~/Projects/question-pair/venv/lib/python3.8/site-packages/elasticsearch/transport.py:606\u001B[0m, in \u001B[0;36mTransport._do_verify_elasticsearch\u001B[0;34m(self, headers, timeout)\u001B[0m\n\u001B[1;32m    603\u001B[0m \u001B[38;5;66;03m# If we received a connection error and weren't successful\u001B[39;00m\n\u001B[1;32m    604\u001B[0m \u001B[38;5;66;03m# anywhere then we re-raise the more appropriate error.\u001B[39;00m\n\u001B[1;32m    605\u001B[0m \u001B[38;5;28;01mif\u001B[39;00m error \u001B[38;5;129;01mand\u001B[39;00m \u001B[38;5;129;01mnot\u001B[39;00m info_response:\n\u001B[0;32m--> 606\u001B[0m     \u001B[38;5;28;01mraise\u001B[39;00m error\n\u001B[1;32m    608\u001B[0m \u001B[38;5;66;03m# Check the information we got back from the index request.\u001B[39;00m\n\u001B[1;32m    609\u001B[0m \u001B[38;5;28mself\u001B[39m\u001B[38;5;241m.\u001B[39m_verified_elasticsearch \u001B[38;5;241m=\u001B[39m _ProductChecker\u001B[38;5;241m.\u001B[39mcheck_product(\n\u001B[1;32m    610\u001B[0m     info_headers, info_response\n\u001B[1;32m    611\u001B[0m )\n",
      "File \u001B[0;32m~/Projects/question-pair/venv/lib/python3.8/site-packages/elasticsearch/transport.py:569\u001B[0m, in \u001B[0;36mTransport._do_verify_elasticsearch\u001B[0;34m(self, headers, timeout)\u001B[0m\n\u001B[1;32m    566\u001B[0m attempted_conns\u001B[38;5;241m.\u001B[39mappend(conn)\n\u001B[1;32m    568\u001B[0m \u001B[38;5;28;01mtry\u001B[39;00m:\n\u001B[0;32m--> 569\u001B[0m     _, info_headers, info_response \u001B[38;5;241m=\u001B[39m \u001B[43mconn\u001B[49m\u001B[38;5;241;43m.\u001B[39;49m\u001B[43mperform_request\u001B[49m\u001B[43m(\u001B[49m\n\u001B[1;32m    570\u001B[0m \u001B[43m        \u001B[49m\u001B[38;5;124;43m\"\u001B[39;49m\u001B[38;5;124;43mGET\u001B[39;49m\u001B[38;5;124;43m\"\u001B[39;49m\u001B[43m,\u001B[49m\u001B[43m \u001B[49m\u001B[38;5;124;43m\"\u001B[39;49m\u001B[38;5;124;43m/\u001B[39;49m\u001B[38;5;124;43m\"\u001B[39;49m\u001B[43m,\u001B[49m\u001B[43m \u001B[49m\u001B[43mheaders\u001B[49m\u001B[38;5;241;43m=\u001B[39;49m\u001B[43mheaders\u001B[49m\u001B[43m,\u001B[49m\u001B[43m \u001B[49m\u001B[43mtimeout\u001B[49m\u001B[38;5;241;43m=\u001B[39;49m\u001B[43mtimeout\u001B[49m\n\u001B[1;32m    571\u001B[0m \u001B[43m    \u001B[49m\u001B[43m)\u001B[49m\n\u001B[1;32m    573\u001B[0m     \u001B[38;5;66;03m# Lowercase all the header names for consistency in accessing them.\u001B[39;00m\n\u001B[1;32m    574\u001B[0m     info_headers \u001B[38;5;241m=\u001B[39m {\n\u001B[1;32m    575\u001B[0m         header\u001B[38;5;241m.\u001B[39mlower(): value \u001B[38;5;28;01mfor\u001B[39;00m header, value \u001B[38;5;129;01min\u001B[39;00m info_headers\u001B[38;5;241m.\u001B[39mitems()\n\u001B[1;32m    576\u001B[0m     }\n",
      "File \u001B[0;32m~/Projects/question-pair/venv/lib/python3.8/site-packages/elasticsearch/connection/http_urllib3.py:280\u001B[0m, in \u001B[0;36mUrllib3HttpConnection.perform_request\u001B[0;34m(self, method, url, params, body, timeout, ignore, headers)\u001B[0m\n\u001B[1;32m    278\u001B[0m     \u001B[38;5;28;01mif\u001B[39;00m \u001B[38;5;28misinstance\u001B[39m(e, ReadTimeoutError):\n\u001B[1;32m    279\u001B[0m         \u001B[38;5;28;01mraise\u001B[39;00m ConnectionTimeout(\u001B[38;5;124m\"\u001B[39m\u001B[38;5;124mTIMEOUT\u001B[39m\u001B[38;5;124m\"\u001B[39m, \u001B[38;5;28mstr\u001B[39m(e), e)\n\u001B[0;32m--> 280\u001B[0m     \u001B[38;5;28;01mraise\u001B[39;00m \u001B[38;5;167;01mConnectionError\u001B[39;00m(\u001B[38;5;124m\"\u001B[39m\u001B[38;5;124mN/A\u001B[39m\u001B[38;5;124m\"\u001B[39m, \u001B[38;5;28mstr\u001B[39m(e), e)\n\u001B[1;32m    282\u001B[0m \u001B[38;5;66;03m# raise warnings if any from the 'Warnings' header.\u001B[39;00m\n\u001B[1;32m    283\u001B[0m warning_headers \u001B[38;5;241m=\u001B[39m response\u001B[38;5;241m.\u001B[39mheaders\u001B[38;5;241m.\u001B[39mget_all(\u001B[38;5;124m\"\u001B[39m\u001B[38;5;124mwarning\u001B[39m\u001B[38;5;124m\"\u001B[39m, ())\n",
      "\u001B[0;31mConnectionError\u001B[0m: ConnectionError(<urllib3.connection.HTTPSConnection object at 0x7f17fe568e50>: Failed to establish a new connection: [Errno 111] Connection refused) caused by: NewConnectionError(<urllib3.connection.HTTPSConnection object at 0x7f17fe568e50>: Failed to establish a new connection: [Errno 111] Connection refused)"
     ]
    }
   ],
   "source": [
    "import requests\n",
    "from datetime import datetime\n",
    "from elasticsearch import Elasticsearch\n",
    "from elasticsearch import RequestsHttpConnection\n",
    "client = Elasticsearch( [{ 'host': '192.168.101.250', 'port': 9200,'scheme': 'https'}], ca_certs=\"../http_ca.crt\", http_auth=('shadman', 'asdf@1234'))\n",
    "resp = client.info()\n",
    "resp  # this executed correctly\n",
    "\n",
    "# from elasticsearch import Elasticsearch\n",
    "#\n",
    "# ES_HOST = '192.168.101.250' # my host ip\n",
    "# es = Elasticsearch(ES_HOST)\n",
    "# es.info()"
   ],
   "metadata": {
    "collapsed": false
   }
  },
  {
   "cell_type": "code",
   "execution_count": 5,
   "metadata": {
    "id": "Rv6x0_xmzGMf"
   },
   "outputs": [
    {
     "name": "stderr",
     "output_type": "stream",
     "text": [
      "WARNING:elasticsearch:GET http://localhost:9200/ [status:N/A request:0.000s]\n",
      "Traceback (most recent call last):\n",
      "  File \"/home/shadman/Projects/question-pair/venv/lib/python3.8/site-packages/urllib3/connection.py\", line 174, in _new_conn\n",
      "    conn = connection.create_connection(\n",
      "  File \"/home/shadman/Projects/question-pair/venv/lib/python3.8/site-packages/urllib3/util/connection.py\", line 95, in create_connection\n",
      "    raise err\n",
      "  File \"/home/shadman/Projects/question-pair/venv/lib/python3.8/site-packages/urllib3/util/connection.py\", line 85, in create_connection\n",
      "    sock.connect(sa)\n",
      "ConnectionRefusedError: [Errno 111] Connection refused\n",
      "\n",
      "During handling of the above exception, another exception occurred:\n",
      "\n",
      "Traceback (most recent call last):\n",
      "  File \"/home/shadman/Projects/question-pair/venv/lib/python3.8/site-packages/elasticsearch/connection/http_urllib3.py\", line 255, in perform_request\n",
      "    response = self.pool.urlopen(\n",
      "  File \"/home/shadman/Projects/question-pair/venv/lib/python3.8/site-packages/urllib3/connectionpool.py\", line 787, in urlopen\n",
      "    retries = retries.increment(\n",
      "  File \"/home/shadman/Projects/question-pair/venv/lib/python3.8/site-packages/urllib3/util/retry.py\", line 525, in increment\n",
      "    raise six.reraise(type(error), error, _stacktrace)\n",
      "  File \"/home/shadman/Projects/question-pair/venv/lib/python3.8/site-packages/urllib3/packages/six.py\", line 770, in reraise\n",
      "    raise value\n",
      "  File \"/home/shadman/Projects/question-pair/venv/lib/python3.8/site-packages/urllib3/connectionpool.py\", line 703, in urlopen\n",
      "    httplib_response = self._make_request(\n",
      "  File \"/home/shadman/Projects/question-pair/venv/lib/python3.8/site-packages/urllib3/connectionpool.py\", line 398, in _make_request\n",
      "    conn.request(method, url, **httplib_request_kw)\n",
      "  File \"/home/shadman/Projects/question-pair/venv/lib/python3.8/site-packages/urllib3/connection.py\", line 239, in request\n",
      "    super(HTTPConnection, self).request(method, url, body=body, headers=headers)\n",
      "  File \"/usr/lib/python3.8/http/client.py\", line 1256, in request\n",
      "    self._send_request(method, url, body, headers, encode_chunked)\n",
      "  File \"/usr/lib/python3.8/http/client.py\", line 1302, in _send_request\n",
      "    self.endheaders(body, encode_chunked=encode_chunked)\n",
      "  File \"/usr/lib/python3.8/http/client.py\", line 1251, in endheaders\n",
      "    self._send_output(message_body, encode_chunked=encode_chunked)\n",
      "  File \"/usr/lib/python3.8/http/client.py\", line 1011, in _send_output\n",
      "    self.send(msg)\n",
      "  File \"/usr/lib/python3.8/http/client.py\", line 951, in send\n",
      "    self.connect()\n",
      "  File \"/home/shadman/Projects/question-pair/venv/lib/python3.8/site-packages/urllib3/connection.py\", line 205, in connect\n",
      "    conn = self._new_conn()\n",
      "  File \"/home/shadman/Projects/question-pair/venv/lib/python3.8/site-packages/urllib3/connection.py\", line 186, in _new_conn\n",
      "    raise NewConnectionError(\n",
      "urllib3.exceptions.NewConnectionError: <urllib3.connection.HTTPConnection object at 0x7f17ff70f130>: Failed to establish a new connection: [Errno 111] Connection refused\n"
     ]
    },
    {
     "ename": "ConnectionError",
     "evalue": "ConnectionError(<urllib3.connection.HTTPConnection object at 0x7f17ff70f130>: Failed to establish a new connection: [Errno 111] Connection refused) caused by: NewConnectionError(<urllib3.connection.HTTPConnection object at 0x7f17ff70f130>: Failed to establish a new connection: [Errno 111] Connection refused)",
     "output_type": "error",
     "traceback": [
      "\u001B[0;31m---------------------------------------------------------------------------\u001B[0m",
      "\u001B[0;31mConnectionRefusedError\u001B[0m                    Traceback (most recent call last)",
      "File \u001B[0;32m~/Projects/question-pair/venv/lib/python3.8/site-packages/urllib3/connection.py:174\u001B[0m, in \u001B[0;36mHTTPConnection._new_conn\u001B[0;34m(self)\u001B[0m\n\u001B[1;32m    173\u001B[0m \u001B[38;5;28;01mtry\u001B[39;00m:\n\u001B[0;32m--> 174\u001B[0m     conn \u001B[38;5;241m=\u001B[39m \u001B[43mconnection\u001B[49m\u001B[38;5;241;43m.\u001B[39;49m\u001B[43mcreate_connection\u001B[49m\u001B[43m(\u001B[49m\n\u001B[1;32m    175\u001B[0m \u001B[43m        \u001B[49m\u001B[43m(\u001B[49m\u001B[38;5;28;43mself\u001B[39;49m\u001B[38;5;241;43m.\u001B[39;49m\u001B[43m_dns_host\u001B[49m\u001B[43m,\u001B[49m\u001B[43m \u001B[49m\u001B[38;5;28;43mself\u001B[39;49m\u001B[38;5;241;43m.\u001B[39;49m\u001B[43mport\u001B[49m\u001B[43m)\u001B[49m\u001B[43m,\u001B[49m\u001B[43m \u001B[49m\u001B[38;5;28;43mself\u001B[39;49m\u001B[38;5;241;43m.\u001B[39;49m\u001B[43mtimeout\u001B[49m\u001B[43m,\u001B[49m\u001B[43m \u001B[49m\u001B[38;5;241;43m*\u001B[39;49m\u001B[38;5;241;43m*\u001B[39;49m\u001B[43mextra_kw\u001B[49m\n\u001B[1;32m    176\u001B[0m \u001B[43m    \u001B[49m\u001B[43m)\u001B[49m\n\u001B[1;32m    178\u001B[0m \u001B[38;5;28;01mexcept\u001B[39;00m SocketTimeout:\n",
      "File \u001B[0;32m~/Projects/question-pair/venv/lib/python3.8/site-packages/urllib3/util/connection.py:95\u001B[0m, in \u001B[0;36mcreate_connection\u001B[0;34m(address, timeout, source_address, socket_options)\u001B[0m\n\u001B[1;32m     94\u001B[0m \u001B[38;5;28;01mif\u001B[39;00m err \u001B[38;5;129;01mis\u001B[39;00m \u001B[38;5;129;01mnot\u001B[39;00m \u001B[38;5;28;01mNone\u001B[39;00m:\n\u001B[0;32m---> 95\u001B[0m     \u001B[38;5;28;01mraise\u001B[39;00m err\n\u001B[1;32m     97\u001B[0m \u001B[38;5;28;01mraise\u001B[39;00m socket\u001B[38;5;241m.\u001B[39merror(\u001B[38;5;124m\"\u001B[39m\u001B[38;5;124mgetaddrinfo returns an empty list\u001B[39m\u001B[38;5;124m\"\u001B[39m)\n",
      "File \u001B[0;32m~/Projects/question-pair/venv/lib/python3.8/site-packages/urllib3/util/connection.py:85\u001B[0m, in \u001B[0;36mcreate_connection\u001B[0;34m(address, timeout, source_address, socket_options)\u001B[0m\n\u001B[1;32m     84\u001B[0m     sock\u001B[38;5;241m.\u001B[39mbind(source_address)\n\u001B[0;32m---> 85\u001B[0m \u001B[43msock\u001B[49m\u001B[38;5;241;43m.\u001B[39;49m\u001B[43mconnect\u001B[49m\u001B[43m(\u001B[49m\u001B[43msa\u001B[49m\u001B[43m)\u001B[49m\n\u001B[1;32m     86\u001B[0m \u001B[38;5;28;01mreturn\u001B[39;00m sock\n",
      "\u001B[0;31mConnectionRefusedError\u001B[0m: [Errno 111] Connection refused",
      "\nDuring handling of the above exception, another exception occurred:\n",
      "\u001B[0;31mNewConnectionError\u001B[0m                        Traceback (most recent call last)",
      "File \u001B[0;32m~/Projects/question-pair/venv/lib/python3.8/site-packages/elasticsearch/connection/http_urllib3.py:255\u001B[0m, in \u001B[0;36mUrllib3HttpConnection.perform_request\u001B[0;34m(self, method, url, params, body, timeout, ignore, headers)\u001B[0m\n\u001B[1;32m    253\u001B[0m     request_headers[\u001B[38;5;124m\"\u001B[39m\u001B[38;5;124mcontent-encoding\u001B[39m\u001B[38;5;124m\"\u001B[39m] \u001B[38;5;241m=\u001B[39m \u001B[38;5;124m\"\u001B[39m\u001B[38;5;124mgzip\u001B[39m\u001B[38;5;124m\"\u001B[39m\n\u001B[0;32m--> 255\u001B[0m response \u001B[38;5;241m=\u001B[39m \u001B[38;5;28;43mself\u001B[39;49m\u001B[38;5;241;43m.\u001B[39;49m\u001B[43mpool\u001B[49m\u001B[38;5;241;43m.\u001B[39;49m\u001B[43murlopen\u001B[49m\u001B[43m(\u001B[49m\n\u001B[1;32m    256\u001B[0m \u001B[43m    \u001B[49m\u001B[43mmethod\u001B[49m\u001B[43m,\u001B[49m\u001B[43m \u001B[49m\u001B[43murl\u001B[49m\u001B[43m,\u001B[49m\u001B[43m \u001B[49m\u001B[43mbody\u001B[49m\u001B[43m,\u001B[49m\u001B[43m \u001B[49m\u001B[43mretries\u001B[49m\u001B[38;5;241;43m=\u001B[39;49m\u001B[43mRetry\u001B[49m\u001B[43m(\u001B[49m\u001B[38;5;28;43;01mFalse\u001B[39;49;00m\u001B[43m)\u001B[49m\u001B[43m,\u001B[49m\u001B[43m \u001B[49m\u001B[43mheaders\u001B[49m\u001B[38;5;241;43m=\u001B[39;49m\u001B[43mrequest_headers\u001B[49m\u001B[43m,\u001B[49m\u001B[43m \u001B[49m\u001B[38;5;241;43m*\u001B[39;49m\u001B[38;5;241;43m*\u001B[39;49m\u001B[43mkw\u001B[49m\n\u001B[1;32m    257\u001B[0m \u001B[43m\u001B[49m\u001B[43m)\u001B[49m\n\u001B[1;32m    258\u001B[0m response_headers \u001B[38;5;241m=\u001B[39m {\n\u001B[1;32m    259\u001B[0m     header\u001B[38;5;241m.\u001B[39mlower(): value \u001B[38;5;28;01mfor\u001B[39;00m header, value \u001B[38;5;129;01min\u001B[39;00m response\u001B[38;5;241m.\u001B[39mheaders\u001B[38;5;241m.\u001B[39mitems()\n\u001B[1;32m    260\u001B[0m }\n",
      "File \u001B[0;32m~/Projects/question-pair/venv/lib/python3.8/site-packages/urllib3/connectionpool.py:787\u001B[0m, in \u001B[0;36mHTTPConnectionPool.urlopen\u001B[0;34m(self, method, url, body, headers, retries, redirect, assert_same_host, timeout, pool_timeout, release_conn, chunked, body_pos, **response_kw)\u001B[0m\n\u001B[1;32m    785\u001B[0m     e \u001B[38;5;241m=\u001B[39m ProtocolError(\u001B[38;5;124m\"\u001B[39m\u001B[38;5;124mConnection aborted.\u001B[39m\u001B[38;5;124m\"\u001B[39m, e)\n\u001B[0;32m--> 787\u001B[0m retries \u001B[38;5;241m=\u001B[39m \u001B[43mretries\u001B[49m\u001B[38;5;241;43m.\u001B[39;49m\u001B[43mincrement\u001B[49m\u001B[43m(\u001B[49m\n\u001B[1;32m    788\u001B[0m \u001B[43m    \u001B[49m\u001B[43mmethod\u001B[49m\u001B[43m,\u001B[49m\u001B[43m \u001B[49m\u001B[43murl\u001B[49m\u001B[43m,\u001B[49m\u001B[43m \u001B[49m\u001B[43merror\u001B[49m\u001B[38;5;241;43m=\u001B[39;49m\u001B[43me\u001B[49m\u001B[43m,\u001B[49m\u001B[43m \u001B[49m\u001B[43m_pool\u001B[49m\u001B[38;5;241;43m=\u001B[39;49m\u001B[38;5;28;43mself\u001B[39;49m\u001B[43m,\u001B[49m\u001B[43m \u001B[49m\u001B[43m_stacktrace\u001B[49m\u001B[38;5;241;43m=\u001B[39;49m\u001B[43msys\u001B[49m\u001B[38;5;241;43m.\u001B[39;49m\u001B[43mexc_info\u001B[49m\u001B[43m(\u001B[49m\u001B[43m)\u001B[49m\u001B[43m[\u001B[49m\u001B[38;5;241;43m2\u001B[39;49m\u001B[43m]\u001B[49m\n\u001B[1;32m    789\u001B[0m \u001B[43m\u001B[49m\u001B[43m)\u001B[49m\n\u001B[1;32m    790\u001B[0m retries\u001B[38;5;241m.\u001B[39msleep()\n",
      "File \u001B[0;32m~/Projects/question-pair/venv/lib/python3.8/site-packages/urllib3/util/retry.py:525\u001B[0m, in \u001B[0;36mRetry.increment\u001B[0;34m(self, method, url, response, error, _pool, _stacktrace)\u001B[0m\n\u001B[1;32m    523\u001B[0m \u001B[38;5;28;01mif\u001B[39;00m \u001B[38;5;28mself\u001B[39m\u001B[38;5;241m.\u001B[39mtotal \u001B[38;5;129;01mis\u001B[39;00m \u001B[38;5;28;01mFalse\u001B[39;00m \u001B[38;5;129;01mand\u001B[39;00m error:\n\u001B[1;32m    524\u001B[0m     \u001B[38;5;66;03m# Disabled, indicate to re-raise the error.\u001B[39;00m\n\u001B[0;32m--> 525\u001B[0m     \u001B[38;5;28;01mraise\u001B[39;00m \u001B[43msix\u001B[49m\u001B[38;5;241;43m.\u001B[39;49m\u001B[43mreraise\u001B[49m\u001B[43m(\u001B[49m\u001B[38;5;28;43mtype\u001B[39;49m\u001B[43m(\u001B[49m\u001B[43merror\u001B[49m\u001B[43m)\u001B[49m\u001B[43m,\u001B[49m\u001B[43m \u001B[49m\u001B[43merror\u001B[49m\u001B[43m,\u001B[49m\u001B[43m \u001B[49m\u001B[43m_stacktrace\u001B[49m\u001B[43m)\u001B[49m\n\u001B[1;32m    527\u001B[0m total \u001B[38;5;241m=\u001B[39m \u001B[38;5;28mself\u001B[39m\u001B[38;5;241m.\u001B[39mtotal\n",
      "File \u001B[0;32m~/Projects/question-pair/venv/lib/python3.8/site-packages/urllib3/packages/six.py:770\u001B[0m, in \u001B[0;36mreraise\u001B[0;34m(tp, value, tb)\u001B[0m\n\u001B[1;32m    769\u001B[0m         \u001B[38;5;28;01mraise\u001B[39;00m value\u001B[38;5;241m.\u001B[39mwith_traceback(tb)\n\u001B[0;32m--> 770\u001B[0m     \u001B[38;5;28;01mraise\u001B[39;00m value\n\u001B[1;32m    771\u001B[0m \u001B[38;5;28;01mfinally\u001B[39;00m:\n",
      "File \u001B[0;32m~/Projects/question-pair/venv/lib/python3.8/site-packages/urllib3/connectionpool.py:703\u001B[0m, in \u001B[0;36mHTTPConnectionPool.urlopen\u001B[0;34m(self, method, url, body, headers, retries, redirect, assert_same_host, timeout, pool_timeout, release_conn, chunked, body_pos, **response_kw)\u001B[0m\n\u001B[1;32m    702\u001B[0m \u001B[38;5;66;03m# Make the request on the httplib connection object.\u001B[39;00m\n\u001B[0;32m--> 703\u001B[0m httplib_response \u001B[38;5;241m=\u001B[39m \u001B[38;5;28;43mself\u001B[39;49m\u001B[38;5;241;43m.\u001B[39;49m\u001B[43m_make_request\u001B[49m\u001B[43m(\u001B[49m\n\u001B[1;32m    704\u001B[0m \u001B[43m    \u001B[49m\u001B[43mconn\u001B[49m\u001B[43m,\u001B[49m\n\u001B[1;32m    705\u001B[0m \u001B[43m    \u001B[49m\u001B[43mmethod\u001B[49m\u001B[43m,\u001B[49m\n\u001B[1;32m    706\u001B[0m \u001B[43m    \u001B[49m\u001B[43murl\u001B[49m\u001B[43m,\u001B[49m\n\u001B[1;32m    707\u001B[0m \u001B[43m    \u001B[49m\u001B[43mtimeout\u001B[49m\u001B[38;5;241;43m=\u001B[39;49m\u001B[43mtimeout_obj\u001B[49m\u001B[43m,\u001B[49m\n\u001B[1;32m    708\u001B[0m \u001B[43m    \u001B[49m\u001B[43mbody\u001B[49m\u001B[38;5;241;43m=\u001B[39;49m\u001B[43mbody\u001B[49m\u001B[43m,\u001B[49m\n\u001B[1;32m    709\u001B[0m \u001B[43m    \u001B[49m\u001B[43mheaders\u001B[49m\u001B[38;5;241;43m=\u001B[39;49m\u001B[43mheaders\u001B[49m\u001B[43m,\u001B[49m\n\u001B[1;32m    710\u001B[0m \u001B[43m    \u001B[49m\u001B[43mchunked\u001B[49m\u001B[38;5;241;43m=\u001B[39;49m\u001B[43mchunked\u001B[49m\u001B[43m,\u001B[49m\n\u001B[1;32m    711\u001B[0m \u001B[43m\u001B[49m\u001B[43m)\u001B[49m\n\u001B[1;32m    713\u001B[0m \u001B[38;5;66;03m# If we're going to release the connection in ``finally:``, then\u001B[39;00m\n\u001B[1;32m    714\u001B[0m \u001B[38;5;66;03m# the response doesn't need to know about the connection. Otherwise\u001B[39;00m\n\u001B[1;32m    715\u001B[0m \u001B[38;5;66;03m# it will also try to release it and we'll have a double-release\u001B[39;00m\n\u001B[1;32m    716\u001B[0m \u001B[38;5;66;03m# mess.\u001B[39;00m\n",
      "File \u001B[0;32m~/Projects/question-pair/venv/lib/python3.8/site-packages/urllib3/connectionpool.py:398\u001B[0m, in \u001B[0;36mHTTPConnectionPool._make_request\u001B[0;34m(self, conn, method, url, timeout, chunked, **httplib_request_kw)\u001B[0m\n\u001B[1;32m    397\u001B[0m     \u001B[38;5;28;01melse\u001B[39;00m:\n\u001B[0;32m--> 398\u001B[0m         \u001B[43mconn\u001B[49m\u001B[38;5;241;43m.\u001B[39;49m\u001B[43mrequest\u001B[49m\u001B[43m(\u001B[49m\u001B[43mmethod\u001B[49m\u001B[43m,\u001B[49m\u001B[43m \u001B[49m\u001B[43murl\u001B[49m\u001B[43m,\u001B[49m\u001B[43m \u001B[49m\u001B[38;5;241;43m*\u001B[39;49m\u001B[38;5;241;43m*\u001B[39;49m\u001B[43mhttplib_request_kw\u001B[49m\u001B[43m)\u001B[49m\n\u001B[1;32m    400\u001B[0m \u001B[38;5;66;03m# We are swallowing BrokenPipeError (errno.EPIPE) since the server is\u001B[39;00m\n\u001B[1;32m    401\u001B[0m \u001B[38;5;66;03m# legitimately able to close the connection after sending a valid response.\u001B[39;00m\n\u001B[1;32m    402\u001B[0m \u001B[38;5;66;03m# With this behaviour, the received response is still readable.\u001B[39;00m\n",
      "File \u001B[0;32m~/Projects/question-pair/venv/lib/python3.8/site-packages/urllib3/connection.py:239\u001B[0m, in \u001B[0;36mHTTPConnection.request\u001B[0;34m(self, method, url, body, headers)\u001B[0m\n\u001B[1;32m    238\u001B[0m     headers[\u001B[38;5;124m\"\u001B[39m\u001B[38;5;124mUser-Agent\u001B[39m\u001B[38;5;124m\"\u001B[39m] \u001B[38;5;241m=\u001B[39m _get_default_user_agent()\n\u001B[0;32m--> 239\u001B[0m \u001B[38;5;28;43msuper\u001B[39;49m\u001B[43m(\u001B[49m\u001B[43mHTTPConnection\u001B[49m\u001B[43m,\u001B[49m\u001B[43m \u001B[49m\u001B[38;5;28;43mself\u001B[39;49m\u001B[43m)\u001B[49m\u001B[38;5;241;43m.\u001B[39;49m\u001B[43mrequest\u001B[49m\u001B[43m(\u001B[49m\u001B[43mmethod\u001B[49m\u001B[43m,\u001B[49m\u001B[43m \u001B[49m\u001B[43murl\u001B[49m\u001B[43m,\u001B[49m\u001B[43m \u001B[49m\u001B[43mbody\u001B[49m\u001B[38;5;241;43m=\u001B[39;49m\u001B[43mbody\u001B[49m\u001B[43m,\u001B[49m\u001B[43m \u001B[49m\u001B[43mheaders\u001B[49m\u001B[38;5;241;43m=\u001B[39;49m\u001B[43mheaders\u001B[49m\u001B[43m)\u001B[49m\n",
      "File \u001B[0;32m/usr/lib/python3.8/http/client.py:1256\u001B[0m, in \u001B[0;36mHTTPConnection.request\u001B[0;34m(self, method, url, body, headers, encode_chunked)\u001B[0m\n\u001B[1;32m   1255\u001B[0m \u001B[38;5;124;03m\"\"\"Send a complete request to the server.\"\"\"\u001B[39;00m\n\u001B[0;32m-> 1256\u001B[0m \u001B[38;5;28;43mself\u001B[39;49m\u001B[38;5;241;43m.\u001B[39;49m\u001B[43m_send_request\u001B[49m\u001B[43m(\u001B[49m\u001B[43mmethod\u001B[49m\u001B[43m,\u001B[49m\u001B[43m \u001B[49m\u001B[43murl\u001B[49m\u001B[43m,\u001B[49m\u001B[43m \u001B[49m\u001B[43mbody\u001B[49m\u001B[43m,\u001B[49m\u001B[43m \u001B[49m\u001B[43mheaders\u001B[49m\u001B[43m,\u001B[49m\u001B[43m \u001B[49m\u001B[43mencode_chunked\u001B[49m\u001B[43m)\u001B[49m\n",
      "File \u001B[0;32m/usr/lib/python3.8/http/client.py:1302\u001B[0m, in \u001B[0;36mHTTPConnection._send_request\u001B[0;34m(self, method, url, body, headers, encode_chunked)\u001B[0m\n\u001B[1;32m   1301\u001B[0m     body \u001B[38;5;241m=\u001B[39m _encode(body, \u001B[38;5;124m'\u001B[39m\u001B[38;5;124mbody\u001B[39m\u001B[38;5;124m'\u001B[39m)\n\u001B[0;32m-> 1302\u001B[0m \u001B[38;5;28;43mself\u001B[39;49m\u001B[38;5;241;43m.\u001B[39;49m\u001B[43mendheaders\u001B[49m\u001B[43m(\u001B[49m\u001B[43mbody\u001B[49m\u001B[43m,\u001B[49m\u001B[43m \u001B[49m\u001B[43mencode_chunked\u001B[49m\u001B[38;5;241;43m=\u001B[39;49m\u001B[43mencode_chunked\u001B[49m\u001B[43m)\u001B[49m\n",
      "File \u001B[0;32m/usr/lib/python3.8/http/client.py:1251\u001B[0m, in \u001B[0;36mHTTPConnection.endheaders\u001B[0;34m(self, message_body, encode_chunked)\u001B[0m\n\u001B[1;32m   1250\u001B[0m     \u001B[38;5;28;01mraise\u001B[39;00m CannotSendHeader()\n\u001B[0;32m-> 1251\u001B[0m \u001B[38;5;28;43mself\u001B[39;49m\u001B[38;5;241;43m.\u001B[39;49m\u001B[43m_send_output\u001B[49m\u001B[43m(\u001B[49m\u001B[43mmessage_body\u001B[49m\u001B[43m,\u001B[49m\u001B[43m \u001B[49m\u001B[43mencode_chunked\u001B[49m\u001B[38;5;241;43m=\u001B[39;49m\u001B[43mencode_chunked\u001B[49m\u001B[43m)\u001B[49m\n",
      "File \u001B[0;32m/usr/lib/python3.8/http/client.py:1011\u001B[0m, in \u001B[0;36mHTTPConnection._send_output\u001B[0;34m(self, message_body, encode_chunked)\u001B[0m\n\u001B[1;32m   1010\u001B[0m \u001B[38;5;28;01mdel\u001B[39;00m \u001B[38;5;28mself\u001B[39m\u001B[38;5;241m.\u001B[39m_buffer[:]\n\u001B[0;32m-> 1011\u001B[0m \u001B[38;5;28;43mself\u001B[39;49m\u001B[38;5;241;43m.\u001B[39;49m\u001B[43msend\u001B[49m\u001B[43m(\u001B[49m\u001B[43mmsg\u001B[49m\u001B[43m)\u001B[49m\n\u001B[1;32m   1013\u001B[0m \u001B[38;5;28;01mif\u001B[39;00m message_body \u001B[38;5;129;01mis\u001B[39;00m \u001B[38;5;129;01mnot\u001B[39;00m \u001B[38;5;28;01mNone\u001B[39;00m:\n\u001B[1;32m   1014\u001B[0m \n\u001B[1;32m   1015\u001B[0m     \u001B[38;5;66;03m# create a consistent interface to message_body\u001B[39;00m\n",
      "File \u001B[0;32m/usr/lib/python3.8/http/client.py:951\u001B[0m, in \u001B[0;36mHTTPConnection.send\u001B[0;34m(self, data)\u001B[0m\n\u001B[1;32m    950\u001B[0m \u001B[38;5;28;01mif\u001B[39;00m \u001B[38;5;28mself\u001B[39m\u001B[38;5;241m.\u001B[39mauto_open:\n\u001B[0;32m--> 951\u001B[0m     \u001B[38;5;28;43mself\u001B[39;49m\u001B[38;5;241;43m.\u001B[39;49m\u001B[43mconnect\u001B[49m\u001B[43m(\u001B[49m\u001B[43m)\u001B[49m\n\u001B[1;32m    952\u001B[0m \u001B[38;5;28;01melse\u001B[39;00m:\n",
      "File \u001B[0;32m~/Projects/question-pair/venv/lib/python3.8/site-packages/urllib3/connection.py:205\u001B[0m, in \u001B[0;36mHTTPConnection.connect\u001B[0;34m(self)\u001B[0m\n\u001B[1;32m    204\u001B[0m \u001B[38;5;28;01mdef\u001B[39;00m \u001B[38;5;21mconnect\u001B[39m(\u001B[38;5;28mself\u001B[39m):\n\u001B[0;32m--> 205\u001B[0m     conn \u001B[38;5;241m=\u001B[39m \u001B[38;5;28;43mself\u001B[39;49m\u001B[38;5;241;43m.\u001B[39;49m\u001B[43m_new_conn\u001B[49m\u001B[43m(\u001B[49m\u001B[43m)\u001B[49m\n\u001B[1;32m    206\u001B[0m     \u001B[38;5;28mself\u001B[39m\u001B[38;5;241m.\u001B[39m_prepare_conn(conn)\n",
      "File \u001B[0;32m~/Projects/question-pair/venv/lib/python3.8/site-packages/urllib3/connection.py:186\u001B[0m, in \u001B[0;36mHTTPConnection._new_conn\u001B[0;34m(self)\u001B[0m\n\u001B[1;32m    185\u001B[0m \u001B[38;5;28;01mexcept\u001B[39;00m SocketError \u001B[38;5;28;01mas\u001B[39;00m e:\n\u001B[0;32m--> 186\u001B[0m     \u001B[38;5;28;01mraise\u001B[39;00m NewConnectionError(\n\u001B[1;32m    187\u001B[0m         \u001B[38;5;28mself\u001B[39m, \u001B[38;5;124m\"\u001B[39m\u001B[38;5;124mFailed to establish a new connection: \u001B[39m\u001B[38;5;132;01m%s\u001B[39;00m\u001B[38;5;124m\"\u001B[39m \u001B[38;5;241m%\u001B[39m e\n\u001B[1;32m    188\u001B[0m     )\n\u001B[1;32m    190\u001B[0m \u001B[38;5;28;01mreturn\u001B[39;00m conn\n",
      "\u001B[0;31mNewConnectionError\u001B[0m: <urllib3.connection.HTTPConnection object at 0x7f17ff70f130>: Failed to establish a new connection: [Errno 111] Connection refused",
      "\nDuring handling of the above exception, another exception occurred:\n",
      "\u001B[0;31mConnectionError\u001B[0m                           Traceback (most recent call last)",
      "Cell \u001B[0;32mIn[5], line 3\u001B[0m\n\u001B[1;32m      1\u001B[0m \u001B[38;5;28;01mfrom\u001B[39;00m \u001B[38;5;21;01mhaystack\u001B[39;00m\u001B[38;5;21;01m.\u001B[39;00m\u001B[38;5;21;01mdocument_stores\u001B[39;00m \u001B[38;5;28;01mimport\u001B[39;00m ElasticsearchDocumentStore\n\u001B[1;32m      2\u001B[0m \u001B[38;5;66;03m# host = os.environ.get(\"ELASTICSEARCH_HOST\", \"localhost\")\u001B[39;00m\n\u001B[0;32m----> 3\u001B[0m document_store \u001B[38;5;241m=\u001B[39m \u001B[43mElasticsearchDocumentStore\u001B[49m\u001B[43m(\u001B[49m\n\u001B[1;32m      4\u001B[0m \u001B[43m    \u001B[49m\u001B[43mhost\u001B[49m\u001B[38;5;241;43m=\u001B[39;49m\u001B[43mhost\u001B[49m\u001B[43m,\u001B[49m\n\u001B[1;32m      5\u001B[0m \u001B[43m    \u001B[49m\u001B[43musername\u001B[49m\u001B[38;5;241;43m=\u001B[39;49m\u001B[38;5;124;43m\"\u001B[39;49m\u001B[38;5;124;43mShadman Shahid\u001B[39;49m\u001B[38;5;124;43m\"\u001B[39;49m\u001B[43m,\u001B[49m\n\u001B[1;32m      6\u001B[0m \u001B[43m    \u001B[49m\u001B[43mpassword\u001B[49m\u001B[38;5;241;43m=\u001B[39;49m\u001B[38;5;124;43m\"\u001B[39;49m\u001B[38;5;124;43masdf@1234\u001B[39;49m\u001B[38;5;124;43m\"\u001B[39;49m\u001B[43m,\u001B[49m\n\u001B[1;32m      7\u001B[0m \u001B[43m    \u001B[49m\u001B[43mindex\u001B[49m\u001B[38;5;241;43m=\u001B[39;49m\u001B[38;5;124;43m'\u001B[39;49m\u001B[38;5;124;43mhaystack-lfqa\u001B[39;49m\u001B[38;5;124;43m'\u001B[39;49m\u001B[43m,\u001B[49m\n\u001B[1;32m      8\u001B[0m \u001B[43m    \u001B[49m\u001B[43msimilarity\u001B[49m\u001B[38;5;241;43m=\u001B[39;49m\u001B[38;5;124;43m\"\u001B[39;49m\u001B[38;5;124;43mcosine\u001B[39;49m\u001B[38;5;124;43m\"\u001B[39;49m\u001B[43m,\u001B[49m\n\u001B[1;32m      9\u001B[0m \u001B[43m    \u001B[49m\u001B[43membedding_dim\u001B[49m\u001B[38;5;241;43m=\u001B[39;49m\u001B[38;5;241;43m768\u001B[39;49m\n\u001B[1;32m     10\u001B[0m \u001B[43m)\u001B[49m\n",
      "File \u001B[0;32m~/Projects/question-pair/venv/lib/python3.8/site-packages/haystack/nodes/base.py:48\u001B[0m, in \u001B[0;36mexportable_to_yaml.<locals>.wrapper_exportable_to_yaml\u001B[0;34m(self, *args, **kwargs)\u001B[0m\n\u001B[1;32m     45\u001B[0m         \u001B[38;5;28mself\u001B[39m\u001B[38;5;241m.\u001B[39m_component_config[\u001B[38;5;124m\"\u001B[39m\u001B[38;5;124mparams\u001B[39m\u001B[38;5;124m\"\u001B[39m][k] \u001B[38;5;241m=\u001B[39m v\n\u001B[1;32m     47\u001B[0m \u001B[38;5;66;03m# Call the actuall __init__ function with all the arguments\u001B[39;00m\n\u001B[0;32m---> 48\u001B[0m \u001B[43minit_func\u001B[49m\u001B[43m(\u001B[49m\u001B[38;5;28;43mself\u001B[39;49m\u001B[43m,\u001B[49m\u001B[43m \u001B[49m\u001B[38;5;241;43m*\u001B[39;49m\u001B[43margs\u001B[49m\u001B[43m,\u001B[49m\u001B[43m \u001B[49m\u001B[38;5;241;43m*\u001B[39;49m\u001B[38;5;241;43m*\u001B[39;49m\u001B[43mkwargs\u001B[49m\u001B[43m)\u001B[49m\n",
      "File \u001B[0;32m~/Projects/question-pair/venv/lib/python3.8/site-packages/haystack/document_stores/elasticsearch.py:158\u001B[0m, in \u001B[0;36mElasticsearchDocumentStore.__init__\u001B[0;34m(self, host, port, username, password, api_key_id, api_key, aws4auth, index, label_index, search_fields, content_field, name_field, embedding_field, embedding_dim, custom_mapping, excluded_meta_data, analyzer, scheme, ca_certs, verify_certs, recreate_index, create_index, refresh_type, similarity, timeout, return_embedding, duplicate_documents, index_type, scroll, skip_missing_embeddings, synonyms, synonym_type, use_system_proxy)\u001B[0m\n\u001B[1;32m    142\u001B[0m \u001B[38;5;66;03m# Base constructor might need the client to be ready, create it first\u001B[39;00m\n\u001B[1;32m    143\u001B[0m client \u001B[38;5;241m=\u001B[39m \u001B[38;5;28mself\u001B[39m\u001B[38;5;241m.\u001B[39m_init_elastic_client(\n\u001B[1;32m    144\u001B[0m     host\u001B[38;5;241m=\u001B[39mhost,\n\u001B[1;32m    145\u001B[0m     port\u001B[38;5;241m=\u001B[39mport,\n\u001B[0;32m   (...)\u001B[0m\n\u001B[1;32m    155\u001B[0m     use_system_proxy\u001B[38;5;241m=\u001B[39muse_system_proxy,\n\u001B[1;32m    156\u001B[0m )\n\u001B[0;32m--> 158\u001B[0m \u001B[38;5;28;43msuper\u001B[39;49m\u001B[43m(\u001B[49m\u001B[43m)\u001B[49m\u001B[38;5;241;43m.\u001B[39;49m\u001B[38;5;21;43m__init__\u001B[39;49m\u001B[43m(\u001B[49m\n\u001B[1;32m    159\u001B[0m \u001B[43m    \u001B[49m\u001B[43mclient\u001B[49m\u001B[38;5;241;43m=\u001B[39;49m\u001B[43mclient\u001B[49m\u001B[43m,\u001B[49m\n\u001B[1;32m    160\u001B[0m \u001B[43m    \u001B[49m\u001B[43mindex\u001B[49m\u001B[38;5;241;43m=\u001B[39;49m\u001B[43mindex\u001B[49m\u001B[43m,\u001B[49m\n\u001B[1;32m    161\u001B[0m \u001B[43m    \u001B[49m\u001B[43mlabel_index\u001B[49m\u001B[38;5;241;43m=\u001B[39;49m\u001B[43mlabel_index\u001B[49m\u001B[43m,\u001B[49m\n\u001B[1;32m    162\u001B[0m \u001B[43m    \u001B[49m\u001B[43msearch_fields\u001B[49m\u001B[38;5;241;43m=\u001B[39;49m\u001B[43msearch_fields\u001B[49m\u001B[43m,\u001B[49m\n\u001B[1;32m    163\u001B[0m \u001B[43m    \u001B[49m\u001B[43mcontent_field\u001B[49m\u001B[38;5;241;43m=\u001B[39;49m\u001B[43mcontent_field\u001B[49m\u001B[43m,\u001B[49m\n\u001B[1;32m    164\u001B[0m \u001B[43m    \u001B[49m\u001B[43mname_field\u001B[49m\u001B[38;5;241;43m=\u001B[39;49m\u001B[43mname_field\u001B[49m\u001B[43m,\u001B[49m\n\u001B[1;32m    165\u001B[0m \u001B[43m    \u001B[49m\u001B[43membedding_field\u001B[49m\u001B[38;5;241;43m=\u001B[39;49m\u001B[43membedding_field\u001B[49m\u001B[43m,\u001B[49m\n\u001B[1;32m    166\u001B[0m \u001B[43m    \u001B[49m\u001B[43membedding_dim\u001B[49m\u001B[38;5;241;43m=\u001B[39;49m\u001B[43membedding_dim\u001B[49m\u001B[43m,\u001B[49m\n\u001B[1;32m    167\u001B[0m \u001B[43m    \u001B[49m\u001B[43mcustom_mapping\u001B[49m\u001B[38;5;241;43m=\u001B[39;49m\u001B[43mcustom_mapping\u001B[49m\u001B[43m,\u001B[49m\n\u001B[1;32m    168\u001B[0m \u001B[43m    \u001B[49m\u001B[43mexcluded_meta_data\u001B[49m\u001B[38;5;241;43m=\u001B[39;49m\u001B[43mexcluded_meta_data\u001B[49m\u001B[43m,\u001B[49m\n\u001B[1;32m    169\u001B[0m \u001B[43m    \u001B[49m\u001B[43manalyzer\u001B[49m\u001B[38;5;241;43m=\u001B[39;49m\u001B[43manalyzer\u001B[49m\u001B[43m,\u001B[49m\n\u001B[1;32m    170\u001B[0m \u001B[43m    \u001B[49m\u001B[43mrecreate_index\u001B[49m\u001B[38;5;241;43m=\u001B[39;49m\u001B[43mrecreate_index\u001B[49m\u001B[43m,\u001B[49m\n\u001B[1;32m    171\u001B[0m \u001B[43m    \u001B[49m\u001B[43mcreate_index\u001B[49m\u001B[38;5;241;43m=\u001B[39;49m\u001B[43mcreate_index\u001B[49m\u001B[43m,\u001B[49m\n\u001B[1;32m    172\u001B[0m \u001B[43m    \u001B[49m\u001B[43mrefresh_type\u001B[49m\u001B[38;5;241;43m=\u001B[39;49m\u001B[43mrefresh_type\u001B[49m\u001B[43m,\u001B[49m\n\u001B[1;32m    173\u001B[0m \u001B[43m    \u001B[49m\u001B[43msimilarity\u001B[49m\u001B[38;5;241;43m=\u001B[39;49m\u001B[43msimilarity\u001B[49m\u001B[43m,\u001B[49m\n\u001B[1;32m    174\u001B[0m \u001B[43m    \u001B[49m\u001B[43mreturn_embedding\u001B[49m\u001B[38;5;241;43m=\u001B[39;49m\u001B[43mreturn_embedding\u001B[49m\u001B[43m,\u001B[49m\n\u001B[1;32m    175\u001B[0m \u001B[43m    \u001B[49m\u001B[43mduplicate_documents\u001B[49m\u001B[38;5;241;43m=\u001B[39;49m\u001B[43mduplicate_documents\u001B[49m\u001B[43m,\u001B[49m\n\u001B[1;32m    176\u001B[0m \u001B[43m    \u001B[49m\u001B[43mindex_type\u001B[49m\u001B[38;5;241;43m=\u001B[39;49m\u001B[43mindex_type\u001B[49m\u001B[43m,\u001B[49m\n\u001B[1;32m    177\u001B[0m \u001B[43m    \u001B[49m\u001B[43mscroll\u001B[49m\u001B[38;5;241;43m=\u001B[39;49m\u001B[43mscroll\u001B[49m\u001B[43m,\u001B[49m\n\u001B[1;32m    178\u001B[0m \u001B[43m    \u001B[49m\u001B[43mskip_missing_embeddings\u001B[49m\u001B[38;5;241;43m=\u001B[39;49m\u001B[43mskip_missing_embeddings\u001B[49m\u001B[43m,\u001B[49m\n\u001B[1;32m    179\u001B[0m \u001B[43m    \u001B[49m\u001B[43msynonyms\u001B[49m\u001B[38;5;241;43m=\u001B[39;49m\u001B[43msynonyms\u001B[49m\u001B[43m,\u001B[49m\n\u001B[1;32m    180\u001B[0m \u001B[43m    \u001B[49m\u001B[43msynonym_type\u001B[49m\u001B[38;5;241;43m=\u001B[39;49m\u001B[43msynonym_type\u001B[49m\u001B[43m,\u001B[49m\n\u001B[1;32m    181\u001B[0m \u001B[43m\u001B[49m\u001B[43m)\u001B[49m\n\u001B[1;32m    183\u001B[0m \u001B[38;5;66;03m# Let the base class trap the right exception from the elasticpy client\u001B[39;00m\n\u001B[1;32m    184\u001B[0m \u001B[38;5;28mself\u001B[39m\u001B[38;5;241m.\u001B[39m_RequestError \u001B[38;5;241m=\u001B[39m RequestError\n",
      "File \u001B[0;32m~/Projects/question-pair/venv/lib/python3.8/site-packages/haystack/nodes/base.py:48\u001B[0m, in \u001B[0;36mexportable_to_yaml.<locals>.wrapper_exportable_to_yaml\u001B[0;34m(self, *args, **kwargs)\u001B[0m\n\u001B[1;32m     45\u001B[0m         \u001B[38;5;28mself\u001B[39m\u001B[38;5;241m.\u001B[39m_component_config[\u001B[38;5;124m\"\u001B[39m\u001B[38;5;124mparams\u001B[39m\u001B[38;5;124m\"\u001B[39m][k] \u001B[38;5;241m=\u001B[39m v\n\u001B[1;32m     47\u001B[0m \u001B[38;5;66;03m# Call the actuall __init__ function with all the arguments\u001B[39;00m\n\u001B[0;32m---> 48\u001B[0m \u001B[43minit_func\u001B[49m\u001B[43m(\u001B[49m\u001B[38;5;28;43mself\u001B[39;49m\u001B[43m,\u001B[49m\u001B[43m \u001B[49m\u001B[38;5;241;43m*\u001B[39;49m\u001B[43margs\u001B[49m\u001B[43m,\u001B[49m\u001B[43m \u001B[49m\u001B[38;5;241;43m*\u001B[39;49m\u001B[38;5;241;43m*\u001B[39;49m\u001B[43mkwargs\u001B[49m\u001B[43m)\u001B[49m\n",
      "File \u001B[0;32m~/Projects/question-pair/venv/lib/python3.8/site-packages/haystack/document_stores/search_engine.py:114\u001B[0m, in \u001B[0;36mSearchEngineDocumentStore.__init__\u001B[0;34m(self, client, index, label_index, search_fields, content_field, name_field, embedding_field, embedding_dim, custom_mapping, excluded_meta_data, analyzer, recreate_index, create_index, refresh_type, similarity, return_embedding, duplicate_documents, index_type, scroll, skip_missing_embeddings, synonyms, synonym_type)\u001B[0m\n\u001B[1;32m    111\u001B[0m     \u001B[38;5;28mself\u001B[39m\u001B[38;5;241m.\u001B[39m_delete_index(label_index)\n\u001B[1;32m    113\u001B[0m \u001B[38;5;28;01mif\u001B[39;00m create_index \u001B[38;5;129;01mor\u001B[39;00m recreate_index:\n\u001B[0;32m--> 114\u001B[0m     \u001B[38;5;28;43mself\u001B[39;49m\u001B[38;5;241;43m.\u001B[39;49m\u001B[43m_create_document_index\u001B[49m\u001B[43m(\u001B[49m\u001B[43mindex\u001B[49m\u001B[43m)\u001B[49m\n\u001B[1;32m    115\u001B[0m     \u001B[38;5;28mself\u001B[39m\u001B[38;5;241m.\u001B[39m_create_label_index(label_index)\n\u001B[1;32m    117\u001B[0m \u001B[38;5;28mself\u001B[39m\u001B[38;5;241m.\u001B[39mduplicate_documents \u001B[38;5;241m=\u001B[39m duplicate_documents\n",
      "File \u001B[0;32m~/Projects/question-pair/venv/lib/python3.8/site-packages/haystack/document_stores/elasticsearch.py:445\u001B[0m, in \u001B[0;36mElasticsearchDocumentStore._create_document_index\u001B[0;34m(self, index_name, headers)\u001B[0m\n\u001B[1;32m    440\u001B[0m \u001B[38;5;124;03m\"\"\"\u001B[39;00m\n\u001B[1;32m    441\u001B[0m \u001B[38;5;124;03mCreate a new index for storing documents. In case if an index with the name already exists, it ensures that\u001B[39;00m\n\u001B[1;32m    442\u001B[0m \u001B[38;5;124;03mthe embedding_field is present.\u001B[39;00m\n\u001B[1;32m    443\u001B[0m \u001B[38;5;124;03m\"\"\"\u001B[39;00m\n\u001B[1;32m    444\u001B[0m \u001B[38;5;66;03m# Check if index_name refers to an alias\u001B[39;00m\n\u001B[0;32m--> 445\u001B[0m \u001B[38;5;28;01mif\u001B[39;00m \u001B[38;5;28;43mself\u001B[39;49m\u001B[38;5;241;43m.\u001B[39;49m\u001B[43mclient\u001B[49m\u001B[38;5;241;43m.\u001B[39;49m\u001B[43mindices\u001B[49m\u001B[38;5;241;43m.\u001B[39;49m\u001B[43mexists_alias\u001B[49m\u001B[43m(\u001B[49m\u001B[43mname\u001B[49m\u001B[38;5;241;43m=\u001B[39;49m\u001B[43mindex_name\u001B[49m\u001B[43m)\u001B[49m:\n\u001B[1;32m    446\u001B[0m     logger\u001B[38;5;241m.\u001B[39mdebug(\u001B[38;5;124m\"\u001B[39m\u001B[38;5;124mIndex name \u001B[39m\u001B[38;5;132;01m%s\u001B[39;00m\u001B[38;5;124m is an alias.\u001B[39m\u001B[38;5;124m\"\u001B[39m, index_name)\n\u001B[1;32m    448\u001B[0m \u001B[38;5;66;03m# check if the existing index has the embedding field; if not create it\u001B[39;00m\n",
      "File \u001B[0;32m~/Projects/question-pair/venv/lib/python3.8/site-packages/elasticsearch/client/utils.py:347\u001B[0m, in \u001B[0;36mquery_params.<locals>._wrapper.<locals>._wrapped\u001B[0;34m(*args, **kwargs)\u001B[0m\n\u001B[1;32m    345\u001B[0m     \u001B[38;5;28;01mif\u001B[39;00m p \u001B[38;5;129;01min\u001B[39;00m kwargs:\n\u001B[1;32m    346\u001B[0m         params[p] \u001B[38;5;241m=\u001B[39m kwargs\u001B[38;5;241m.\u001B[39mpop(p)\n\u001B[0;32m--> 347\u001B[0m \u001B[38;5;28;01mreturn\u001B[39;00m \u001B[43mfunc\u001B[49m\u001B[43m(\u001B[49m\u001B[38;5;241;43m*\u001B[39;49m\u001B[43margs\u001B[49m\u001B[43m,\u001B[49m\u001B[43m \u001B[49m\u001B[43mparams\u001B[49m\u001B[38;5;241;43m=\u001B[39;49m\u001B[43mparams\u001B[49m\u001B[43m,\u001B[49m\u001B[43m \u001B[49m\u001B[43mheaders\u001B[49m\u001B[38;5;241;43m=\u001B[39;49m\u001B[43mheaders\u001B[49m\u001B[43m,\u001B[49m\u001B[43m \u001B[49m\u001B[38;5;241;43m*\u001B[39;49m\u001B[38;5;241;43m*\u001B[39;49m\u001B[43mkwargs\u001B[49m\u001B[43m)\u001B[49m\n",
      "File \u001B[0;32m~/Projects/question-pair/venv/lib/python3.8/site-packages/elasticsearch/client/indices.py:611\u001B[0m, in \u001B[0;36mIndicesClient.exists_alias\u001B[0;34m(self, name, index, params, headers)\u001B[0m\n\u001B[1;32m    608\u001B[0m \u001B[38;5;28;01mif\u001B[39;00m name \u001B[38;5;129;01min\u001B[39;00m SKIP_IN_PATH:\n\u001B[1;32m    609\u001B[0m     \u001B[38;5;28;01mraise\u001B[39;00m \u001B[38;5;167;01mValueError\u001B[39;00m(\u001B[38;5;124m\"\u001B[39m\u001B[38;5;124mEmpty value passed for a required argument \u001B[39m\u001B[38;5;124m'\u001B[39m\u001B[38;5;124mname\u001B[39m\u001B[38;5;124m'\u001B[39m\u001B[38;5;124m.\u001B[39m\u001B[38;5;124m\"\u001B[39m)\n\u001B[0;32m--> 611\u001B[0m \u001B[38;5;28;01mreturn\u001B[39;00m \u001B[38;5;28;43mself\u001B[39;49m\u001B[38;5;241;43m.\u001B[39;49m\u001B[43mtransport\u001B[49m\u001B[38;5;241;43m.\u001B[39;49m\u001B[43mperform_request\u001B[49m\u001B[43m(\u001B[49m\n\u001B[1;32m    612\u001B[0m \u001B[43m    \u001B[49m\u001B[38;5;124;43m\"\u001B[39;49m\u001B[38;5;124;43mHEAD\u001B[39;49m\u001B[38;5;124;43m\"\u001B[39;49m\u001B[43m,\u001B[49m\u001B[43m \u001B[49m\u001B[43m_make_path\u001B[49m\u001B[43m(\u001B[49m\u001B[43mindex\u001B[49m\u001B[43m,\u001B[49m\u001B[43m \u001B[49m\u001B[38;5;124;43m\"\u001B[39;49m\u001B[38;5;124;43m_alias\u001B[39;49m\u001B[38;5;124;43m\"\u001B[39;49m\u001B[43m,\u001B[49m\u001B[43m \u001B[49m\u001B[43mname\u001B[49m\u001B[43m)\u001B[49m\u001B[43m,\u001B[49m\u001B[43m \u001B[49m\u001B[43mparams\u001B[49m\u001B[38;5;241;43m=\u001B[39;49m\u001B[43mparams\u001B[49m\u001B[43m,\u001B[49m\u001B[43m \u001B[49m\u001B[43mheaders\u001B[49m\u001B[38;5;241;43m=\u001B[39;49m\u001B[43mheaders\u001B[49m\n\u001B[1;32m    613\u001B[0m \u001B[43m\u001B[49m\u001B[43m)\u001B[49m\n",
      "File \u001B[0;32m~/Projects/question-pair/venv/lib/python3.8/site-packages/elasticsearch/transport.py:417\u001B[0m, in \u001B[0;36mTransport.perform_request\u001B[0;34m(self, method, url, headers, params, body)\u001B[0m\n\u001B[1;32m    415\u001B[0m \u001B[38;5;66;03m# Before we make the actual API call we verify the Elasticsearch instance.\u001B[39;00m\n\u001B[1;32m    416\u001B[0m \u001B[38;5;28;01mif\u001B[39;00m \u001B[38;5;28mself\u001B[39m\u001B[38;5;241m.\u001B[39m_verified_elasticsearch \u001B[38;5;129;01mis\u001B[39;00m \u001B[38;5;28;01mNone\u001B[39;00m:\n\u001B[0;32m--> 417\u001B[0m     \u001B[38;5;28;43mself\u001B[39;49m\u001B[38;5;241;43m.\u001B[39;49m\u001B[43m_do_verify_elasticsearch\u001B[49m\u001B[43m(\u001B[49m\u001B[43mheaders\u001B[49m\u001B[38;5;241;43m=\u001B[39;49m\u001B[43mheaders\u001B[49m\u001B[43m,\u001B[49m\u001B[43m \u001B[49m\u001B[43mtimeout\u001B[49m\u001B[38;5;241;43m=\u001B[39;49m\u001B[43mtimeout\u001B[49m\u001B[43m)\u001B[49m\n\u001B[1;32m    419\u001B[0m \u001B[38;5;66;03m# If '_verified_elasticsearch' isn't 'True' then we raise an error.\u001B[39;00m\n\u001B[1;32m    420\u001B[0m \u001B[38;5;28;01mif\u001B[39;00m \u001B[38;5;28mself\u001B[39m\u001B[38;5;241m.\u001B[39m_verified_elasticsearch \u001B[38;5;129;01mis\u001B[39;00m \u001B[38;5;129;01mnot\u001B[39;00m \u001B[38;5;28;01mTrue\u001B[39;00m:\n",
      "File \u001B[0;32m~/Projects/question-pair/venv/lib/python3.8/site-packages/elasticsearch/transport.py:606\u001B[0m, in \u001B[0;36mTransport._do_verify_elasticsearch\u001B[0;34m(self, headers, timeout)\u001B[0m\n\u001B[1;32m    603\u001B[0m \u001B[38;5;66;03m# If we received a connection error and weren't successful\u001B[39;00m\n\u001B[1;32m    604\u001B[0m \u001B[38;5;66;03m# anywhere then we re-raise the more appropriate error.\u001B[39;00m\n\u001B[1;32m    605\u001B[0m \u001B[38;5;28;01mif\u001B[39;00m error \u001B[38;5;129;01mand\u001B[39;00m \u001B[38;5;129;01mnot\u001B[39;00m info_response:\n\u001B[0;32m--> 606\u001B[0m     \u001B[38;5;28;01mraise\u001B[39;00m error\n\u001B[1;32m    608\u001B[0m \u001B[38;5;66;03m# Check the information we got back from the index request.\u001B[39;00m\n\u001B[1;32m    609\u001B[0m \u001B[38;5;28mself\u001B[39m\u001B[38;5;241m.\u001B[39m_verified_elasticsearch \u001B[38;5;241m=\u001B[39m _ProductChecker\u001B[38;5;241m.\u001B[39mcheck_product(\n\u001B[1;32m    610\u001B[0m     info_headers, info_response\n\u001B[1;32m    611\u001B[0m )\n",
      "File \u001B[0;32m~/Projects/question-pair/venv/lib/python3.8/site-packages/elasticsearch/transport.py:569\u001B[0m, in \u001B[0;36mTransport._do_verify_elasticsearch\u001B[0;34m(self, headers, timeout)\u001B[0m\n\u001B[1;32m    566\u001B[0m attempted_conns\u001B[38;5;241m.\u001B[39mappend(conn)\n\u001B[1;32m    568\u001B[0m \u001B[38;5;28;01mtry\u001B[39;00m:\n\u001B[0;32m--> 569\u001B[0m     _, info_headers, info_response \u001B[38;5;241m=\u001B[39m \u001B[43mconn\u001B[49m\u001B[38;5;241;43m.\u001B[39;49m\u001B[43mperform_request\u001B[49m\u001B[43m(\u001B[49m\n\u001B[1;32m    570\u001B[0m \u001B[43m        \u001B[49m\u001B[38;5;124;43m\"\u001B[39;49m\u001B[38;5;124;43mGET\u001B[39;49m\u001B[38;5;124;43m\"\u001B[39;49m\u001B[43m,\u001B[49m\u001B[43m \u001B[49m\u001B[38;5;124;43m\"\u001B[39;49m\u001B[38;5;124;43m/\u001B[39;49m\u001B[38;5;124;43m\"\u001B[39;49m\u001B[43m,\u001B[49m\u001B[43m \u001B[49m\u001B[43mheaders\u001B[49m\u001B[38;5;241;43m=\u001B[39;49m\u001B[43mheaders\u001B[49m\u001B[43m,\u001B[49m\u001B[43m \u001B[49m\u001B[43mtimeout\u001B[49m\u001B[38;5;241;43m=\u001B[39;49m\u001B[43mtimeout\u001B[49m\n\u001B[1;32m    571\u001B[0m \u001B[43m    \u001B[49m\u001B[43m)\u001B[49m\n\u001B[1;32m    573\u001B[0m     \u001B[38;5;66;03m# Lowercase all the header names for consistency in accessing them.\u001B[39;00m\n\u001B[1;32m    574\u001B[0m     info_headers \u001B[38;5;241m=\u001B[39m {\n\u001B[1;32m    575\u001B[0m         header\u001B[38;5;241m.\u001B[39mlower(): value \u001B[38;5;28;01mfor\u001B[39;00m header, value \u001B[38;5;129;01min\u001B[39;00m info_headers\u001B[38;5;241m.\u001B[39mitems()\n\u001B[1;32m    576\u001B[0m     }\n",
      "File \u001B[0;32m~/Projects/question-pair/venv/lib/python3.8/site-packages/elasticsearch/connection/http_urllib3.py:280\u001B[0m, in \u001B[0;36mUrllib3HttpConnection.perform_request\u001B[0;34m(self, method, url, params, body, timeout, ignore, headers)\u001B[0m\n\u001B[1;32m    278\u001B[0m     \u001B[38;5;28;01mif\u001B[39;00m \u001B[38;5;28misinstance\u001B[39m(e, ReadTimeoutError):\n\u001B[1;32m    279\u001B[0m         \u001B[38;5;28;01mraise\u001B[39;00m ConnectionTimeout(\u001B[38;5;124m\"\u001B[39m\u001B[38;5;124mTIMEOUT\u001B[39m\u001B[38;5;124m\"\u001B[39m, \u001B[38;5;28mstr\u001B[39m(e), e)\n\u001B[0;32m--> 280\u001B[0m     \u001B[38;5;28;01mraise\u001B[39;00m \u001B[38;5;167;01mConnectionError\u001B[39;00m(\u001B[38;5;124m\"\u001B[39m\u001B[38;5;124mN/A\u001B[39m\u001B[38;5;124m\"\u001B[39m, \u001B[38;5;28mstr\u001B[39m(e), e)\n\u001B[1;32m    282\u001B[0m \u001B[38;5;66;03m# raise warnings if any from the 'Warnings' header.\u001B[39;00m\n\u001B[1;32m    283\u001B[0m warning_headers \u001B[38;5;241m=\u001B[39m response\u001B[38;5;241m.\u001B[39mheaders\u001B[38;5;241m.\u001B[39mget_all(\u001B[38;5;124m\"\u001B[39m\u001B[38;5;124mwarning\u001B[39m\u001B[38;5;124m\"\u001B[39m, ())\n",
      "\u001B[0;31mConnectionError\u001B[0m: ConnectionError(<urllib3.connection.HTTPConnection object at 0x7f17ff70f130>: Failed to establish a new connection: [Errno 111] Connection refused) caused by: NewConnectionError(<urllib3.connection.HTTPConnection object at 0x7f17ff70f130>: Failed to establish a new connection: [Errno 111] Connection refused)"
     ]
    }
   ],
   "source": [
    "from haystack.document_stores import ElasticsearchDocumentStore\n",
    "# host = os.environ.get(\"ELASTICSEARCH_HOST\", \"localhost\")\n",
    "document_store = ElasticsearchDocumentStore(\n",
    "    host=host,\n",
    "    username=\"Shadman Shahid\",\n",
    "    password=\"asdf@1234\",\n",
    "    index='haystack-lfqa',\n",
    "    similarity=\"cosine\",\n",
    "    embedding_dim=768\n",
    ")"
   ]
  },
  {
   "cell_type": "code",
   "execution_count": 2,
   "outputs": [],
   "source": [
    "from haystack.document_stores import InMemoryDocumentStore\n",
    "\n",
    "document_store = InMemoryDocumentStore(index='haystack-lfqa',\n",
    "                                       similarity=\"cosine\",\n",
    "                                       embedding_dim=768)"
   ],
   "metadata": {
    "collapsed": false
   }
  },
  {
   "cell_type": "code",
   "execution_count": 4,
   "metadata": {
    "id": "9D3y4gfo6DEF"
   },
   "outputs": [
    {
     "data": {
      "text/plain": "[{'content': 'With almost three decades of partnering life and engendering hope, ACI is one of the top pharmaceutical companies in Bangladesh, employing more than 5,000 people all over the country. As a progressive and forward-thinking company, ACI Pharma is dedicated to improve the health of people of Bangladesh through introduction of innovative and reliable pharmaceutical products.'},\n {'content': 'ACI introduced the concept of quality management system by being the first company in Bangladesh to achieve ISO 9001 certification in 1995 and follows the policy of continuous improvement in all its operations.'},\n {'content': 'Aligned with the concept that a pharmaceutical must ensure effective management of environment, ACI complies with standard environment management policy, thus adorned with EMS 14001 in 2000.'},\n {'content': 'ACI maintains a congenial and supportive relationship with the healthcare community of Bangladesh, with the belief that business excellence can only be achieved through pursuit of quality by understanding, accepting, meeting and exceeding customer expectations.'},\n {'content': 'Our endeavor is to ensure the availability of world class, quality medicines across Bangladesh and around the globe. Being a successor of world’s renowned pharmaceutical company ICI, we take pride of its rich heritage.'},\n {'content': 'Since its introduction in 1992 ACI continues to remain committed to developing first-in-class and best-in-class products in key therapeutic areas by combining outstanding R&D with marketing capabilities and continuing growth not only in Bangladesh but also in the global pharma market.'},\n {'content': 'Our strength is our ability to excel in developing generics and technologically complex products through an out-and-out, proficient, skillful team in manufacturing, product development, process re-engineering & quality control department.'},\n {'content': 'At present, ACI formulates & markets a comprehensive range of more than 550 SKUs covering all major dosage forms of more than 250 Molecules in almost 100 therapeutic classes. ACI has introduced sophisticated manufacturing technologies like Biosimilar (biotech) products, insulin, bi-layer tablet, lyophilized products, hormone products, ophthalmic preparations, novel drug delivery system (NDDS), large volume parenteral (LVP), small volume parenteral (SVP), suppositories, effervescent formulation, sustained release dosage formulations, orodispersible products, anesthetics, metered dose inhaler, dry powder inhaler, nasal spray, etc.'},\n {'content': 'First company in Bangladesh to achieve ISO 9001 certification in 1995.'},\n {'content': 'World class manufacturing facilities and strict compliance to cGMP & ethics have earned the company the status of contract manufacturer for renowned multinational company Servier. ACI also markets & distributes vaccine product (rabies vaccine) of world’s renowned pharmaceutical company Sanofi in Bangladesh.'},\n {'content': 'ACI is enriched with GMP certification from Kenya, Ivory Coast, and Philippines. Our pharmaceuticals are exported to 30 countries of 4 continents. ACI also has Product Marketing Approval from 15 countries. ACI is recognized by STC (Save the Children) audit with concluding remarks ‘it can be concluded that the ADVANCED CHEMICAL INDUSTRIES Limited and company facilities located in Narayanganj, Bangladesh, operates in accordance with the WHO GMP guidelines’.'},\n {'content': 'It is patients & physicians who inspireusto move forward. We have created & captured value for them through cutting-edge chemistry at work, more innovation, and more practical & convenient solutions.'},\n {'content': 'Our endeavor is to ensure the access of all the ailing human being across the globe to high quality & affordable medicines. We are highly caring to the constantly evolving unmet medical needs of patients & their families.'},\n {'content': 'ACI Salt Limited was incorporated as a private limited company on June 13, 2004 under the Companies Act, 1994. The objectives of the Company is to provide 100% edible salt for human consumption by using modern vacuum evaporation process technology. For last many years the company has been serving the country with premium grade edible salt with impeccable reputation with 100% purity.'},\n {'content': 'With alliance of ACI’s mission, to improve the quality life of people, ACI Salt Ltd. is always looking forward for the scope to serve the nation. The salt industry of Bangladesh has always been in a primitive position offering the consumers low quality edible salt with sand, dirt particle & adulterants that they use in everyday use. And the consumers were not differentiating much among the brands available to choose this essential nutrient of everyday life. This all started to change in 2005 as ACI Limited, one of the leading conglomerates of the country, decided to offer the consumers a finest quality edible salt equivalent to any international brand.'},\n {'content': 'ACI Pure Salt continued to receive the award of Best Brand when Salt was made a separate category in 2011, 2013, 2014, 2015 and 2016'},\n {'content': 'Next to water, salt is the most essential item in human diet. As a product point of view of ACI Salt Ltd., this essential item must provide the consumer a constant feeling of healthy, nutritious & premium quality. Following that point of view, ACI Pure Salt is processed through fully automatic machine of vacuum evaporated technology, clearly distinctive quality of 100% pure, Free Flow, Crystal White & Perfectly Iodized, packed in attractive food-grade flexible packages; that helps to ensure brilliant future generation. This perfect mixture of iodine in salt is also very important as it is the most cost effective way of preventing IDD like Goitre, Mental Retardation, and Stunted Growth etc.'},\n {'content': 'ACI Salt factory is currently the largest factory in Vacuum Salt industry of Bangladesh with highest production capacity. ACI Pure Salt is processed through the true Cutting Edge Technology of Switzerland, the most modern vacuum evaporation system which ensures 100% pure, crystal white, properly iodized and free flowing edible salt. Its high quality food grade, multilayer laminated packaging ensures the iodine contents to remain active for longer period and at the same time protects the salt from moisture or any impurities.'},\n {'content': 'Among all the uncountable achievements of number one brand, ACI Pure Salt, only few are being mentioned here;  Global Recognition  ACI Pure Salt has received the global recognition for its excellent packaging design through the book, \"Pack Your Life\" volume 3. This book is published with all the top ranking packet design from all over the world. Best Brand Award  Up to now, no other brand but only ACI Pure Salt is consecutively receiving the “Best Brand Award\". In 2008, ACI Pure Salt received Best Brand Award across all food and beverage category. And then ACI Pure Salt continued to receive the award of Best Brand when Salt was made a separate category in 2011, 2013, 2014, 2015 and 2016.'},\n {'content': 'ACI Salt Ltd. Received the Occupational Health and Safety Management System certification i.e. OHSAS 18001:2007 from Bureau Veritas Ltd. for the first time in Bangladesh in Salt industry. OHSAS 18001 is an Occupational Health and Safety Assessment Series for health and safety management systems. It is intended to help an organizations to control occupational health and safety risks. As a compliance company, ACI Salt Ltd. always believes that healthy and safe working environment is a basic right for every employee and an important feature of a Business.'},\n {'content': 'Savlon has been serving millions of households of Bangladesh for more than 4 decades. Being a heritage brand, it has always helped people stay protected from illness causing germs & viruses. The mission of Savlon is to enhance the power of disease prevention of the people with a vision to be the symbol of germ-free, healthy Bangladesh.'},\n {'content': 'Savlon Antiseptic Liquid & Cream contains two active ingredients: Cetrimide and Chlorhexidine Gluconate, which were first discovered and developed by Imperial Chemical Industries (ICI). Later in 1992, ACI Limited was formed which obtained the ownership of this brand. Due to the presence of these two active ingredients, Savlon Antiseptic has been trusted around the world to help clean wounds caused by cuts, abrasion, burns, insect bites etc.'},\n {'content': 'SAVLON LIQUID ANTISEPTIC:'},\n {'content': 'A powerful product with strong heritage, Savlon Antiseptic Liquid ensures a safe and protected environment for your family. Along with usage on skin, Savlon Antiseptic Liquid can also be applied as a disinfectant on surfaces and laundry. Its effective germicide chlorohexidine gluconate & strong cetrimide take instant action on applied surfaces and keeps you germ-free.'},\n {'content': 'SAVLON ANTISEPTIC CREAM:'},\n {'content': 'Savlon Antiseptic Cream provides a 2-step solution in germ protection. It treats any wound in the skin and helps to heal the wound by hastening the 3 phases of wound closing i.e., inflammation, tissue formation, and tissue remodeling.'},\n {'content': 'SAVLON ANTISEPTIC HAND WASH:'},\n {'content': 'Savlon began its journey into Personal Care in 1998 with Savlon Active Hand wash. From 2010, Savlon hand wash started introducing different variants under its umbrella. Currently this category has 30 different SKUs with 6 different variants. It has anti-bacterial cleansing effect and moisturizer that ensures smooth skin.'},\n {'content': 'SAVLON ANTISEPTIC SOAP:'},\n {'content': 'Savlon launched its antiseptic bar soap line in 2003 with one variant i.e. Active. Currently Savlon is offering five distinct variants i.e. Active, Mild, Fresh, Cool & Men. It has two anti-bacterial agents, namely Colloidal Gold & Colloidal Platinum. Savlon soap is a trustworthy & reliable antiseptic soap that kills maximum amounts of germs with extra care of skin.'},\n {'content': 'SAVLON HAND SANITIZER:'},\n {'content': 'Savlon Hand Sanitizer has the unique 3 in1 formula that instantly kills 99.9% germs and enriched with special moisturizing complex to provide moisturized hands without giving any sticky feeling.'},\n {'content': 'SAVLON HAND RUB:'},\n {'content': 'Keep your hands clean and germ-free in an instant with Savlon Hand Rub. Apply on your hands and make sure to cover all the surface. No water needed.'},\n {'content': 'SAVLON DISINFECTANT SPRAY:'},\n {'content': 'Savlon Disinfectant Spray is the pioneer brand in this category of Bangladesh. It has been developed to help protect families from illness by preventing the spread of harmful bacteria & viruses. Its effective ethyl alcohol based formula can kill 99.99% germs and flu viruses on any soft and hard surface.'},\n {'content': 'SAVLON WET WIPES:'},\n {'content': 'Savlon Wet Wipes is easy to use anytime, anywhere. Its antibacterial formula keeps you germ-free while giving you a refreshing feeling.'},\n {'content': 'SAVLON BABY WIPES:'},\n {'content': 'Savlon Baby Wipes range ensures the safety of infant’s delicate skin with alcohol-free formula. It’s 5.5 PH balanced, pre-moisturized formula gently cleanses your baby’s soft skin without irritation and protects from a wide range of unseen germs.'},\n {'content': 'Wonder Dish Wash is a premium dishwashing solution from the house of ACI offering the best quality and value for money. Its attractive design, long lasting performance & fast-cleaning ability made it a brand of choice in the market. Wonder Dish Wash solution not only cleans but also kills toughest germs found in utensils & dish sponges. Kitchen Care Portfolio is enriched with 7 SKUs under three product categories –Dish Wash Bar, Dish Wash Liquid and Stainless-Steel Scrubber. This wide range of products has enabled Wonder Dish Wash to provide Premium Dish Wash Solution for not only the dishes but also for other related utensils used in a kitchen.'},\n {'content': 'Premium Dish Wash Solution for not only the dishes but also for other related utensils used in a kitchen.Operations'},\n {'content': 'Wonder Dish Wash products are available in all Retail Outlets, General and Departmental Stores and Super Shops. Mass awareness campaigns in both ATL and BTL media have significantly increased the brand’s growth. Free sampling and trial generation activities are conducted regularly to communicate the superior product quality.'},\n {'content': 'Market Presence'},\n {'content': 'Wonder is an emerging brand in its category. We have a diverse range of products starting from Wonder Dish Wash Bar and our premium product Wonder Dish Wash Liquid with antibacterial properties for more hygiene conscious users. This has enabled Wonder to capture a share of consumer mind in a short time frame.'},\n {'content': 'History'},\n {'content': 'To ensure good hygiene practice among the Bangladeshi people, ACI launched Wonder Dish Wash in 2013 under the Kitchen Care Category. ACI is always trusted by the consumers for its excellent product superiority. The product superiority of Wonder Dish Wash is committed to maintain that level while trying to further increase the trust of the consumers through innovative product introduction on a timely manner.'},\n {'content': 'ACI Smart Washing Powder is an international standard detergent, manufactured through latest technology to meet growing demand for quality laundry cleaning products. It provides smart cleaning solution for household fabrics by washing away even the toughest dirt and stains completely from all sorts of fabrics while being gentle on both fabric and skin. Fabric Care Portfolio is enriched with 8 SKUs under three product categories –Washing Powder, Laundry Soap and Liquid Detergent. Moreover, ACI Supreme Washing Powder and Liquid Detergent have been launched to provide more healthy life experience through ensuring germ free laundry with every cleaning.'},\n {'content': 'Increasing the trust of the consumers through introducing innovative products on a timely mannerOperations'},\n {'content': 'ACI Smart and ACI Supreme products are available in all Retail Outlets, General and Departmental Stores, Super Shops and E-commerce sites. Mass awareness campaigns in both ATL and BTL media have significantly increased the brand’s growth. Free sampling and trial generation activities are conducted regularly to communicate the superior product quality.'},\n {'content': 'Market Presence'},\n {'content': 'ACI Smart is an emerging brand in its category. We have a diverse range of products starting from basic category product Smart Washing Powder for low income group to one of its kind antibacterial detergent ACI Supreme Washing Powder and Liquid Detergent for more hygiene conscious users. This has enabled ACI Smart and ACI Supreme to capture a share of consumer mind in a short time frame.'},\n {'content': 'History'},\n {'content': 'To ensure good hygiene practice among the Bangladeshi people, ACI launched Smart Washing Powder in 2014 and Supreme Washing Powder in 2016 under the Fabric Care Category. ACI is always trusted by the consumers for its excellent product superiority. The product superiority of ACI Smart and ACI Supreme detergent is committed to maintain that level while trying to further increase the trust of the consumers through innovative product introduction on a timely manner.'},\n {'content': 'Shinex natural Floor Cleaner comprises a surfactant-based floor cleaner enriched with natural pine disinfectant. It also has an all-round antibacterial floor cleaning solution that provides clean floors with refreshing fragrance while killing all the harmful germs as it contains powerful antibacterial agent B.K.C. It comes in 5 delightful fragrances and is available in both 1 liter and 500 ml pack sizes.'},\n {'content': 'Shinex also has a glass cleaner enriched with an ammonia-free formula which ensures cutting through grease, grime and window film without causing any damage. It has 350ml Spray, 350ml Refill, 300ml refill pouch, and 5litter SKUs.'},\n {'content': 'Consists of a Wide Variants of Products'},\n {'content': 'Providing exemplary care of household surfaces'},\n {'content': 'Cleans, Shines, Disinfectants, DeodorizesOperations'},\n {'content': 'ACI’s Surface Care products are equally available in both retail and superstore outlets. Activations are carried out at regular frequencies to ensure maximum reach in outlets. The products of this category are competitively priced keeping the affordability of customers in mind.'},\n {'content': 'Market Presence'},\n {'content': 'Surface Care is a growing category at ACI with immense potential. The category consists of first-rate products that have already been able to create a unique position for themselves in the minds of customers. Since the usage of these products is largely limited to customers in the urban areas, well-focused activities are carried out in those regions.'},\n {'content': 'History'},\n {'content': 'With the promise of providing exemplary care of household surfaces, ACI introduced its Surface Care category in 2008; and at the end of 2015, ACI took a step up by launching Septex Floor Cleaner and in 2019 it rebranded as Shinex. The category is fully committed to bolstering the strong reputation that ACI has so diligently worked to build over the years.'},\n {'content': 'Neem Laboratories (Pvt.) Limited, a subsidiary of ACI Limited is on a mission to ensure skin care solutions inspired by nature. Our brand Neem Original blends nature’s best in order to establish a connection between us & Mother Nature. We believe beauty is not skin-deep. True beauty is the reflection of one’s soul. We wish to inspire those who aspires to an original beauty which comes from a closeness to nature and one’s true self.'},\n {'content': 'Our Heritage'},\n {'content': 'Neem Laboratories (Pvt.) Limited commenced its efforts in 2003 with a few product lines. With a view to taking the herbal care products to every corners of the country ACI Limited acquired Neem Laboratories (Pvt.) Limited in 2013. ACI Limited worked after better formulations, enhanced raw materials & superior packaging and afterwards Neem Original was launched in June 2016.'},\n {'content': 'Our Ingredients'},\n {'content': 'Each of our ingredient is carefully chosen for its exceptional benefits on our skin & health. Our prime ingredient Neem has been a staple item for health & skin care in the subcontinent for thousands of years. Rich in antioxidants & antibacterial properties Neem is known for curing skin conditions i.e. acne, blemishes etc. and keeping skin hearty.'},\n {'content': 'Aloe Vera, termed as “plant of immortality”, is a magnificent discovery of nature. Unparalleled moisturizing abilities soothes & hydrates the skin from deep within to keep it soft & supple.'},\n {'content': 'Olive rich in vitamins & anti-aging properties improves skin health. Known as a natural exfoliator it cleanses the skin.'},\n {'content': 'Honey, a magic potion of nature, has been part of our lifestyle for more than 4,000 years. It soothes & moisturizes skin, reduces wrinkles, removes scars & spots from the skin.'},\n {'content': 'Turmeric has been an integral part of our traditional skin regiment. It protects against sun damage & aging, soothes dry skin & reduces dark circles. A natural antiseptic it detoxifies the body & boosts glow in one’s skin.'},\n {'content': 'Our products'},\n {'content': 'Neem Original houses four product categories; soap, face wash, hand wash & face pack.'},\n {'content': 'Bangladeshi women are highly conscious about the health and beauty aspects of their skin. They want the very best and do not compromise on quality when it comes to the care and maintaining of skin’s state. In order to provide their skin with better care and in the process to improve their body & mind, ACI Consumer Brands stepped into the beauty soap category in 2018 with a sandalwood variant soap “ACI SANDAL SOAP”.'},\n {'content': 'Sandalwood has been part of skincare regiment in the subcontinent for over 4000 years for its unique aroma, natural healing properties, & incomparable moisturizing abilities. Formulated with the highest quality of sandalwood oil and cocoa butter, ACI SANDAL SOAP is a Grade-1 soap which cleanses, moisturizes and soothes the skin. Its wonderful aroma is infused with lilac extract that captivates the mind. The soap is meticulously developed to offer intense moisturizing benefits and a magnificent long-lasting lather that leaves skin feeling clean, soft and radiantly beautiful.'},\n {'content': 'ACI Sandal Soap is currently available in 2 SKUs: 125 gm and 75 gm'},\n {'content': 'Vanish Toilet Cleaners, a brand from ACI Consumer Brands, has been redefining the category since its inception in 2008. Vanish promises that it \"cleans and kills in 10 minutes\", while most other products in this highly homogenous category take up to 20 minutes for a complete cleaning.'},\n {'content': 'OperationsVanish hopes to offer a product suitable for the modern lifestyle'},\n {'content': 'The brand \"Vanish\" was created by reverse engineering the consumer needs. It \"vanishes\" all the worries related to toilet cleaning by offering the best functionality, with superior product features at an economy price. Emotionally, it relieves the user from the tiresome task toilet cleaning by taking less time.'},\n {'content': 'History'},\n {'content': 'Launched in September 2015, Vanish Advanced Gel brought to life the next level of all product features offered by its original version, and much more- thicker gel, intense cleaning, ergonomic bottle design and an amazing fragrance that solved an inherent problem with toilet cleaners, the pungent acid smell.'},\n {'content': 'With innovative value offering and nationwide distribution, Vanish hopes to offer a product suitable for the modern lifestyle. Vanish welcomes you to the new age of toilet cleaning.'},\n {'content': 'Imperial Chemical Industries, a British multinational established a Branch in the then East Pakistan which was converted into a company after liberation, named ICI Bangladesh Manufacturers Limited. In 1992 ICI divested its investment in Bangladesh to the Management, when its name was changed to Advanced Chemical Industries (ACI) Limited.'},\n {'content': 'Advanced Chemical Industries (ACI) Limited, being one of the largest conglomerates in Bangladesh with a multinational heritage operates across the country through its four diversified strategic business units. ‘ACI Pharmaceuticals’ is dedicated to improve the health of the people of Bangladesh through introduction of innovative and reliable Pharmaceuticals products.'},\n {'content': '‘ACI Consumer Brands’ is adding value to the daily life of consumers through its Toiletries, Home Care, Hygiene, Electrical, Electronics, Mobile, Salt, Flour, Foods, Rice, Tea, Edible Oil, Paints and International Businesses. ‘ACI Agribusinesses’ is the largest integrator in Bangladesh in Agriculture, Livestock, Fisheries, Farm Mechanization, Infrastructure Development Services and Motorcycle. ‘ACI Retail Chain’ is the largest retail chain in Bangladesh operating through its 144 SHWAPNO outlets including 34 newly opened express outlets across the country by touching the lives of over 45,000 plus households each day. The Company contributed Taka 4,318 million to the National Exchequer during FY 2019-2020 in the form of corporate tax, custom duty and value added tax.'},\n {'content': \"ACI's Mission is to enrich the quality of life of the people through responsible application of knowledge, technology and skills. ACI is committed to the pursuit of excellence through world-class products, innovative processes and empowered employees, to provide the highest level of satisfaction to our customers.\"},\n {'content': 'The vision of ACI are Provide products and services of high and consistent quality, ensuring value for money to our customers, Endeavour to attain a position of leadership in each category of our businesses, Develop our employees by encouraging empowerment and rewarding innovation, Promote an environment for learning and personal growth, Attain a high level of productivity in all our operations through effective utilisation of resources and adoption of appropriate technology, Promote inclusive growth by encouraging and assisting our distributors and suppliers in improving efficiency, Ensure superior return on investment through judicious use of resources and efficient operations, utilising our core competencies.'},\n {'content': 'The values of ACI are Quality,Customer Focus,Innovation,Fairness,Transparency,Continuous Improvement.'},\n {'content': 'One of our important vision is to provide products and services of high and consistent quality, ensuring value for money to our customers.'},\n {'content': 'To attain the Vision ACI will:'},\n {'content': 'Aim to achieve business excellence by understanding, accepting, meeting and exceeding customer expectations. Follow International Standards on Quality Management System to ensure consistent quality of products and services to achieve customer satisfaction. ACI will also meet all national and regulatory requirements relating to its current businesses and ensure that current Good Manufacturing Practice (cGMP) as recommended by World Health Organisation is followed for its pharmaceutical operations and conform to all other guidelines and best practices relating to its other businesses. Commit itself to quality as the prime consideration in all its business decisions. All employees of ACI follow documented procedures to ensure compliance with quality standards. Develop a pool of human resources of the Company to their full potential through regular training and participation in seeking continuous improvement of the Quality Management System.'},\n {'content': 'Colgate Palmolive provides complete oral care protection with its various types of variants in toothpaste, toothbrush and mouthwash category.'},\n {'content': 'OperationsThis product is now being imported directly from Europe with better packaging and product quality'},\n {'content': 'Colgate Palmolive serves its customers with wide range of products for different target markets. It has various variants that contains different types of benefits for the teeth.'},\n {'content': 'Our Market Presence'},\n {'content': 'Colgate Palmolive is doing business in Bangladesh with wide range of products in Oral care category targeting different segments of target market. It serves the end users with different SKU sizes and variants. Overall, this brand has received tremendous response from both of its internal and external customers.'},\n {'content': 'Merisant'},\n {'content': 'Overview'},\n {'content': 'Merisant Company is doing business in Bangladesh in Artificial Sweetener category with its two famous brand \"Equal\" and \"Canderel\".'},\n {'content': 'Operations'},\n {'content': 'The business is being operated centrally from the head office and being distributed nationwide by the sales force of Consumer Brands. The products now imported from Europe and the stocks are kept in FL Warehouse for invoicing. The sales force invoices these products from FL and get the delivery within a week.'},\n {'content': 'Our Market Presence'},\n {'content': 'Merisant is operating in Bangladesh with two brands of sugar sweetener tablets \"Equal\" and \"Canderel\" with two SKU level 100s and 300s. This product is now being imported directly from Europe with better packaging and product quality.'},\n {'content': 'Laser'},\n {'content': 'Overview'},\n {'content': 'Laser shaving products provide different ranges of razors and blades. It provides high quality shaving materials to the customers.'},\n {'content': 'Operations'},\n {'content': 'The business in being operated nationwide with its several range of products.'},\n {'content': 'Our Market Presence'},\n {'content': 'Laser shaving materials serves the customers with ready razor, system razor, double edge stainless blades and other variants.'},\n {'content': 'ACI Consumer Brands also imports globally acclaimed home care products range from SC Johnson. SC Johnson is one of the world’s leading makers of household brands. It is a company with a heritage of 130-years, with diverse range of trusted products used in households across the globe.'},\n {'content': 'Currently the following products are being made available in the following category.'},\n {'content': 'ACI kept its footprint in Adult Hygiene category with Savlon Respect Adult Diaper. With the theme “যত্নে থাকুক আপনজন”, this brand started its journey from October, 2019. Since then, Savlon Respect is always there beside our senior citizens and adults with special need.'},\n {'content': 'It has wetness indicator which tells when to change the diaper. This diaper ensures zero leakage with its high absorption power and double leak-guard formation. It fits comfortably and has reusable double tape.'},\n {'content': 'Freedom is one of the most reliable and prominent female hygiene brands in Bangladesh which has been running its operation for more than a decade. Freedom Sanitary Napkin is determined to provide safest hygienic solution for women during period with highest absorbance power in a very reasonable price. The main ingredients we use in our napkins are: Super Absorbent Polymer, pulp, PE film, air-laid paper, PPF etc. Ingredients are collected from the best sources around the world and manufactured in our factory with latest technology which ensures international standard of our napkins.'},\n {'content': 'Freedom has a wide range of napkins to meet demand of every type of customers.'},\n {'content': 'Freedom Heavy Flow Wings:\\xa0Freedom Heavy Flow Wings is 290 mm long and has a very comfortable top-sheet with high absorption power. For heavy flow during period, it is the most effective leakage-free sanitary pad of all.'},\n {'content': 'Freedom Regular Flow Wings:\\xa0This sanitary napkin is designed for the regular flow time in a period cycle. It is a 240 mm long napkin suitable for medium flow days.'},\n {'content': 'Freedom Ultra Wings:\\xa0This is the most premium product in our sanitary napkin category. In terms of size and absorption power, it is same as Heavy Flow Wings but the thickness is much less. Therefore, it gives the lightest feeling to the user.'},\n {'content': 'Freedom Regular Flow Popular:\\xa0Freedom understands the needs of women from different sectors of the country. Its popular variant is a 240 mm non-wings sanitary napkin which is not only the most affordable, but also ensures maximum protection during period.'},\n {'content': 'Freedom Belt System:\\xa0Freedom Belt System Sanitary Napkin is 490 mm long, has lock system on both sides and has SAP which ensures high absorption during period. It comes with an elastic belt, so does not require any undergarment for using.'},\n {'content': 'Freedom Panty System:\\xa0It is a non-wings sanitary napkin that can be used with any undergarment comfortably. Its anti-lock shield prevents leakage and fluff pulp ensures maximum absorption.'},\n {'content': 'Freedom Intimate Wash'},\n {'content': \"It is an antibacterial wash from Freedom family, specially formulated for women's intimate area which consists of herbal liquid thyme and lactic acid. Regular use of intimate wash keeps the intimate area clean and refreshed and prevents bacterial infection in the long run. It helps to boost self confidence by preventing odor of intimate area and gives an instant feeling of comfort.\"},\n {'content': 'Freedom Hair Removal Cream removes unwanted hair in just 5 minutes and gives a very smooth finish. No harmful chemical is used in this cream thus it is safe to use regularly in intimate areas also. Added fragrance gives a refreshing feeling and does not dry out skin.'},\n {'content': 'To relieve the tension of mother in nurturing her beloved child, from the house of ACI, comes a companion for mother: Savlon Twinkle. Its baby diaper products began its journey in 2017. The softness of the diaper provides maximum comfort to the babies. To ensure hygiene and wellness for the child and assurance for the mother, Twinkle Baby Feeding Solution and Twinkle Baby Wipes were added in Twinkle Baby Hygiene portfolio in 2017 and 2018 respectively. A mother does the best job in nurturing her shining little star and Savlon Twinkle lends hands to be there for mothers.'},\n {'content': 'Products'},\n {'content': 'Savlon Twinkle Baby Diaper'},\n {'content': 'Savlon Twinkle Baby Diaper is as tender and soft as mother’s touch and as cautious and vigilant as mother’s instincts. It relieves mother’s tension by ensuring zero leakage and its wetness indicator tells her when diaper needs to be changed.'},\n {'content': 'Twinkle Baby Wipes'},\n {'content': 'Twinkle Baby Wipes carefully cleans baby’s sensitive skin. It has pre-moisturized cleansing sheets that help to protect baby’s skin from dryness. Its antibacterial formula helps to keep baby’s skin germ-free. Twinkle Baby Wipes is Alcohol-free and tested for pH 5.5.'},\n {'content': 'Twinkle Baby Feeding Solution'},\n {'content': 'Twinkle Baby Feeders and Nipples are made with high quality food graded silicone materials with transparent designs. It ensures highest safety for baby and convenience for mother. Cute prints on feeder bottles with bright colors stimulate baby’s visual sense and are completely safe for babies.'},\n {'content': 'Impact is a premium Men’s Grooming Solution from the house of ACI. Its sleek design, attractive fragrance and long lasting performance made it a brand of choice in a market saturated with imported products. Men’s Grooming Portfolio currently has4 SKUs under 1 product category –Deodorant Body Spray. Few more products are to be launched under this category very soon.'},\n {'content': 'Attractive fragrance and long lasting performance made it a brand of choice in a market saturated with imported productsOperations'},\n {'content': 'Impact products are available in Departmental Stores and Super Shops. Free sampling and trial generation activities are conducted regularly to communicate the superior product quality.'},\n {'content': 'Our Market Presence'},\n {'content': 'Impact is on its way to become a prominent brand in its category. With highly focused market activities and superior quality of the product, the brand has already captured a loyal base of consumers in this short time frame.'},\n {'content': 'History'},\n {'content': 'To ensure quality grooming and good hygiene practice among Bangladeshi men, ACI launched Impact in mid-2014 under the Men’s Grooming Category. Impact is committed to maintain the level of trust consumers have on ACI with its high quality products while trying to further increase the trust of the consumers through innovative product introduction on a timely manner.'},\n {'content': 'ACI Consumer Electronics, a newly formed division in ACI Consumer Brands SBU will market the Panasonic AV line along with its Home Appliance products in Bangladesh.ACI Electronics continued to delight the consumers with the products from world renowned brand Panasonic and the home grown brand Sparkle. Panasonic has a rich range of AV products comprising of High Definition LED, LCD and Plasma Television, Home Theatre system, DVD and Blu-ray DVD player, Digital Still Camera & Camcorder. The Panasonic Home Appliance line comprises of high end Refrigerator, Air Conditioner, Washing Machine, Microwave Oven, Vacuum Cleaner and Alkaline Battery.'},\n {'content': 'OperationsACI Consumer Electronics has now extended easy monthly installment payment option for all Credit Card holders’ major banks'},\n {'content': 'For the easy-availability of to the customer ACI Consumer Electronics, has already set up four showrooms in Dhaka, appointed 20 dealers inside Dhaka & outside, who will carry the Panasonic products for display and sales purpose. More showrooms will be opened in the near future for greater market coverage.ACI Consumer Electronics has currently more than 80 corporate renowned customers.'},\n {'content': 'For providing after sales service for its valued customers, ACI Consumer Electronics has set up its own service center. Also a wide space warehouse adjacent to this the service center.'},\n {'content': 'Our Market Presence'},\n {'content': 'Panasonic has the good market presence in it’s category. Panasonic Air Conditioner is premium category of the wide range of its products .Panasonic Inverter Econavi Air Conditioner saves up to 65 % energy that makes it competitive benefit than the other competitors brands who doesn’t have this features.Our own brand Sparkle is doing well in this year remarkbly and it will capture a large market share in short time.'},\n {'content': 'Histroy'},\n {'content': 'In the year of 2008, ACI Electronics formally started its operation as official distributor of Panasonic audio video products and home appliances and still continuing. In 2014 ACI Electronics has introduced Electronics products and home appliances under its own brand SPARKLE which has a wide range of LED TV, Refrigerator, Freezer Air conditioner, air curtain etc at present.'},\n {'content': 'ACI Electrical Division was established with an aim to provide safe and energy efficient lighting for all. ACI Electrical Division now offers a wide range of electrical product starting from Energy saving Light, LED Lighting, Switch and Sockets, Circuits Breakers and professional lighting and electrical solution to our clients. ACI Electrical Division is manufacturing Compact Fluorescent Lamp (CFL), LED Bulb and Tube light and Switch Sockets in its own factory under strict quality control system. With well-equipped R&D lab and testing facility we are continuously innovating the design to serve our customer with latest technology and environment friendly product.'},\n {'content': 'We aim to provide the best quality product in competitive cost'},\n {'content': 'ACI Electrical Division produces goods under the brand name \"SPARKLE\" with a motto \"Light Your Life\". ACI Electrical Division as a subsidiary of ACI Limited is working relentlessly to be a leading electrical company in Bangladesh through maintaining a high level of product quality and services. ACI Electrical division is also engaged in distributing world renowned electrical brand “SIGMA”, a leading Circuit breaker brand from turkey.'},\n {'content': 'We aim to provide the best quality product in competitive cost by employing new and innovative technology, which offers safer and more environment-friendly electrical and lighting solution to establish yourself as a major player in the industry.'},\n {'content': 'Our Market Presence'},\n {'content': 'We are currently distributing our product through 150 distributor across the country with coverage in 50 + districts. We are working to bring the whole Bangladesh under the distribution network of ACI Electrical division.'},\n {'content': 'ACI Electrical factory is established in Tongi BSCIC equipped with all modern facilities to assemble and manufacture electrical goods. With a floor space over 16000 SFT, ACI Electrical division is currently producing Compact Fluorescent Lamp (CFL), LED Bulbs, Switch and Sockets through modern assembling equipment, using the expertise of skilled work force.'},\n {'content': 'Our enthusiastic workforce is dedicated towards ensuring safety of our clients, hence our products are produced under strict operational procedure to ensure consistency and reliability.'},\n {'content': 'R&D facilities'},\n {'content': 'ACI Electrical factory is equipped with state of art testing facilities for Light, switch and Sockets. Our equipment include photo spectrometry meter, photo electric meter, switching life testing machines etc. Our R&D team is relentlessly working to make our products more energy efficient as well as develop new electrical products to serve our customers with new innovations.'},\n {'content': 'QA Department'},\n {'content': 'A dedicated team plays a watchful role in various steps of manufacturing to ensure delivery of consistent high quality product to our customer. All of our manufactured product undergoes mandatory QA check before it leaves our factory, so that our client are assured with product of high standards in line with ACI Culture.'},\n {'content': 'In the year 2012, ACI Edible Oils Limited has started its journey in the marketing of consumer pack edible oils under the well known household brands like ACI Nutrilife, and ACI Pure in Bangladesh. From the day of its establishment ACI Edible Oils Limited is trying to serve finest quality of edible oil to serve the consumers of Bangladesh, with the mission of promoting a healthy lifestyle for all.'},\n {'content': 'ACI Nutrilife believes in the betterment of people’s health and life. Apart from maintaining its uncompromising quality, under ACI Nutrilife, newsletter named Dr. Nutrilife is regularly published and distributed where expert advices on health are communicated. Through this newsletter we help our target group to fight against diseases like diabetes, cardiovascular diseases and colon cancer.'},\n {'content': 'Manufacturing Facilities'},\n {'content': 'Soyabean Oil factory is situated in Chittagong. The factory maintains international standards of quality assurance. Finest crude is selected and refined in hygienic facilities to remove impurities. The factory team consists of very experienced people running the operations smoothly.'},\n {'content': 'Our Market Presence'},\n {'content': 'ACI Nutrilife is currently the market leader in the Rice Bran Oil industry with more than 25% of market share. It has been growing since its beginning in 2012 at outstanding rates.'},\n {'content': 'ACI Pure Soyabean Oil is a fairly new entrant into the market. The Pure Soyabean oil business started its operation from middle of May, 2016. The company has targeted to get 8% market share within 2017.'},\n {'content': 'ACI Motors entered the Earth Moving Industry of Bangladesh in 2014 and represents world\\'s some of leading full line construction equipment manufacturers in \"Case Construction Equipment\" providing Backhoe Loader, Soil Compactor, Tandem Roller etc.'},\n {'content': 'In 2017, ACI Motors added China\\'s leading brand \"LOVOL Construction Equipment\" for the Wheel Loader and Mini Excavator segment.'},\n {'content': 'Another milestone ACI Motors has reached by introducing World most famous Japanese Brand \"KOBELCO\" in the segment of premium brand Excavator. KOBELCO ensures it\\'s products excellency and prestigious approach to customer by infusing most advanced technology throughout the machines.'},\n {'content': 'In 2021, ACI Motors Ltd. brought\\xa0legendary concreting equipment from\\xa0the Global Leaders AJAX. The product lines includes\\xa0Ajax Boom Pump,\\xa0Ajax Self Loading Concrete Mixer,\\xa0Ajax Stationary Concrete Pump and\\xa0Ajax Transit Mixer'},\n {'content': \"ACI Crop Care is one of the most renowned names and leading agro chemical manufacturer and supplier of Bangladesh. It has been about two decades since CC&PH (Crop Care & Public Health) has started the journey at 1996; and since then contributing to the growth of country's agriculture sector and marked a huge footprint in the industry by showing quality and innovation. ACI Crop Care helps farmers protecting their crops from diseases, insects and weeds and thereby increases farm production through appropriate use of pesticides. CC&PH is providing a complete range of cost effective solution for the farmers through formulating and marketing insecticides, herbicides, fungicides and miticides etc.\"},\n {'content': 'ACI CC&PH is having strong partnership with national and international R & D companies, universities and research institutions. Before introducing any product, it is elaborately tested in the laboratory and farmers field.'},\n {'content': 'ACI Crop Care & Public Health provides solution for farmers through agrochemical in order to safeguard them against economic loss from pest attack & weeds. We have over 53 products in chemical pesticide segment and 4 products in Bio-pesticide segment. Below is our complete product range including new businesses:'},\n {'content': 'ACI Crop care ensuring proper dosage of agrochemical is been applied through a nationwide Agro Expert team consisting of over 600 members working across the country. This large team of agro expert ensures that farmers get the maximum possible yield & least possible health hazard caused by agrochemicals through educating the farmers regarding cultivation, post-harvesting techniques, safe & judicial use of agrochemicals, Integrated Pest Management and so on.'},\n {'content': 'In line with objective of trying for food security, ACI Crop Care and Public Health works with more than 90,000 farmers individually in order to deal with very specific problems so that they get right solution at the right time at affordable price. Moreover, it also works with leader farmers who are strong reference group among farmers & holds scheduled farmer meeting to create awareness on pest management, judicial & safe use of agrochemical etc. Since channel partners especially retailers play vital role in case of prescribing the right product including right dosage, providing right information to the famers, ACI CC & PH regularly arranges retailer know how development program.'},\n {'content': 'Holding Top Position in Different Portfolios through Maximum range of Crop Pest Solutions:'},\n {'content': 'ACI crop care & public health has wide range of insecticides in order to protect crop against insects that increase yields from 25% - 60% & nationally holds 2nd position in insecticide portfolio. In addition to that, it has got cost-effective herbicide and fungicide solution that increase yields 29% - 80% & 20% - 80% respectively & nationally embraces 1st & 2nd position in herbicide & fungicide portfolio.'},\n {'content': 'On top of these, farmers have been enjoying an additional produce with yield booster brand “Flora” that increases yield up to 80%. Consequently, farmers get 360 degree solutions to the problems concerning crops and expected return on investment with the products and services of ACI Crop Care and Public Health.'},\n {'content': 'As operating business in Bangladesh, focusing on geo- economic aspect ACI agrochemical products have made an iconic symbol over farmers’ mind through excellent utility and contributed to the augmentation of national food grain production.'},\n {'content': 'In pursuit of environmental excellence:\\xa0Today the universe has experienced the demand for biological pesticides with more movements from anti-pesticide entity that has raised the importance of product stewardship program around the globe. This makes educating farmers the most important task our priority.'},\n {'content': 'The use of biological pesticide will soon be able to give competitive crop protection to farmers once it is introduced correctly. We believe Bangladesh will not be too far from following this trend in the near future.'},\n {'content': 'Not only through the products but also from the point of production ACI CC&PH is very much environment conscious. It has the Effluent treatment Plant (ETP) in their formulation plant. Besides the company has Incinerator, Environment Management Certification for 55% plantation which is keeping the factory environment International standard.'},\n {'content': 'For the Sustainable Agriculture& better future:\\xa0At ACI Crop Care, we recognize the crucial role science plays in preserving our resources for future generations. Since 20 years, we have been working to increase yield for the purpose of feeding our growing country. We are committed to helping farmers increase their crop productivity through higher yields, better varieties, and targeted weed, insect, and disease control – working with stakeholders across the national food value chain and modern agriculture to develop sustainable agricultural solutions that leverage the power of science to balance the needs of boosting agricultural productivity while preserving the environment.'},\n {'content': 'Through our commitment to sustainability, we are helping to advance human progress by discovering and developing solutions that help preserve the quality of our land contributing to community success through meaningful collaboration.'},\n {'content': 'Looking back to the establishment of ACI Formulations Ltd, there were no expectations of how the business to turn out. The only plan was to win the hearts of Bangladeshi farmers by bringing quality products to fulfil their needs. It has been 20 incredible years, the management and staff are even more committed to serve the farmers, the real heroes of Bangladesh, than before.'},\n {'content': 'Recognitions:'},\n {'content': 'Agro Award:'},\n {'content': 'As a recognition of the effort we are giving to uplift the farmers in root level, we have achieved the Standard Chartered’sAgro Award 2017 on ‘Best Agricultural Organization in Support & Execution’ category.'},\n {'content': 'Advanced Chemical Industries (ACI) Limited is one of the leading conglomerates in Bangladesh, with a multinational heritage. We have a mission to achieve business excellence through quality by understanding, accepting, meeting and exceeding customer expectations. We follow International Standards on Quality Management System to ensure consistent quality of products and services to achieve customer satisfaction.'},\n {'content': 'OperationsAdvanced Chemical Industries (ACI) Limited is one of the leading conglomerates in Bangladesh, with a multinational heritage'},\n {'content': \"The necessity of pure food in consumers' mind especially in the commodity food business has pushed ACI to fill up the market demand by producing food products. ACI Foods limited is engaged in manufacturing, marketing, and distribution food products and condiment under the brand names of PURE and FUN. Our portfolio covers practically basic spices, mixed spices, cereals, edible oil, snacks and confectionary categories.\"},\n {'content': 'Our Market Presence'},\n {'content': 'We are focusing on improving the food habit of consumers through providing more ready to cook products and ready to eat as well. ACI foods limited exports Pure and Fun Brand products to Australia, UAE, Kuwait, Saudi Arabia, Bahrain, Qatar and many other countries to come into the list.'},\n {'content': 'ACI Pure Flour Limited is one of the largest flour producing companies in Bangladesh delivering healthiest, purest and most hygienic flour by adopting State of the art technology.'},\n {'content': 'Atta, Maida, Suji, Multigrain Atta and Brown Atta'},\n {'content': \"ACI Pure Flour Limited is a Subsidiary of ACI Limited, established in 2008. The mission of ACI Pure Flour Limited (APFL) is to capture the demand and supply of wheat based product in Bangladesh. Within a very short span of time the brand 'ACI PURE' has become consumers' morning bell and the most familiar brand in the day to day life of the consumers and snatched a unique position overtaking all other players in the market.\"},\n {'content': 'Double digit growth with constant quality maintenance has made ACI Pure brand a huge success and made it a household product overnight. APFL believes that our business helps to drive the engine of economic development, and this has helped us to attain a remarkable position in the industry.'},\n {'content': 'ACI Pure Flour Limited introduced the country’s first laminated packaging in flour products. APFL provides the largest arrays of diversified products and proved itself as the most innovative company in the flour industry by providing Multigrain Atta, Brown Atta, Parata Maida, Suji Mix, Oats Atta, Lite brown atta & Baking Maida; apart from the regular all-purpose flour. We are the only company who is working to build the category of in the industry. Atta, Maida, Suji, Multigrain Atta and Brown Atta is now trending as separate category as we paved the way. We become leader in the segment of Suji and Brown Atta'},\n {'content': 'Apart from product innovation the company continues to be the trend setter in the industry in innovative marketing campaigns and activations. The brand ACI Pure Brown Atta has been promoted to doctors and health practitioners and made them brand-advocates. ACI Pure Brown Atta is the market leader in healthy atta category. ACI Nurtrilife Multigrain Atta is one of a kind product that provides multiple health benefits. The company also provides the finest quality Suji with premium price and also introduced Instant Suji Mix which is also a remarkable innovation. We are inspiring the mothers to feed their babies natural food instead of process food. The company continues to keep its market share in retail market and became number one in the modern trade.'},\n {'content': 'Manufacturing facilities'},\n {'content': 'ACI Pure Flour Limited has its own factory in Dewli, Chourapara, Bandar, Narayangonj having production capacity of 300 mt per day. ACI Pure Flour is using World famous European Technology “Ocrim Machine” for its production which is completely automated. Itcontinues toutilizeits100%capacity for consecutive years since the inception and penetrated all sorts of markets, consumers and institutions.'},\n {'content': 'The company has managed to built-up capacity of 450 mt per day in early 2016 by taking a state-of –the-art European factory on lease in Fauzdarhat, Chittagong which has given us strength to grow further. ACI Pure Flour is supported by well-qualified technical team of astute technocrats, business oriented professionals and diligent workers, who are highly experienced and have a thorough knowledge in the relevant field. The team is capable of delivering the best quality products to satisfy the customer demands and specifications.'},\n {'content': 'ACI Pure Flour Limited (APFL) is proud to be the one of the most successful businesses in ACI. The company has shown phenomenal performance over the years since its commencement. Not only with the top-line and bottom-line, the company has been outstanding in performing in every divisions of its operations having market share of 30 percent.'},\n {'content': 'Despite of sharp decline in global and local price, fierce competition of major brands, new entrants, the company registered itsvalue& volume growth over the years.Intelligent operations in production, supply-chain and distribution, procurement, sales and marketing made it happen.'},\n {'content': 'The company remains pretty optimistic in long-term prospects of this industry due to economic growth and the continuous transition of the consumption of loose products to branded consumer pack products in its key markets.The companywishes to continue to invest and strengthen its distribution networks, focus on brand building, product and packaging development and innovation, increase retail penetration, and introduce new products to become market leader.'},\n {'content': 'Seed industry is the most fundamental part of agriculture. The evolution of this industry towards high yielding variety and maintaining genetic diversity will play a critical role in ensuring sustainable increase in the agricultural output of Bangladesh. Keeping this challenge in mind, ACI started the seed business in 1998. In many products ACI Seed is the market leader and enjoying a considerable amount of market share. Our seeds have gained wide acceptance by farmers for their quality and yield.\\xa0Our R&D team is working relentlessly for innovating the new and resistant products for the farmers.This has created a positive brand image and a foundation of trust on which we can expand the business. We have our own research and development stations in Rural Development Academy, Bogra, Bangabandhu Sheikh Mujibur Rahman Agricultural University (BSMRAU), Gazipur and Bangladesh Agricultural University, Mymensingh. The ASRBC lab of ACI Seed is working relentlessly for innovating the new and resistant products for the farmers. ACI seed partnered with a lot of development organizations like USAID,IRRI,Katalyst, IFC and many others to improve the life of the people through implying effective business policy in the market. We are also partnered with many international seed companies and distributing one of the best quality seed in the market through our strong supply chain and SPC supports. Our plan is to grow this business through proper communication of agricultural practices and ensure appropriate use of hybrid seeds. We are focusing on more research and development for ensuring quality products by Biotechnology. We are using Blotter, PCR, TZ etc test for the supply of agricultural outputs in the country.'},\n {'content': 'After creating success stories in commodity industry ACI Consumer Brands has pioneered in setting new standards in rice industry of Bangladesh. This largest commodity sector was somewhat unstructured till now and product standardization was not there, distribution and supply-chain had challenges. Moreover, confusion among the consumers about the products has hindered the branding scope.'},\n {'content': 'The management team operates under the leadership of Anup Kumar Saha (Business Director, ACI Foods Limited- Rice Unit) and Abanti Kumar Sarkar (General Manager, ACI Foods Limited- Rice Unit). Moinur Rahman (Business Operation Manager) is responsible for the marketing operations of the business.'},\n {'content': 'The business has achieved around 350 million in the second quarter of 2016'},\n {'content': 'The mission of the business is to provide good quality rice to the consumers and bring extensive progression in the rice industry of Bangladesh.The vision that subsidizes the mission is attaining market leadership position in rice industry, attaining effective and efficient productivity in case of background operations and bringing innovations and novelty in the rice business structure of Bangladesh, contributing to the rice industry through consistent quality products and services.Values includes quality product, sustainable customer trust, consistent customer service, virtuous stakeholder relationship.'},\n {'content': 'The QC team is constantly working on finding new variants of rice and developing the current variants. The innovations include introducing the Pariza rice (variant of Paizam). The factory is situated in Naogaon with the current production capability of 32 MT per hour of distinct types of rice. This results in yearly production capability of 28 million MT per year. The processing is done with the best quality machines of Buhler. The raw paddy collection is done selectively, per boiled is done with purified water, packaging is made by food graded poly/jute bags and the drying process is fully automated.'},\n {'content': 'Our Market Presence'},\n {'content': 'Being a new business the market share has just started to grow in Bangladesh. The distribution network is spread to all the districts of the country. The business has achieved around 350 million in the second quarter of 2016. The product has achieved almost 116% of the budget within this period.'},\n {'content': 'The biggest dealers distribute our products in large quantities. The paddy is procured from the best farmers of the country on seasonal basis and stored for later production.'},\n {'content': 'AkzoNobel, headquartered in Amsterdam, The Netherlands, is one of the leading Global Paints and Coatings Company. Calling on centuries of expertise, it supplies industries and consumers worldwide with innovative products and sustainable technologies designed to meet the growing demands of this fast-changing planet. AkzoNobel operates in over 88 countries, with a portfolio including well-known paints and coatings brands such as\\xa0International, Interpon, Dulux and Duwel.'},\n {'content': 'Consistently ranked as one of the leaders in the area of Safety, Integrity and Sustainability, AkzoNobel is committed to making life more livable and cities more human. This organization holds strict on the values of customer focused, deliver on commitments, passion for excellence, and winning together. AkzoNobel makes its products unique and distinctive and provides customers with a hallmark of trust and quality. AkzoNobel has a long and distinguished history, for over 350 years, since the inception in 1646, this organization has constantly delivered technical and product innovation across the globe.'},\n {'content': 'In 2013, the Paint Division was formed when ACI Formulations Limited started distribution of the decorative products of AkzoNobel in Bangladesh. In 2016, ACI started manufacturing all of the decorative products in its own manufacturing facility, set up inside the ACI Formulations Factory, in Gazipur. Since 2017, ACI started selling performance coatings products of AkzoNobel to cater to the growing requirements of the market. These products include protective coatings, marine coatings, and powder coatings, which are imported directly from India, Singapore, UK, and other countries where AkzoNobel has their manufacturing plants.'},\n {'content': 'Currently ACI FL, along with its business partner AkzoNobel, are serving the Bangladesh market with global paints and coatings brands under the banner of\\xa0International, Interpon, Dulux, and Duwel.'},\n {'content': 'Decorative Paints\\xa0– we offer a wide range of decorative paints for interior and exterior concrete walls as well as for wood, metal and trims.'},\n {'content': 'Protective Coatings\\xa0– an extensive range of performance coatings for the following sectors: oil & gas, power, original equipment manufacturers, mining & metals and high value infrastructure.'},\n {'content': 'Marine Coatings\\xa0– we are the technology leaders in TBT-free antifouling, abrasion resistant coatings, ballast tank coatings and fouling control systems for vessels being built, repaired or maintained.'},\n {'content': 'Powder Coatings\\xa0– we are uniquely placed to meet the needs of our customers from a wide range of industries like Automotive, Architectural, Domestic Appliances, Furniture, General Industries, IT and General Trade coaters.'},\n {'content': 'Our decorative paint products are available under the global brand\\xa0Dulux and Duwel,\\xa0our protective coating products are marketed under the brand name\\xa0International,\\xa0and our powder coating products are sold under the brand name\\xa0Interpon.'},\n {'content': 'Unique characteristics of our decorative paints:'},\n {'content': 'Superior coverage across the interior range'},\n {'content': 'SunReflect™ Technology of exterior range – Keeps homes up to 5°C cooler by reflecting heat rays up to 2 times in comparison to regular exterior paints'},\n {'content': 'Sustainability across the range – from the economy products to the premium, all our products are developed and manufactured considering environmental sustainability, resulting in all products having low VOC and no heavy metal content.'},\n {'content': 'Dulux Colour Solution Store™ - using our state-of-the-art tinting facility, we are able to offer our interior and exterior products in any colour required by our customers.'},\n {'content': 'A general list of industrial coatings sold:'},\n {'content': 'Chartek & Interchar – Intumescent Passive fire protection system for steel'},\n {'content': 'Epoxy, Alkyd, and Polyurethane coatings'},\n {'content': 'Specialized tank-lining systems.'},\n {'content': 'Heat resisting coatings'},\n {'content': 'Acrylics & zinc silicates'},\n {'content': 'Glass flake and high-build splash zone barrier coats'},\n {'content': 'Phenolic & Epoxy insulation materials'},\n {'content': 'All these products have an extensive track record and are economical as well. We provide customer focused solutions with an objective to:'},\n {'content': 'Identify and meet customer requirements.'},\n {'content': 'Design and introduce new products which meet customer requirements,'},\n {'content': 'Establish and maintain control over raw material quality and product formulation.'},\n {'content': 'Manufacture product right first time.'},\n {'content': 'Ensure customer satisfaction in terms of quality and service.'},\n {'content': 'ACI Motors obtained dealership of YAMAHA Motorcycles in 2016. Operating for 60 years, YAMAHA, the Japanese motorcycle manufacturer, has been a leader in innovation; designing championship-winning race technology bikes to economical and practical street bikes it has won the heart of millions around the globe.'},\n {'content': 'Our Market PresenceDesigned with excellent ergonomics for the adventurous'},\n {'content': \"ACI Motors brings the best of YAMAHA, meeting the demand of the people- the sporty FAZER FI, YZF R15 and FZS FI, designed with excellent ergonomics for the adventurous with comfortable riding position and seat ensuring the rider can enjoy a weekend getaway or head off on a touring holiday; the befitting family bikes SALUTO Disc and SALUTO Drum, designed with a priority on fuel economy and practicality; and SZ-RR for the 'Powerful and Stylish Commuter'.\"},\n {'content': 'ACI Motors motto: \"Bringing Motion to Life\"'},\n {'content': 'ACI Animal Health strives to provide resources from veterinarians and fisheries experts to livestock and fisheries farmers with the high quality medicine and vaccine they require to succeed. It is a highly proactive, vigorous and diversified business with a solid, scientifically demonstrated product portfolio. Our aim is to create value and add to the progressing achievement of our customers. It also helps the farm-owners with useful information, modern technologies, and helps in identifying problems related to domestic animals and fisheries. ACI Animal Health is moving ahead with a great pace, and its wide range of innovations is committed to ensure protein availability to every individual of the country.'},\n {'content': 'OperationsACI Animal Health is improving the livestock and fisheries sector'},\n {'content': 'ACI Animal Health is reaching its customers by manufacturing, importing, distributing and marketing their products. It produces nutritional products, antibiotics, disinfectants, analgesic, and antihistamines at its own factory at Naraynaganj and distributes them nationwide. The products are made in a controlled environment that ensures highest level of quality. Notably, ACI has invested in a laboratory, where experienced pharmacist, chemist, microbiologist constantly improve products and controls the quality. ACI also markets pond management products, medicinal feed additives, probiotics and other pharmaceuticals. It is also involved in a Joint venture with Ceva in the vaccine segment and have many other joint ventures for other segments. Through this collaboration, ACI Animal Health is improving the livestock and fisheries sector by providing medicines, germicides and nutritional feed additives.'},\n {'content': 'Market Presence'},\n {'content': 'To complement its business activities, ACI Animal Health provides training regarding improved farming techniques, communicates and exchanges information and advice about spotting diseases in the farm animals, and educates farmers and businessmen about recent developments regarding animal health technologies. The ACI Animal Health team strives to provide complete solution by providing timely customer service, relevant technical education and incisive business support for ensuing highest yield for the farmers and its institutional customers. ACI Animal Health endeavors to serve the entire nation in terms of more diversified and greater source of protein for every individual in the country.'},\n {'content': 'ACI Godrej Agrovet Private Limited was established in 2004 under the Companies Act 1994 as a joint venture of Godrej Agrovet Limited, a reputed company of the Godrej Group and ACI Limited, Dhaka, a highly respected conglomerate in Bangladesh. The company has gained reputation as a quality feed manufacturer catering to the ever growing needs of the feed industry. Producing high end Poultry, Cattle, Fish and Shrimp feed and day old chicks (DOC) the company prioritizes QUALITY over everything.'},\n {'content': 'OperationsWE HELP FEED THE NATIONS'},\n {'content': 'Spreading across the country the company has bonded and established good relations as well as reputation with the farmers of Bangladesh. Supported with the high-tech research and development (R&D) of Godrej Agrovet Limited the company strives to deliver quality feed to the farmers fulfilling the nutritional needs of their animals for better performance. Being customer centric the company emphasizes on working closely with the farmers educating them about world-class farming practices.From farm management for poultry to pond management for fish, we are always extending our borders and bringing world-class feed as well as our vast knowledge for enhanced farming.'},\n {'content': 'Manufacturing Plant'},\n {'content': 'The Feed Mill located in Sirajganj is the heart of the company. Delivering around200 thousand tons per year the feed mill produces Poultry (Layer & Broiler), Cattle (Dairy & Beef), Fish (Sinking & Floating) and Shrimp Feed using the latest technology and ensuring excellent quality. The Feed Mill encompassing 6 acres of land was commissioned in 2005 importing high tech machineries from Jiangsu Muyang Group, China, Extrutech Inc., America, Stolz, France and Neotech Projects, India. The same year it started its operation and further expanded in 2007 & 2009.Purchasing the best quality raw materials from all over the country and also importing some of the best raw materials, vitamins & premixes from abroad the 3 plants running 24/7.Our state of the art laboratory with highly qualified professionals has all the equipment required to ensure the quality consistency. Conducting both physical and chemical tests in every step, from raw material receiving to production to end product, we ensure that our customers are delivered world-class standards. We have well ventilated warehouses and silos for storing both our raw materials and finished goods in the best possible condition.The Feed Mill has its own power source and separate water treatment plants to ensure pure water for feed production and drinking. We are environment friendly and ensure the no byproduct is released to the environment without proper treatment. Having a nice view of the countryside, the Feed Mill is just 5 kilometers away from the highway which makes the location perfect for both raw material receiving as well as dispatch. We have a strong Safety Culture & strive in all spheres to transform & inculcate this concept in the hearts of our employees.Providing canteen, resting and sports facilities we are also customer-centric towards our stakeholders.'},\n {'content': 'Operated by ACI Logistics Limited, Shwapno is the top retail brand in Bangladesh. As the largest retail chain in the country, Shwapno touches the lives of over 35,000 households each day. ACI Logistics made its entry into retail in 2008 as “Fresh and Near” in order to fulfill the company’s “Seed to Shelf” vision of connecting farmers directly with consumers.'},\n {'content': 'Shwapno is well set to become one of Bangladesh’s largest businesses in the coming years'},\n {'content': 'Starting off with fresh produce and daily household needs, Shwapno outlets now carry everything from apparel, home décor, electronics and much more. This includes a number of grocery private label brands as well as the in-house fashion label Shwapno Life. Today, Shwapno operates 56 outlets across Dhaka, Chittagong, Sylhet and Comilla, with a total retail space of 310,000 square feet and a workforce of over 2,500. Shwapno operates multiple outlet formats from small convenience stores to large megamall layouts (ranging from 1,500 to 27,000 square feet), providing the ideal experience for customers in each location. The company has been successful in reaching its position as market leader (with 45% market share) not only because of the exceptional quality, value, convenience and service it offers customers, but because Shwapno has been successful in developing a truly world class retail architecture and shopping experience for the first time in the country.'},\n {'content': 'Operations'},\n {'content': 'At the heart of the Shwapno vision is the passion to make a positive impact on the lives of many. From the beginning, Shwapno set off to drastically change the way in which the mass consumer base in the country fulfills its daily needs, brining modern retail into the lives of consumers that had for long relied on wet markets and other unsafe traditional shopping channels. Beyond ensuring the quality of its own products, Shwapno has been a major advocate in the movement for healthy living, carrying out numerous campaigns on nutrition and food safety. To ensure it carries only the freshest fruits, vegetables, fish and meat, ACI Logistics has developed a sourcing network with growers across the country, and today 65% of Shwapno’s fresh produce is procured directly from source. The company achieved a major milestone in 2016 by joining Global G.A.P., the leading private sector body addressing the crucial objectives of ensuring safe, sustainable agriculture worldwide. Through its membership with Global G.A.P., Shwapno is not only further improving the quality of its products, but is also working for the wellbeing of the growers across the country.'},\n {'content': 'Market Presence'},\n {'content': 'Shwapno was initially focused on the price sensitive customer base, but after years of steady growth of its conventional retail and other channels, the company now serves a diverse market covering many segments. The Shwapno brand itself has evolved over this journey, and today is shifting its focus from value to nurturing aspiration. By delivering excellent service and through award winning communication campaigns, Shwapno has become the most recognized and trusted retail name in the country, an achievement that was reflected with the awarding of the Best Retail Brand award by Bangladesh Brand Forum in 2016.'},\n {'content': 'With 600,000 registered customers, 2500 colleagues, and thousands of suppliers and growers, Shwapno has a large footprint across the country. While continuing to expand its primary retail operations, raising standards and customers’ expectations, as well as exploring new frontiers such as E-commerce, the company is well set to become one of Bangladesh’s largest businesses in the coming years.'},\n {'content': 'Premiaflex Plastics Limited (Subsidiary of ACI Limited) is a private limited company, incorporated in 2009. The factory is located at Gazipur. Premiaflex Plastics is a growth oriented company, specializing in the manufacture in flexible packaging.We supply quality products of printed flexible packaging material usingfully automated roto gravure printing technologies for various form of laminates with foil, film & paper.Our operations expanding rapidly to meet the growing needs of local markets. Continuous investment in new machineries and skilled manpower push us in the top position in packaging industries.'},\n {'content': 'TechnologyPremiaflex strives to provide the best quality packaging materials to its valued customers'},\n {'content': 'Premiaflex manufactures from its own factory in Gazipur; all kinds of flexible packaging materials using advanced technology machinery and fully automated Rotogravure technology to fulfill the needs of the local market and also tap into the export market.Through the introduction of 5 layer film making machine, Lamination extrusion machine, 10 color printing machine and a state of the art Quality Control Lab Premiaflex Plastics has been able to manufacture high barrier edible oil and dairy based products, provide 5 layer packaging with spot lamination and provide the highest quality of packaging. With State of the art Quality Control Laboratory equipped with modern advanced equipment’s for the first time in Bangladesh, we have been able to ensure the best quality inspected products for our customers. The future looks bright for the business as we have started to bring in new technological extension to their product line and grow with our business partners. Premiaflex Plastics is planning to expand technological innovation through Lami Tube production project, Alu-Alu foil for pharmaceutical packaging and also expanding the production capacity by adding a second line of expansion.'},\n {'content': 'Market Presence'},\n {'content': 'Premiaflex believes in continuous improvement and thus conduct constant upgrading and investment in machineries and manpower. Such endeavors have ensured that Premiaflex is a well-known brand in the market. Premiaflex strives to provide the best quality packaging materials to its valued customers to gain customer’s trust and achieve sustainable business growth. The company serves a multitude of multinational and local customers namely Unilever, GlaxoSmithKline, Nestle, Reckitt Benckiser, Perfetti Van Melle, Bangladesh Edible Oil, Transcom, Marico, Godrej, Pepsico, Pran, Ceylon, City group, HRC, Haque, Partex, Tibet, Olympic, Cocola, UniQlo ( Japan ), etc.'},\n {'content': 'History'},\n {'content': 'Product packaging is now an integral part of the final product and in a competitive business landscape, a good packaging can determine the success or failure of a product. An effective packaging can also be a good tool to disseminate information to the intended customer. Back in 2008, the packaging industry in Bangladesh was still in the development stages and there has been much room for innovation and development. In order to induce innovation in the packaging industry and tap into huge market potential, ACI started its packaging business under the name of Premiaflex Plastics Limited in 2008.'},\n {'content': 'ACI Premio Plastics (SBU of Premiaflex Plastics Limited) is a newly launched venture of ACI Limited, a leading conglomerate in Bangladesh. Premio started its journey on 2018 with a promise in mind to deliver premium quality plastic made products for its customers. ACI Premio Plastics marketed its products in 64 districts through experienced sales team and strong distribution system.'},\n {'content': 'Brand-ACI Premio Plastics'},\n {'content': 'CEPL marketed its products under the brand name of ACI Premio Plastics. ACI Premio Plastics concentrates on improving the quality of life of consumer through uniqueness and innovation in product design and utility. We have incorporated the latest technology and best human resources to ensure the quality of products and services. Our major products categories are Household and Furniture. We believe our continuous investment on ideas and technology will enable us to offer premium solution to the local as well as global consumer market.'},\n {'content': 'Products and Business Operations'},\n {'content': 'We are offering 200 different types of Furnitureand Household plastic products. These are available in 35 completely new and premium color shades. All the products are made by premium plastics resin using China and Taiwan technology, and for the first time in Bangladesh we use human health friendly tritan material on our products. We also offer lifetime warranty for the furniture items which are never ever given by any other companies in Bangladesh. Our extremely trained and skilled sales team and the nationwide powerful distribution make it possible to reach our product over the entire 64 district of Bangladesh. Our Dream is to be best and every household of our nation will have and use premium plastics products by ACI Premio Plastics within 2020.'},\n {'content': 'Infolytx Bangladesh Limited is a startup in the IT services arena. Focused on leading-edge and innovative solutions in the healthcare and high-tech space, Infolytx exclusively addresses international client needs.'},\n {'content': 'Introduce the latest technologies, solutions and processes to our engineers so that the caliber of work produced here is second to none.OperationsInfolytx commenced operations in Dhaka in September of 2015. The firm is organized by our client service offerings in the following five competencies:'},\n {'content': 'Machine Learning'},\n {'content': 'Text Analytics'},\n {'content': 'AR/VR and Data-driven Visualizations'},\n {'content': 'Mobile Solutions and Applications'},\n {'content': 'Data Aggregation and Integration'},\n {'content': 'Following world-class methodologies and processes diligently allows Infolytx to offer advanced technology solutions.'},\n {'content': 'Our Market Presence'},\n {'content': 'Infolytx plans to grow its presence such that it is a major employer of technology personnel in Bangladesh. Investing heavily in the recruitment and training of software engineers from the major technology institutes and universities of the country will allow Infolytx to have a significant impact on the quality of Bangladesh’s IT talent.'},\n {'content': 'With an international and very IT-savvy client base, Infolytx will work with and introduce the latest technologies, solutions and processes to our engineers so that the caliber of work produced here is second to none.'},\n {'content': 'Air Care is yet another product category ACI enriches its customers’ lives with. Angelic Air Freshener; the pioneer among locally manufactured air fresheners is the leader in the category. It is the perfect way to fill your home, office or car with a cool soothing fragrance and to make the environment relaxed and tranquil. Its enticing fragrances are inspired from essential oils extracted from fruits, flowers and plants which lift your mood up and take you to the world of imagination.'},\n {'content': 'Products'},\n {'content': 'Angelic Air Freshener is holding the market leader position with a variety of products. Following are the products with which Angelic has enriched its portfolio'},\n {'content': 'ACI Motors Limited provides Complete Farm Mechanization Solution to farmers by offering a wide range of agriculture machineries - Tractor, Power tiller, Reaper, Mini Combine Harvester, RiceTransplanter etc. covering the full cycle from land preparation and cultivation to crop preservation.'},\n {'content': 'OperationsBest After Sales Service in only 6 hours anywhere in Bangladesh.'},\n {'content': 'ACI Motors has set the industry benchmark of providing the best After Sales Service in only 6 hours anywhere in Bangladesh. We have established a large network with our own sales and service center at 8 locations and hundreds of Authorized Parts Dealers all across the country.We also provide flexible credit facilities to make high-quality agricultural machineries available to the farmers; andthus ACI Motors has propelled farm mechanization in Bangladesh. We have a Customer Care Helpline (16509) that operates 9:00 am to 6:00 pm everyday.'},\n {'content': 'Our Market Presence'},\n {'content': 'ACI Motors has introduced Sonalika Tractor of ITL (International Tractors Limited), which has been specially designed for Bangladesh making it suitable for small land size & roads. ACI Power Tillers have been designed to be fuel efficient and with more output to meet the market demand.We have also introduced ACI Reaper,Daedong Combine Harvester & ACI Mini Combine Harvester, which have been customized keeping in mind the unique soil condition of the country. We also have ACI Diesel Engine and ACI Water Pump, Rice Transplanter, Crop Preservation technologiesto provide 360° service for the advancement of the rural scene of Bangladesh.All the brands introduce by ACI have received tremendous response from the farmers.'},\n {'content': 'Fertilizer business started in 2007. The potential for crop production in Bangladesh is immense. However, we are not operating at maximum capacity yet. Even with favorable soil condition, crop production in Bangladesh has not always been adequate. This means Farmers needed to boost its production through usage of balanced fertilizers.'},\n {'content': 'Operationsis to provide complete plant nutrient & soil health solution'},\n {'content': 'ACI Fertilizer collaborates with the government, as well as agro-research institutions to find out the best agricultural practices that can promote better yields. It trains retailers and farmers partnering with government and non-government organizations about the benefits and nutrient contents of different fertilizers, helps farmers to select a balanced mixture of fertilizers for their land and encourages farmers to use organic and bio fertilizers in order to restore soil health and enhance sustainability of natural resource.'},\n {'content': 'Mission'},\n {'content': 'The mission of ACI Fertilizer is to provide complete plant nutrient & soil health solution to the farmers for optimum crop production with quality products, new technology, better customer service & effective communication.'},\n {'content': 'Products'},\n {'content': 'ACI Fertilizer has come up with a wide range of organic fertilizer, macro & micronutrient and foliar fertilizers while incorporating modern methods and technology in the soil management practices in Bangladesh to ensure high yields of crops.'},\n {'content': 'ACI Chemicals Limited serves a diverse set of B2B markets in Bangladesh mainly to a number of focus industries, such as textiles, leather, plastic, personal care, food ingredients, commodities, energy, industrial machineries, pharma ingredients etc.'},\n {'content': 'We focus on technology-driven industries with attractive, long-term growth trends. Our global reach provides our customers unparalleled connectivity to ensure they have a single source for all of their forward and backward integration needs.'},\n {'content': 'We are well equipped with world class source and solutions of different types of raw materials ranging from textile chemicals to food functional ingredients, heavy industrial capital machineries to packaging raw materials. We are committed to provide COMPLETE SUPPLY CHAIN SOLUTIONS to our valued customers'},\n {'content': \"ACI Marine & Riverine Technologies (The Company) was incorporated in December 2019. The company is driven with a mission of 'Improving Quality of Life through responsible application of technology and services in Marine & Riverine operation'.\"},\n {'content': 'ACI Marine & Riverine Technologies intent to operate in two major categories i) Marine/Sea related business, which includes Ship Building & Repairing, Coastal Transportation, Coastal & Deep-sea fishing, Coastal tourism, Engines, Marine traffic tracking, Marine Accessories and ii) River operation related business which includes Inland Shipping, Ship Chartering, Dredging, Inland River tourism and water management.'},\n {'content': 'With a dream of navigating through the sea of opportunities provided by Blue Economy, the company has already started rolling out less capital intensive yet highly demanding product lines such as Marine Engine, Lubes, Accessories and Spare Parts. Also searching the possibility to extract abundant wealth in the sea by practicing high technology.'}]"
     },
     "execution_count": 4,
     "metadata": {},
     "output_type": "execute_result"
    }
   ],
   "source": [
    "import re\n",
    "# tokenizer = nltk.data.load('tokenizers/punkt/english.pickle')\n",
    "fp = open(\"./data/aci_business.txt\")\n",
    "data = fp.read()\n",
    "data = re.sub(\"\\n+\", \"\\n\", data)\n",
    "docs =[{\"content\": paragraph} for paragraph in data.splitlines()]\n",
    "docs"
   ]
  },
  {
   "cell_type": "code",
   "execution_count": 6,
   "metadata": {
    "id": "FWGbFC4-6EBB"
   },
   "outputs": [],
   "source": [
    "# Initialize document store and write in the documents\n",
    "document_store = InMemoryDocumentStore()\n",
    "document_store.delete_documents()\n",
    "document_store.write_documents(docs)"
   ]
  },
  {
   "cell_type": "code",
   "execution_count": 7,
   "metadata": {
    "colab": {
     "base_uri": "https://localhost:8080/"
    },
    "id": "8PLCw5eA6QS3",
    "outputId": "437d790b-e71a-4c02-ab5a-2fa346e3c3f8"
   },
   "outputs": [
    {
     "data": {
      "text/plain": "False"
     },
     "execution_count": 7,
     "metadata": {},
     "output_type": "execute_result"
    }
   ],
   "source": [
    "import torch\n",
    "# confirm GPU is available, outputs True if so\n",
    "torch.cuda.is_available()"
   ]
  },
  {
   "cell_type": "code",
   "execution_count": null,
   "metadata": {
    "id": "QNIzGZDA6QVy"
   },
   "outputs": [],
   "source": [
    "from haystack.nodes import EmbeddingRetriever\n",
    "\n",
    "retriever = EmbeddingRetriever(\n",
    "   document_store=document_store,\n",
    "   embedding_model=\"flax-sentence-embeddings/all_datasets_v3_mpnet-base\",\n",
    "   model_format=\"sentence_transformers\"\n",
    ")"
   ]
  },
  {
   "cell_type": "code",
   "execution_count": null,
   "metadata": {
    "colab": {
     "background_save": true,
     "base_uri": "https://localhost:8080/",
     "height": 116,
     "referenced_widgets": [
      "0854705eff0c489e820913e357fbf410",
      "8d46a291fc6c40d8908fd0fc7ee208a4",
      "2ad87dcc687a4bf5860272ae4f3cdb2a",
      "da818c8307434de1b7e80142a120815c",
      "5ec22a7a3b70472aa1884222f21fe9a0",
      "e6bcc997d67241d28fdedd4931076a49",
      "6560de9de3db4be7bf2ddc37e999b60e",
      "7f88f15f4dee4b448dd97ffa5e34af62",
      "2bc1e5fe10e24713a2f1cdb645af5710",
      "ae8750a94578447a9460f2e268e479e9",
      "4f1b9f6768ad421fa58e3319b4f72716",
      "dc4da78e8afc45cd8e54f8b9b68a9284",
      "ab8cd77d8cce4b03b1e23b511375588e",
      "0fc283bcbd6d4f038cb0c873df215bda",
      "e8e3e2e910a74ece9029cd33b92653c9",
      "d21ef26c57cf44df8a9b50e98f920299",
      "f989a60fc789468db31e330909e5a001",
      "90aa255a1d3c4e30bb49d7ed70e7a8ce",
      "370a07dda3a542218e112a4c938fd05a",
      "69cca51b3c9842d291633203861a6281",
      "35d9bc72055342e98543faa19cdd1273",
      "7a034e3c90934d65b8c5222fd1882a55",
      "39d1e80b23174996b1ee1d3b63d55f06",
      "a0053f197a2140fb887f66179cff12fc"
     ]
    },
    "id": "1iAFdTcD6QcT",
    "outputId": "47347b73-c2cf-4924-a7c7-c7f3b774b93b"
   },
   "outputs": [
    {
     "data": {
      "application/vnd.jupyter.widget-view+json": {
       "model_id": "0854705eff0c489e820913e357fbf410",
       "version_major": 2,
       "version_minor": 0
      },
      "text/plain": [
       "Updating embeddings:   0%|          | 0/286 [00:00<?, ? Docs/s]"
      ]
     },
     "metadata": {},
     "output_type": "display_data"
    },
    {
     "data": {
      "application/vnd.jupyter.widget-view+json": {
       "model_id": "dc4da78e8afc45cd8e54f8b9b68a9284",
       "version_major": 2,
       "version_minor": 0
      },
      "text/plain": [
       "Batches:   0%|          | 0/4 [00:00<?, ?it/s]"
      ]
     },
     "metadata": {},
     "output_type": "display_data"
    },
    {
     "data": {
      "application/vnd.jupyter.widget-view+json": {
       "model_id": "39d1e80b23174996b1ee1d3b63d55f06",
       "version_major": 2,
       "version_minor": 0
      },
      "text/plain": [
       "Batches:   0%|          | 0/4 [00:00<?, ?it/s]"
      ]
     },
     "metadata": {},
     "output_type": "display_data"
    },
    {
     "data": {
      "application/vnd.jupyter.widget-view+json": {
       "model_id": "a0053f197a2140fb887f66179cff12fc",
       "version_major": 2,
       "version_minor": 0
      },
      "text/plain": [
       "Batches:   0%|          | 0/1 [00:00<?, ?it/s]"
      ]
     },
     "metadata": {},
     "output_type": "display_data"
    }
   ],
   "source": [
    "document_store.update_embeddings(\n",
    "   retriever,\n",
    "   batch_size=128\n",
    ")"
   ]
  },
  {
   "cell_type": "code",
   "execution_count": null,
   "metadata": {
    "colab": {
     "background_save": true,
     "referenced_widgets": [
      "b1de3c096ce84d8f80beea3f371fb295"
     ]
    },
    "id": "-id4tzeI70pe",
    "outputId": "ba784cb9-d115-45db-e6e7-c11a80af7317"
   },
   "outputs": [
    {
     "data": {
      "application/vnd.jupyter.widget-view+json": {
       "model_id": "b1de3c096ce84d8f80beea3f371fb295",
       "version_major": 2,
       "version_minor": 0
      },
      "text/plain": [
       "Batches:   0%|          | 0/1 [00:00<?, ?it/s]"
      ]
     },
     "metadata": {},
     "output_type": "display_data"
    },
    {
     "name": "stdout",
     "output_type": "stream",
     "text": [
      "\n",
      "Query: Is ACI  be a good company?\n",
      "\n",
      "{   'content': 'With almost three decades of partnering life and engendering '\n",
      "               'hope, ACI is one of the top pharmaceutical companies in '\n",
      "               'Bangladesh, employing more than 5,000 people all over the '\n",
      "               'country. As a progressive and forward-thinking company, ACI '\n",
      "               'Pharma is dedicated to improve the health of people of '\n",
      "               'Bangladesh through introduction of innovative and reliable '\n",
      "               'pharmaceutical products.',\n",
      "    'name': None}\n",
      "\n",
      "{   'content': 'Advanced Chemical Industries (ACI) Limited is one of the '\n",
      "               'leading conglomerates in Bangladesh, with a multinational '\n",
      "               'heritage. We have a mission to achieve business excellence '\n",
      "               'through quality by understanding, accepting, meeting and '\n",
      "               'exceeding customer expectations. We follow International '\n",
      "               'Standards on Quality Management System to ensure consistent '\n",
      "               'quality of products and services to achieve customer '\n",
      "               'satisfaction.',\n",
      "    'name': None}\n",
      "\n"
     ]
    }
   ],
   "source": [
    "from haystack.pipelines import DocumentSearchPipeline\n",
    "from haystack.utils import print_documents\n",
    "\n",
    "search_pipe = DocumentSearchPipeline(retriever)\n",
    "result = search_pipe.run(\n",
    "    query=\"Is ACI  be a good company?\",\n",
    "    params={\"Retriever\": {\"top_k\": 2}}\n",
    ")\n",
    "\n",
    "print_documents(result)\n",
    "\n"
   ]
  },
  {
   "cell_type": "code",
   "execution_count": null,
   "metadata": {
    "colab": {
     "background_save": true
    },
    "id": "ebV9hrAK89UI"
   },
   "outputs": [],
   "source": [
    "from haystack.nodes import Seq2SeqGenerator\n",
    "\n",
    "generator = Seq2SeqGenerator(model_name_or_path=\"vblagoje/bart_lfqa\")"
   ]
  },
  {
   "cell_type": "code",
   "execution_count": null,
   "metadata": {
    "colab": {
     "background_save": true
    },
    "id": "EaOBqic789Z1"
   },
   "outputs": [],
   "source": [
    "from haystack.pipelines import GenerativeQAPipeline\n",
    "\n",
    "pipe = GenerativeQAPipeline(generator, retriever)"
   ]
  },
  {
   "cell_type": "code",
   "execution_count": null,
   "metadata": {
    "colab": {
     "background_save": true,
     "referenced_widgets": [
      "f679cfd0f2954aa9ae58790ac7427840"
     ]
    },
    "id": "S2zJvv5s9vBX",
    "outputId": "e3ed9c9c-ce08-4bdd-f68b-18dc03241182"
   },
   "outputs": [
    {
     "data": {
      "application/vnd.jupyter.widget-view+json": {
       "model_id": "f679cfd0f2954aa9ae58790ac7427840",
       "version_major": 2,
       "version_minor": 0
      },
      "text/plain": [
       "Batches:   0%|          | 0/1 [00:00<?, ?it/s]"
      ]
     },
     "metadata": {},
     "output_type": "display_data"
    },
    {
     "data": {
      "text/plain": [
       "[<Answer {'answer': 'The mission of ACI is to improve the quality of life of the people through responsible application of knowledge, technology and skills.', 'type': 'generative', 'score': None, 'context': None, 'offsets_in_document': None, 'offsets_in_context': None, 'document_id': None, 'meta': {'doc_ids': ['65076eca9c09331e0c268ff6939a3801', '85d8843deade9d2f617f90defa8184de', 'f86673619fc2091f1347d3732cd52380'], 'doc_scores': [0.501715093273254, 0.5015258702631026, 0.5013632466219664], 'content': [\"ACI's Mission is to enrich the quality of life of the people through responsible application of knowledge, technology and skills. ACI is committed to the pursuit of excellence through world-class products, innovative processes and empowered employees, to provide the highest level of satisfaction to our customers.\", 'The vision of ACI are Provide products and services of high and consistent quality, ensuring value for money to our customers, Endeavour to attain a position of leadership in each category of our businesses, Develop our employees by encouraging empowerment and rewarding innovation, Promote an environment for learning and personal growth, Attain a high level of productivity in all our operations through effective utilisation of resources and adoption of appropriate technology, Promote inclusive growth by encouraging and assisting our distributors and suppliers in improving efficiency, Ensure superior return on investment through judicious use of resources and efficient operations, utilising our core competencies.', 'To attain the Vision ACI will:'], 'titles': ['', '', '']}}>]"
      ]
     },
     "execution_count": 104,
     "metadata": {},
     "output_type": "execute_result"
    }
   ],
   "source": [
    "\n",
    "\n",
    "result = pipe.run(\n",
    "        query=\"Mission of ACI?\",\n",
    "        params={\n",
    "            \"Retriever\": {\"top_k\": 3},\n",
    "            \"Generator\": {\"top_k\": 1}\n",
    "        })\n",
    "\n",
    "result[\"answers\"][0].answer\n",
    "\n"
   ]
  },
  {
   "cell_type": "code",
   "execution_count": null,
   "metadata": {
    "colab": {
     "base_uri": "https://localhost:8080/",
     "height": 52
    },
    "id": "WjxyNtGi9vD-",
    "outputId": "d89d131a-db1c-469f-80be-167d053b2ac2"
   },
   "outputs": [
    {
     "data": {
      "application/vnd.google.colaboratory.intrinsic+json": {
       "type": "string"
      },
      "text/plain": [
       "'The mission of ACI is to improve the quality of life of the people through responsible application of knowledge, technology and skills.'"
      ]
     },
     "execution_count": 93,
     "metadata": {},
     "output_type": "execute_result"
    }
   ],
   "source": [
    "result[\"answers\"][0].answer"
   ]
  },
  {
   "cell_type": "code",
   "execution_count": null,
   "metadata": {
    "colab": {
     "base_uri": "https://localhost:8080/"
    },
    "id": "pyp9QqJo_TMl",
    "outputId": "be030f44-c5e7-41da-967c-6932fe74cccd"
   },
   "outputs": [
    {
     "data": {
      "text/plain": [
       "dict_keys(['query', 'answers', 'documents', 'root_node', 'params', 'node_id'])"
      ]
     },
     "execution_count": 86,
     "metadata": {},
     "output_type": "execute_result"
    }
   ],
   "source": [
    "result.keys()"
   ]
  },
  {
   "cell_type": "code",
   "execution_count": null,
   "metadata": {
    "colab": {
     "base_uri": "https://localhost:8080/"
    },
    "id": "xwYOaB8Z_VbE",
    "outputId": "c236fbad-df48-4b17-8e7b-25e3941240c6"
   },
   "outputs": [
    {
     "data": {
      "text/plain": [
       "[<Document: {'content': 'With almost three decades of partnering life and engendering hope, ACI is one of the top pharmaceutical companies in Bangladesh, employing more than 5,000 people all over the country. As a progressive and forward-thinking company, ACI Pharma is dedicated to improve the health of people of Bangladesh through introduction of innovative and reliable pharmaceutical products.', 'content_type': 'text', 'score': 0.5016781436987151, 'meta': {}, 'embedding': None, 'id': '88f16502772e9c62fb74182e0cd36423'}>,\n",
       " <Document: {'content': 'Advanced Chemical Industries (ACI) Limited is one of the leading conglomerates in Bangladesh, with a multinational heritage. We have a mission to achieve business excellence through quality by understanding, accepting, meeting and exceeding customer expectations. We follow International Standards on Quality Management System to ensure consistent quality of products and services to achieve customer satisfaction.', 'content_type': 'text', 'score': 0.5016206193247562, 'meta': {}, 'embedding': None, 'id': 'e3a78e04c21aa13fbb8f40b7b9911c34'}>,\n",
       " <Document: {'content': \"ACI Marine & Riverine Technologies (The Company) was incorporated in December 2019. The company is driven with a mission of 'Improving Quality of Life through responsible application of technology and services in Marine & Riverine operation'.\", 'content_type': 'text', 'score': 0.5014794956820052, 'meta': {}, 'embedding': None, 'id': '850f6472d86655c8cd93d04475b84a70'}>]"
      ]
     },
     "execution_count": 87,
     "metadata": {},
     "output_type": "execute_result"
    }
   ],
   "source": [
    "result[\"documents\"]"
   ]
  }
 ],
 "metadata": {
  "colab": {
   "provenance": []
  },
  "gpuClass": "standard",
  "kernelspec": {
   "display_name": "Python 3",
   "name": "python3"
  },
  "language_info": {
   "name": "python"
  },
  "widgets": {
   "application/vnd.jupyter.widget-state+json": {
    "0854705eff0c489e820913e357fbf410": {
     "model_module": "@jupyter-widgets/controls",
     "model_module_version": "1.5.0",
     "model_name": "HBoxModel",
     "state": {
      "_dom_classes": [],
      "_model_module": "@jupyter-widgets/controls",
      "_model_module_version": "1.5.0",
      "_model_name": "HBoxModel",
      "_view_count": null,
      "_view_module": "@jupyter-widgets/controls",
      "_view_module_version": "1.5.0",
      "_view_name": "HBoxView",
      "box_style": "",
      "children": [
       "IPY_MODEL_8d46a291fc6c40d8908fd0fc7ee208a4",
       "IPY_MODEL_2ad87dcc687a4bf5860272ae4f3cdb2a",
       "IPY_MODEL_da818c8307434de1b7e80142a120815c"
      ],
      "layout": "IPY_MODEL_5ec22a7a3b70472aa1884222f21fe9a0"
     }
    },
    "0fc283bcbd6d4f038cb0c873df215bda": {
     "model_module": "@jupyter-widgets/controls",
     "model_module_version": "1.5.0",
     "model_name": "FloatProgressModel",
     "state": {
      "_dom_classes": [],
      "_model_module": "@jupyter-widgets/controls",
      "_model_module_version": "1.5.0",
      "_model_name": "FloatProgressModel",
      "_view_count": null,
      "_view_module": "@jupyter-widgets/controls",
      "_view_module_version": "1.5.0",
      "_view_name": "ProgressView",
      "bar_style": "",
      "description": "",
      "description_tooltip": null,
      "layout": "IPY_MODEL_370a07dda3a542218e112a4c938fd05a",
      "max": 4,
      "min": 0,
      "orientation": "horizontal",
      "style": "IPY_MODEL_69cca51b3c9842d291633203861a6281",
      "value": 1
     }
    },
    "2ad87dcc687a4bf5860272ae4f3cdb2a": {
     "model_module": "@jupyter-widgets/controls",
     "model_module_version": "1.5.0",
     "model_name": "FloatProgressModel",
     "state": {
      "_dom_classes": [],
      "_model_module": "@jupyter-widgets/controls",
      "_model_module_version": "1.5.0",
      "_model_name": "FloatProgressModel",
      "_view_count": null,
      "_view_module": "@jupyter-widgets/controls",
      "_view_module_version": "1.5.0",
      "_view_name": "ProgressView",
      "bar_style": "",
      "description": "",
      "description_tooltip": null,
      "layout": "IPY_MODEL_7f88f15f4dee4b448dd97ffa5e34af62",
      "max": 286,
      "min": 0,
      "orientation": "horizontal",
      "style": "IPY_MODEL_2bc1e5fe10e24713a2f1cdb645af5710",
      "value": 0
     }
    },
    "2bc1e5fe10e24713a2f1cdb645af5710": {
     "model_module": "@jupyter-widgets/controls",
     "model_module_version": "1.5.0",
     "model_name": "ProgressStyleModel",
     "state": {
      "_model_module": "@jupyter-widgets/controls",
      "_model_module_version": "1.5.0",
      "_model_name": "ProgressStyleModel",
      "_view_count": null,
      "_view_module": "@jupyter-widgets/base",
      "_view_module_version": "1.2.0",
      "_view_name": "StyleView",
      "bar_color": null,
      "description_width": ""
     }
    },
    "35d9bc72055342e98543faa19cdd1273": {
     "model_module": "@jupyter-widgets/base",
     "model_module_version": "1.2.0",
     "model_name": "LayoutModel",
     "state": {
      "_model_module": "@jupyter-widgets/base",
      "_model_module_version": "1.2.0",
      "_model_name": "LayoutModel",
      "_view_count": null,
      "_view_module": "@jupyter-widgets/base",
      "_view_module_version": "1.2.0",
      "_view_name": "LayoutView",
      "align_content": null,
      "align_items": null,
      "align_self": null,
      "border": null,
      "bottom": null,
      "display": null,
      "flex": null,
      "flex_flow": null,
      "grid_area": null,
      "grid_auto_columns": null,
      "grid_auto_flow": null,
      "grid_auto_rows": null,
      "grid_column": null,
      "grid_gap": null,
      "grid_row": null,
      "grid_template_areas": null,
      "grid_template_columns": null,
      "grid_template_rows": null,
      "height": null,
      "justify_content": null,
      "justify_items": null,
      "left": null,
      "margin": null,
      "max_height": null,
      "max_width": null,
      "min_height": null,
      "min_width": null,
      "object_fit": null,
      "object_position": null,
      "order": null,
      "overflow": null,
      "overflow_x": null,
      "overflow_y": null,
      "padding": null,
      "right": null,
      "top": null,
      "visibility": null,
      "width": null
     }
    },
    "370a07dda3a542218e112a4c938fd05a": {
     "model_module": "@jupyter-widgets/base",
     "model_module_version": "1.2.0",
     "model_name": "LayoutModel",
     "state": {
      "_model_module": "@jupyter-widgets/base",
      "_model_module_version": "1.2.0",
      "_model_name": "LayoutModel",
      "_view_count": null,
      "_view_module": "@jupyter-widgets/base",
      "_view_module_version": "1.2.0",
      "_view_name": "LayoutView",
      "align_content": null,
      "align_items": null,
      "align_self": null,
      "border": null,
      "bottom": null,
      "display": null,
      "flex": null,
      "flex_flow": null,
      "grid_area": null,
      "grid_auto_columns": null,
      "grid_auto_flow": null,
      "grid_auto_rows": null,
      "grid_column": null,
      "grid_gap": null,
      "grid_row": null,
      "grid_template_areas": null,
      "grid_template_columns": null,
      "grid_template_rows": null,
      "height": null,
      "justify_content": null,
      "justify_items": null,
      "left": null,
      "margin": null,
      "max_height": null,
      "max_width": null,
      "min_height": null,
      "min_width": null,
      "object_fit": null,
      "object_position": null,
      "order": null,
      "overflow": null,
      "overflow_x": null,
      "overflow_y": null,
      "padding": null,
      "right": null,
      "top": null,
      "visibility": null,
      "width": null
     }
    },
    "4f1b9f6768ad421fa58e3319b4f72716": {
     "model_module": "@jupyter-widgets/controls",
     "model_module_version": "1.5.0",
     "model_name": "DescriptionStyleModel",
     "state": {
      "_model_module": "@jupyter-widgets/controls",
      "_model_module_version": "1.5.0",
      "_model_name": "DescriptionStyleModel",
      "_view_count": null,
      "_view_module": "@jupyter-widgets/base",
      "_view_module_version": "1.2.0",
      "_view_name": "StyleView",
      "description_width": ""
     }
    },
    "5ec22a7a3b70472aa1884222f21fe9a0": {
     "model_module": "@jupyter-widgets/base",
     "model_module_version": "1.2.0",
     "model_name": "LayoutModel",
     "state": {
      "_model_module": "@jupyter-widgets/base",
      "_model_module_version": "1.2.0",
      "_model_name": "LayoutModel",
      "_view_count": null,
      "_view_module": "@jupyter-widgets/base",
      "_view_module_version": "1.2.0",
      "_view_name": "LayoutView",
      "align_content": null,
      "align_items": null,
      "align_self": null,
      "border": null,
      "bottom": null,
      "display": null,
      "flex": null,
      "flex_flow": null,
      "grid_area": null,
      "grid_auto_columns": null,
      "grid_auto_flow": null,
      "grid_auto_rows": null,
      "grid_column": null,
      "grid_gap": null,
      "grid_row": null,
      "grid_template_areas": null,
      "grid_template_columns": null,
      "grid_template_rows": null,
      "height": null,
      "justify_content": null,
      "justify_items": null,
      "left": null,
      "margin": null,
      "max_height": null,
      "max_width": null,
      "min_height": null,
      "min_width": null,
      "object_fit": null,
      "object_position": null,
      "order": null,
      "overflow": null,
      "overflow_x": null,
      "overflow_y": null,
      "padding": null,
      "right": null,
      "top": null,
      "visibility": null,
      "width": null
     }
    },
    "6560de9de3db4be7bf2ddc37e999b60e": {
     "model_module": "@jupyter-widgets/controls",
     "model_module_version": "1.5.0",
     "model_name": "DescriptionStyleModel",
     "state": {
      "_model_module": "@jupyter-widgets/controls",
      "_model_module_version": "1.5.0",
      "_model_name": "DescriptionStyleModel",
      "_view_count": null,
      "_view_module": "@jupyter-widgets/base",
      "_view_module_version": "1.2.0",
      "_view_name": "StyleView",
      "description_width": ""
     }
    },
    "69cca51b3c9842d291633203861a6281": {
     "model_module": "@jupyter-widgets/controls",
     "model_module_version": "1.5.0",
     "model_name": "ProgressStyleModel",
     "state": {
      "_model_module": "@jupyter-widgets/controls",
      "_model_module_version": "1.5.0",
      "_model_name": "ProgressStyleModel",
      "_view_count": null,
      "_view_module": "@jupyter-widgets/base",
      "_view_module_version": "1.2.0",
      "_view_name": "StyleView",
      "bar_color": null,
      "description_width": ""
     }
    },
    "7a034e3c90934d65b8c5222fd1882a55": {
     "model_module": "@jupyter-widgets/controls",
     "model_module_version": "1.5.0",
     "model_name": "DescriptionStyleModel",
     "state": {
      "_model_module": "@jupyter-widgets/controls",
      "_model_module_version": "1.5.0",
      "_model_name": "DescriptionStyleModel",
      "_view_count": null,
      "_view_module": "@jupyter-widgets/base",
      "_view_module_version": "1.2.0",
      "_view_name": "StyleView",
      "description_width": ""
     }
    },
    "7f88f15f4dee4b448dd97ffa5e34af62": {
     "model_module": "@jupyter-widgets/base",
     "model_module_version": "1.2.0",
     "model_name": "LayoutModel",
     "state": {
      "_model_module": "@jupyter-widgets/base",
      "_model_module_version": "1.2.0",
      "_model_name": "LayoutModel",
      "_view_count": null,
      "_view_module": "@jupyter-widgets/base",
      "_view_module_version": "1.2.0",
      "_view_name": "LayoutView",
      "align_content": null,
      "align_items": null,
      "align_self": null,
      "border": null,
      "bottom": null,
      "display": null,
      "flex": null,
      "flex_flow": null,
      "grid_area": null,
      "grid_auto_columns": null,
      "grid_auto_flow": null,
      "grid_auto_rows": null,
      "grid_column": null,
      "grid_gap": null,
      "grid_row": null,
      "grid_template_areas": null,
      "grid_template_columns": null,
      "grid_template_rows": null,
      "height": null,
      "justify_content": null,
      "justify_items": null,
      "left": null,
      "margin": null,
      "max_height": null,
      "max_width": null,
      "min_height": null,
      "min_width": null,
      "object_fit": null,
      "object_position": null,
      "order": null,
      "overflow": null,
      "overflow_x": null,
      "overflow_y": null,
      "padding": null,
      "right": null,
      "top": null,
      "visibility": null,
      "width": null
     }
    },
    "8d46a291fc6c40d8908fd0fc7ee208a4": {
     "model_module": "@jupyter-widgets/controls",
     "model_module_version": "1.5.0",
     "model_name": "HTMLModel",
     "state": {
      "_dom_classes": [],
      "_model_module": "@jupyter-widgets/controls",
      "_model_module_version": "1.5.0",
      "_model_name": "HTMLModel",
      "_view_count": null,
      "_view_module": "@jupyter-widgets/controls",
      "_view_module_version": "1.5.0",
      "_view_name": "HTMLView",
      "description": "",
      "description_tooltip": null,
      "layout": "IPY_MODEL_e6bcc997d67241d28fdedd4931076a49",
      "placeholder": "​",
      "style": "IPY_MODEL_6560de9de3db4be7bf2ddc37e999b60e",
      "value": "Updating embeddings:   0%"
     }
    },
    "90aa255a1d3c4e30bb49d7ed70e7a8ce": {
     "model_module": "@jupyter-widgets/controls",
     "model_module_version": "1.5.0",
     "model_name": "DescriptionStyleModel",
     "state": {
      "_model_module": "@jupyter-widgets/controls",
      "_model_module_version": "1.5.0",
      "_model_name": "DescriptionStyleModel",
      "_view_count": null,
      "_view_module": "@jupyter-widgets/base",
      "_view_module_version": "1.2.0",
      "_view_name": "StyleView",
      "description_width": ""
     }
    },
    "ab8cd77d8cce4b03b1e23b511375588e": {
     "model_module": "@jupyter-widgets/controls",
     "model_module_version": "1.5.0",
     "model_name": "HTMLModel",
     "state": {
      "_dom_classes": [],
      "_model_module": "@jupyter-widgets/controls",
      "_model_module_version": "1.5.0",
      "_model_name": "HTMLModel",
      "_view_count": null,
      "_view_module": "@jupyter-widgets/controls",
      "_view_module_version": "1.5.0",
      "_view_name": "HTMLView",
      "description": "",
      "description_tooltip": null,
      "layout": "IPY_MODEL_f989a60fc789468db31e330909e5a001",
      "placeholder": "​",
      "style": "IPY_MODEL_90aa255a1d3c4e30bb49d7ed70e7a8ce",
      "value": "Batches:  25%"
     }
    },
    "ae8750a94578447a9460f2e268e479e9": {
     "model_module": "@jupyter-widgets/base",
     "model_module_version": "1.2.0",
     "model_name": "LayoutModel",
     "state": {
      "_model_module": "@jupyter-widgets/base",
      "_model_module_version": "1.2.0",
      "_model_name": "LayoutModel",
      "_view_count": null,
      "_view_module": "@jupyter-widgets/base",
      "_view_module_version": "1.2.0",
      "_view_name": "LayoutView",
      "align_content": null,
      "align_items": null,
      "align_self": null,
      "border": null,
      "bottom": null,
      "display": null,
      "flex": null,
      "flex_flow": null,
      "grid_area": null,
      "grid_auto_columns": null,
      "grid_auto_flow": null,
      "grid_auto_rows": null,
      "grid_column": null,
      "grid_gap": null,
      "grid_row": null,
      "grid_template_areas": null,
      "grid_template_columns": null,
      "grid_template_rows": null,
      "height": null,
      "justify_content": null,
      "justify_items": null,
      "left": null,
      "margin": null,
      "max_height": null,
      "max_width": null,
      "min_height": null,
      "min_width": null,
      "object_fit": null,
      "object_position": null,
      "order": null,
      "overflow": null,
      "overflow_x": null,
      "overflow_y": null,
      "padding": null,
      "right": null,
      "top": null,
      "visibility": null,
      "width": null
     }
    },
    "d21ef26c57cf44df8a9b50e98f920299": {
     "model_module": "@jupyter-widgets/base",
     "model_module_version": "1.2.0",
     "model_name": "LayoutModel",
     "state": {
      "_model_module": "@jupyter-widgets/base",
      "_model_module_version": "1.2.0",
      "_model_name": "LayoutModel",
      "_view_count": null,
      "_view_module": "@jupyter-widgets/base",
      "_view_module_version": "1.2.0",
      "_view_name": "LayoutView",
      "align_content": null,
      "align_items": null,
      "align_self": null,
      "border": null,
      "bottom": null,
      "display": null,
      "flex": null,
      "flex_flow": null,
      "grid_area": null,
      "grid_auto_columns": null,
      "grid_auto_flow": null,
      "grid_auto_rows": null,
      "grid_column": null,
      "grid_gap": null,
      "grid_row": null,
      "grid_template_areas": null,
      "grid_template_columns": null,
      "grid_template_rows": null,
      "height": null,
      "justify_content": null,
      "justify_items": null,
      "left": null,
      "margin": null,
      "max_height": null,
      "max_width": null,
      "min_height": null,
      "min_width": null,
      "object_fit": null,
      "object_position": null,
      "order": null,
      "overflow": null,
      "overflow_x": null,
      "overflow_y": null,
      "padding": null,
      "right": null,
      "top": null,
      "visibility": null,
      "width": null
     }
    },
    "da818c8307434de1b7e80142a120815c": {
     "model_module": "@jupyter-widgets/controls",
     "model_module_version": "1.5.0",
     "model_name": "HTMLModel",
     "state": {
      "_dom_classes": [],
      "_model_module": "@jupyter-widgets/controls",
      "_model_module_version": "1.5.0",
      "_model_name": "HTMLModel",
      "_view_count": null,
      "_view_module": "@jupyter-widgets/controls",
      "_view_module_version": "1.5.0",
      "_view_name": "HTMLView",
      "description": "",
      "description_tooltip": null,
      "layout": "IPY_MODEL_ae8750a94578447a9460f2e268e479e9",
      "placeholder": "​",
      "style": "IPY_MODEL_4f1b9f6768ad421fa58e3319b4f72716",
      "value": " 0/286 [00:00&lt;?, ? Docs/s]"
     }
    },
    "dc4da78e8afc45cd8e54f8b9b68a9284": {
     "model_module": "@jupyter-widgets/controls",
     "model_module_version": "1.5.0",
     "model_name": "HBoxModel",
     "state": {
      "_dom_classes": [],
      "_model_module": "@jupyter-widgets/controls",
      "_model_module_version": "1.5.0",
      "_model_name": "HBoxModel",
      "_view_count": null,
      "_view_module": "@jupyter-widgets/controls",
      "_view_module_version": "1.5.0",
      "_view_name": "HBoxView",
      "box_style": "",
      "children": [
       "IPY_MODEL_ab8cd77d8cce4b03b1e23b511375588e",
       "IPY_MODEL_0fc283bcbd6d4f038cb0c873df215bda",
       "IPY_MODEL_e8e3e2e910a74ece9029cd33b92653c9"
      ],
      "layout": "IPY_MODEL_d21ef26c57cf44df8a9b50e98f920299"
     }
    },
    "e6bcc997d67241d28fdedd4931076a49": {
     "model_module": "@jupyter-widgets/base",
     "model_module_version": "1.2.0",
     "model_name": "LayoutModel",
     "state": {
      "_model_module": "@jupyter-widgets/base",
      "_model_module_version": "1.2.0",
      "_model_name": "LayoutModel",
      "_view_count": null,
      "_view_module": "@jupyter-widgets/base",
      "_view_module_version": "1.2.0",
      "_view_name": "LayoutView",
      "align_content": null,
      "align_items": null,
      "align_self": null,
      "border": null,
      "bottom": null,
      "display": null,
      "flex": null,
      "flex_flow": null,
      "grid_area": null,
      "grid_auto_columns": null,
      "grid_auto_flow": null,
      "grid_auto_rows": null,
      "grid_column": null,
      "grid_gap": null,
      "grid_row": null,
      "grid_template_areas": null,
      "grid_template_columns": null,
      "grid_template_rows": null,
      "height": null,
      "justify_content": null,
      "justify_items": null,
      "left": null,
      "margin": null,
      "max_height": null,
      "max_width": null,
      "min_height": null,
      "min_width": null,
      "object_fit": null,
      "object_position": null,
      "order": null,
      "overflow": null,
      "overflow_x": null,
      "overflow_y": null,
      "padding": null,
      "right": null,
      "top": null,
      "visibility": null,
      "width": null
     }
    },
    "e8e3e2e910a74ece9029cd33b92653c9": {
     "model_module": "@jupyter-widgets/controls",
     "model_module_version": "1.5.0",
     "model_name": "HTMLModel",
     "state": {
      "_dom_classes": [],
      "_model_module": "@jupyter-widgets/controls",
      "_model_module_version": "1.5.0",
      "_model_name": "HTMLModel",
      "_view_count": null,
      "_view_module": "@jupyter-widgets/controls",
      "_view_module_version": "1.5.0",
      "_view_name": "HTMLView",
      "description": "",
      "description_tooltip": null,
      "layout": "IPY_MODEL_35d9bc72055342e98543faa19cdd1273",
      "placeholder": "​",
      "style": "IPY_MODEL_7a034e3c90934d65b8c5222fd1882a55",
      "value": " 1/4 [00:17&lt;00:52, 17.41s/it]"
     }
    },
    "f989a60fc789468db31e330909e5a001": {
     "model_module": "@jupyter-widgets/base",
     "model_module_version": "1.2.0",
     "model_name": "LayoutModel",
     "state": {
      "_model_module": "@jupyter-widgets/base",
      "_model_module_version": "1.2.0",
      "_model_name": "LayoutModel",
      "_view_count": null,
      "_view_module": "@jupyter-widgets/base",
      "_view_module_version": "1.2.0",
      "_view_name": "LayoutView",
      "align_content": null,
      "align_items": null,
      "align_self": null,
      "border": null,
      "bottom": null,
      "display": null,
      "flex": null,
      "flex_flow": null,
      "grid_area": null,
      "grid_auto_columns": null,
      "grid_auto_flow": null,
      "grid_auto_rows": null,
      "grid_column": null,
      "grid_gap": null,
      "grid_row": null,
      "grid_template_areas": null,
      "grid_template_columns": null,
      "grid_template_rows": null,
      "height": null,
      "justify_content": null,
      "justify_items": null,
      "left": null,
      "margin": null,
      "max_height": null,
      "max_width": null,
      "min_height": null,
      "min_width": null,
      "object_fit": null,
      "object_position": null,
      "order": null,
      "overflow": null,
      "overflow_x": null,
      "overflow_y": null,
      "padding": null,
      "right": null,
      "top": null,
      "visibility": null,
      "width": null
     }
    }
   }
  }
 },
 "nbformat": 4,
 "nbformat_minor": 0
}
