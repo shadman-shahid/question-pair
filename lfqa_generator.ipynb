{
 "cells": [
  {
   "cell_type": "code",
   "execution_count": null,
   "metadata": {
    "id": "_65wW9vaxksm",
    "pycharm": {
     "name": "#%%\n"
    }
   },
   "outputs": [],
   "source": [
    "!pip install -U 'farm-haystack[pinecone]'>=1.3.0 pinecone-client datasets"
   ]
  },
  {
   "cell_type": "code",
   "execution_count": null,
   "outputs": [],
   "source": [
    "! wget https://artifacts.elastic.co/downloads/elasticsearch/elasticsearch-7.9.2-linux-x86_64.tar.gz -q\n",
    "! tar -xzf elasticsearch-7.9.2-linux-x86_64.tar.gz\n",
    "! chown -R daemon:daemon elasticsearch-7.9.2"
   ],
   "metadata": {
    "collapsed": false,
    "pycharm": {
     "name": "#%%\n"
    }
   }
  },
  {
   "cell_type": "code",
   "execution_count": null,
   "outputs": [],
   "source": [
    "# Windows\n",
    "! wget https://artifacts.elastic.co/downloads/elasticsearch/elasticsearch-7.9.2-windows-x86_64.zip -q\n",
    "! Expand-Archive -Path <SourcePathofZipFile> -DestinationPath <DestinationPath>"
   ],
   "metadata": {
    "collapsed": false,
    "pycharm": {
     "name": "#%%\n"
    }
   }
  },
  {
   "cell_type": "code",
   "execution_count": 16,
   "metadata": {
    "id": "MLF-xd3IypGY",
    "pycharm": {
     "name": "#%%\n"
    }
   },
   "outputs": [],
   "source": [
    "# Option 2: In Colab / No Docker environments: Start Elasticsearch from source\n",
    "# ! wget https://artifacts.elastic.co/downloads/elasticsearch/elasticsearch-7.9.2-linux-x86_64.tar.gz -q\n",
    "# ! tar -xzf elasticsearch-7.9.2-linux-x86_64.tar.gz\n",
    "# ! chown -R daemon:daemon elasticsearch-7.9.2\n",
    "\n",
    "import os\n",
    "from subprocess import Popen, PIPE, STDOUT\n",
    "import time\n",
    "es_server = Popen(\n",
    "    [\"./models/elasticsearch-7.9.2/bin/elasticsearch.bat\"], stdout=PIPE, stderr=STDOUT,  start_new_session=True # as daemon\n",
    ")\n",
    "# wait until ES has started\n",
    "time.sleep(30)\n",
    "\n",
    "\n",
    "\n"
   ]
  },
  {
   "cell_type": "code",
   "execution_count": 18,
   "outputs": [
    {
     "name": "stderr",
     "output_type": "stream",
     "text": [
      "WARNING:elasticsearch:GET http://localhost:9200/ [status:N/A request:4.094s]\n",
      "Traceback (most recent call last):\n",
      "  File \"C:\\Users\\Public\\ACI_Proj\\Projects\\question-pair\\venv\\lib\\site-packages\\urllib3\\connection.py\", line 174, in _new_conn\n",
      "    conn = connection.create_connection(\n",
      "  File \"C:\\Users\\Public\\ACI_Proj\\Projects\\question-pair\\venv\\lib\\site-packages\\urllib3\\util\\connection.py\", line 95, in create_connection\n",
      "    raise err\n",
      "  File \"C:\\Users\\Public\\ACI_Proj\\Projects\\question-pair\\venv\\lib\\site-packages\\urllib3\\util\\connection.py\", line 85, in create_connection\n",
      "    sock.connect(sa)\n",
      "ConnectionRefusedError: [WinError 10061] No connection could be made because the target machine actively refused it\n",
      "\n",
      "During handling of the above exception, another exception occurred:\n",
      "\n",
      "Traceback (most recent call last):\n",
      "  File \"C:\\Users\\Public\\ACI_Proj\\Projects\\question-pair\\venv\\lib\\site-packages\\elasticsearch\\connection\\http_urllib3.py\", line 255, in perform_request\n",
      "    response = self.pool.urlopen(\n",
      "  File \"C:\\Users\\Public\\ACI_Proj\\Projects\\question-pair\\venv\\lib\\site-packages\\urllib3\\connectionpool.py\", line 787, in urlopen\n",
      "    retries = retries.increment(\n",
      "  File \"C:\\Users\\Public\\ACI_Proj\\Projects\\question-pair\\venv\\lib\\site-packages\\urllib3\\util\\retry.py\", line 525, in increment\n",
      "    raise six.reraise(type(error), error, _stacktrace)\n",
      "  File \"C:\\Users\\Public\\ACI_Proj\\Projects\\question-pair\\venv\\lib\\site-packages\\urllib3\\packages\\six.py\", line 770, in reraise\n",
      "    raise value\n",
      "  File \"C:\\Users\\Public\\ACI_Proj\\Projects\\question-pair\\venv\\lib\\site-packages\\urllib3\\connectionpool.py\", line 703, in urlopen\n",
      "    httplib_response = self._make_request(\n",
      "  File \"C:\\Users\\Public\\ACI_Proj\\Projects\\question-pair\\venv\\lib\\site-packages\\urllib3\\connectionpool.py\", line 398, in _make_request\n",
      "    conn.request(method, url, **httplib_request_kw)\n",
      "  File \"C:\\Users\\Public\\ACI_Proj\\Projects\\question-pair\\venv\\lib\\site-packages\\urllib3\\connection.py\", line 239, in request\n",
      "    super(HTTPConnection, self).request(method, url, body=body, headers=headers)\n",
      "  File \"C:\\Users\\shadm\\AppData\\Local\\Programs\\Python\\Python38\\lib\\http\\client.py\", line 1230, in request\n",
      "    self._send_request(method, url, body, headers, encode_chunked)\n",
      "  File \"C:\\Users\\shadm\\AppData\\Local\\Programs\\Python\\Python38\\lib\\http\\client.py\", line 1276, in _send_request\n",
      "    self.endheaders(body, encode_chunked=encode_chunked)\n",
      "  File \"C:\\Users\\shadm\\AppData\\Local\\Programs\\Python\\Python38\\lib\\http\\client.py\", line 1225, in endheaders\n",
      "    self._send_output(message_body, encode_chunked=encode_chunked)\n",
      "  File \"C:\\Users\\shadm\\AppData\\Local\\Programs\\Python\\Python38\\lib\\http\\client.py\", line 1004, in _send_output\n",
      "    self.send(msg)\n",
      "  File \"C:\\Users\\shadm\\AppData\\Local\\Programs\\Python\\Python38\\lib\\http\\client.py\", line 944, in send\n",
      "    self.connect()\n",
      "  File \"C:\\Users\\Public\\ACI_Proj\\Projects\\question-pair\\venv\\lib\\site-packages\\urllib3\\connection.py\", line 205, in connect\n",
      "    conn = self._new_conn()\n",
      "  File \"C:\\Users\\Public\\ACI_Proj\\Projects\\question-pair\\venv\\lib\\site-packages\\urllib3\\connection.py\", line 186, in _new_conn\n",
      "    raise NewConnectionError(\n",
      "urllib3.exceptions.NewConnectionError: <urllib3.connection.HTTPConnection object at 0x00000148F6B9CD30>: Failed to establish a new connection: [WinError 10061] No connection could be made because the target machine actively refused it\n"
     ]
    },
    {
     "ename": "ConnectionError",
     "evalue": "Initial connection to Elasticsearch failed. Make sure you run an Elasticsearch instance at `[{'host': 'localhost', 'port': 9200}]` and that it has finished the initial ramp up (can take > 30s).",
     "output_type": "error",
     "traceback": [
      "\u001B[1;31m---------------------------------------------------------------------------\u001B[0m",
      "\u001B[1;31mConnectionError\u001B[0m                           Traceback (most recent call last)",
      "File \u001B[1;32mC:\\Users\\Public\\ACI_Proj\\Projects\\question-pair\\venv\\lib\\site-packages\\haystack\\document_stores\\elasticsearch.py:271\u001B[0m, in \u001B[0;36mElasticsearchDocumentStore._init_elastic_client\u001B[1;34m(cls, host, port, username, password, api_key_id, api_key, aws4auth, scheme, ca_certs, verify_certs, timeout, use_system_proxy)\u001B[0m\n\u001B[0;32m    270\u001B[0m         \u001B[38;5;28;01mif\u001B[39;00m \u001B[38;5;129;01mnot\u001B[39;00m status:\n\u001B[1;32m--> 271\u001B[0m             \u001B[38;5;28;01mraise\u001B[39;00m \u001B[38;5;167;01mConnectionError\u001B[39;00m(\n\u001B[0;32m    272\u001B[0m                 \u001B[38;5;124mf\u001B[39m\u001B[38;5;124m\"\u001B[39m\u001B[38;5;124mInitial connection to Elasticsearch failed. Make sure you run an Elasticsearch instance \u001B[39m\u001B[38;5;124m\"\u001B[39m\n\u001B[0;32m    273\u001B[0m                 \u001B[38;5;124mf\u001B[39m\u001B[38;5;124m\"\u001B[39m\u001B[38;5;124mat `\u001B[39m\u001B[38;5;132;01m{\u001B[39;00mhosts\u001B[38;5;132;01m}\u001B[39;00m\u001B[38;5;124m` and that it has finished the initial ramp up (can take > 30s).\u001B[39m\u001B[38;5;124m\"\u001B[39m\n\u001B[0;32m    274\u001B[0m             )\n\u001B[0;32m    275\u001B[0m \u001B[38;5;28;01mexcept\u001B[39;00m \u001B[38;5;167;01mException\u001B[39;00m:\n",
      "\u001B[1;31mConnectionError\u001B[0m: Initial connection to Elasticsearch failed. Make sure you run an Elasticsearch instance at `[{'host': 'localhost', 'port': 9200}]` and that it has finished the initial ramp up (can take > 30s).",
      "\nDuring handling of the above exception, another exception occurred:\n",
      "\u001B[1;31mConnectionError\u001B[0m                           Traceback (most recent call last)",
      "Cell \u001B[1;32mIn[18], line 12\u001B[0m\n\u001B[0;32m      9\u001B[0m \u001B[38;5;66;03m# Get the host where Elasticsearch is running, default to localhost\u001B[39;00m\n\u001B[0;32m     10\u001B[0m host \u001B[38;5;241m=\u001B[39m os\u001B[38;5;241m.\u001B[39menviron\u001B[38;5;241m.\u001B[39mget(\u001B[38;5;124m\"\u001B[39m\u001B[38;5;124mELASTICSEARCH_HOST\u001B[39m\u001B[38;5;124m\"\u001B[39m, \u001B[38;5;124m\"\u001B[39m\u001B[38;5;124mlocalhost\u001B[39m\u001B[38;5;124m\"\u001B[39m)\n\u001B[1;32m---> 12\u001B[0m document_store \u001B[38;5;241m=\u001B[39m \u001B[43mElasticsearchDocumentStore\u001B[49m\u001B[43m(\u001B[49m\n\u001B[0;32m     13\u001B[0m \u001B[43m    \u001B[49m\u001B[43mhost\u001B[49m\u001B[38;5;241;43m=\u001B[39;49m\u001B[43mhost\u001B[49m\u001B[43m,\u001B[49m\n\u001B[0;32m     14\u001B[0m \u001B[43m    \u001B[49m\u001B[43musername\u001B[49m\u001B[38;5;241;43m=\u001B[39;49m\u001B[38;5;124;43m\"\u001B[39;49m\u001B[38;5;124;43m\"\u001B[39;49m\u001B[43m,\u001B[49m\n\u001B[0;32m     15\u001B[0m \u001B[43m    \u001B[49m\u001B[43mpassword\u001B[49m\u001B[38;5;241;43m=\u001B[39;49m\u001B[38;5;124;43m\"\u001B[39;49m\u001B[38;5;124;43m\"\u001B[39;49m\u001B[43m,\u001B[49m\n\u001B[0;32m     16\u001B[0m \u001B[43m    \u001B[49m\u001B[43mindex\u001B[49m\u001B[38;5;241;43m=\u001B[39;49m\u001B[38;5;124;43m\"\u001B[39;49m\u001B[38;5;124;43mdocument\u001B[39;49m\u001B[38;5;124;43m\"\u001B[39;49m\u001B[43m,\u001B[49m\n\u001B[0;32m     17\u001B[0m \u001B[43m    \u001B[49m\u001B[43membedding_field\u001B[49m\u001B[38;5;241;43m=\u001B[39;49m\u001B[38;5;124;43m\"\u001B[39;49m\u001B[38;5;124;43mquestion_emb\u001B[39;49m\u001B[38;5;124;43m\"\u001B[39;49m\u001B[43m,\u001B[49m\n\u001B[0;32m     18\u001B[0m \u001B[43m    \u001B[49m\u001B[43membedding_dim\u001B[49m\u001B[38;5;241;43m=\u001B[39;49m\u001B[38;5;241;43m384\u001B[39;49m\u001B[43m,\u001B[49m\n\u001B[0;32m     19\u001B[0m \u001B[43m    \u001B[49m\u001B[43mexcluded_meta_data\u001B[49m\u001B[38;5;241;43m=\u001B[39;49m\u001B[43m[\u001B[49m\u001B[38;5;124;43m\"\u001B[39;49m\u001B[38;5;124;43mquestion_emb\u001B[39;49m\u001B[38;5;124;43m\"\u001B[39;49m\u001B[43m]\u001B[49m\u001B[43m,\u001B[49m\n\u001B[0;32m     20\u001B[0m \u001B[43m    \u001B[49m\u001B[43msimilarity\u001B[49m\u001B[38;5;241;43m=\u001B[39;49m\u001B[38;5;124;43m\"\u001B[39;49m\u001B[38;5;124;43mcosine\u001B[39;49m\u001B[38;5;124;43m\"\u001B[39;49m\u001B[43m,\u001B[49m\n\u001B[0;32m     21\u001B[0m \u001B[43m)\u001B[49m\n",
      "File \u001B[1;32mC:\\Users\\Public\\ACI_Proj\\Projects\\question-pair\\venv\\lib\\site-packages\\haystack\\nodes\\base.py:48\u001B[0m, in \u001B[0;36mexportable_to_yaml.<locals>.wrapper_exportable_to_yaml\u001B[1;34m(self, *args, **kwargs)\u001B[0m\n\u001B[0;32m     45\u001B[0m         \u001B[38;5;28mself\u001B[39m\u001B[38;5;241m.\u001B[39m_component_config[\u001B[38;5;124m\"\u001B[39m\u001B[38;5;124mparams\u001B[39m\u001B[38;5;124m\"\u001B[39m][k] \u001B[38;5;241m=\u001B[39m v\n\u001B[0;32m     47\u001B[0m \u001B[38;5;66;03m# Call the actuall __init__ function with all the arguments\u001B[39;00m\n\u001B[1;32m---> 48\u001B[0m \u001B[43minit_func\u001B[49m\u001B[43m(\u001B[49m\u001B[38;5;28;43mself\u001B[39;49m\u001B[43m,\u001B[49m\u001B[43m \u001B[49m\u001B[38;5;241;43m*\u001B[39;49m\u001B[43margs\u001B[49m\u001B[43m,\u001B[49m\u001B[43m \u001B[49m\u001B[38;5;241;43m*\u001B[39;49m\u001B[38;5;241;43m*\u001B[39;49m\u001B[43mkwargs\u001B[49m\u001B[43m)\u001B[49m\n",
      "File \u001B[1;32mC:\\Users\\Public\\ACI_Proj\\Projects\\question-pair\\venv\\lib\\site-packages\\haystack\\document_stores\\elasticsearch.py:143\u001B[0m, in \u001B[0;36mElasticsearchDocumentStore.__init__\u001B[1;34m(self, host, port, username, password, api_key_id, api_key, aws4auth, index, label_index, search_fields, content_field, name_field, embedding_field, embedding_dim, custom_mapping, excluded_meta_data, analyzer, scheme, ca_certs, verify_certs, recreate_index, create_index, refresh_type, similarity, timeout, return_embedding, duplicate_documents, index_type, scroll, skip_missing_embeddings, synonyms, synonym_type, use_system_proxy)\u001B[0m\n\u001B[0;32m    137\u001B[0m     \u001B[38;5;28;01mraise\u001B[39;00m \u001B[38;5;167;01mException\u001B[39;00m(\n\u001B[0;32m    138\u001B[0m         \u001B[38;5;124m\"\u001B[39m\u001B[38;5;124mThe HNSW algorithm for approximate nearest neighbours calculation is currently not available in the ElasticSearchDocumentStore. \u001B[39m\u001B[38;5;124m\"\u001B[39m\n\u001B[0;32m    139\u001B[0m         \u001B[38;5;124m\"\u001B[39m\u001B[38;5;124mTry the OpenSearchDocumentStore instead.\u001B[39m\u001B[38;5;124m\"\u001B[39m\n\u001B[0;32m    140\u001B[0m     )\n\u001B[0;32m    142\u001B[0m \u001B[38;5;66;03m# Base constructor might need the client to be ready, create it first\u001B[39;00m\n\u001B[1;32m--> 143\u001B[0m client \u001B[38;5;241m=\u001B[39m \u001B[38;5;28;43mself\u001B[39;49m\u001B[38;5;241;43m.\u001B[39;49m\u001B[43m_init_elastic_client\u001B[49m\u001B[43m(\u001B[49m\n\u001B[0;32m    144\u001B[0m \u001B[43m    \u001B[49m\u001B[43mhost\u001B[49m\u001B[38;5;241;43m=\u001B[39;49m\u001B[43mhost\u001B[49m\u001B[43m,\u001B[49m\n\u001B[0;32m    145\u001B[0m \u001B[43m    \u001B[49m\u001B[43mport\u001B[49m\u001B[38;5;241;43m=\u001B[39;49m\u001B[43mport\u001B[49m\u001B[43m,\u001B[49m\n\u001B[0;32m    146\u001B[0m \u001B[43m    \u001B[49m\u001B[43musername\u001B[49m\u001B[38;5;241;43m=\u001B[39;49m\u001B[43musername\u001B[49m\u001B[43m,\u001B[49m\n\u001B[0;32m    147\u001B[0m \u001B[43m    \u001B[49m\u001B[43mpassword\u001B[49m\u001B[38;5;241;43m=\u001B[39;49m\u001B[43mpassword\u001B[49m\u001B[43m,\u001B[49m\n\u001B[0;32m    148\u001B[0m \u001B[43m    \u001B[49m\u001B[43mapi_key\u001B[49m\u001B[38;5;241;43m=\u001B[39;49m\u001B[43mapi_key\u001B[49m\u001B[43m,\u001B[49m\n\u001B[0;32m    149\u001B[0m \u001B[43m    \u001B[49m\u001B[43mapi_key_id\u001B[49m\u001B[38;5;241;43m=\u001B[39;49m\u001B[43mapi_key_id\u001B[49m\u001B[43m,\u001B[49m\n\u001B[0;32m    150\u001B[0m \u001B[43m    \u001B[49m\u001B[43maws4auth\u001B[49m\u001B[38;5;241;43m=\u001B[39;49m\u001B[43maws4auth\u001B[49m\u001B[43m,\u001B[49m\n\u001B[0;32m    151\u001B[0m \u001B[43m    \u001B[49m\u001B[43mscheme\u001B[49m\u001B[38;5;241;43m=\u001B[39;49m\u001B[43mscheme\u001B[49m\u001B[43m,\u001B[49m\n\u001B[0;32m    152\u001B[0m \u001B[43m    \u001B[49m\u001B[43mca_certs\u001B[49m\u001B[38;5;241;43m=\u001B[39;49m\u001B[43mca_certs\u001B[49m\u001B[43m,\u001B[49m\n\u001B[0;32m    153\u001B[0m \u001B[43m    \u001B[49m\u001B[43mverify_certs\u001B[49m\u001B[38;5;241;43m=\u001B[39;49m\u001B[43mverify_certs\u001B[49m\u001B[43m,\u001B[49m\n\u001B[0;32m    154\u001B[0m \u001B[43m    \u001B[49m\u001B[43mtimeout\u001B[49m\u001B[38;5;241;43m=\u001B[39;49m\u001B[43mtimeout\u001B[49m\u001B[43m,\u001B[49m\n\u001B[0;32m    155\u001B[0m \u001B[43m    \u001B[49m\u001B[43muse_system_proxy\u001B[49m\u001B[38;5;241;43m=\u001B[39;49m\u001B[43muse_system_proxy\u001B[49m\u001B[43m,\u001B[49m\n\u001B[0;32m    156\u001B[0m \u001B[43m\u001B[49m\u001B[43m)\u001B[49m\n\u001B[0;32m    158\u001B[0m \u001B[38;5;28msuper\u001B[39m()\u001B[38;5;241m.\u001B[39m\u001B[38;5;21m__init__\u001B[39m(\n\u001B[0;32m    159\u001B[0m     client\u001B[38;5;241m=\u001B[39mclient,\n\u001B[0;32m    160\u001B[0m     index\u001B[38;5;241m=\u001B[39mindex,\n\u001B[1;32m   (...)\u001B[0m\n\u001B[0;32m    180\u001B[0m     synonym_type\u001B[38;5;241m=\u001B[39msynonym_type,\n\u001B[0;32m    181\u001B[0m )\n\u001B[0;32m    183\u001B[0m \u001B[38;5;66;03m# Let the base class trap the right exception from the elasticpy client\u001B[39;00m\n",
      "File \u001B[1;32mC:\\Users\\Public\\ACI_Proj\\Projects\\question-pair\\venv\\lib\\site-packages\\haystack\\document_stores\\elasticsearch.py:276\u001B[0m, in \u001B[0;36mElasticsearchDocumentStore._init_elastic_client\u001B[1;34m(cls, host, port, username, password, api_key_id, api_key, aws4auth, scheme, ca_certs, verify_certs, timeout, use_system_proxy)\u001B[0m\n\u001B[0;32m    271\u001B[0m             \u001B[38;5;28;01mraise\u001B[39;00m \u001B[38;5;167;01mConnectionError\u001B[39;00m(\n\u001B[0;32m    272\u001B[0m                 \u001B[38;5;124mf\u001B[39m\u001B[38;5;124m\"\u001B[39m\u001B[38;5;124mInitial connection to Elasticsearch failed. Make sure you run an Elasticsearch instance \u001B[39m\u001B[38;5;124m\"\u001B[39m\n\u001B[0;32m    273\u001B[0m                 \u001B[38;5;124mf\u001B[39m\u001B[38;5;124m\"\u001B[39m\u001B[38;5;124mat `\u001B[39m\u001B[38;5;132;01m{\u001B[39;00mhosts\u001B[38;5;132;01m}\u001B[39;00m\u001B[38;5;124m` and that it has finished the initial ramp up (can take > 30s).\u001B[39m\u001B[38;5;124m\"\u001B[39m\n\u001B[0;32m    274\u001B[0m             )\n\u001B[0;32m    275\u001B[0m \u001B[38;5;28;01mexcept\u001B[39;00m \u001B[38;5;167;01mException\u001B[39;00m:\n\u001B[1;32m--> 276\u001B[0m     \u001B[38;5;28;01mraise\u001B[39;00m \u001B[38;5;167;01mConnectionError\u001B[39;00m(\n\u001B[0;32m    277\u001B[0m         \u001B[38;5;124mf\u001B[39m\u001B[38;5;124m\"\u001B[39m\u001B[38;5;124mInitial connection to Elasticsearch failed. Make sure you run an Elasticsearch instance at `\u001B[39m\u001B[38;5;132;01m{\u001B[39;00mhosts\u001B[38;5;132;01m}\u001B[39;00m\u001B[38;5;124m` and that it has finished the initial ramp up (can take > 30s).\u001B[39m\u001B[38;5;124m\"\u001B[39m\n\u001B[0;32m    278\u001B[0m     )\n\u001B[0;32m    279\u001B[0m \u001B[38;5;28;01mreturn\u001B[39;00m client\n",
      "\u001B[1;31mConnectionError\u001B[0m: Initial connection to Elasticsearch failed. Make sure you run an Elasticsearch instance at `[{'host': 'localhost', 'port': 9200}]` and that it has finished the initial ramp up (can take > 30s)."
     ]
    }
   ],
   "source": [
    "import os\n",
    "import time\n",
    "\n",
    "from haystack.document_stores import ElasticsearchDocumentStore\n",
    "\n",
    "# Wait 30 seconds only to be sure Elasticsearch is ready before continuing\n",
    "time.sleep(30)\n",
    "\n",
    "# Get the host where Elasticsearch is running, default to localhost\n",
    "host = os.environ.get(\"ELASTICSEARCH_HOST\", \"localhost\")\n",
    "\n",
    "document_store = ElasticsearchDocumentStore(\n",
    "    host=host,\n",
    "    username=\"\",\n",
    "    password=\"\",\n",
    "    index='haystack-lfqa',\n",
    "    similarity=\"cosine\",\n",
    "    embedding_dim=768\n",
    ")"
   ],
   "metadata": {
    "collapsed": false,
    "pycharm": {
     "name": "#%%\n"
    }
   }
  },
  {
   "cell_type": "code",
   "execution_count": 17,
   "metadata": {
    "id": "Rv6x0_xmzGMf",
    "pycharm": {
     "name": "#%%\n"
    }
   },
   "outputs": [
    {
     "name": "stderr",
     "output_type": "stream",
     "text": [
      "WARNING:elasticsearch:GET http://localhost:9200/ [status:N/A request:4.038s]\n",
      "Traceback (most recent call last):\n",
      "  File \"C:\\Users\\Public\\ACI_Proj\\Projects\\question-pair\\venv\\lib\\site-packages\\urllib3\\connection.py\", line 174, in _new_conn\n",
      "    conn = connection.create_connection(\n",
      "  File \"C:\\Users\\Public\\ACI_Proj\\Projects\\question-pair\\venv\\lib\\site-packages\\urllib3\\util\\connection.py\", line 95, in create_connection\n",
      "    raise err\n",
      "  File \"C:\\Users\\Public\\ACI_Proj\\Projects\\question-pair\\venv\\lib\\site-packages\\urllib3\\util\\connection.py\", line 85, in create_connection\n",
      "    sock.connect(sa)\n",
      "ConnectionRefusedError: [WinError 10061] No connection could be made because the target machine actively refused it\n",
      "\n",
      "During handling of the above exception, another exception occurred:\n",
      "\n",
      "Traceback (most recent call last):\n",
      "  File \"C:\\Users\\Public\\ACI_Proj\\Projects\\question-pair\\venv\\lib\\site-packages\\elasticsearch\\connection\\http_urllib3.py\", line 255, in perform_request\n",
      "    response = self.pool.urlopen(\n",
      "  File \"C:\\Users\\Public\\ACI_Proj\\Projects\\question-pair\\venv\\lib\\site-packages\\urllib3\\connectionpool.py\", line 787, in urlopen\n",
      "    retries = retries.increment(\n",
      "  File \"C:\\Users\\Public\\ACI_Proj\\Projects\\question-pair\\venv\\lib\\site-packages\\urllib3\\util\\retry.py\", line 525, in increment\n",
      "    raise six.reraise(type(error), error, _stacktrace)\n",
      "  File \"C:\\Users\\Public\\ACI_Proj\\Projects\\question-pair\\venv\\lib\\site-packages\\urllib3\\packages\\six.py\", line 770, in reraise\n",
      "    raise value\n",
      "  File \"C:\\Users\\Public\\ACI_Proj\\Projects\\question-pair\\venv\\lib\\site-packages\\urllib3\\connectionpool.py\", line 703, in urlopen\n",
      "    httplib_response = self._make_request(\n",
      "  File \"C:\\Users\\Public\\ACI_Proj\\Projects\\question-pair\\venv\\lib\\site-packages\\urllib3\\connectionpool.py\", line 398, in _make_request\n",
      "    conn.request(method, url, **httplib_request_kw)\n",
      "  File \"C:\\Users\\Public\\ACI_Proj\\Projects\\question-pair\\venv\\lib\\site-packages\\urllib3\\connection.py\", line 239, in request\n",
      "    super(HTTPConnection, self).request(method, url, body=body, headers=headers)\n",
      "  File \"C:\\Users\\shadm\\AppData\\Local\\Programs\\Python\\Python38\\lib\\http\\client.py\", line 1230, in request\n",
      "    self._send_request(method, url, body, headers, encode_chunked)\n",
      "  File \"C:\\Users\\shadm\\AppData\\Local\\Programs\\Python\\Python38\\lib\\http\\client.py\", line 1276, in _send_request\n",
      "    self.endheaders(body, encode_chunked=encode_chunked)\n",
      "  File \"C:\\Users\\shadm\\AppData\\Local\\Programs\\Python\\Python38\\lib\\http\\client.py\", line 1225, in endheaders\n",
      "    self._send_output(message_body, encode_chunked=encode_chunked)\n",
      "  File \"C:\\Users\\shadm\\AppData\\Local\\Programs\\Python\\Python38\\lib\\http\\client.py\", line 1004, in _send_output\n",
      "    self.send(msg)\n",
      "  File \"C:\\Users\\shadm\\AppData\\Local\\Programs\\Python\\Python38\\lib\\http\\client.py\", line 944, in send\n",
      "    self.connect()\n",
      "  File \"C:\\Users\\Public\\ACI_Proj\\Projects\\question-pair\\venv\\lib\\site-packages\\urllib3\\connection.py\", line 205, in connect\n",
      "    conn = self._new_conn()\n",
      "  File \"C:\\Users\\Public\\ACI_Proj\\Projects\\question-pair\\venv\\lib\\site-packages\\urllib3\\connection.py\", line 186, in _new_conn\n",
      "    raise NewConnectionError(\n",
      "urllib3.exceptions.NewConnectionError: <urllib3.connection.HTTPConnection object at 0x00000148F6BB17C0>: Failed to establish a new connection: [WinError 10061] No connection could be made because the target machine actively refused it\n"
     ]
    },
    {
     "ename": "ConnectionError",
     "evalue": "Initial connection to Elasticsearch failed. Make sure you run an Elasticsearch instance at `[{'host': 'localhost', 'port': 9200}]` and that it has finished the initial ramp up (can take > 30s).",
     "output_type": "error",
     "traceback": [
      "\u001B[1;31m---------------------------------------------------------------------------\u001B[0m",
      "\u001B[1;31mConnectionError\u001B[0m                           Traceback (most recent call last)",
      "File \u001B[1;32mC:\\Users\\Public\\ACI_Proj\\Projects\\question-pair\\venv\\lib\\site-packages\\haystack\\document_stores\\elasticsearch.py:271\u001B[0m, in \u001B[0;36mElasticsearchDocumentStore._init_elastic_client\u001B[1;34m(cls, host, port, username, password, api_key_id, api_key, aws4auth, scheme, ca_certs, verify_certs, timeout, use_system_proxy)\u001B[0m\n\u001B[0;32m    270\u001B[0m         \u001B[38;5;28;01mif\u001B[39;00m \u001B[38;5;129;01mnot\u001B[39;00m status:\n\u001B[1;32m--> 271\u001B[0m             \u001B[38;5;28;01mraise\u001B[39;00m \u001B[38;5;167;01mConnectionError\u001B[39;00m(\n\u001B[0;32m    272\u001B[0m                 \u001B[38;5;124mf\u001B[39m\u001B[38;5;124m\"\u001B[39m\u001B[38;5;124mInitial connection to Elasticsearch failed. Make sure you run an Elasticsearch instance \u001B[39m\u001B[38;5;124m\"\u001B[39m\n\u001B[0;32m    273\u001B[0m                 \u001B[38;5;124mf\u001B[39m\u001B[38;5;124m\"\u001B[39m\u001B[38;5;124mat `\u001B[39m\u001B[38;5;132;01m{\u001B[39;00mhosts\u001B[38;5;132;01m}\u001B[39;00m\u001B[38;5;124m` and that it has finished the initial ramp up (can take > 30s).\u001B[39m\u001B[38;5;124m\"\u001B[39m\n\u001B[0;32m    274\u001B[0m             )\n\u001B[0;32m    275\u001B[0m \u001B[38;5;28;01mexcept\u001B[39;00m \u001B[38;5;167;01mException\u001B[39;00m:\n",
      "\u001B[1;31mConnectionError\u001B[0m: Initial connection to Elasticsearch failed. Make sure you run an Elasticsearch instance at `[{'host': 'localhost', 'port': 9200}]` and that it has finished the initial ramp up (can take > 30s).",
      "\nDuring handling of the above exception, another exception occurred:\n",
      "\u001B[1;31mConnectionError\u001B[0m                           Traceback (most recent call last)",
      "Cell \u001B[1;32mIn[17], line 3\u001B[0m\n\u001B[0;32m      1\u001B[0m \u001B[38;5;28;01mfrom\u001B[39;00m \u001B[38;5;21;01mhaystack\u001B[39;00m\u001B[38;5;21;01m.\u001B[39;00m\u001B[38;5;21;01mdocument_stores\u001B[39;00m \u001B[38;5;28;01mimport\u001B[39;00m ElasticsearchDocumentStore\n\u001B[0;32m      2\u001B[0m host \u001B[38;5;241m=\u001B[39m os\u001B[38;5;241m.\u001B[39menviron\u001B[38;5;241m.\u001B[39mget(\u001B[38;5;124m\"\u001B[39m\u001B[38;5;124mELASTICSEARCH_HOST\u001B[39m\u001B[38;5;124m\"\u001B[39m, \u001B[38;5;124m\"\u001B[39m\u001B[38;5;124mlocalhost\u001B[39m\u001B[38;5;124m\"\u001B[39m)\n\u001B[1;32m----> 3\u001B[0m document_store \u001B[38;5;241m=\u001B[39m \u001B[43mElasticsearchDocumentStore\u001B[49m\u001B[43m(\u001B[49m\n\u001B[0;32m      4\u001B[0m \u001B[43m    \u001B[49m\u001B[43mhost\u001B[49m\u001B[38;5;241;43m=\u001B[39;49m\u001B[43mhost\u001B[49m\u001B[43m,\u001B[49m\n\u001B[0;32m      5\u001B[0m \u001B[43m    \u001B[49m\u001B[43musername\u001B[49m\u001B[38;5;241;43m=\u001B[39;49m\u001B[38;5;124;43m\"\u001B[39;49m\u001B[38;5;124;43m\"\u001B[39;49m\u001B[43m,\u001B[49m\n\u001B[0;32m      6\u001B[0m \u001B[43m    \u001B[49m\u001B[43mpassword\u001B[49m\u001B[38;5;241;43m=\u001B[39;49m\u001B[38;5;124;43m\"\u001B[39;49m\u001B[38;5;124;43m\"\u001B[39;49m\u001B[43m,\u001B[49m\n\u001B[0;32m      7\u001B[0m \u001B[43m    \u001B[49m\u001B[43mindex\u001B[49m\u001B[38;5;241;43m=\u001B[39;49m\u001B[38;5;124;43m'\u001B[39;49m\u001B[38;5;124;43mhaystack-lfqa\u001B[39;49m\u001B[38;5;124;43m'\u001B[39;49m\u001B[43m,\u001B[49m\n\u001B[0;32m      8\u001B[0m \u001B[43m    \u001B[49m\u001B[43msimilarity\u001B[49m\u001B[38;5;241;43m=\u001B[39;49m\u001B[38;5;124;43m\"\u001B[39;49m\u001B[38;5;124;43mcosine\u001B[39;49m\u001B[38;5;124;43m\"\u001B[39;49m\u001B[43m,\u001B[49m\n\u001B[0;32m      9\u001B[0m \u001B[43m    \u001B[49m\u001B[43membedding_dim\u001B[49m\u001B[38;5;241;43m=\u001B[39;49m\u001B[38;5;241;43m768\u001B[39;49m\n\u001B[0;32m     10\u001B[0m \u001B[43m)\u001B[49m\n",
      "File \u001B[1;32mC:\\Users\\Public\\ACI_Proj\\Projects\\question-pair\\venv\\lib\\site-packages\\haystack\\nodes\\base.py:48\u001B[0m, in \u001B[0;36mexportable_to_yaml.<locals>.wrapper_exportable_to_yaml\u001B[1;34m(self, *args, **kwargs)\u001B[0m\n\u001B[0;32m     45\u001B[0m         \u001B[38;5;28mself\u001B[39m\u001B[38;5;241m.\u001B[39m_component_config[\u001B[38;5;124m\"\u001B[39m\u001B[38;5;124mparams\u001B[39m\u001B[38;5;124m\"\u001B[39m][k] \u001B[38;5;241m=\u001B[39m v\n\u001B[0;32m     47\u001B[0m \u001B[38;5;66;03m# Call the actuall __init__ function with all the arguments\u001B[39;00m\n\u001B[1;32m---> 48\u001B[0m \u001B[43minit_func\u001B[49m\u001B[43m(\u001B[49m\u001B[38;5;28;43mself\u001B[39;49m\u001B[43m,\u001B[49m\u001B[43m \u001B[49m\u001B[38;5;241;43m*\u001B[39;49m\u001B[43margs\u001B[49m\u001B[43m,\u001B[49m\u001B[43m \u001B[49m\u001B[38;5;241;43m*\u001B[39;49m\u001B[38;5;241;43m*\u001B[39;49m\u001B[43mkwargs\u001B[49m\u001B[43m)\u001B[49m\n",
      "File \u001B[1;32mC:\\Users\\Public\\ACI_Proj\\Projects\\question-pair\\venv\\lib\\site-packages\\haystack\\document_stores\\elasticsearch.py:143\u001B[0m, in \u001B[0;36mElasticsearchDocumentStore.__init__\u001B[1;34m(self, host, port, username, password, api_key_id, api_key, aws4auth, index, label_index, search_fields, content_field, name_field, embedding_field, embedding_dim, custom_mapping, excluded_meta_data, analyzer, scheme, ca_certs, verify_certs, recreate_index, create_index, refresh_type, similarity, timeout, return_embedding, duplicate_documents, index_type, scroll, skip_missing_embeddings, synonyms, synonym_type, use_system_proxy)\u001B[0m\n\u001B[0;32m    137\u001B[0m     \u001B[38;5;28;01mraise\u001B[39;00m \u001B[38;5;167;01mException\u001B[39;00m(\n\u001B[0;32m    138\u001B[0m         \u001B[38;5;124m\"\u001B[39m\u001B[38;5;124mThe HNSW algorithm for approximate nearest neighbours calculation is currently not available in the ElasticSearchDocumentStore. \u001B[39m\u001B[38;5;124m\"\u001B[39m\n\u001B[0;32m    139\u001B[0m         \u001B[38;5;124m\"\u001B[39m\u001B[38;5;124mTry the OpenSearchDocumentStore instead.\u001B[39m\u001B[38;5;124m\"\u001B[39m\n\u001B[0;32m    140\u001B[0m     )\n\u001B[0;32m    142\u001B[0m \u001B[38;5;66;03m# Base constructor might need the client to be ready, create it first\u001B[39;00m\n\u001B[1;32m--> 143\u001B[0m client \u001B[38;5;241m=\u001B[39m \u001B[38;5;28;43mself\u001B[39;49m\u001B[38;5;241;43m.\u001B[39;49m\u001B[43m_init_elastic_client\u001B[49m\u001B[43m(\u001B[49m\n\u001B[0;32m    144\u001B[0m \u001B[43m    \u001B[49m\u001B[43mhost\u001B[49m\u001B[38;5;241;43m=\u001B[39;49m\u001B[43mhost\u001B[49m\u001B[43m,\u001B[49m\n\u001B[0;32m    145\u001B[0m \u001B[43m    \u001B[49m\u001B[43mport\u001B[49m\u001B[38;5;241;43m=\u001B[39;49m\u001B[43mport\u001B[49m\u001B[43m,\u001B[49m\n\u001B[0;32m    146\u001B[0m \u001B[43m    \u001B[49m\u001B[43musername\u001B[49m\u001B[38;5;241;43m=\u001B[39;49m\u001B[43musername\u001B[49m\u001B[43m,\u001B[49m\n\u001B[0;32m    147\u001B[0m \u001B[43m    \u001B[49m\u001B[43mpassword\u001B[49m\u001B[38;5;241;43m=\u001B[39;49m\u001B[43mpassword\u001B[49m\u001B[43m,\u001B[49m\n\u001B[0;32m    148\u001B[0m \u001B[43m    \u001B[49m\u001B[43mapi_key\u001B[49m\u001B[38;5;241;43m=\u001B[39;49m\u001B[43mapi_key\u001B[49m\u001B[43m,\u001B[49m\n\u001B[0;32m    149\u001B[0m \u001B[43m    \u001B[49m\u001B[43mapi_key_id\u001B[49m\u001B[38;5;241;43m=\u001B[39;49m\u001B[43mapi_key_id\u001B[49m\u001B[43m,\u001B[49m\n\u001B[0;32m    150\u001B[0m \u001B[43m    \u001B[49m\u001B[43maws4auth\u001B[49m\u001B[38;5;241;43m=\u001B[39;49m\u001B[43maws4auth\u001B[49m\u001B[43m,\u001B[49m\n\u001B[0;32m    151\u001B[0m \u001B[43m    \u001B[49m\u001B[43mscheme\u001B[49m\u001B[38;5;241;43m=\u001B[39;49m\u001B[43mscheme\u001B[49m\u001B[43m,\u001B[49m\n\u001B[0;32m    152\u001B[0m \u001B[43m    \u001B[49m\u001B[43mca_certs\u001B[49m\u001B[38;5;241;43m=\u001B[39;49m\u001B[43mca_certs\u001B[49m\u001B[43m,\u001B[49m\n\u001B[0;32m    153\u001B[0m \u001B[43m    \u001B[49m\u001B[43mverify_certs\u001B[49m\u001B[38;5;241;43m=\u001B[39;49m\u001B[43mverify_certs\u001B[49m\u001B[43m,\u001B[49m\n\u001B[0;32m    154\u001B[0m \u001B[43m    \u001B[49m\u001B[43mtimeout\u001B[49m\u001B[38;5;241;43m=\u001B[39;49m\u001B[43mtimeout\u001B[49m\u001B[43m,\u001B[49m\n\u001B[0;32m    155\u001B[0m \u001B[43m    \u001B[49m\u001B[43muse_system_proxy\u001B[49m\u001B[38;5;241;43m=\u001B[39;49m\u001B[43muse_system_proxy\u001B[49m\u001B[43m,\u001B[49m\n\u001B[0;32m    156\u001B[0m \u001B[43m\u001B[49m\u001B[43m)\u001B[49m\n\u001B[0;32m    158\u001B[0m \u001B[38;5;28msuper\u001B[39m()\u001B[38;5;241m.\u001B[39m\u001B[38;5;21m__init__\u001B[39m(\n\u001B[0;32m    159\u001B[0m     client\u001B[38;5;241m=\u001B[39mclient,\n\u001B[0;32m    160\u001B[0m     index\u001B[38;5;241m=\u001B[39mindex,\n\u001B[1;32m   (...)\u001B[0m\n\u001B[0;32m    180\u001B[0m     synonym_type\u001B[38;5;241m=\u001B[39msynonym_type,\n\u001B[0;32m    181\u001B[0m )\n\u001B[0;32m    183\u001B[0m \u001B[38;5;66;03m# Let the base class trap the right exception from the elasticpy client\u001B[39;00m\n",
      "File \u001B[1;32mC:\\Users\\Public\\ACI_Proj\\Projects\\question-pair\\venv\\lib\\site-packages\\haystack\\document_stores\\elasticsearch.py:276\u001B[0m, in \u001B[0;36mElasticsearchDocumentStore._init_elastic_client\u001B[1;34m(cls, host, port, username, password, api_key_id, api_key, aws4auth, scheme, ca_certs, verify_certs, timeout, use_system_proxy)\u001B[0m\n\u001B[0;32m    271\u001B[0m             \u001B[38;5;28;01mraise\u001B[39;00m \u001B[38;5;167;01mConnectionError\u001B[39;00m(\n\u001B[0;32m    272\u001B[0m                 \u001B[38;5;124mf\u001B[39m\u001B[38;5;124m\"\u001B[39m\u001B[38;5;124mInitial connection to Elasticsearch failed. Make sure you run an Elasticsearch instance \u001B[39m\u001B[38;5;124m\"\u001B[39m\n\u001B[0;32m    273\u001B[0m                 \u001B[38;5;124mf\u001B[39m\u001B[38;5;124m\"\u001B[39m\u001B[38;5;124mat `\u001B[39m\u001B[38;5;132;01m{\u001B[39;00mhosts\u001B[38;5;132;01m}\u001B[39;00m\u001B[38;5;124m` and that it has finished the initial ramp up (can take > 30s).\u001B[39m\u001B[38;5;124m\"\u001B[39m\n\u001B[0;32m    274\u001B[0m             )\n\u001B[0;32m    275\u001B[0m \u001B[38;5;28;01mexcept\u001B[39;00m \u001B[38;5;167;01mException\u001B[39;00m:\n\u001B[1;32m--> 276\u001B[0m     \u001B[38;5;28;01mraise\u001B[39;00m \u001B[38;5;167;01mConnectionError\u001B[39;00m(\n\u001B[0;32m    277\u001B[0m         \u001B[38;5;124mf\u001B[39m\u001B[38;5;124m\"\u001B[39m\u001B[38;5;124mInitial connection to Elasticsearch failed. Make sure you run an Elasticsearch instance at `\u001B[39m\u001B[38;5;132;01m{\u001B[39;00mhosts\u001B[38;5;132;01m}\u001B[39;00m\u001B[38;5;124m` and that it has finished the initial ramp up (can take > 30s).\u001B[39m\u001B[38;5;124m\"\u001B[39m\n\u001B[0;32m    278\u001B[0m     )\n\u001B[0;32m    279\u001B[0m \u001B[38;5;28;01mreturn\u001B[39;00m client\n",
      "\u001B[1;31mConnectionError\u001B[0m: Initial connection to Elasticsearch failed. Make sure you run an Elasticsearch instance at `[{'host': 'localhost', 'port': 9200}]` and that it has finished the initial ramp up (can take > 30s)."
     ]
    }
   ],
   "source": [
    "from haystack.document_stores import ElasticsearchDocumentStore\n",
    "host = os.environ.get(\"ELASTICSEARCH_HOST\", \"localhost\")\n",
    "document_store = ElasticsearchDocumentStore(\n",
    "    host=host,\n",
    "    username=\"\",\n",
    "    password=\"\",\n",
    "    index='haystack-lfqa',\n",
    "    similarity=\"cosine\",\n",
    "    embedding_dim=768\n",
    ")"
   ]
  },
  {
   "cell_type": "code",
   "execution_count": null,
   "metadata": {
    "id": "9D3y4gfo6DEF",
    "pycharm": {
     "name": "#%%\n"
    }
   },
   "outputs": [],
   "source": [
    "import re; \n",
    "# tokenizer = nltk.data.load('tokenizers/punkt/english.pickle')\n",
    "fp = open(\"./data/aci_business.txt\")\n",
    "data = fp.read()\n",
    "data = re.sub(\"\\n+\", \"\\n\", data)\n",
    "docs =[{\"content\": paragraph} for paragraph in data.splitlines()]"
   ]
  },
  {
   "cell_type": "code",
   "execution_count": null,
   "metadata": {
    "id": "FWGbFC4-6EBB",
    "pycharm": {
     "name": "#%%\n"
    }
   },
   "outputs": [],
   "source": [
    "# Initialize document store and write in the documents\n",
    "document_store = ElasticsearchDocumentStore()\n",
    "document_store.delete_documents()\n",
    "document_store.write_documents(docs)"
   ]
  },
  {
   "cell_type": "code",
   "execution_count": null,
   "metadata": {
    "colab": {
     "base_uri": "https://localhost:8080/"
    },
    "id": "8PLCw5eA6QS3",
    "outputId": "437d790b-e71a-4c02-ab5a-2fa346e3c3f8",
    "pycharm": {
     "name": "#%%\n"
    }
   },
   "outputs": [],
   "source": [
    "import torch\n",
    "# confirm GPU is available, outputs True if so\n",
    "torch.cuda.is_available()"
   ]
  },
  {
   "cell_type": "code",
   "execution_count": null,
   "metadata": {
    "id": "QNIzGZDA6QVy",
    "pycharm": {
     "name": "#%%\n"
    }
   },
   "outputs": [],
   "source": [
    "from haystack.nodes import EmbeddingRetriever\n",
    "\n",
    "retriever = EmbeddingRetriever(\n",
    "   document_store=document_store,\n",
    "   embedding_model=\"flax-sentence-embeddings/all_datasets_v3_mpnet-base\",\n",
    "   model_format=\"sentence_transformers\"\n",
    ")"
   ]
  },
  {
   "cell_type": "code",
   "execution_count": null,
   "metadata": {
    "colab": {
     "background_save": true,
     "base_uri": "https://localhost:8080/",
     "height": 116,
     "referenced_widgets": [
      "0854705eff0c489e820913e357fbf410",
      "8d46a291fc6c40d8908fd0fc7ee208a4",
      "2ad87dcc687a4bf5860272ae4f3cdb2a",
      "da818c8307434de1b7e80142a120815c",
      "5ec22a7a3b70472aa1884222f21fe9a0",
      "e6bcc997d67241d28fdedd4931076a49",
      "6560de9de3db4be7bf2ddc37e999b60e",
      "7f88f15f4dee4b448dd97ffa5e34af62",
      "2bc1e5fe10e24713a2f1cdb645af5710",
      "ae8750a94578447a9460f2e268e479e9",
      "4f1b9f6768ad421fa58e3319b4f72716",
      "dc4da78e8afc45cd8e54f8b9b68a9284",
      "ab8cd77d8cce4b03b1e23b511375588e",
      "0fc283bcbd6d4f038cb0c873df215bda",
      "e8e3e2e910a74ece9029cd33b92653c9",
      "d21ef26c57cf44df8a9b50e98f920299",
      "f989a60fc789468db31e330909e5a001",
      "90aa255a1d3c4e30bb49d7ed70e7a8ce",
      "370a07dda3a542218e112a4c938fd05a",
      "69cca51b3c9842d291633203861a6281",
      "35d9bc72055342e98543faa19cdd1273",
      "7a034e3c90934d65b8c5222fd1882a55",
      "39d1e80b23174996b1ee1d3b63d55f06",
      "a0053f197a2140fb887f66179cff12fc"
     ]
    },
    "id": "1iAFdTcD6QcT",
    "outputId": "47347b73-c2cf-4924-a7c7-c7f3b774b93b",
    "pycharm": {
     "name": "#%%\n"
    }
   },
   "outputs": [
    {
     "data": {
      "application/vnd.jupyter.widget-view+json": {
       "model_id": "0854705eff0c489e820913e357fbf410",
       "version_major": 2,
       "version_minor": 0
      },
      "text/plain": [
       "Updating embeddings:   0%|          | 0/286 [00:00<?, ? Docs/s]"
      ]
     },
     "metadata": {},
     "output_type": "display_data"
    },
    {
     "data": {
      "application/vnd.jupyter.widget-view+json": {
       "model_id": "dc4da78e8afc45cd8e54f8b9b68a9284",
       "version_major": 2,
       "version_minor": 0
      },
      "text/plain": [
       "Batches:   0%|          | 0/4 [00:00<?, ?it/s]"
      ]
     },
     "metadata": {},
     "output_type": "display_data"
    },
    {
     "data": {
      "application/vnd.jupyter.widget-view+json": {
       "model_id": "39d1e80b23174996b1ee1d3b63d55f06",
       "version_major": 2,
       "version_minor": 0
      },
      "text/plain": [
       "Batches:   0%|          | 0/4 [00:00<?, ?it/s]"
      ]
     },
     "metadata": {},
     "output_type": "display_data"
    },
    {
     "data": {
      "application/vnd.jupyter.widget-view+json": {
       "model_id": "a0053f197a2140fb887f66179cff12fc",
       "version_major": 2,
       "version_minor": 0
      },
      "text/plain": [
       "Batches:   0%|          | 0/1 [00:00<?, ?it/s]"
      ]
     },
     "metadata": {},
     "output_type": "display_data"
    }
   ],
   "source": [
    "document_store.update_embeddings(\n",
    "   retriever,\n",
    "   batch_size=128\n",
    ")"
   ]
  },
  {
   "cell_type": "code",
   "execution_count": null,
   "metadata": {
    "colab": {
     "background_save": true,
     "referenced_widgets": [
      "b1de3c096ce84d8f80beea3f371fb295"
     ]
    },
    "id": "-id4tzeI70pe",
    "outputId": "ba784cb9-d115-45db-e6e7-c11a80af7317",
    "pycharm": {
     "name": "#%%\n"
    }
   },
   "outputs": [
    {
     "data": {
      "application/vnd.jupyter.widget-view+json": {
       "model_id": "b1de3c096ce84d8f80beea3f371fb295",
       "version_major": 2,
       "version_minor": 0
      },
      "text/plain": [
       "Batches:   0%|          | 0/1 [00:00<?, ?it/s]"
      ]
     },
     "metadata": {},
     "output_type": "display_data"
    },
    {
     "name": "stdout",
     "output_type": "stream",
     "text": [
      "\n",
      "Query: Is ACI  be a good company?\n",
      "\n",
      "{   'content': 'With almost three decades of partnering life and engendering '\n",
      "               'hope, ACI is one of the top pharmaceutical companies in '\n",
      "               'Bangladesh, employing more than 5,000 people all over the '\n",
      "               'country. As a progressive and forward-thinking company, ACI '\n",
      "               'Pharma is dedicated to improve the health of people of '\n",
      "               'Bangladesh through introduction of innovative and reliable '\n",
      "               'pharmaceutical products.',\n",
      "    'name': None}\n",
      "\n",
      "{   'content': 'Advanced Chemical Industries (ACI) Limited is one of the '\n",
      "               'leading conglomerates in Bangladesh, with a multinational '\n",
      "               'heritage. We have a mission to achieve business excellence '\n",
      "               'through quality by understanding, accepting, meeting and '\n",
      "               'exceeding customer expectations. We follow International '\n",
      "               'Standards on Quality Management System to ensure consistent '\n",
      "               'quality of products and services to achieve customer '\n",
      "               'satisfaction.',\n",
      "    'name': None}\n",
      "\n"
     ]
    }
   ],
   "source": [
    "from haystack.pipelines import DocumentSearchPipeline\n",
    "from haystack.utils import print_documents\n",
    "\n",
    "search_pipe = DocumentSearchPipeline(retriever)\n",
    "result = search_pipe.run(\n",
    "    query=\"Is ACI  be a good company?\",\n",
    "    params={\"Retriever\": {\"top_k\": 2}}\n",
    ")\n",
    "\n",
    "print_documents(result)\n",
    "\n"
   ]
  },
  {
   "cell_type": "code",
   "execution_count": null,
   "metadata": {
    "colab": {
     "background_save": true
    },
    "id": "ebV9hrAK89UI",
    "pycharm": {
     "name": "#%%\n"
    }
   },
   "outputs": [],
   "source": [
    "from haystack.nodes import Seq2SeqGenerator\n",
    "\n",
    "generator = Seq2SeqGenerator(model_name_or_path=\"vblagoje/bart_lfqa\")"
   ]
  },
  {
   "cell_type": "code",
   "execution_count": null,
   "metadata": {
    "colab": {
     "background_save": true
    },
    "id": "EaOBqic789Z1",
    "pycharm": {
     "name": "#%%\n"
    }
   },
   "outputs": [],
   "source": [
    "from haystack.pipelines import GenerativeQAPipeline\n",
    "\n",
    "pipe = GenerativeQAPipeline(generator, retriever)"
   ]
  },
  {
   "cell_type": "code",
   "execution_count": null,
   "metadata": {
    "colab": {
     "background_save": true,
     "referenced_widgets": [
      "f679cfd0f2954aa9ae58790ac7427840"
     ]
    },
    "id": "S2zJvv5s9vBX",
    "outputId": "e3ed9c9c-ce08-4bdd-f68b-18dc03241182",
    "pycharm": {
     "name": "#%%\n"
    }
   },
   "outputs": [
    {
     "data": {
      "application/vnd.jupyter.widget-view+json": {
       "model_id": "f679cfd0f2954aa9ae58790ac7427840",
       "version_major": 2,
       "version_minor": 0
      },
      "text/plain": [
       "Batches:   0%|          | 0/1 [00:00<?, ?it/s]"
      ]
     },
     "metadata": {},
     "output_type": "display_data"
    },
    {
     "data": {
      "text/plain": [
       "[<Answer {'answer': 'The mission of ACI is to improve the quality of life of the people through responsible application of knowledge, technology and skills.', 'type': 'generative', 'score': None, 'context': None, 'offsets_in_document': None, 'offsets_in_context': None, 'document_id': None, 'meta': {'doc_ids': ['65076eca9c09331e0c268ff6939a3801', '85d8843deade9d2f617f90defa8184de', 'f86673619fc2091f1347d3732cd52380'], 'doc_scores': [0.501715093273254, 0.5015258702631026, 0.5013632466219664], 'content': [\"ACI's Mission is to enrich the quality of life of the people through responsible application of knowledge, technology and skills. ACI is committed to the pursuit of excellence through world-class products, innovative processes and empowered employees, to provide the highest level of satisfaction to our customers.\", 'The vision of ACI are Provide products and services of high and consistent quality, ensuring value for money to our customers, Endeavour to attain a position of leadership in each category of our businesses, Develop our employees by encouraging empowerment and rewarding innovation, Promote an environment for learning and personal growth, Attain a high level of productivity in all our operations through effective utilisation of resources and adoption of appropriate technology, Promote inclusive growth by encouraging and assisting our distributors and suppliers in improving efficiency, Ensure superior return on investment through judicious use of resources and efficient operations, utilising our core competencies.', 'To attain the Vision ACI will:'], 'titles': ['', '', '']}}>]"
      ]
     },
     "execution_count": 104,
     "metadata": {},
     "output_type": "execute_result"
    }
   ],
   "source": [
    "\n",
    "\n",
    "result = pipe.run(\n",
    "        query=\"Mission of ACI?\",\n",
    "        params={\n",
    "            \"Retriever\": {\"top_k\": 3},\n",
    "            \"Generator\": {\"top_k\": 1}\n",
    "        })\n",
    "\n",
    "result[\"answers\"][0].answer\n",
    "\n"
   ]
  },
  {
   "cell_type": "code",
   "execution_count": null,
   "metadata": {
    "colab": {
     "base_uri": "https://localhost:8080/",
     "height": 52
    },
    "id": "WjxyNtGi9vD-",
    "outputId": "d89d131a-db1c-469f-80be-167d053b2ac2",
    "pycharm": {
     "name": "#%%\n"
    }
   },
   "outputs": [
    {
     "data": {
      "application/vnd.google.colaboratory.intrinsic+json": {
       "type": "string"
      },
      "text/plain": [
       "'The mission of ACI is to improve the quality of life of the people through responsible application of knowledge, technology and skills.'"
      ]
     },
     "execution_count": 93,
     "metadata": {},
     "output_type": "execute_result"
    }
   ],
   "source": [
    "result[\"answers\"][0].answer"
   ]
  },
  {
   "cell_type": "code",
   "execution_count": null,
   "metadata": {
    "colab": {
     "base_uri": "https://localhost:8080/"
    },
    "id": "pyp9QqJo_TMl",
    "outputId": "be030f44-c5e7-41da-967c-6932fe74cccd",
    "pycharm": {
     "name": "#%%\n"
    }
   },
   "outputs": [
    {
     "data": {
      "text/plain": [
       "dict_keys(['query', 'answers', 'documents', 'root_node', 'params', 'node_id'])"
      ]
     },
     "execution_count": 86,
     "metadata": {},
     "output_type": "execute_result"
    }
   ],
   "source": [
    "result.keys()"
   ]
  },
  {
   "cell_type": "code",
   "execution_count": null,
   "metadata": {
    "colab": {
     "base_uri": "https://localhost:8080/"
    },
    "id": "xwYOaB8Z_VbE",
    "outputId": "c236fbad-df48-4b17-8e7b-25e3941240c6",
    "pycharm": {
     "name": "#%%\n"
    }
   },
   "outputs": [
    {
     "data": {
      "text/plain": [
       "[<Document: {'content': 'With almost three decades of partnering life and engendering hope, ACI is one of the top pharmaceutical companies in Bangladesh, employing more than 5,000 people all over the country. As a progressive and forward-thinking company, ACI Pharma is dedicated to improve the health of people of Bangladesh through introduction of innovative and reliable pharmaceutical products.', 'content_type': 'text', 'score': 0.5016781436987151, 'meta': {}, 'embedding': None, 'id': '88f16502772e9c62fb74182e0cd36423'}>,\n",
       " <Document: {'content': 'Advanced Chemical Industries (ACI) Limited is one of the leading conglomerates in Bangladesh, with a multinational heritage. We have a mission to achieve business excellence through quality by understanding, accepting, meeting and exceeding customer expectations. We follow International Standards on Quality Management System to ensure consistent quality of products and services to achieve customer satisfaction.', 'content_type': 'text', 'score': 0.5016206193247562, 'meta': {}, 'embedding': None, 'id': 'e3a78e04c21aa13fbb8f40b7b9911c34'}>,\n",
       " <Document: {'content': \"ACI Marine & Riverine Technologies (The Company) was incorporated in December 2019. The company is driven with a mission of 'Improving Quality of Life through responsible application of technology and services in Marine & Riverine operation'.\", 'content_type': 'text', 'score': 0.5014794956820052, 'meta': {}, 'embedding': None, 'id': '850f6472d86655c8cd93d04475b84a70'}>]"
      ]
     },
     "execution_count": 87,
     "metadata": {},
     "output_type": "execute_result"
    }
   ],
   "source": [
    "result[\"documents\"]"
   ]
  }
 ],
 "metadata": {
  "colab": {
   "provenance": []
  },
  "gpuClass": "standard",
  "kernelspec": {
   "display_name": "Python 3",
   "name": "python3"
  },
  "language_info": {
   "name": "python"
  },
  "widgets": {
   "application/vnd.jupyter.widget-state+json": {
    "0854705eff0c489e820913e357fbf410": {
     "model_module": "@jupyter-widgets/controls",
     "model_module_version": "1.5.0",
     "model_name": "HBoxModel",
     "state": {
      "_dom_classes": [],
      "_model_module": "@jupyter-widgets/controls",
      "_model_module_version": "1.5.0",
      "_model_name": "HBoxModel",
      "_view_count": null,
      "_view_module": "@jupyter-widgets/controls",
      "_view_module_version": "1.5.0",
      "_view_name": "HBoxView",
      "box_style": "",
      "children": [
       "IPY_MODEL_8d46a291fc6c40d8908fd0fc7ee208a4",
       "IPY_MODEL_2ad87dcc687a4bf5860272ae4f3cdb2a",
       "IPY_MODEL_da818c8307434de1b7e80142a120815c"
      ],
      "layout": "IPY_MODEL_5ec22a7a3b70472aa1884222f21fe9a0"
     }
    },
    "0fc283bcbd6d4f038cb0c873df215bda": {
     "model_module": "@jupyter-widgets/controls",
     "model_module_version": "1.5.0",
     "model_name": "FloatProgressModel",
     "state": {
      "_dom_classes": [],
      "_model_module": "@jupyter-widgets/controls",
      "_model_module_version": "1.5.0",
      "_model_name": "FloatProgressModel",
      "_view_count": null,
      "_view_module": "@jupyter-widgets/controls",
      "_view_module_version": "1.5.0",
      "_view_name": "ProgressView",
      "bar_style": "",
      "description": "",
      "description_tooltip": null,
      "layout": "IPY_MODEL_370a07dda3a542218e112a4c938fd05a",
      "max": 4,
      "min": 0,
      "orientation": "horizontal",
      "style": "IPY_MODEL_69cca51b3c9842d291633203861a6281",
      "value": 1
     }
    },
    "2ad87dcc687a4bf5860272ae4f3cdb2a": {
     "model_module": "@jupyter-widgets/controls",
     "model_module_version": "1.5.0",
     "model_name": "FloatProgressModel",
     "state": {
      "_dom_classes": [],
      "_model_module": "@jupyter-widgets/controls",
      "_model_module_version": "1.5.0",
      "_model_name": "FloatProgressModel",
      "_view_count": null,
      "_view_module": "@jupyter-widgets/controls",
      "_view_module_version": "1.5.0",
      "_view_name": "ProgressView",
      "bar_style": "",
      "description": "",
      "description_tooltip": null,
      "layout": "IPY_MODEL_7f88f15f4dee4b448dd97ffa5e34af62",
      "max": 286,
      "min": 0,
      "orientation": "horizontal",
      "style": "IPY_MODEL_2bc1e5fe10e24713a2f1cdb645af5710",
      "value": 0
     }
    },
    "2bc1e5fe10e24713a2f1cdb645af5710": {
     "model_module": "@jupyter-widgets/controls",
     "model_module_version": "1.5.0",
     "model_name": "ProgressStyleModel",
     "state": {
      "_model_module": "@jupyter-widgets/controls",
      "_model_module_version": "1.5.0",
      "_model_name": "ProgressStyleModel",
      "_view_count": null,
      "_view_module": "@jupyter-widgets/base",
      "_view_module_version": "1.2.0",
      "_view_name": "StyleView",
      "bar_color": null,
      "description_width": ""
     }
    },
    "35d9bc72055342e98543faa19cdd1273": {
     "model_module": "@jupyter-widgets/base",
     "model_module_version": "1.2.0",
     "model_name": "LayoutModel",
     "state": {
      "_model_module": "@jupyter-widgets/base",
      "_model_module_version": "1.2.0",
      "_model_name": "LayoutModel",
      "_view_count": null,
      "_view_module": "@jupyter-widgets/base",
      "_view_module_version": "1.2.0",
      "_view_name": "LayoutView",
      "align_content": null,
      "align_items": null,
      "align_self": null,
      "border": null,
      "bottom": null,
      "display": null,
      "flex": null,
      "flex_flow": null,
      "grid_area": null,
      "grid_auto_columns": null,
      "grid_auto_flow": null,
      "grid_auto_rows": null,
      "grid_column": null,
      "grid_gap": null,
      "grid_row": null,
      "grid_template_areas": null,
      "grid_template_columns": null,
      "grid_template_rows": null,
      "height": null,
      "justify_content": null,
      "justify_items": null,
      "left": null,
      "margin": null,
      "max_height": null,
      "max_width": null,
      "min_height": null,
      "min_width": null,
      "object_fit": null,
      "object_position": null,
      "order": null,
      "overflow": null,
      "overflow_x": null,
      "overflow_y": null,
      "padding": null,
      "right": null,
      "top": null,
      "visibility": null,
      "width": null
     }
    },
    "370a07dda3a542218e112a4c938fd05a": {
     "model_module": "@jupyter-widgets/base",
     "model_module_version": "1.2.0",
     "model_name": "LayoutModel",
     "state": {
      "_model_module": "@jupyter-widgets/base",
      "_model_module_version": "1.2.0",
      "_model_name": "LayoutModel",
      "_view_count": null,
      "_view_module": "@jupyter-widgets/base",
      "_view_module_version": "1.2.0",
      "_view_name": "LayoutView",
      "align_content": null,
      "align_items": null,
      "align_self": null,
      "border": null,
      "bottom": null,
      "display": null,
      "flex": null,
      "flex_flow": null,
      "grid_area": null,
      "grid_auto_columns": null,
      "grid_auto_flow": null,
      "grid_auto_rows": null,
      "grid_column": null,
      "grid_gap": null,
      "grid_row": null,
      "grid_template_areas": null,
      "grid_template_columns": null,
      "grid_template_rows": null,
      "height": null,
      "justify_content": null,
      "justify_items": null,
      "left": null,
      "margin": null,
      "max_height": null,
      "max_width": null,
      "min_height": null,
      "min_width": null,
      "object_fit": null,
      "object_position": null,
      "order": null,
      "overflow": null,
      "overflow_x": null,
      "overflow_y": null,
      "padding": null,
      "right": null,
      "top": null,
      "visibility": null,
      "width": null
     }
    },
    "4f1b9f6768ad421fa58e3319b4f72716": {
     "model_module": "@jupyter-widgets/controls",
     "model_module_version": "1.5.0",
     "model_name": "DescriptionStyleModel",
     "state": {
      "_model_module": "@jupyter-widgets/controls",
      "_model_module_version": "1.5.0",
      "_model_name": "DescriptionStyleModel",
      "_view_count": null,
      "_view_module": "@jupyter-widgets/base",
      "_view_module_version": "1.2.0",
      "_view_name": "StyleView",
      "description_width": ""
     }
    },
    "5ec22a7a3b70472aa1884222f21fe9a0": {
     "model_module": "@jupyter-widgets/base",
     "model_module_version": "1.2.0",
     "model_name": "LayoutModel",
     "state": {
      "_model_module": "@jupyter-widgets/base",
      "_model_module_version": "1.2.0",
      "_model_name": "LayoutModel",
      "_view_count": null,
      "_view_module": "@jupyter-widgets/base",
      "_view_module_version": "1.2.0",
      "_view_name": "LayoutView",
      "align_content": null,
      "align_items": null,
      "align_self": null,
      "border": null,
      "bottom": null,
      "display": null,
      "flex": null,
      "flex_flow": null,
      "grid_area": null,
      "grid_auto_columns": null,
      "grid_auto_flow": null,
      "grid_auto_rows": null,
      "grid_column": null,
      "grid_gap": null,
      "grid_row": null,
      "grid_template_areas": null,
      "grid_template_columns": null,
      "grid_template_rows": null,
      "height": null,
      "justify_content": null,
      "justify_items": null,
      "left": null,
      "margin": null,
      "max_height": null,
      "max_width": null,
      "min_height": null,
      "min_width": null,
      "object_fit": null,
      "object_position": null,
      "order": null,
      "overflow": null,
      "overflow_x": null,
      "overflow_y": null,
      "padding": null,
      "right": null,
      "top": null,
      "visibility": null,
      "width": null
     }
    },
    "6560de9de3db4be7bf2ddc37e999b60e": {
     "model_module": "@jupyter-widgets/controls",
     "model_module_version": "1.5.0",
     "model_name": "DescriptionStyleModel",
     "state": {
      "_model_module": "@jupyter-widgets/controls",
      "_model_module_version": "1.5.0",
      "_model_name": "DescriptionStyleModel",
      "_view_count": null,
      "_view_module": "@jupyter-widgets/base",
      "_view_module_version": "1.2.0",
      "_view_name": "StyleView",
      "description_width": ""
     }
    },
    "69cca51b3c9842d291633203861a6281": {
     "model_module": "@jupyter-widgets/controls",
     "model_module_version": "1.5.0",
     "model_name": "ProgressStyleModel",
     "state": {
      "_model_module": "@jupyter-widgets/controls",
      "_model_module_version": "1.5.0",
      "_model_name": "ProgressStyleModel",
      "_view_count": null,
      "_view_module": "@jupyter-widgets/base",
      "_view_module_version": "1.2.0",
      "_view_name": "StyleView",
      "bar_color": null,
      "description_width": ""
     }
    },
    "7a034e3c90934d65b8c5222fd1882a55": {
     "model_module": "@jupyter-widgets/controls",
     "model_module_version": "1.5.0",
     "model_name": "DescriptionStyleModel",
     "state": {
      "_model_module": "@jupyter-widgets/controls",
      "_model_module_version": "1.5.0",
      "_model_name": "DescriptionStyleModel",
      "_view_count": null,
      "_view_module": "@jupyter-widgets/base",
      "_view_module_version": "1.2.0",
      "_view_name": "StyleView",
      "description_width": ""
     }
    },
    "7f88f15f4dee4b448dd97ffa5e34af62": {
     "model_module": "@jupyter-widgets/base",
     "model_module_version": "1.2.0",
     "model_name": "LayoutModel",
     "state": {
      "_model_module": "@jupyter-widgets/base",
      "_model_module_version": "1.2.0",
      "_model_name": "LayoutModel",
      "_view_count": null,
      "_view_module": "@jupyter-widgets/base",
      "_view_module_version": "1.2.0",
      "_view_name": "LayoutView",
      "align_content": null,
      "align_items": null,
      "align_self": null,
      "border": null,
      "bottom": null,
      "display": null,
      "flex": null,
      "flex_flow": null,
      "grid_area": null,
      "grid_auto_columns": null,
      "grid_auto_flow": null,
      "grid_auto_rows": null,
      "grid_column": null,
      "grid_gap": null,
      "grid_row": null,
      "grid_template_areas": null,
      "grid_template_columns": null,
      "grid_template_rows": null,
      "height": null,
      "justify_content": null,
      "justify_items": null,
      "left": null,
      "margin": null,
      "max_height": null,
      "max_width": null,
      "min_height": null,
      "min_width": null,
      "object_fit": null,
      "object_position": null,
      "order": null,
      "overflow": null,
      "overflow_x": null,
      "overflow_y": null,
      "padding": null,
      "right": null,
      "top": null,
      "visibility": null,
      "width": null
     }
    },
    "8d46a291fc6c40d8908fd0fc7ee208a4": {
     "model_module": "@jupyter-widgets/controls",
     "model_module_version": "1.5.0",
     "model_name": "HTMLModel",
     "state": {
      "_dom_classes": [],
      "_model_module": "@jupyter-widgets/controls",
      "_model_module_version": "1.5.0",
      "_model_name": "HTMLModel",
      "_view_count": null,
      "_view_module": "@jupyter-widgets/controls",
      "_view_module_version": "1.5.0",
      "_view_name": "HTMLView",
      "description": "",
      "description_tooltip": null,
      "layout": "IPY_MODEL_e6bcc997d67241d28fdedd4931076a49",
      "placeholder": "​",
      "style": "IPY_MODEL_6560de9de3db4be7bf2ddc37e999b60e",
      "value": "Updating embeddings:   0%"
     }
    },
    "90aa255a1d3c4e30bb49d7ed70e7a8ce": {
     "model_module": "@jupyter-widgets/controls",
     "model_module_version": "1.5.0",
     "model_name": "DescriptionStyleModel",
     "state": {
      "_model_module": "@jupyter-widgets/controls",
      "_model_module_version": "1.5.0",
      "_model_name": "DescriptionStyleModel",
      "_view_count": null,
      "_view_module": "@jupyter-widgets/base",
      "_view_module_version": "1.2.0",
      "_view_name": "StyleView",
      "description_width": ""
     }
    },
    "ab8cd77d8cce4b03b1e23b511375588e": {
     "model_module": "@jupyter-widgets/controls",
     "model_module_version": "1.5.0",
     "model_name": "HTMLModel",
     "state": {
      "_dom_classes": [],
      "_model_module": "@jupyter-widgets/controls",
      "_model_module_version": "1.5.0",
      "_model_name": "HTMLModel",
      "_view_count": null,
      "_view_module": "@jupyter-widgets/controls",
      "_view_module_version": "1.5.0",
      "_view_name": "HTMLView",
      "description": "",
      "description_tooltip": null,
      "layout": "IPY_MODEL_f989a60fc789468db31e330909e5a001",
      "placeholder": "​",
      "style": "IPY_MODEL_90aa255a1d3c4e30bb49d7ed70e7a8ce",
      "value": "Batches:  25%"
     }
    },
    "ae8750a94578447a9460f2e268e479e9": {
     "model_module": "@jupyter-widgets/base",
     "model_module_version": "1.2.0",
     "model_name": "LayoutModel",
     "state": {
      "_model_module": "@jupyter-widgets/base",
      "_model_module_version": "1.2.0",
      "_model_name": "LayoutModel",
      "_view_count": null,
      "_view_module": "@jupyter-widgets/base",
      "_view_module_version": "1.2.0",
      "_view_name": "LayoutView",
      "align_content": null,
      "align_items": null,
      "align_self": null,
      "border": null,
      "bottom": null,
      "display": null,
      "flex": null,
      "flex_flow": null,
      "grid_area": null,
      "grid_auto_columns": null,
      "grid_auto_flow": null,
      "grid_auto_rows": null,
      "grid_column": null,
      "grid_gap": null,
      "grid_row": null,
      "grid_template_areas": null,
      "grid_template_columns": null,
      "grid_template_rows": null,
      "height": null,
      "justify_content": null,
      "justify_items": null,
      "left": null,
      "margin": null,
      "max_height": null,
      "max_width": null,
      "min_height": null,
      "min_width": null,
      "object_fit": null,
      "object_position": null,
      "order": null,
      "overflow": null,
      "overflow_x": null,
      "overflow_y": null,
      "padding": null,
      "right": null,
      "top": null,
      "visibility": null,
      "width": null
     }
    },
    "d21ef26c57cf44df8a9b50e98f920299": {
     "model_module": "@jupyter-widgets/base",
     "model_module_version": "1.2.0",
     "model_name": "LayoutModel",
     "state": {
      "_model_module": "@jupyter-widgets/base",
      "_model_module_version": "1.2.0",
      "_model_name": "LayoutModel",
      "_view_count": null,
      "_view_module": "@jupyter-widgets/base",
      "_view_module_version": "1.2.0",
      "_view_name": "LayoutView",
      "align_content": null,
      "align_items": null,
      "align_self": null,
      "border": null,
      "bottom": null,
      "display": null,
      "flex": null,
      "flex_flow": null,
      "grid_area": null,
      "grid_auto_columns": null,
      "grid_auto_flow": null,
      "grid_auto_rows": null,
      "grid_column": null,
      "grid_gap": null,
      "grid_row": null,
      "grid_template_areas": null,
      "grid_template_columns": null,
      "grid_template_rows": null,
      "height": null,
      "justify_content": null,
      "justify_items": null,
      "left": null,
      "margin": null,
      "max_height": null,
      "max_width": null,
      "min_height": null,
      "min_width": null,
      "object_fit": null,
      "object_position": null,
      "order": null,
      "overflow": null,
      "overflow_x": null,
      "overflow_y": null,
      "padding": null,
      "right": null,
      "top": null,
      "visibility": null,
      "width": null
     }
    },
    "da818c8307434de1b7e80142a120815c": {
     "model_module": "@jupyter-widgets/controls",
     "model_module_version": "1.5.0",
     "model_name": "HTMLModel",
     "state": {
      "_dom_classes": [],
      "_model_module": "@jupyter-widgets/controls",
      "_model_module_version": "1.5.0",
      "_model_name": "HTMLModel",
      "_view_count": null,
      "_view_module": "@jupyter-widgets/controls",
      "_view_module_version": "1.5.0",
      "_view_name": "HTMLView",
      "description": "",
      "description_tooltip": null,
      "layout": "IPY_MODEL_ae8750a94578447a9460f2e268e479e9",
      "placeholder": "​",
      "style": "IPY_MODEL_4f1b9f6768ad421fa58e3319b4f72716",
      "value": " 0/286 [00:00&lt;?, ? Docs/s]"
     }
    },
    "dc4da78e8afc45cd8e54f8b9b68a9284": {
     "model_module": "@jupyter-widgets/controls",
     "model_module_version": "1.5.0",
     "model_name": "HBoxModel",
     "state": {
      "_dom_classes": [],
      "_model_module": "@jupyter-widgets/controls",
      "_model_module_version": "1.5.0",
      "_model_name": "HBoxModel",
      "_view_count": null,
      "_view_module": "@jupyter-widgets/controls",
      "_view_module_version": "1.5.0",
      "_view_name": "HBoxView",
      "box_style": "",
      "children": [
       "IPY_MODEL_ab8cd77d8cce4b03b1e23b511375588e",
       "IPY_MODEL_0fc283bcbd6d4f038cb0c873df215bda",
       "IPY_MODEL_e8e3e2e910a74ece9029cd33b92653c9"
      ],
      "layout": "IPY_MODEL_d21ef26c57cf44df8a9b50e98f920299"
     }
    },
    "e6bcc997d67241d28fdedd4931076a49": {
     "model_module": "@jupyter-widgets/base",
     "model_module_version": "1.2.0",
     "model_name": "LayoutModel",
     "state": {
      "_model_module": "@jupyter-widgets/base",
      "_model_module_version": "1.2.0",
      "_model_name": "LayoutModel",
      "_view_count": null,
      "_view_module": "@jupyter-widgets/base",
      "_view_module_version": "1.2.0",
      "_view_name": "LayoutView",
      "align_content": null,
      "align_items": null,
      "align_self": null,
      "border": null,
      "bottom": null,
      "display": null,
      "flex": null,
      "flex_flow": null,
      "grid_area": null,
      "grid_auto_columns": null,
      "grid_auto_flow": null,
      "grid_auto_rows": null,
      "grid_column": null,
      "grid_gap": null,
      "grid_row": null,
      "grid_template_areas": null,
      "grid_template_columns": null,
      "grid_template_rows": null,
      "height": null,
      "justify_content": null,
      "justify_items": null,
      "left": null,
      "margin": null,
      "max_height": null,
      "max_width": null,
      "min_height": null,
      "min_width": null,
      "object_fit": null,
      "object_position": null,
      "order": null,
      "overflow": null,
      "overflow_x": null,
      "overflow_y": null,
      "padding": null,
      "right": null,
      "top": null,
      "visibility": null,
      "width": null
     }
    },
    "e8e3e2e910a74ece9029cd33b92653c9": {
     "model_module": "@jupyter-widgets/controls",
     "model_module_version": "1.5.0",
     "model_name": "HTMLModel",
     "state": {
      "_dom_classes": [],
      "_model_module": "@jupyter-widgets/controls",
      "_model_module_version": "1.5.0",
      "_model_name": "HTMLModel",
      "_view_count": null,
      "_view_module": "@jupyter-widgets/controls",
      "_view_module_version": "1.5.0",
      "_view_name": "HTMLView",
      "description": "",
      "description_tooltip": null,
      "layout": "IPY_MODEL_35d9bc72055342e98543faa19cdd1273",
      "placeholder": "​",
      "style": "IPY_MODEL_7a034e3c90934d65b8c5222fd1882a55",
      "value": " 1/4 [00:17&lt;00:52, 17.41s/it]"
     }
    },
    "f989a60fc789468db31e330909e5a001": {
     "model_module": "@jupyter-widgets/base",
     "model_module_version": "1.2.0",
     "model_name": "LayoutModel",
     "state": {
      "_model_module": "@jupyter-widgets/base",
      "_model_module_version": "1.2.0",
      "_model_name": "LayoutModel",
      "_view_count": null,
      "_view_module": "@jupyter-widgets/base",
      "_view_module_version": "1.2.0",
      "_view_name": "LayoutView",
      "align_content": null,
      "align_items": null,
      "align_self": null,
      "border": null,
      "bottom": null,
      "display": null,
      "flex": null,
      "flex_flow": null,
      "grid_area": null,
      "grid_auto_columns": null,
      "grid_auto_flow": null,
      "grid_auto_rows": null,
      "grid_column": null,
      "grid_gap": null,
      "grid_row": null,
      "grid_template_areas": null,
      "grid_template_columns": null,
      "grid_template_rows": null,
      "height": null,
      "justify_content": null,
      "justify_items": null,
      "left": null,
      "margin": null,
      "max_height": null,
      "max_width": null,
      "min_height": null,
      "min_width": null,
      "object_fit": null,
      "object_position": null,
      "order": null,
      "overflow": null,
      "overflow_x": null,
      "overflow_y": null,
      "padding": null,
      "right": null,
      "top": null,
      "visibility": null,
      "width": null
     }
    }
   }
  }
 },
 "nbformat": 4,
 "nbformat_minor": 0
}